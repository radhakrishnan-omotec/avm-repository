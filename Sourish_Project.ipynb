{
  "nbformat": 4,
  "nbformat_minor": 0,
  "metadata": {
    "colab": {
      "provenance": [],
      "include_colab_link": true
    },
    "kernelspec": {
      "name": "python3",
      "display_name": "Python 3"
    },
    "language_info": {
      "name": "python"
    }
  },
  "cells": [
    {
      "cell_type": "markdown",
      "metadata": {
        "id": "view-in-github",
        "colab_type": "text"
      },
      "source": [
        "<a href=\"https://colab.research.google.com/github/radhakrishnan-omotec/avm-repository/blob/master/Sourish_Project.ipynb\" target=\"_parent\"><img src=\"https://colab.research.google.com/assets/colab-badge.svg\" alt=\"Open In Colab\"/></a>"
      ]
    },
    {
      "cell_type": "code",
      "execution_count": null,
      "metadata": {
        "id": "DJ06HE70pKic"
      },
      "outputs": [],
      "source": [
        "import numpy as np\n",
        "import pandas as pd\n",
        "import matplotlib.pyplot as plt # used for visualization purpose\n",
        "import seaborn as sb\n",
        "import tensorflow as tf\n",
        "import PIL\n",
        "from tensorflow import keras\n",
        "from tensorflow.keras import layers\n",
        "from tensorflow.keras.models import Sequential"
      ]
    },
    {
      "cell_type": "code",
      "source": [
        "print(tf.__version__)"
      ],
      "metadata": {
        "colab": {
          "base_uri": "https://localhost:8080/"
        },
        "id": "CWWBx1QN8etc",
        "outputId": "51cb63cd-ae8d-44a7-c505-e38a444dcf9b"
      },
      "execution_count": null,
      "outputs": [
        {
          "output_type": "stream",
          "name": "stdout",
          "text": [
            "2.15.0\n"
          ]
        }
      ]
    },
    {
      "cell_type": "code",
      "source": [
        "from google.colab import drive\n",
        "drive.mount(\"/content/gdrive\")"
      ],
      "metadata": {
        "colab": {
          "base_uri": "https://localhost:8080/"
        },
        "id": "ArvxMlXXrf27",
        "outputId": "d2bf35cd-458b-4e28-9132-f99bac36c5c8"
      },
      "execution_count": null,
      "outputs": [
        {
          "output_type": "stream",
          "name": "stdout",
          "text": [
            "Mounted at /content/gdrive\n"
          ]
        }
      ]
    },
    {
      "cell_type": "code",
      "source": [
        "import os\n",
        "import pathlib"
      ],
      "metadata": {
        "id": "IQhCkUr-rvpR"
      },
      "execution_count": null,
      "outputs": []
    },
    {
      "cell_type": "code",
      "source": [
        "data_dir=os.path.join(\"/content/gdrive/MyDrive/Sourish_Project_Dataset\")\n",
        "data_dir=pathlib.Path(data_dir).with_suffix(\"\")"
      ],
      "metadata": {
        "id": "n7uQ_smfr3_0"
      },
      "execution_count": null,
      "outputs": []
    },
    {
      "cell_type": "code",
      "source": [
        "x=os.scandir(data_dir)\n",
        "for i in x:\n",
        "  print(i.name)"
      ],
      "metadata": {
        "colab": {
          "base_uri": "https://localhost:8080/"
        },
        "id": "wJ_4fB5BwFBH",
        "outputId": "e9ea2127-a86c-4f55-f812-b065103a3bc8"
      },
      "execution_count": null,
      "outputs": [
        {
          "output_type": "stream",
          "name": "stdout",
          "text": [
            "RICE-BACTERIAL BLIGHT\n",
            "RICE-BROWN SPOT\n",
            "POTATO-EARLY BLIGHT\n",
            "POTATO-LATE BLIGHT\n",
            "CORN-GREY LEAF SPOT\n",
            "TOMATO-EARLY BLIGHT\n",
            "WHEAT-BROWN RUST\n",
            "WHEAT-YELLOW RUST\n"
          ]
        }
      ]
    },
    {
      "cell_type": "markdown",
      "source": [
        "# Pre-Processing"
      ],
      "metadata": {
        "id": "o8LdvIo3yRpu"
      }
    },
    {
      "cell_type": "code",
      "source": [
        "batch_size=32\n",
        "img_height=200\n",
        "img_width=200"
      ],
      "metadata": {
        "id": "vEMzbt7vwR7h"
      },
      "execution_count": null,
      "outputs": []
    },
    {
      "cell_type": "code",
      "source": [
        "train_ds=tf.keras.utils.image_dataset_from_directory(data_dir,validation_split=0.2,subset=\"training\",seed=123,image_size=(img_height,img_width),batch_size=batch_size)"
      ],
      "metadata": {
        "colab": {
          "base_uri": "https://localhost:8080/"
        },
        "id": "wNP0tKz8G4zS",
        "outputId": "9f9cc9b0-62df-4d5a-bf52-2349f30037c0"
      },
      "execution_count": null,
      "outputs": [
        {
          "output_type": "stream",
          "name": "stdout",
          "text": [
            "Found 5619 files belonging to 8 classes.\n",
            "Using 4496 files for training.\n"
          ]
        }
      ]
    },
    {
      "cell_type": "code",
      "source": [
        "validation_ds=tf.keras.utils.image_dataset_from_directory(data_dir,validation_split=0.2,subset=\"validation\",seed=123,image_size=(img_height,img_width),batch_size=batch_size)"
      ],
      "metadata": {
        "id": "abLLm14XMTaT",
        "colab": {
          "base_uri": "https://localhost:8080/"
        },
        "outputId": "a0d6942a-678e-4c77-ca21-1268c9d97d22"
      },
      "execution_count": null,
      "outputs": [
        {
          "output_type": "stream",
          "name": "stdout",
          "text": [
            "Found 5619 files belonging to 8 classes.\n",
            "Using 1123 files for validation.\n"
          ]
        }
      ]
    },
    {
      "cell_type": "code",
      "source": [
        "class_names=train_ds.class_names\n",
        "print(class_names)"
      ],
      "metadata": {
        "colab": {
          "base_uri": "https://localhost:8080/"
        },
        "id": "DP3rMALKHC1G",
        "outputId": "5cfc0557-dfd7-4c4b-ba9b-cee3faf4600c"
      },
      "execution_count": null,
      "outputs": [
        {
          "output_type": "stream",
          "name": "stdout",
          "text": [
            "['CORN-GREY LEAF SPOT', 'POTATO-EARLY BLIGHT', 'POTATO-LATE BLIGHT', 'RICE-BACTERIAL BLIGHT', 'RICE-BROWN SPOT', 'TOMATO-EARLY BLIGHT', 'WHEAT-BROWN RUST', 'WHEAT-YELLOW RUST']\n"
          ]
        }
      ]
    },
    {
      "cell_type": "markdown",
      "source": [
        "# Pre-processing for all the images"
      ],
      "metadata": {
        "id": "HfsBwaOAILl5"
      }
    },
    {
      "cell_type": "code",
      "source": [
        "normalization_layer= layers.Rescaling(1./255)"
      ],
      "metadata": {
        "id": "GgQ34DVFIEUr"
      },
      "execution_count": null,
      "outputs": []
    },
    {
      "cell_type": "code",
      "source": [
        "normalized_ds= train_ds.map(lambda x,y:(normalization_layer(x),y))\n",
        "image_batch, labels_batch=next(iter(normalized_ds))\n",
        "first_image=image_batch[0]\n",
        "print(np.min(first_image),np.max(first_image))"
      ],
      "metadata": {
        "colab": {
          "base_uri": "https://localhost:8080/"
        },
        "id": "KFSkWx--JSsF",
        "outputId": "771aba4d-562d-4c86-f5db-01f871285e27"
      },
      "execution_count": null,
      "outputs": [
        {
          "output_type": "stream",
          "name": "stdout",
          "text": [
            "0.0035104451 0.99242365\n"
          ]
        }
      ]
    },
    {
      "cell_type": "markdown",
      "source": [
        "# CNN Model Structure"
      ],
      "metadata": {
        "id": "COI8RowMMMDF"
      }
    },
    {
      "cell_type": "code",
      "source": [
        "from tensorflow import keras\n",
        "from tensorflow.keras import layers\n",
        "from tensorflow.keras.models import Sequential"
      ],
      "metadata": {
        "id": "7ZC6ThY23Nqy"
      },
      "execution_count": null,
      "outputs": []
    },
    {
      "cell_type": "code",
      "source": [
        "# CNN Model Design\n",
        "num_classes=len(class_names)\n",
        "model=Sequential([\n",
        "    layers.Rescaling(1./255,input_shape=(img_height,img_width,3)),\n",
        "    layers.Conv2D(16,3,padding=\"same\",activation=\"relu\"),\n",
        "    layers.MaxPooling2D(),\n",
        "    layers.Dropout(0.25),\n",
        "    layers.Conv2D(32,3,padding=\"same\",activation=\"relu\"),\n",
        "    layers.MaxPooling2D(),\n",
        "    layers.Dropout(0.25),\n",
        "    layers.Conv2D(64,3,padding=\"same\",activation=\"relu\"),\n",
        "    layers.MaxPooling2D(),\n",
        "    layers.Dropout(0.25),\n",
        "    layers.Conv2D(128,3,padding=\"same\",activation=\"relu\"),\n",
        "    layers.MaxPooling2D(),\n",
        "    layers.Flatten(),\n",
        "    layers.Dense(128,activation=\"relu\"),\n",
        "    layers.Dense(num_classes)])"
      ],
      "metadata": {
        "id": "1VyCR3T4MJuz"
      },
      "execution_count": null,
      "outputs": []
    },
    {
      "cell_type": "code",
      "source": [
        "model.compile(optimizer=\"adam\",loss=tf.keras.losses.SparseCategoricalCrossentropy(from_logits=True),metrics=[\"accuracy\",\"mse\"])"
      ],
      "metadata": {
        "id": "9CmTG6ThJbWa"
      },
      "execution_count": null,
      "outputs": []
    },
    {
      "cell_type": "code",
      "source": [
        "model.summary()"
      ],
      "metadata": {
        "colab": {
          "base_uri": "https://localhost:8080/"
        },
        "id": "zlk_UoqC5cEi",
        "outputId": "5ebc00b4-fbc2-441c-f6a2-c001092e72c2"
      },
      "execution_count": null,
      "outputs": [
        {
          "output_type": "stream",
          "name": "stdout",
          "text": [
            "Model: \"sequential\"\n",
            "_________________________________________________________________\n",
            " Layer (type)                Output Shape              Param #   \n",
            "=================================================================\n",
            " rescaling_1 (Rescaling)     (None, 200, 200, 3)       0         \n",
            "                                                                 \n",
            " conv2d (Conv2D)             (None, 200, 200, 16)      448       \n",
            "                                                                 \n",
            " max_pooling2d (MaxPooling2  (None, 100, 100, 16)      0         \n",
            " D)                                                              \n",
            "                                                                 \n",
            " dropout (Dropout)           (None, 100, 100, 16)      0         \n",
            "                                                                 \n",
            " conv2d_1 (Conv2D)           (None, 100, 100, 32)      4640      \n",
            "                                                                 \n",
            " max_pooling2d_1 (MaxPoolin  (None, 50, 50, 32)        0         \n",
            " g2D)                                                            \n",
            "                                                                 \n",
            " dropout_1 (Dropout)         (None, 50, 50, 32)        0         \n",
            "                                                                 \n",
            " conv2d_2 (Conv2D)           (None, 50, 50, 64)        18496     \n",
            "                                                                 \n",
            " max_pooling2d_2 (MaxPoolin  (None, 25, 25, 64)        0         \n",
            " g2D)                                                            \n",
            "                                                                 \n",
            " dropout_2 (Dropout)         (None, 25, 25, 64)        0         \n",
            "                                                                 \n",
            " conv2d_3 (Conv2D)           (None, 25, 25, 128)       73856     \n",
            "                                                                 \n",
            " max_pooling2d_3 (MaxPoolin  (None, 12, 12, 128)       0         \n",
            " g2D)                                                            \n",
            "                                                                 \n",
            " flatten (Flatten)           (None, 18432)             0         \n",
            "                                                                 \n",
            " dense (Dense)               (None, 128)               2359424   \n",
            "                                                                 \n",
            " dense_1 (Dense)             (None, 8)                 1032      \n",
            "                                                                 \n",
            "=================================================================\n",
            "Total params: 2457896 (9.38 MB)\n",
            "Trainable params: 2457896 (9.38 MB)\n",
            "Non-trainable params: 0 (0.00 Byte)\n",
            "_________________________________________________________________\n"
          ]
        }
      ]
    },
    {
      "cell_type": "code",
      "source": [
        "#epochs=100\n",
        "#history=model.fit(train_ds,validation_data=validation_ds,epochs=epochs)"
      ],
      "metadata": {
        "colab": {
          "base_uri": "https://localhost:8080/"
        },
        "id": "KVpDM2231NQI",
        "outputId": "ebdb337d-4f7c-4a8f-c93d-e1ca4c387451"
      },
      "execution_count": null,
      "outputs": [
        {
          "output_type": "stream",
          "name": "stdout",
          "text": [
            "Epoch 1/100\n",
            "141/141 [==============================] - 1222s 9s/step - loss: 1.2176 - accuracy: 0.5269 - mse: 27.9496 - val_loss: 1.1217 - val_accuracy: 0.5343 - val_mse: 20.9570\n",
            "Epoch 2/100\n",
            "141/141 [==============================] - 27s 182ms/step - loss: 0.5786 - accuracy: 0.7811 - mse: 39.2034 - val_loss: 0.6254 - val_accuracy: 0.7970 - val_mse: 24.5111\n",
            "Epoch 3/100\n",
            "141/141 [==============================] - 27s 185ms/step - loss: 0.3517 - accuracy: 0.8719 - mse: 47.9116 - val_loss: 0.4680 - val_accuracy: 0.8593 - val_mse: 29.2252\n",
            "Epoch 4/100\n",
            "141/141 [==============================] - 27s 185ms/step - loss: 0.2692 - accuracy: 0.9061 - mse: 56.9599 - val_loss: 0.4104 - val_accuracy: 0.8718 - val_mse: 35.3721\n",
            "Epoch 5/100\n",
            "141/141 [==============================] - 31s 216ms/step - loss: 0.2173 - accuracy: 0.9230 - mse: 69.4561 - val_loss: 0.4329 - val_accuracy: 0.8557 - val_mse: 34.8783\n",
            "Epoch 6/100\n",
            "141/141 [==============================] - 27s 183ms/step - loss: 0.1722 - accuracy: 0.9382 - mse: 71.3769 - val_loss: 0.3048 - val_accuracy: 0.9127 - val_mse: 42.6765\n",
            "Epoch 7/100\n",
            "141/141 [==============================] - 27s 184ms/step - loss: 0.1175 - accuracy: 0.9620 - mse: 92.5384 - val_loss: 0.2297 - val_accuracy: 0.9056 - val_mse: 51.5851\n",
            "Epoch 8/100\n",
            "141/141 [==============================] - 27s 183ms/step - loss: 0.1962 - accuracy: 0.9355 - mse: 84.8250 - val_loss: 0.3253 - val_accuracy: 0.9083 - val_mse: 43.8286\n",
            "Epoch 9/100\n",
            "141/141 [==============================] - 27s 183ms/step - loss: 0.0958 - accuracy: 0.9675 - mse: 92.7929 - val_loss: 0.3602 - val_accuracy: 0.8673 - val_mse: 72.5417\n",
            "Epoch 10/100\n",
            "141/141 [==============================] - 31s 216ms/step - loss: 0.0756 - accuracy: 0.9746 - mse: 113.4733 - val_loss: 0.1957 - val_accuracy: 0.9368 - val_mse: 67.7852\n",
            "Epoch 11/100\n",
            "141/141 [==============================] - 27s 183ms/step - loss: 0.0441 - accuracy: 0.9842 - mse: 143.9093 - val_loss: 0.1705 - val_accuracy: 0.9492 - val_mse: 72.7437\n",
            "Epoch 12/100\n",
            "141/141 [==============================] - 27s 185ms/step - loss: 0.0569 - accuracy: 0.9804 - mse: 133.5817 - val_loss: 0.1504 - val_accuracy: 0.9546 - val_mse: 84.6102\n",
            "Epoch 13/100\n",
            "141/141 [==============================] - 26s 179ms/step - loss: 0.0503 - accuracy: 0.9827 - mse: 140.0302 - val_loss: 0.1580 - val_accuracy: 0.9448 - val_mse: 87.4430\n",
            "Epoch 14/100\n",
            "141/141 [==============================] - 26s 177ms/step - loss: 0.0257 - accuracy: 0.9920 - mse: 186.4274 - val_loss: 0.1681 - val_accuracy: 0.9430 - val_mse: 109.6866\n",
            "Epoch 15/100\n",
            "141/141 [==============================] - 31s 212ms/step - loss: 0.0244 - accuracy: 0.9931 - mse: 203.8244 - val_loss: 0.4328 - val_accuracy: 0.8878 - val_mse: 105.5901\n",
            "Epoch 16/100\n",
            "141/141 [==============================] - 26s 179ms/step - loss: 0.0585 - accuracy: 0.9813 - mse: 177.5433 - val_loss: 0.2094 - val_accuracy: 0.9359 - val_mse: 77.1548\n",
            "Epoch 17/100\n",
            "141/141 [==============================] - 26s 182ms/step - loss: 0.0567 - accuracy: 0.9806 - mse: 138.6256 - val_loss: 0.1621 - val_accuracy: 0.9475 - val_mse: 84.3629\n",
            "Epoch 18/100\n",
            "141/141 [==============================] - 31s 211ms/step - loss: 0.0256 - accuracy: 0.9918 - mse: 185.5411 - val_loss: 0.1903 - val_accuracy: 0.9492 - val_mse: 120.3748\n",
            "Epoch 19/100\n",
            "141/141 [==============================] - 26s 179ms/step - loss: 0.0335 - accuracy: 0.9889 - mse: 183.4328 - val_loss: 0.2098 - val_accuracy: 0.9341 - val_mse: 104.6553\n",
            "Epoch 20/100\n",
            "141/141 [==============================] - 26s 177ms/step - loss: 0.0250 - accuracy: 0.9924 - mse: 178.5117 - val_loss: 0.2136 - val_accuracy: 0.9252 - val_mse: 112.6416\n",
            "Epoch 21/100\n",
            "141/141 [==============================] - 26s 178ms/step - loss: 0.0342 - accuracy: 0.9867 - mse: 198.1639 - val_loss: 0.2416 - val_accuracy: 0.9341 - val_mse: 119.4101\n",
            "Epoch 22/100\n",
            "141/141 [==============================] - 26s 178ms/step - loss: 0.0194 - accuracy: 0.9944 - mse: 212.2845 - val_loss: 0.1409 - val_accuracy: 0.9590 - val_mse: 122.8761\n",
            "Epoch 23/100\n",
            "141/141 [==============================] - 25s 175ms/step - loss: 0.0176 - accuracy: 0.9953 - mse: 225.3072 - val_loss: 0.1588 - val_accuracy: 0.9519 - val_mse: 117.0923\n",
            "Epoch 24/100\n",
            "141/141 [==============================] - 25s 169ms/step - loss: 0.0492 - accuracy: 0.9867 - mse: 178.3403 - val_loss: 0.1460 - val_accuracy: 0.9581 - val_mse: 101.0599\n",
            "Epoch 25/100\n",
            "141/141 [==============================] - 26s 176ms/step - loss: 0.0079 - accuracy: 0.9978 - mse: 214.8320 - val_loss: 0.1498 - val_accuracy: 0.9564 - val_mse: 130.7376\n",
            "Epoch 26/100\n",
            "141/141 [==============================] - 26s 177ms/step - loss: 0.0047 - accuracy: 0.9982 - mse: 224.7936 - val_loss: 0.1482 - val_accuracy: 0.9626 - val_mse: 137.2655\n",
            "Epoch 27/100\n",
            "141/141 [==============================] - 26s 180ms/step - loss: 6.2453e-04 - accuracy: 1.0000 - mse: 263.0020 - val_loss: 0.1490 - val_accuracy: 0.9626 - val_mse: 161.6164\n",
            "Epoch 28/100\n",
            "141/141 [==============================] - 26s 179ms/step - loss: 3.6551e-04 - accuracy: 1.0000 - mse: 303.4639 - val_loss: 0.1531 - val_accuracy: 0.9671 - val_mse: 179.0887\n",
            "Epoch 29/100\n",
            "141/141 [==============================] - 26s 182ms/step - loss: 1.6836e-04 - accuracy: 1.0000 - mse: 317.3020 - val_loss: 0.1565 - val_accuracy: 0.9653 - val_mse: 188.4771\n",
            "Epoch 30/100\n",
            "141/141 [==============================] - 26s 180ms/step - loss: 1.1705e-04 - accuracy: 1.0000 - mse: 334.0876 - val_loss: 0.1588 - val_accuracy: 0.9679 - val_mse: 194.1899\n",
            "Epoch 31/100\n",
            "141/141 [==============================] - 26s 181ms/step - loss: 8.1860e-05 - accuracy: 1.0000 - mse: 344.8051 - val_loss: 0.1600 - val_accuracy: 0.9679 - val_mse: 200.3577\n",
            "Epoch 32/100\n",
            "141/141 [==============================] - 26s 176ms/step - loss: 8.7921e-05 - accuracy: 1.0000 - mse: 358.9599 - val_loss: 0.1632 - val_accuracy: 0.9662 - val_mse: 209.7572\n",
            "Epoch 33/100\n",
            "141/141 [==============================] - 26s 177ms/step - loss: 7.5970e-05 - accuracy: 1.0000 - mse: 370.7269 - val_loss: 0.1634 - val_accuracy: 0.9697 - val_mse: 213.0268\n",
            "Epoch 34/100\n",
            "141/141 [==============================] - 26s 176ms/step - loss: 7.5066e-05 - accuracy: 1.0000 - mse: 383.5746 - val_loss: 0.1608 - val_accuracy: 0.9635 - val_mse: 227.9029\n",
            "Epoch 35/100\n",
            "141/141 [==============================] - 26s 181ms/step - loss: 7.1538e-05 - accuracy: 1.0000 - mse: 402.7051 - val_loss: 0.1668 - val_accuracy: 0.9635 - val_mse: 225.8033\n",
            "Epoch 36/100\n",
            "141/141 [==============================] - 31s 212ms/step - loss: 4.5972e-05 - accuracy: 1.0000 - mse: 398.7297 - val_loss: 0.1657 - val_accuracy: 0.9662 - val_mse: 231.8720\n",
            "Epoch 37/100\n",
            "141/141 [==============================] - 26s 180ms/step - loss: 6.9828e-05 - accuracy: 1.0000 - mse: 413.9300 - val_loss: 0.1653 - val_accuracy: 0.9688 - val_mse: 234.8433\n",
            "Epoch 38/100\n",
            "141/141 [==============================] - 27s 183ms/step - loss: 3.6491e-05 - accuracy: 1.0000 - mse: 415.7542 - val_loss: 0.1699 - val_accuracy: 0.9671 - val_mse: 240.4429\n",
            "Epoch 39/100\n",
            "141/141 [==============================] - 27s 184ms/step - loss: 2.9000e-05 - accuracy: 1.0000 - mse: 427.8853 - val_loss: 0.1731 - val_accuracy: 0.9671 - val_mse: 247.6387\n",
            "Epoch 40/100\n",
            "141/141 [==============================] - 26s 182ms/step - loss: 4.4730e-05 - accuracy: 1.0000 - mse: 435.9320 - val_loss: 0.1781 - val_accuracy: 0.9644 - val_mse: 253.1005\n",
            "Epoch 41/100\n",
            "141/141 [==============================] - 27s 183ms/step - loss: 3.2165e-05 - accuracy: 1.0000 - mse: 450.0475 - val_loss: 0.1765 - val_accuracy: 0.9679 - val_mse: 260.9325\n",
            "Epoch 42/100\n",
            "141/141 [==============================] - 27s 182ms/step - loss: 2.8128e-05 - accuracy: 1.0000 - mse: 465.3742 - val_loss: 0.1804 - val_accuracy: 0.9671 - val_mse: 269.4075\n",
            "Epoch 43/100\n",
            "141/141 [==============================] - 26s 181ms/step - loss: 2.2595e-05 - accuracy: 1.0000 - mse: 475.1410 - val_loss: 0.1808 - val_accuracy: 0.9662 - val_mse: 276.0618\n",
            "Epoch 44/100\n",
            "141/141 [==============================] - 26s 181ms/step - loss: 1.4856e-05 - accuracy: 1.0000 - mse: 489.5253 - val_loss: 0.1838 - val_accuracy: 0.9644 - val_mse: 284.8102\n",
            "Epoch 45/100\n",
            "141/141 [==============================] - 31s 213ms/step - loss: 1.1533e-05 - accuracy: 1.0000 - mse: 504.0466 - val_loss: 0.1802 - val_accuracy: 0.9679 - val_mse: 288.1293\n",
            "Epoch 46/100\n",
            "141/141 [==============================] - 26s 178ms/step - loss: 1.1079e-05 - accuracy: 1.0000 - mse: 513.8719 - val_loss: 0.1802 - val_accuracy: 0.9697 - val_mse: 295.3896\n",
            "Epoch 47/100\n",
            "141/141 [==============================] - 26s 178ms/step - loss: 1.2678e-05 - accuracy: 1.0000 - mse: 523.8760 - val_loss: 0.1843 - val_accuracy: 0.9671 - val_mse: 304.7414\n",
            "Epoch 48/100\n",
            "141/141 [==============================] - 26s 172ms/step - loss: 1.0175e-05 - accuracy: 1.0000 - mse: 537.9641 - val_loss: 0.1845 - val_accuracy: 0.9671 - val_mse: 303.7142\n",
            "Epoch 49/100\n",
            "141/141 [==============================] - 26s 178ms/step - loss: 1.0817e-05 - accuracy: 1.0000 - mse: 540.0494 - val_loss: 0.1872 - val_accuracy: 0.9671 - val_mse: 312.6055\n",
            "Epoch 50/100\n",
            "141/141 [==============================] - 26s 175ms/step - loss: 9.3868e-06 - accuracy: 1.0000 - mse: 559.0250 - val_loss: 0.1900 - val_accuracy: 0.9662 - val_mse: 320.2006\n",
            "Epoch 51/100\n",
            "141/141 [==============================] - 28s 186ms/step - loss: 6.4592e-06 - accuracy: 1.0000 - mse: 573.7728 - val_loss: 0.1957 - val_accuracy: 0.9644 - val_mse: 330.5951\n",
            "Epoch 52/100\n",
            "141/141 [==============================] - 27s 187ms/step - loss: 8.2185e-06 - accuracy: 1.0000 - mse: 574.9453 - val_loss: 0.1938 - val_accuracy: 0.9671 - val_mse: 324.5061\n",
            "Epoch 53/100\n",
            "141/141 [==============================] - 28s 190ms/step - loss: 1.5378e-05 - accuracy: 1.0000 - mse: 569.5961 - val_loss: 0.2307 - val_accuracy: 0.9573 - val_mse: 312.8349\n",
            "Epoch 54/100\n",
            "141/141 [==============================] - 27s 188ms/step - loss: 2.0682e-05 - accuracy: 1.0000 - mse: 549.9899 - val_loss: 0.1928 - val_accuracy: 0.9662 - val_mse: 311.9155\n",
            "Epoch 55/100\n",
            "141/141 [==============================] - 27s 183ms/step - loss: 6.9296e-06 - accuracy: 1.0000 - mse: 556.5226 - val_loss: 0.1995 - val_accuracy: 0.9679 - val_mse: 322.8805\n",
            "Epoch 56/100\n",
            "141/141 [==============================] - 27s 183ms/step - loss: 5.8279e-06 - accuracy: 1.0000 - mse: 574.4059 - val_loss: 0.1986 - val_accuracy: 0.9679 - val_mse: 332.1676\n",
            "Epoch 57/100\n",
            "141/141 [==============================] - 27s 182ms/step - loss: 6.0843e-06 - accuracy: 1.0000 - mse: 587.9195 - val_loss: 0.2021 - val_accuracy: 0.9662 - val_mse: 339.9656\n",
            "Epoch 58/100\n",
            "141/141 [==============================] - 26s 181ms/step - loss: 0.4105 - accuracy: 0.9348 - mse: 468.6416 - val_loss: 0.7574 - val_accuracy: 0.7524 - val_mse: 53.0825\n",
            "Epoch 59/100\n",
            "141/141 [==============================] - 26s 181ms/step - loss: 0.1566 - accuracy: 0.9437 - mse: 90.2129 - val_loss: 0.2278 - val_accuracy: 0.9297 - val_mse: 79.7273\n",
            "Epoch 60/100\n",
            "141/141 [==============================] - 26s 178ms/step - loss: 0.0621 - accuracy: 0.9782 - mse: 128.2312 - val_loss: 0.2168 - val_accuracy: 0.9359 - val_mse: 106.2088\n",
            "Epoch 61/100\n",
            "141/141 [==============================] - 26s 176ms/step - loss: 0.0329 - accuracy: 0.9871 - mse: 169.6285 - val_loss: 0.3448 - val_accuracy: 0.8887 - val_mse: 133.1779\n",
            "Epoch 62/100\n",
            "141/141 [==============================] - 26s 174ms/step - loss: 0.0301 - accuracy: 0.9893 - mse: 191.8129 - val_loss: 0.1933 - val_accuracy: 0.9421 - val_mse: 137.3981\n",
            "Epoch 63/100\n",
            "141/141 [==============================] - 27s 180ms/step - loss: 0.0260 - accuracy: 0.9900 - mse: 220.8560 - val_loss: 0.2750 - val_accuracy: 0.9252 - val_mse: 134.7274\n",
            "Epoch 64/100\n",
            "141/141 [==============================] - 27s 182ms/step - loss: 0.0333 - accuracy: 0.9891 - mse: 215.0585 - val_loss: 0.2352 - val_accuracy: 0.9341 - val_mse: 128.9798\n",
            "Epoch 65/100\n",
            "141/141 [==============================] - 27s 182ms/step - loss: 0.0057 - accuracy: 0.9987 - mse: 228.7148 - val_loss: 0.1879 - val_accuracy: 0.9466 - val_mse: 144.8556\n",
            "Epoch 66/100\n",
            "141/141 [==============================] - 26s 180ms/step - loss: 0.0061 - accuracy: 0.9973 - mse: 264.9169 - val_loss: 0.4628 - val_accuracy: 0.8931 - val_mse: 186.7270\n",
            "Epoch 67/100\n",
            "141/141 [==============================] - 26s 180ms/step - loss: 0.0089 - accuracy: 0.9980 - mse: 265.6834 - val_loss: 0.2040 - val_accuracy: 0.9466 - val_mse: 182.5376\n",
            "Epoch 68/100\n",
            "141/141 [==============================] - 26s 181ms/step - loss: 0.0010 - accuracy: 1.0000 - mse: 314.1095 - val_loss: 0.2002 - val_accuracy: 0.9466 - val_mse: 199.3660\n",
            "Epoch 69/100\n",
            "141/141 [==============================] - 27s 183ms/step - loss: 5.5395e-04 - accuracy: 1.0000 - mse: 335.0064 - val_loss: 0.2183 - val_accuracy: 0.9430 - val_mse: 210.9579\n",
            "Epoch 70/100\n",
            "141/141 [==============================] - 26s 182ms/step - loss: 0.0018 - accuracy: 0.9996 - mse: 357.8125 - val_loss: 0.2022 - val_accuracy: 0.9457 - val_mse: 216.0085\n",
            "Epoch 71/100\n",
            "141/141 [==============================] - 31s 217ms/step - loss: 3.6561e-04 - accuracy: 1.0000 - mse: 370.6845 - val_loss: 0.2022 - val_accuracy: 0.9475 - val_mse: 231.3431\n",
            "Epoch 72/100\n",
            "141/141 [==============================] - 26s 182ms/step - loss: 1.7513e-04 - accuracy: 1.0000 - mse: 391.8754 - val_loss: 0.2081 - val_accuracy: 0.9484 - val_mse: 237.4675\n",
            "Epoch 73/100\n",
            "141/141 [==============================] - 31s 213ms/step - loss: 1.6821e-04 - accuracy: 1.0000 - mse: 396.5363 - val_loss: 0.2212 - val_accuracy: 0.9484 - val_mse: 246.3487\n",
            "Epoch 74/100\n",
            "141/141 [==============================] - 26s 180ms/step - loss: 2.3923e-04 - accuracy: 1.0000 - mse: 414.7722 - val_loss: 0.2251 - val_accuracy: 0.9492 - val_mse: 255.6731\n",
            "Epoch 75/100\n",
            "141/141 [==============================] - 26s 181ms/step - loss: 1.9624e-04 - accuracy: 1.0000 - mse: 426.1328 - val_loss: 0.2139 - val_accuracy: 0.9510 - val_mse: 262.7515\n",
            "Epoch 76/100\n",
            "141/141 [==============================] - 27s 182ms/step - loss: 7.7899e-05 - accuracy: 1.0000 - mse: 435.7772 - val_loss: 0.2262 - val_accuracy: 0.9492 - val_mse: 265.3560\n",
            "Epoch 77/100\n",
            "141/141 [==============================] - 31s 215ms/step - loss: 6.6573e-04 - accuracy: 0.9998 - mse: 406.5518 - val_loss: 0.2478 - val_accuracy: 0.9466 - val_mse: 244.6339\n",
            "Epoch 78/100\n",
            "141/141 [==============================] - 31s 212ms/step - loss: 3.4861e-04 - accuracy: 1.0000 - mse: 402.9922 - val_loss: 0.2519 - val_accuracy: 0.9448 - val_mse: 242.2384\n",
            "Epoch 79/100\n",
            "141/141 [==============================] - 27s 182ms/step - loss: 0.1026 - accuracy: 0.9686 - mse: 262.9659 - val_loss: 0.2345 - val_accuracy: 0.9243 - val_mse: 113.4188\n",
            "Epoch 80/100\n",
            "141/141 [==============================] - 27s 186ms/step - loss: 0.0558 - accuracy: 0.9835 - mse: 175.6711 - val_loss: 0.2802 - val_accuracy: 0.9314 - val_mse: 147.3671\n",
            "Epoch 81/100\n",
            "141/141 [==============================] - 28s 190ms/step - loss: 0.0235 - accuracy: 0.9922 - mse: 225.6619 - val_loss: 0.2414 - val_accuracy: 0.9430 - val_mse: 190.8413\n",
            "Epoch 82/100\n",
            "141/141 [==============================] - 27s 188ms/step - loss: 0.0023 - accuracy: 0.9996 - mse: 316.8997 - val_loss: 0.1849 - val_accuracy: 0.9537 - val_mse: 208.1941\n",
            "Epoch 83/100\n",
            "141/141 [==============================] - 28s 189ms/step - loss: 4.2937e-04 - accuracy: 1.0000 - mse: 348.6604 - val_loss: 0.1974 - val_accuracy: 0.9564 - val_mse: 230.1267\n",
            "Epoch 84/100\n",
            "141/141 [==============================] - 27s 187ms/step - loss: 0.0093 - accuracy: 0.9971 - mse: 343.0558 - val_loss: 0.2769 - val_accuracy: 0.9386 - val_mse: 230.7858\n",
            "Epoch 85/100\n",
            "141/141 [==============================] - 27s 182ms/step - loss: 0.0327 - accuracy: 0.9909 - mse: 281.7681 - val_loss: 0.2907 - val_accuracy: 0.9270 - val_mse: 149.4513\n",
            "Epoch 86/100\n",
            "141/141 [==============================] - 27s 181ms/step - loss: 0.0032 - accuracy: 0.9991 - mse: 302.3130 - val_loss: 0.2430 - val_accuracy: 0.9501 - val_mse: 231.6746\n",
            "Epoch 87/100\n",
            "141/141 [==============================] - 32s 218ms/step - loss: 0.0010 - accuracy: 0.9998 - mse: 370.8949 - val_loss: 0.2045 - val_accuracy: 0.9564 - val_mse: 227.4581\n",
            "Epoch 88/100\n",
            "141/141 [==============================] - 27s 184ms/step - loss: 5.5316e-04 - accuracy: 1.0000 - mse: 367.9744 - val_loss: 0.2294 - val_accuracy: 0.9546 - val_mse: 239.9105\n",
            "Epoch 89/100\n",
            "141/141 [==============================] - 26s 181ms/step - loss: 0.0084 - accuracy: 0.9976 - mse: 377.4853 - val_loss: 0.3080 - val_accuracy: 0.9368 - val_mse: 288.4462\n",
            "Epoch 90/100\n",
            "141/141 [==============================] - 27s 183ms/step - loss: 0.0486 - accuracy: 0.9860 - mse: 430.5007 - val_loss: 0.2895 - val_accuracy: 0.9270 - val_mse: 186.8365\n",
            "Epoch 91/100\n",
            "141/141 [==============================] - 27s 184ms/step - loss: 0.0529 - accuracy: 0.9849 - mse: 236.5936 - val_loss: 0.2098 - val_accuracy: 0.9501 - val_mse: 148.5816\n",
            "Epoch 92/100\n",
            "141/141 [==============================] - 31s 215ms/step - loss: 0.0022 - accuracy: 0.9998 - mse: 268.7145 - val_loss: 0.1905 - val_accuracy: 0.9537 - val_mse: 183.4558\n",
            "Epoch 93/100\n",
            "141/141 [==============================] - 26s 181ms/step - loss: 0.0052 - accuracy: 0.9982 - mse: 340.7577 - val_loss: 0.2448 - val_accuracy: 0.9457 - val_mse: 222.6757\n",
            "Epoch 94/100\n",
            "141/141 [==============================] - 27s 183ms/step - loss: 0.0053 - accuracy: 0.9980 - mse: 394.9196 - val_loss: 0.2062 - val_accuracy: 0.9403 - val_mse: 255.6404\n",
            "Epoch 95/100\n",
            "141/141 [==============================] - 26s 181ms/step - loss: 0.0021 - accuracy: 0.9998 - mse: 438.8692 - val_loss: 0.1919 - val_accuracy: 0.9519 - val_mse: 260.8480\n",
            "Epoch 96/100\n",
            "141/141 [==============================] - 26s 178ms/step - loss: 1.5135e-04 - accuracy: 1.0000 - mse: 465.0551 - val_loss: 0.1952 - val_accuracy: 0.9537 - val_mse: 282.3432\n",
            "Epoch 97/100\n",
            "141/141 [==============================] - 26s 178ms/step - loss: 1.0172e-04 - accuracy: 1.0000 - mse: 486.0132 - val_loss: 0.1965 - val_accuracy: 0.9537 - val_mse: 289.5596\n",
            "Epoch 98/100\n",
            "141/141 [==============================] - 26s 173ms/step - loss: 8.8983e-05 - accuracy: 1.0000 - mse: 492.0323 - val_loss: 0.2027 - val_accuracy: 0.9564 - val_mse: 298.2068\n",
            "Epoch 99/100\n",
            "141/141 [==============================] - 31s 212ms/step - loss: 6.1298e-05 - accuracy: 1.0000 - mse: 516.0497 - val_loss: 0.2103 - val_accuracy: 0.9555 - val_mse: 312.2069\n",
            "Epoch 100/100\n",
            "141/141 [==============================] - 26s 178ms/step - loss: 4.4241e-05 - accuracy: 1.0000 - mse: 535.7161 - val_loss: 0.2132 - val_accuracy: 0.9555 - val_mse: 316.7755\n"
          ]
        }
      ]
    },
    {
      "cell_type": "code",
      "source": [
        "model.save(\"Crop_Disease_Classification_Model.h5\")"
      ],
      "metadata": {
        "colab": {
          "base_uri": "https://localhost:8080/"
        },
        "id": "XkZfQBVO3IcC",
        "outputId": "8724bbe5-c6be-488b-85ae-3144f5662969"
      },
      "execution_count": null,
      "outputs": [
        {
          "output_type": "stream",
          "name": "stderr",
          "text": [
            "/usr/local/lib/python3.10/dist-packages/keras/src/engine/training.py:3103: UserWarning: You are saving your model as an HDF5 file via `model.save()`. This file format is considered legacy. We recommend using instead the native Keras format, e.g. `model.save('my_model.keras')`.\n",
            "  saving_api.save_model(\n"
          ]
        }
      ]
    },
    {
      "cell_type": "markdown",
      "source": [
        "# To check the accuracy of separate classses separately"
      ],
      "metadata": {
        "id": "qm7g0Okm6OvL"
      }
    },
    {
      "cell_type": "code",
      "source": [
        "import tensorflow as tf\n",
        "import numpy as np\n",
        "from sklearn.metrics import accuracy_score\n",
        "import os\n",
        "import pathlib\n",
        "from tensorflow.keras import layers\n",
        "\n",
        "# Define your parameters\n",
        "batch_size = 32\n",
        "img_height = 200\n",
        "img_width = 200\n",
        "data_dir = os.path.join(\"/content/gdrive/MyDrive/Sourish_Project_Dataset\")\n",
        "data_dir = pathlib.Path(data_dir).with_suffix(\"\")\n",
        "\n",
        "# Load the dataset\n",
        "train_ds = tf.keras.utils.image_dataset_from_directory(\n",
        "    data_dir,\n",
        "    validation_split=0.2,\n",
        "    subset=\"training\",\n",
        "    seed=123,\n",
        "    image_size=(img_height, img_width),\n",
        "    batch_size=batch_size\n",
        ")\n",
        "\n",
        "validation_ds = tf.keras.utils.image_dataset_from_directory(\n",
        "    data_dir,\n",
        "    validation_split=0.2,\n",
        "    subset=\"validation\",\n",
        "    seed=123,\n",
        "    image_size=(img_height, img_width),\n",
        "    batch_size=batch_size\n",
        ")\n",
        "\n",
        "# Normalize the dataset\n",
        "normalization_layer = layers.Rescaling(1./255)\n",
        "normalized_validation_ds = validation_ds.map(lambda x, y: (normalization_layer(x), y))\n",
        "\n",
        "# Check the normalization\n",
        "image_batch, labels_batch = next(iter(normalized_validation_ds))\n",
        "first_image = image_batch[0]\n",
        "print(np.min(first_image), np.max(first_image))\n",
        "\n",
        "# Assuming you have your model loaded\n",
        "# model = ... (load your model here)\n",
        "\n",
        "# Initialize lists to store true labels and predictions\n",
        "y_true = []\n",
        "y_pred = []\n",
        "\n",
        "# Predict on validation dataset\n",
        "for images, labels in normalized_validation_ds:\n",
        "    predictions = model.predict(images)\n",
        "    y_pred.extend(np.argmax(predictions, axis=1))\n",
        "    y_true.extend(labels.numpy())\n",
        "\n",
        "# Convert to numpy arrays\n",
        "y_true = np.array(y_true)\n",
        "y_pred = np.array(y_pred)\n",
        "\n",
        "# Calculate overall accuracy\n",
        "overall_accuracy = accuracy_score(y_true, y_pred)\n",
        "print(f'Overall Accuracy: {overall_accuracy}')\n",
        "\n",
        "# Get the class names\n",
        "class_names = validation_ds.class_names\n",
        "\n",
        "# Calculate per-class accuracy\n",
        "classes = np.unique(y_true)\n",
        "class_accuracies = {}\n",
        "\n",
        "for cls in classes:\n",
        "    cls_idx = np.where(y_true == cls)\n",
        "    cls_accuracy = accuracy_score(y_true[cls_idx], y_pred[cls_idx])\n",
        "    class_accuracies[class_names[cls]] = cls_accuracy\n",
        "    print(f'Accuracy for class {class_names[cls]}: {cls_accuracy}')\n",
        "\n",
        "print('Per-class Accuracies:', class_accuracies)\n"
      ],
      "metadata": {
        "colab": {
          "base_uri": "https://localhost:8080/"
        },
        "id": "wRSp59EvnHYc",
        "outputId": "449e1f85-8949-4a77-d3d9-04c9cd9742c5"
      },
      "execution_count": null,
      "outputs": [
        {
          "output_type": "stream",
          "name": "stdout",
          "text": [
            "Found 5619 files belonging to 8 classes.\n",
            "Using 4496 files for training.\n",
            "Found 5619 files belonging to 8 classes.\n",
            "Using 1123 files for validation.\n",
            "0.0 1.0\n",
            "1/1 [==============================] - 0s 252ms/step\n",
            "1/1 [==============================] - 0s 35ms/step\n",
            "1/1 [==============================] - 0s 50ms/step\n",
            "1/1 [==============================] - 0s 32ms/step\n",
            "1/1 [==============================] - 0s 45ms/step\n",
            "1/1 [==============================] - 0s 36ms/step\n",
            "1/1 [==============================] - 0s 41ms/step\n",
            "1/1 [==============================] - 0s 39ms/step\n",
            "1/1 [==============================] - 0s 42ms/step\n",
            "1/1 [==============================] - 0s 80ms/step\n",
            "1/1 [==============================] - 0s 46ms/step\n",
            "1/1 [==============================] - 0s 53ms/step\n",
            "1/1 [==============================] - 0s 38ms/step\n",
            "1/1 [==============================] - 0s 34ms/step\n",
            "1/1 [==============================] - 0s 59ms/step\n",
            "1/1 [==============================] - 0s 42ms/step\n",
            "1/1 [==============================] - 0s 55ms/step\n",
            "1/1 [==============================] - 0s 54ms/step\n",
            "1/1 [==============================] - 0s 46ms/step\n",
            "1/1 [==============================] - 0s 35ms/step\n",
            "1/1 [==============================] - 0s 44ms/step\n",
            "1/1 [==============================] - 0s 38ms/step\n",
            "1/1 [==============================] - 0s 36ms/step\n",
            "1/1 [==============================] - 0s 36ms/step\n",
            "1/1 [==============================] - 0s 32ms/step\n",
            "1/1 [==============================] - 0s 41ms/step\n",
            "1/1 [==============================] - 0s 31ms/step\n",
            "1/1 [==============================] - 0s 26ms/step\n",
            "1/1 [==============================] - 0s 24ms/step\n",
            "1/1 [==============================] - 0s 29ms/step\n",
            "1/1 [==============================] - 0s 25ms/step\n",
            "1/1 [==============================] - 0s 24ms/step\n",
            "1/1 [==============================] - 0s 29ms/step\n",
            "1/1 [==============================] - 0s 31ms/step\n",
            "1/1 [==============================] - 0s 24ms/step\n",
            "1/1 [==============================] - 0s 85ms/step\n",
            "Overall Accuracy: 0.0819234194122885\n",
            "Accuracy for class CORN-GREY LEAF SPOT: 0.0\n",
            "Accuracy for class POTATO-EARLY BLIGHT: 0.0\n",
            "Accuracy for class POTATO-LATE BLIGHT: 0.0\n",
            "Accuracy for class RICE-BACTERIAL BLIGHT: 0.0\n",
            "Accuracy for class RICE-BROWN SPOT: 0.0\n",
            "Accuracy for class TOMATO-EARLY BLIGHT: 1.0\n",
            "Accuracy for class WHEAT-BROWN RUST: 0.0\n",
            "Accuracy for class WHEAT-YELLOW RUST: 0.0\n",
            "Per-class Accuracies: {'CORN-GREY LEAF SPOT': 0.0, 'POTATO-EARLY BLIGHT': 0.0, 'POTATO-LATE BLIGHT': 0.0, 'RICE-BACTERIAL BLIGHT': 0.0, 'RICE-BROWN SPOT': 0.0, 'TOMATO-EARLY BLIGHT': 1.0, 'WHEAT-BROWN RUST': 0.0, 'WHEAT-YELLOW RUST': 0.0}\n"
          ]
        }
      ]
    },
    {
      "cell_type": "markdown",
      "source": [
        "# To Test Model"
      ],
      "metadata": {
        "id": "2wkm7lja6V3N"
      }
    },
    {
      "cell_type": "code",
      "source": [],
      "metadata": {
        "id": "o9koRU4NnKK_"
      },
      "execution_count": null,
      "outputs": []
    }
  ]
}