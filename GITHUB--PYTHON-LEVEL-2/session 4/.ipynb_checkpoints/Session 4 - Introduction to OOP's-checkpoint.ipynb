{
 "cells": [
  {
   "cell_type": "markdown",
   "metadata": {},
   "source": [
    "<img src=\"images/omotec.png\" alt=\"Drawing\" style=\"width: 130px;\" align=\"center\"/>"
   ]
  },
  {
   "cell_type": "markdown",
   "metadata": {},
   "source": [
    "## `OBJECT ORIENTED PROGRAMMING`\n",
    "\n",
    "<p>Object oriented programming is the methdology that promotes the effiecient way of programming using reusuable compoents</p>\n",
    " \n",
    "<p>Object oriented programming is divided into parts like objects.</p>\n",
    "\n",
    "<img src=\"images/oops_6.jpg\" alt=\"Drawing\" style=\"width: 600px;\" align=\"center\"/>"
   ]
  },
  {
   "cell_type": "markdown",
   "metadata": {},
   "source": [
    "## ` CLASS`\n",
    "\n",
    "<p>Class is a blueprint of objects</p>\n",
    "\n",
    "<p>objects created by class can be simillar but not the same</p>\n",
    "\n",
    "<img src=\"images/oops_4.jpg\" alt=\"Drawing\" style=\"width: 400px;\" align=\"center\"/>\n"
   ]
  },
  {
   "cell_type": "markdown",
   "metadata": {},
   "source": [
    "##  `OBJECT `\n",
    "\n",
    "<P>Objects is an intsance of class</P>\n",
    "\n",
    "<P>In other words we can create multiple objects from the class</P>\n",
    "\n",
    "<P>An object represents properties of an individual in the problem</P>\n",
    "\n",
    "<img src=\"images/oops_3.jpg\" alt=\"Drawing\" style=\"width: 300px;\" align=\"center\"/>"
   ]
  },
  {
   "cell_type": "code",
   "execution_count": 2,
   "metadata": {},
   "outputs": [],
   "source": [
    "#creation of  class\n",
    "\n",
    "class employee():\n",
    "    pass"
   ]
  },
  {
   "cell_type": "code",
   "execution_count": 3,
   "metadata": {},
   "outputs": [
    {
     "name": "stdout",
     "output_type": "stream",
     "text": [
      "<class '__main__.employee'>\n"
     ]
    }
   ],
   "source": [
    "#checking type on python \n",
    "\n",
    "print(type(employee()))"
   ]
  },
  {
   "cell_type": "markdown",
   "metadata": {},
   "source": [
    "---\n",
    "\n",
    "**ATTRIBUTES**\n",
    "\n",
    "- Here we created blueprint for the employee by creating class. \n",
    "- Now we will create employees as object with some variables related to them called as **attributes** \n",
    "\n",
    "---"
   ]
  },
  {
   "cell_type": "code",
   "execution_count": 6,
   "metadata": {},
   "outputs": [],
   "source": [
    "# creating objects \n",
    "\n",
    "\n",
    "emp1 = employee()\n",
    "emp2 = employee()"
   ]
  },
  {
   "cell_type": "markdown",
   "metadata": {},
   "source": [
    "---\n",
    "\n",
    "- We can add attributes about the employee in two ways \n",
    "\n",
    "<p>1) Individually <br>\n",
    "   2) In class </p>\n",
    "   \n",
    "---"
   ]
  },
  {
   "cell_type": "code",
   "execution_count": null,
   "metadata": {},
   "outputs": [],
   "source": [
    "#WAY 1 : Attributes addditing for employee indiviualy\n",
    "emp1.first = 'test1'\n",
    "emp1.last = 'user'\n",
    "emp1.email = 'test1.user@companymail.com'\n",
    "emp1.pay = 30000\n",
    "\n",
    "emp2.first = 'test2'\n",
    "emp2.last = 'user'\n",
    "emp2.email = 'test2.user@companymail.com'\n",
    "emp2.pay = 30000\n",
    "\n",
    "#checking of inforation\n",
    "print(emp1.email)\n",
    "print(emp2.email)"
   ]
  },
  {
   "cell_type": "markdown",
   "metadata": {},
   "source": [
    "---\n",
    "\n",
    "- if we add attributes like this it is very tedious and more or less similar to the solution to the bank problem using functions\n",
    "\n",
    "- so instead we declare the attributes while creaing the object instance itself\n",
    "- we can accept these attributes being passed in using the special __init__ method\n",
    "- Note: we will discuss the self keyword in some time\n",
    "\n",
    "---"
   ]
  },
  {
   "cell_type": "code",
   "execution_count": null,
   "metadata": {},
   "outputs": [],
   "source": [
    "#WAY 2 : attributes additing in class\n",
    "class employee():\n",
    "    \n",
    "    def __init__(self,first,last,pay):\n",
    "        self.first = first\n",
    "        self.last = last\n",
    "        self.pay = pay\n",
    "        \n",
    "emp1 =employee(\"user1\",\"-test1\",10000)\n",
    "emp2 =employee(\"user2\",\"-test2\",20000)\n",
    "emp3 =employee(\"user3\",\"-test3\",15000)"
   ]
  },
  {
   "cell_type": "markdown",
   "metadata": {},
   "source": [
    "---\n",
    "**The `__init__` mehtod is called every time a new instance of a class is created It is also called as special method**\n",
    "\n",
    "- every time we create an instance it means we are creating an object of that class\n",
    "- method is similar to a fucntion but inside a class\n",
    "- special methods are inbuild funciton which has special meaning like<br> the `__init__` methods which gets executed at the time of creation of a new object\n",
    "\n",
    "---"
   ]
  },
  {
   "cell_type": "markdown",
   "metadata": {},
   "source": [
    "---\n",
    "**ABOUT ACCESSING ATTRIBUTES:**\n",
    "\n",
    "- Acessing a attribute just like other built in objects in python\n",
    "\n",
    "- we can write the object name follwed by a .(dot) then press tab key\n",
    "\n",
    "- when accessing attributes we dont need () brackets after the attribute name\n",
    "\n",
    "- when accessing method we need to add () brackets along with the parameters if any \n",
    "\n",
    "- it is not compulsary to keep the name of the attribute the same as the one being passed in\n",
    "\n",
    "---\n"
   ]
  },
  {
   "cell_type": "markdown",
   "metadata": {},
   "source": [
    "---\n",
    "\n",
    "**self - keyword**\n",
    "\n",
    "- The self keyword tells the class that the attribbutes and the methods belong to that particular object\n",
    "\n",
    "- in other word we are passing in the object itself to the methods\n",
    "\n",
    "- whenever we call a method or an special method the self keyword is passed in by default and is hidden <br>\n",
    "\n",
    "- This can be verified by making a definig the inti method with no self\n",
    "\n",
    "---"
   ]
  },
  {
   "cell_type": "markdown",
   "metadata": {},
   "source": [
    "---\n",
    "\n",
    "**OPERATIONS ON ATTRIBUTES**\n",
    "\n",
    "- we can also do operation on the variables(attributes) being passed in or we can define an entirely new attributes which is not passed by the user.\n",
    "---"
   ]
  },
  {
   "cell_type": "code",
   "execution_count": 8,
   "metadata": {},
   "outputs": [],
   "source": [
    "class employee():\n",
    "    def __init__(self,first,last,pay):\n",
    "        self.first_name = first\n",
    "        self.last_name = last\n",
    "        self.salary = pay\n",
    "        self.email = first+'.'+last+'@companymail.com'\n",
    "        self.post = \"manager\"\n",
    "        "
   ]
  },
  {
   "cell_type": "code",
   "execution_count": null,
   "metadata": {},
   "outputs": [],
   "source": [
    "emp1 = employee('test1','user',3000)"
   ]
  },
  {
   "cell_type": "code",
   "execution_count": 6,
   "metadata": {},
   "outputs": [
    {
     "data": {
      "text/plain": [
       "'manager'"
      ]
     },
     "execution_count": 6,
     "metadata": {},
     "output_type": "execute_result"
    }
   ],
   "source": [
    "emp1.post"
   ]
  },
  {
   "cell_type": "code",
   "execution_count": 7,
   "metadata": {},
   "outputs": [
    {
     "data": {
      "text/plain": [
       "'test1.user@companymail.com'"
      ]
     },
     "execution_count": 7,
     "metadata": {},
     "output_type": "execute_result"
    }
   ],
   "source": [
    "emp1.email"
   ]
  },
  {
   "cell_type": "markdown",
   "metadata": {},
   "source": [
    "---\n",
    "**Functions(Methods)**\n",
    "\n",
    "- we can add more functions to perform multiple task\n",
    "\n",
    "---\n"
   ]
  },
  {
   "cell_type": "code",
   "execution_count": 9,
   "metadata": {},
   "outputs": [],
   "source": [
    "# Add different methods to make full name , post and emailid \n",
    "# Here you can pass the company name as argument to make email id\n",
    "\n",
    "class employee():\n",
    "    def __init__(self,first,last,pay):\n",
    "        self.first_name = first\n",
    "        self.last_name = last\n",
    "        self.salary = pay\n",
    "        \n",
    "        \n",
    "    \n",
    "    def full_name(self):\n",
    "        return self.first_name+' '+self.last_name\n",
    "    \n",
    "    \n",
    "    def post(self):\n",
    "        self.post = \"manager\"\n",
    "        \n",
    "        \n",
    "    def email(self,company):\n",
    "        self.company = company\n",
    "        \n",
    "        self.email = self.first_name+ \".\"+self.last_name+ \"@\"+self.company +\".com\"\n",
    "        \n",
    "        print(self.email)\n",
    "        \n",
    "    "
   ]
  },
  {
   "cell_type": "code",
   "execution_count": 12,
   "metadata": {},
   "outputs": [],
   "source": [
    "emp1 = employee('test1','cat',3000)\n",
    "\n",
    "emp2 =employee('test2','dog',1000)\n"
   ]
  },
  {
   "cell_type": "code",
   "execution_count": 13,
   "metadata": {},
   "outputs": [
    {
     "name": "stdout",
     "output_type": "stream",
     "text": [
      "test2.dog@xyz.com\n"
     ]
    }
   ],
   "source": [
    "emp2.email(\"xyz\")    # method 1 of calling functions : object_name. function_name()"
   ]
  },
  {
   "cell_type": "code",
   "execution_count": null,
   "metadata": {},
   "outputs": [],
   "source": []
  },
  {
   "cell_type": "markdown",
   "metadata": {},
   "source": [
    "---\n",
    "\n",
    "**REVISION**\n",
    "\n",
    "- 1) Understanding : OOP , class, object \n",
    "- 2) creating class\n",
    "- 3) Checking of class for its type\n",
    "- 4) Creating objects\n",
    "- 5) Attribution adding - a) Individually b) in class itself\n",
    "- 6) Understanding : __init__ , self \n",
    "- 7) operations on attributes\n",
    "- 8) additing methods - full name, post, email id\n",
    "\n",
    "---"
   ]
  },
  {
   "cell_type": "markdown",
   "metadata": {},
   "source": [
    "---\n",
    "\n",
    "**HOMEWORK**\n",
    "- 1) Add promotion method with customised promotion amt \n",
    "- 2) Revise the concept of OOP, class and object\n",
    "\n",
    "---"
   ]
  },
  {
   "cell_type": "markdown",
   "metadata": {},
   "source": [
    "**HOMEWORK SOULTION**"
   ]
  },
  {
   "cell_type": "code",
   "execution_count": 14,
   "metadata": {},
   "outputs": [],
   "source": [
    "class employee():\n",
    "    def __init__(self,first,last,pay):\n",
    "        self.first_name = first\n",
    "        self.last_name = last\n",
    "        self.salary = pay\n",
    "        #self.email = first+'.'+last+'@companymail.com'\n",
    "        \n",
    "    \n",
    "    def full_name(self):\n",
    "        return self.first_name+' '+self.last_name\n",
    "    \n",
    "    \n",
    "    def post(self):\n",
    "        self.post = \"manager\"\n",
    "        \n",
    "        \n",
    "    def email(self,company):\n",
    "        self.company = company\n",
    "        \n",
    "        self.email = self.first_name+ \".\"+self.last_name+ \"@\"+self.company +\".com\"\n",
    "        \n",
    "        print(self.email)\n",
    "        \n",
    "    def promotion(self):\n",
    "        \n",
    "        hike = int(input(\"enter the  promotional amt\"))\n",
    "        \n",
    "        self.salary_hike =int(self.salary* hike)\n",
    "        \n",
    "        print(self.salary_hike)"
   ]
  },
  {
   "cell_type": "code",
   "execution_count": 16,
   "metadata": {},
   "outputs": [
    {
     "name": "stdout",
     "output_type": "stream",
     "text": [
      "enter the  promotional amt5\n",
      "10000\n"
     ]
    }
   ],
   "source": [
    "emp1 = employee(\"test\",\"user\",2000)\n",
    "emp1.promotion()"
   ]
  }
 ],
 "metadata": {
  "kernelspec": {
   "display_name": "Python 3",
   "language": "python",
   "name": "python3"
  },
  "language_info": {
   "codemirror_mode": {
    "name": "ipython",
    "version": 3
   },
   "file_extension": ".py",
   "mimetype": "text/x-python",
   "name": "python",
   "nbconvert_exporter": "python",
   "pygments_lexer": "ipython3",
   "version": "3.9.1"
  }
 },
 "nbformat": 4,
 "nbformat_minor": 5
}
