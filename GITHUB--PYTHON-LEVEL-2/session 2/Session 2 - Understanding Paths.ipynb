{
 "cells": [
  {
   "cell_type": "markdown",
   "metadata": {},
   "source": [
    "<img src=\"images/omotec.png\" alt=\"Drawing\" style=\"width: 130px;\" align=\"center\"/>"
   ]
  },
  {
   "cell_type": "markdown",
   "metadata": {},
   "source": [
    "## Understanding paths in python\n",
    "\n",
    "Paths refer to location where files and applications are stored in your computer."
   ]
  },
  {
   "cell_type": "markdown",
   "metadata": {},
   "source": [
    "There are few terms that we need to be aware about before we start.\n",
    "\n",
    "1. Current working directorey\n",
    "Current working directory is where the command prompt is currenty situated. We are sometimes required to be in the same folder as the file is, to be able to access the files.<br><br>\n",
    "`cd` command gives you the absolute location of the current working directory.<br>\n",
    "`cd` command can also be used to change the diretory to the specified one.<br><br>\n",
    "The command prompt also shows the current working directory on every line provided no other commands are currently running.\n",
    "<img src=\"images/path_1.jpg\" alt=\"Drawing\" style=\"width: 450px;\" align=\"center\"/><br><br>\n",
    "The path shown is a folder in your computer. which can also be opened via the file explore<br><br>\n",
    "<img src=\"images/path_2.jpg\" alt=\"Drawing\" style=\"width: 450px;\" align=\"center\"/><br><br>\n",
    "If we need to access any files in this folder it can be done by opening a commmand prompt in this folder<br><br>\n",
    "<img src=\"images/path_3.jpg\" alt=\"Drawing\" style=\"width: 450px;\" align=\"center\"/><br><br>\n",
    "Opening a folder in file explorer is similar to being in the same directory in the command prompt.<br><br>\n",
    "<img src=\"images/path_4.png\" alt=\"Drawing\" style=\"width: 700px;\" align=\"center\"/>\n",
    "\n"
   ]
  },
  {
   "cell_type": "markdown",
   "metadata": {},
   "source": [
    "2. The `dir` command can be used to list all the files and folders in a directory.<br><br>\n",
    "<img src=\"images/path_5.jpg\" alt=\"Drawing\" style=\"width: 400px;\" align=\"center\"/><br>\n",
    "<img src=\"images/path_6.jpg\" alt=\"Drawing\" style=\"width: 400px;\" align=\"center\"/>"
   ]
  },
  {
   "cell_type": "markdown",
   "metadata": {},
   "source": [
    "\n",
    "**There are 2 types of path that can be defined in any operating system.**\n",
    "\n",
    "1) Absolute path <br>\n",
    "2) Relative path\n",
    "\n",
    "If you are in the folder in which you want to access a file there is no need to be concerned about absolute and relative paths. What we mean by being in a folder is that the current working directory should correspond to the folder in which the file to be accessed has to be. Even moving around the folders using the `cd` command does not require any use of relative or absolute path if we are accessing a folder that is already in the current working directory.\n",
    "\n",
    "For eg:\n",
    "If we want to change the directory and go to the `folder_1` directory we can do that directly without any absolute or relative paths.\n",
    "\n",
    "<img src=\"images/path_7.jpg\" alt=\"Drawing\" style=\"width: 400px;\" align=\"center\"/>\n",
    "\n",
    "\n",
    "---\n",
    "\n",
    "**Absolute Path**\n",
    "\n",
    "Absolute path are always referenced with respect to base drive. These paths can be used irrespective of the current working directory.<br>\n",
    "Lets try accessing the `folder_2` directory from the `omotec` folder\n",
    "\n",
    "<img src=\"images/path_8.jpg\" alt=\"Drawing\" style=\"width: 400px;\" align=\"center\"/>\n",
    "\n",
    "The below error pops up as it cannot find the `folder_2` directory in the `omotec` folder.\n",
    "\n",
    "This a good scenario where we can use absolute path. It's just a choice we make we could have also used relative  paths.\n",
    "\n",
    "<img src=\"images/path_9.jpg\" alt=\"Drawing\" style=\"width: 400px;\" align=\"center\"/>\n",
    "\n",
    "This time no errors are shown as we are using absolute paths. So its go through every folder we specified in the new path and then tries to find `folder_2`"
   ]
  },
  {
   "cell_type": "markdown",
   "metadata": {},
   "source": [
    "**Relative Path**\n",
    "\n",
    "Relative path are always referenced with respect to the current directory/folder. These paths can only be used if we are the reference directory.<br>\n",
    "Lets try accessing the `folder_2` directory from the `omotec` folder using relative path.\n",
    "<img src=\"images/path_10.jpg\" alt=\"Drawing\" style=\"width: 400px;\" align=\"center\"/>"
   ]
  },
  {
   "cell_type": "markdown",
   "metadata": {},
   "source": [
    "**We can also access files in a particular folder just like we access the folders itself using absolte or relative paths.**"
   ]
  },
  {
   "cell_type": "markdown",
   "metadata": {},
   "source": [
    "# Running python files\n",
    "\n",
    "We usually use a editor like IDLE, Jupyter notebook or visual studio code to create python apps. (Python apps are basically the lines of code that we type)\n",
    "\n",
    "We cannot run the apps (.py) files directly in our operating system. As the operating system does not know how to handle python files.\n",
    "\n",
    "<img src=\"images/path_os_run.png\" alt=\"Drawing\" style=\"width: 700px;\" align=\"center\"/>\n",
    "\n",
    "We need the python interpreter to be able to run the python files. Python interpreter runs the python files line by line and gives us the output. So we need to use the python interpreter to run the python apps. Python interpreter is something that we install separately. \n",
    "\n",
    "<img src=\"images/path_interpreter_run.png\" alt=\"Drawing\" style=\"width: 700px;\" align=\"center\"/>\n",
    "\n",
    "To be able to run python apps that we create we need to use the command prompt. We need to tell the command prompt 2 things\n",
    "1. Where is the python interpreter\n",
    "2. where is the python app file\n",
    "\n",
    "The python interpreter is installed in a different location and the pyhton file might be in a different location. so we might need to use both absolute and relative location concepts.\n",
    "\n",
    "Every computer might have a differnt insatllation location for the python interpreter. For me the interpreter is in the following location.\n",
    "\n",
    "<img src=\"images/path_11.jpg\" alt=\"Drawing\" style=\"width: 700px;\" align=\"center\"/>\n",
    "\n",
    "\n",
    "Lets try running the `py_folder1_1.py` file.\n",
    "\n",
    "<img src=\"images/path_12.jpg\" alt=\"Drawing\" style=\"width: 700px;\" align=\"center\"/>\n",
    "\n",
    "One approach is to change the working directory to the folder where the python file is.\n",
    "\n",
    "<img src=\"images/path_14.png\" alt=\"Drawing\" style=\"width: 900px;\" align=\"center\"/>\n"
   ]
  },
  {
   "cell_type": "markdown",
   "metadata": {},
   "source": [
    "It is not mandatory to mention the absolute path of the python interpreter provided it is added as an enviornment variable. Enviornment varibales are just like variables in python but for the operating system. Whenever it encounters the varibale name it tries to find the application in the set of predefined location and if it finds a mathc it replaces it with the absolute path corresponding to that application.\n",
    "\n",
    "In windows the enviornment variable for python's aboslute path is automatically set when installing python. The same is shown in the below image.\n",
    "\n",
    "\n",
    "<img src=\"images/path_15.jpg\" alt=\"Drawing\" style=\"width: 400px;\" align=\"center\"/>\n",
    "\n",
    "\n",
    "So typing python in the command prompt makes the command prompt to go through the list of locations and reach for the python app in each one of the mentioned folders as soon it finds onw it replaces the varibale with the absolute path for the python application and then executes whatever command follows it.\n",
    "\n",
    "\n",
    "<img src=\"images/path_15.jpg\" alt=\"Drawing\" style=\"width: 400px;\" align=\"center\"/>\n",
    "\n",
    "\n",
    "Because of above mentioned reason the following command also workd.\n",
    "\n",
    "<img src=\"images/path_17.png\" alt=\"Drawing\" style=\"width: 400px;\" align=\"center\"/>\n"
   ]
  },
  {
   "cell_type": "markdown",
   "metadata": {},
   "source": [
    "\n",
    "---\n"
   ]
  },
  {
   "cell_type": "markdown",
   "metadata": {},
   "source": [
    "## Home work\n",
    "\n",
    "Unzip the `omo_path.zip` file and edit the `python_file.py` file so that it is able to read the contents from the `data.txt` file in the `folder_2` folder"
   ]
  },
  {
   "cell_type": "code",
   "execution_count": null,
   "metadata": {},
   "outputs": [],
   "source": []
  }
 ],
 "metadata": {
  "kernelspec": {
   "display_name": "Python 3",
   "language": "python",
   "name": "python3"
  },
  "language_info": {
   "codemirror_mode": {
    "name": "ipython",
    "version": 3
   },
   "file_extension": ".py",
   "mimetype": "text/x-python",
   "name": "python",
   "nbconvert_exporter": "python",
   "pygments_lexer": "ipython3",
   "version": "3.9.1"
  }
 },
 "nbformat": 4,
 "nbformat_minor": 4
}
