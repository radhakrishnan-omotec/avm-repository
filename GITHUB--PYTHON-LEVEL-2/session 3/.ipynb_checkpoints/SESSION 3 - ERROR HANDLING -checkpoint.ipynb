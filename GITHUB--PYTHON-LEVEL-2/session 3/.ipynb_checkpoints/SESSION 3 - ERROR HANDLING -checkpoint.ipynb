{
 "cells": [
  {
   "cell_type": "markdown",
   "metadata": {},
   "source": [
    "<img src=\"images/omotec.png\" alt=\"Drawing\" style=\"width: 130px;\" align=\"center\"/>"
   ]
  },
  {
   "cell_type": "markdown",
   "metadata": {},
   "source": [
    "## `ERROR HANDLING IN PYTHON` \n",
    "\n",
    "\n",
    "### **ERROR**\n",
    "- Errors are problems in the program that the program should not recover from. \n",
    "<br>\n",
    "- If at any point in the program an error occurs,the program exits.\n",
    "- Error in Python can be of two types i.e. Syntax errors and Exceptions. \n",
    "\n",
    "- SYNTAX ERROR:\n",
    "               -This error is caused by wrong syntax in the code.\n",
    "               -It leads to the termination of the program.\n",
    "\n",
    "- EXCEPTION ERROR:\n",
    "               -Exceptions are raised when the program is syntactically correct but the code resulted in an error. \n",
    "               -This error does not stop the execution of the program, \n",
    "               -however, it changes the normal flow of the program.\n",
    "\n",
    "### EXCEPTION HANDLING\n",
    "\n",
    "- excepts can be handled with try and except block which will generate exception of error ad execute the program\n",
    "\n",
    "- Let's use try and exception block \n"
   ]
  },
  {
   "cell_type": "code",
   "execution_count": 1,
   "metadata": {},
   "outputs": [
    {
     "name": "stdout",
     "output_type": "stream",
     "text": [
      "An exception occurred\n"
     ]
    }
   ],
   "source": [
    "\n",
    "try:\n",
    "  print(x)\n",
    "except:\n",
    "  print(\"An exception occurred\")"
   ]
  },
  {
   "cell_type": "markdown",
   "metadata": {},
   "source": [
    "---\n",
    "The above code will give an exception as x is not defined \n",
    "\n",
    "### <u>try and exception block</u>\n",
    "\n",
    "- try block raises an error, the except block will be executed.\n",
    "\n",
    "- Without the try block, the program will crash and raise an error\n",
    "---\n"
   ]
  },
  {
   "cell_type": "code",
   "execution_count": 4,
   "metadata": {},
   "outputs": [
    {
     "name": "stdout",
     "output_type": "stream",
     "text": [
      "enter number from 1 to 10 5\n",
      "enter number from 1 to 10 1\n",
      "something went wrong\n"
     ]
    }
   ],
   "source": [
    "# Write a program to ask user about numbers for 5 times if user gives 1 add score.\n",
    "# method 1 : without defining of score variable\n",
    "\n",
    "try:\n",
    "    for i in range (1,6):\n",
    "        choice = int(input(\"enter number from 1 to 10 \"))\n",
    "        if choice == 1:\n",
    "            score+=1\n",
    "except:\n",
    "    print(\"something went wrong\")\n",
    "\n"
   ]
  },
  {
   "cell_type": "code",
   "execution_count": 6,
   "metadata": {},
   "outputs": [
    {
     "name": "stdout",
     "output_type": "stream",
     "text": [
      "enter number from 1 to 10 2\n",
      "enter number from 1 to 10 1\n",
      "enter number from 1 to 10 5\n",
      "enter number from 1 to 10 1\n",
      "enter number from 1 to 10 3\n",
      "2\n"
     ]
    }
   ],
   "source": [
    "# Write a program to ask user about numbers for 5 times if user gives 1 add score.\n",
    "\n",
    "#method 2 : with definaing of score variable\n",
    "\n",
    "try:\n",
    "    for i in range (1,6):\n",
    "        choice = int(input(\"enter number from 1 to 10 \"))\n",
    "        if choice == 1:\n",
    "            score+=1\n",
    "    print(score)\n",
    "except:\n",
    "    print(\"something went wrong\")\n"
   ]
  },
  {
   "cell_type": "markdown",
   "metadata": {},
   "source": [
    "### Exception\n",
    "\n",
    "- We must always try to be specific while trying to catch exception.<br>\n",
    "- **Exception keyword catches almost all exceptions**"
   ]
  },
  {
   "cell_type": "code",
   "execution_count": 10,
   "metadata": {},
   "outputs": [
    {
     "name": "stdout",
     "output_type": "stream",
     "text": [
      "Something else went wrong\n"
     ]
    }
   ],
   "source": [
    "try:\n",
    "  print(x)\n",
    "\n",
    "except Exception:\n",
    "  print(\"Something else went wrong\")\n"
   ]
  },
  {
   "cell_type": "markdown",
   "metadata": {},
   "source": [
    "### MANY EXCEPTION BLOCK\n",
    "- You can define as many exception blocks as you want, \n",
    "- e.g. if you want to execute a special block of code for a special kind of error:"
   ]
  },
  {
   "cell_type": "code",
   "execution_count": 11,
   "metadata": {},
   "outputs": [
    {
     "name": "stdout",
     "output_type": "stream",
     "text": [
      "Variable x is not defined\n"
     ]
    }
   ],
   "source": [
    "try:\n",
    "  print(x)\n",
    "except NameError:\n",
    "  print(\"Variable x is not defined\")\n",
    "except:\n",
    "  print(\"Something else went wrong\")\n"
   ]
  },
  {
   "cell_type": "code",
   "execution_count": 13,
   "metadata": {},
   "outputs": [
    {
     "name": "stdout",
     "output_type": "stream",
     "text": [
      "enter number from 1 to 10 1\n",
      "Variable SCORE is not defined\n"
     ]
    }
   ],
   "source": [
    "try:\n",
    "    for i in range (1,6):\n",
    "        choice = int(input(\"enter number from 1 to 6 \"))\n",
    "        if choice == 1:\n",
    "            point+=1\n",
    "    print(point)\n",
    "except NameError:\n",
    "  print(\"Variable POINT is not defined\")\n",
    "except Exception:\n",
    "  print(\"Something else went wrong\")\n"
   ]
  },
  {
   "cell_type": "code",
   "execution_count": 14,
   "metadata": {},
   "outputs": [
    {
     "name": "stdout",
     "output_type": "stream",
     "text": [
      "enter number from 1 to 10 5\n",
      "enter number from 1 to 10 1\n",
      "Variable SCORE is not defined\n",
      "i continued the program\n"
     ]
    }
   ],
   "source": [
    "# Adding print block after the try and except block\n",
    "try:\n",
    "    for i in range (1,6):\n",
    "        choice = int(input(\"enter number from 1 to 10 \"))\n",
    "        if choice == 1:\n",
    "            point+=1\n",
    "    print(point)\n",
    "except NameError:\n",
    "  print(\"Variable POINT is not defined\")\n",
    "except Exception:\n",
    "  print(\"Something else went wrong\")\n",
    "\n",
    "print(\"i continued the program\")"
   ]
  },
  {
   "cell_type": "markdown",
   "metadata": {},
   "source": [
    "---\n",
    "The above code shows it executes the further code after handling the exception \n",
    "\n",
    "---"
   ]
  },
  {
   "cell_type": "code",
   "execution_count": 16,
   "metadata": {},
   "outputs": [],
   "source": [
    "# Task  : use try and except block for file operation "
   ]
  },
  {
   "cell_type": "code",
   "execution_count": 17,
   "metadata": {},
   "outputs": [
    {
     "name": "stdout",
     "output_type": "stream",
     "text": [
      "enter the file name :test\n",
      "i continued to execute\n"
     ]
    }
   ],
   "source": [
    "\n",
    "name = input('enter the file name :')\n",
    "try:\n",
    "    f = open(name+'.txt')\n",
    "    f.close()\n",
    "except FileNotFoundError:\n",
    "    print(\"enetr a correct file name\")\n",
    "except Exception:\n",
    "    print(\"Something went wrong\")\n",
    "print(\"i continued to execute\")"
   ]
  },
  {
   "cell_type": "code",
   "execution_count": 18,
   "metadata": {},
   "outputs": [
    {
     "name": "stdout",
     "output_type": "stream",
     "text": [
      "enter the file name :rejin\n",
      "enetr a correct file name\n",
      "i continued to execute\n"
     ]
    }
   ],
   "source": [
    "name = input('enter the file name :')\n",
    "try:\n",
    "    f = open(name+'.txt')\n",
    "    f.close()\n",
    "except FileNotFoundError:\n",
    "    print(\"enetr a correct file name\")\n",
    "except Exception:\n",
    "    print(\"Something went wrong\")\n",
    "print(\"i continued to execute\")"
   ]
  },
  {
   "cell_type": "markdown",
   "metadata": {},
   "source": [
    "---\n",
    "\n",
    "### we can use as keyword to print the inbuilt pretified message\n",
    "\n",
    "- Task : print error by using keyword\n",
    "---"
   ]
  },
  {
   "cell_type": "code",
   "execution_count": 20,
   "metadata": {},
   "outputs": [
    {
     "name": "stdout",
     "output_type": "stream",
     "text": [
      "enter the file name :rejin\n",
      "[Errno 2] No such file or directory: 'rejin.txt'\n",
      "i continued to execute\n"
     ]
    }
   ],
   "source": [
    "name = input('enter the file name :')\n",
    "try:\n",
    "    f = open(name+'.txt')\n",
    "    data = f.read()\n",
    "    f.close()\n",
    "except FileNotFoundError as e:\n",
    "    print(e)\n",
    "except Exception as e:\n",
    "    print(e)\n",
    "print(\"i continued to execute\")"
   ]
  },
  {
   "cell_type": "markdown",
   "metadata": {},
   "source": [
    "---\n",
    "### Handling errors separetley\n",
    "The above code is not correct it is always good to try to catch single line of codes error\n",
    "\n",
    "\n",
    "---\n"
   ]
  },
  {
   "cell_type": "code",
   "execution_count": 9,
   "metadata": {},
   "outputs": [
    {
     "name": "stdout",
     "output_type": "stream",
     "text": [
      "enter the file name :test\n",
      "1) This is a test file!!\n",
      "2) This is the second line\n",
      "3) This is the third line\n",
      "4) This is the fourth line\n",
      "5) This is the fifth line\n",
      "6) This is the sixth line\n",
      "7) This is the seventh line\n",
      "8) This is the eight line\n",
      "9) This is the ninth line\n",
      "10) This is the thenth line\n"
     ]
    }
   ],
   "source": [
    "# when file name is correct\n",
    "\n",
    "name = input('enter the file name :')\n",
    "try:\n",
    "    f = open(name+'.txt')\n",
    "except FileNotFoundError as e:\n",
    "    print(e)\n",
    "except Exception as e:\n",
    "    print(e)\n",
    "else:\n",
    "    data = f.read()\n",
    "    print(data)\n",
    "    f.close()\n",
    "    "
   ]
  },
  {
   "cell_type": "code",
   "execution_count": 10,
   "metadata": {},
   "outputs": [
    {
     "name": "stdout",
     "output_type": "stream",
     "text": [
      "enter the file name :rejin\n",
      "[Errno 2] No such file or directory: 'rejin.txt'\n"
     ]
    }
   ],
   "source": [
    "# when file name is incorrect \n",
    "\n",
    "name = input('enter the file name :')\n",
    "try:\n",
    "    file = open(name+'.txt')\n",
    "except FileNotFoundError as e:\n",
    "    print(e)\n",
    "except Exception as e:\n",
    "    print(e)\n",
    "else:\n",
    "    data = file.read()\n",
    "    print(data)\n",
    "    file.close()\n"
   ]
  },
  {
   "cell_type": "markdown",
   "metadata": {},
   "source": [
    "## <u>finally</u> \n",
    "- The finally block always runs irrespective of the try else and excpet\n",
    "- In the code below finally block run irrestive of error"
   ]
  },
  {
   "cell_type": "code",
   "execution_count": 6,
   "metadata": {},
   "outputs": [
    {
     "name": "stdout",
     "output_type": "stream",
     "text": [
      "enter the file name :test\n",
      "1) This is a test file!!\n",
      "2) This is the second line\n",
      "3) This is the third line\n",
      "4) This is the fourth line\n",
      "5) This is the fifth line\n",
      "6) This is the sixth line\n",
      "7) This is the seventh line\n",
      "8) This is the eight line\n",
      "9) This is the ninth line\n",
      "10) This is the thenth line\n",
      "sorry\n"
     ]
    }
   ],
   "source": [
    "# When file name is correct\n",
    "\n",
    "name = input('enter the file name :')\n",
    "try:\n",
    "    f = open(name+'.txt')\n",
    "except FileNotFoundError as e:\n",
    "    print(e)\n",
    "except Exception:\n",
    "    print(\"this fine should not be read\")\n",
    "else:\n",
    "    data = f.read()\n",
    "    f.close()\n",
    "    print(data)\n",
    "finally:\n",
    "    print(\"sorry\")"
   ]
  },
  {
   "cell_type": "code",
   "execution_count": 7,
   "metadata": {},
   "outputs": [
    {
     "name": "stdout",
     "output_type": "stream",
     "text": [
      "enter the file name :rejin\n",
      "[Errno 2] No such file or directory: 'rejin.txt'\n",
      "sorry\n"
     ]
    }
   ],
   "source": [
    "# When file name is incorrect\n",
    "\n",
    "name = input('enter the file name :')\n",
    "try:\n",
    "    f = open(name+'.txt')\n",
    "except FileNotFoundError as e:\n",
    "    print(e)\n",
    "except Exception:\n",
    "    print(\"this fine should not be read\")\n",
    "else:\n",
    "    data = f.read()\n",
    "    f.close()\n",
    "    print(data)\n",
    "finally:\n",
    "    print(\"sorry\")"
   ]
  },
  {
   "cell_type": "markdown",
   "metadata": {},
   "source": [
    "## <u>raise</u>\n",
    "\n",
    "- instead of using predefine errors we can raise our own error"
   ]
  },
  {
   "cell_type": "code",
   "execution_count": 12,
   "metadata": {},
   "outputs": [
    {
     "name": "stdout",
     "output_type": "stream",
     "text": [
      "enter the file name :test\n",
      "this fine should not be read\n",
      "sorry\n"
     ]
    }
   ],
   "source": [
    "name = input('enter the file name :')\n",
    "try:\n",
    "    f = open(name+'.txt')\n",
    "    if f.name == 'test.txt':\n",
    "        raise Exception\n",
    "except FileNotFoundError as e:\n",
    "    print(e)\n",
    "except Exception:\n",
    "    print(\"this fine should not be read\")\n",
    "else:\n",
    "    data = f.read()\n",
    "    f.close()\n",
    "    print(data)\n",
    "finally:\n",
    "    print(\"sorry\")"
   ]
  },
  {
   "cell_type": "markdown",
   "metadata": {},
   "source": [
    "---\n",
    "**REVISION**\n",
    "\n",
    "1. What are errors?\n",
    "2. Using the try and the except block\n",
    "3. Handling multiple exception\n",
    "4. finally \n",
    "5. raise\n",
    "---"
   ]
  },
  {
   "cell_type": "markdown",
   "metadata": {},
   "source": [
    "\n",
    "---\n",
    "\n",
    "## HOMEWORK**\n",
    "\n"
   ]
  },
  {
   "cell_type": "markdown",
   "metadata": {},
   "source": [
    "1. Make necessary changes to the below code so that does not error out when non integer numbers are entered."
   ]
  },
  {
   "cell_type": "code",
   "execution_count": 1,
   "metadata": {},
   "outputs": [
    {
     "name": "stdout",
     "output_type": "stream",
     "text": [
      "enter a number: a\n"
     ]
    },
    {
     "ename": "ValueError",
     "evalue": "invalid literal for int() with base 10: 'a'",
     "output_type": "error",
     "traceback": [
      "\u001b[1;31m---------------------------------------------------------------------------\u001b[0m",
      "\u001b[1;31mValueError\u001b[0m                                Traceback (most recent call last)",
      "\u001b[1;32m<ipython-input-1-ca15e6aba358>\u001b[0m in \u001b[0;36m<module>\u001b[1;34m\u001b[0m\n\u001b[1;32m----> 1\u001b[1;33m \u001b[0ma\u001b[0m \u001b[1;33m=\u001b[0m \u001b[0mint\u001b[0m\u001b[1;33m(\u001b[0m\u001b[0minput\u001b[0m\u001b[1;33m(\u001b[0m\u001b[1;34m\"enter a number: \"\u001b[0m\u001b[1;33m)\u001b[0m\u001b[1;33m)\u001b[0m\u001b[1;33m\u001b[0m\u001b[1;33m\u001b[0m\u001b[0m\n\u001b[0m\u001b[0;32m      2\u001b[0m \u001b[0mb\u001b[0m \u001b[1;33m=\u001b[0m \u001b[0mint\u001b[0m\u001b[1;33m(\u001b[0m\u001b[0minput\u001b[0m\u001b[1;33m(\u001b[0m\u001b[1;34m\"enter a number: \"\u001b[0m\u001b[1;33m)\u001b[0m\u001b[1;33m)\u001b[0m\u001b[1;33m\u001b[0m\u001b[1;33m\u001b[0m\u001b[0m\n\u001b[0;32m      3\u001b[0m \u001b[1;33m\u001b[0m\u001b[0m\n\u001b[0;32m      4\u001b[0m \u001b[0mc\u001b[0m \u001b[1;33m=\u001b[0m \u001b[0ma\u001b[0m\u001b[1;33m+\u001b[0m\u001b[0mb\u001b[0m\u001b[1;33m\u001b[0m\u001b[1;33m\u001b[0m\u001b[0m\n\u001b[0;32m      5\u001b[0m \u001b[0mprint\u001b[0m\u001b[1;33m(\u001b[0m\u001b[0mc\u001b[0m\u001b[1;33m)\u001b[0m\u001b[1;33m\u001b[0m\u001b[1;33m\u001b[0m\u001b[0m\n",
      "\u001b[1;31mValueError\u001b[0m: invalid literal for int() with base 10: 'a'"
     ]
    }
   ],
   "source": [
    "a = int(input(\"enter a number: \"))\n",
    "b = int(input(\"enter a number: \"))\n",
    "\n",
    "c = a+b\n",
    "print(c)"
   ]
  },
  {
   "cell_type": "code",
   "execution_count": 2,
   "metadata": {},
   "outputs": [],
   "source": [
    "# type your solution here"
   ]
  }
 ],
 "metadata": {
  "kernelspec": {
   "display_name": "Python 3",
   "language": "python",
   "name": "python3"
  },
  "language_info": {
   "codemirror_mode": {
    "name": "ipython",
    "version": 3
   },
   "file_extension": ".py",
   "mimetype": "text/x-python",
   "name": "python",
   "nbconvert_exporter": "python",
   "pygments_lexer": "ipython3",
   "version": "3.9.1"
  }
 },
 "nbformat": 4,
 "nbformat_minor": 5
}
