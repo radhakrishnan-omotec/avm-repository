{
 "cells": [
  {
   "cell_type": "markdown",
   "metadata": {},
   "source": [
    "<img src=\"images/omotec.png\" alt=\"Drawing\" style=\"width: 130px;\" align=\"center\"/>"
   ]
  },
  {
   "cell_type": "markdown",
   "metadata": {},
   "source": [
    "## REVISION OF PYTHON LEVEL 1 :\n",
    "\n",
    "- Understanding : Programming language , data , data types\n",
    "- Variable : use, rules\n",
    "- Input : Used to take data from user \n",
    "- operators : Arithmatic , logical,Assignment,conditional\n",
    "- constional statement : if , if else , if elif else\n",
    "- Loops: for , while loop \n",
    "- List,tuple,dictionary, set \n",
    "- Function \n",
    "- Module\n",
    "- file operations "
   ]
  },
  {
   "cell_type": "markdown",
   "metadata": {},
   "source": [
    "## REVISION QUESTIONS \n",
    "\n",
    "1. Ask user about his age and decide the age category.\n",
    "   [1-10 - kid ,11-18 - Teenager,18-40 - Adult , 40 up - senior citezen]\n",
    "   \n",
    "2. Print all even numbers from 1-50"
   ]
  },
  {
   "cell_type": "markdown",
   "metadata": {},
   "source": [
    "# Creating a Banking App using functions"
   ]
  },
  {
   "cell_type": "markdown",
   "metadata": {},
   "source": [
    "## The App should have the following features\n",
    "\n",
    "### Simple Tasks\n",
    "1. Create account (During account creation username,password and the initial depoist amount should be specified.)\n",
    "2. The account holders should be able to login and logout from the account using password.\n",
    "3. Account holders should be allowed to credit and debit Money.\n",
    "\n",
    "---\n",
    "\n",
    "### Difficult Tasks\n",
    "1. Remove account Holder\n",
    "2. The app should have checks which limits the withrawal of amount bigger than the current balance in the account.\n",
    "3. Should have a way to check the current balance\n",
    "\n",
    "---\n",
    "\n",
    "1. **Make use of function for each task** <br>\n",
    "```python\n",
    "def function_name():\n",
    "```\n",
    "2. **use dictionary of dictoinaries to store the account holders details**<br>\n",
    "```python\n",
    "acc_hold = {\"user1\":{\"pass\":1234,\"bal\":50000},\"user2\":{\"pass\":5678,\"bal\":20000}}\n",
    "```\n",
    "\n",
    "---\n"
   ]
  },
  {
   "cell_type": "markdown",
   "metadata": {},
   "source": [
    "#### Main dictionary to store all the account holders and their details"
   ]
  },
  {
   "cell_type": "code",
   "execution_count": 17,
   "metadata": {},
   "outputs": [],
   "source": [
    "# account holder dictionary to store all the user details\n",
    "acc_hold = {}"
   ]
  },
  {
   "cell_type": "markdown",
   "metadata": {},
   "source": [
    "#### Global variables used for program state "
   ]
  },
  {
   "cell_type": "code",
   "execution_count": 18,
   "metadata": {},
   "outputs": [],
   "source": [
    "# variables used to check the state of things\n",
    "login = False\n",
    "running  = True"
   ]
  },
  {
   "cell_type": "markdown",
   "metadata": {},
   "source": [
    "#### Login function "
   ]
  },
  {
   "cell_type": "code",
   "execution_count": null,
   "metadata": {},
   "outputs": [],
   "source": [
    "def login():\n",
    "    global login\n",
    "    user_name = input(\"Entet the user name : \")\n",
    "    password = input(\"Entet the password : \")\n",
    "    \n",
    "    if user_name in acc_hold:\n",
    "        if acc_hold[user_name][\"pass\"] == password:\n",
    "            print(\"Logging in\")\n",
    "            login = True\n",
    "            login_menu(user_name)\n",
    "        else:\n",
    "            print(\"wrong password\")\n",
    "    else:\n",
    "        print(\"account not found\")"
   ]
  },
  {
   "cell_type": "markdown",
   "metadata": {},
   "source": [
    "#### Logout function"
   ]
  },
  {
   "cell_type": "code",
   "execution_count": null,
   "metadata": {},
   "outputs": [],
   "source": [
    "def logout():\n",
    "    global login\n",
    "    login = False\n",
    "    print(\"logging out\")"
   ]
  },
  {
   "cell_type": "markdown",
   "metadata": {},
   "source": [
    "#### Login Menu"
   ]
  },
  {
   "cell_type": "code",
   "execution_count": null,
   "metadata": {},
   "outputs": [],
   "source": [
    "def login_menu(user):\n",
    "    global login\n",
    "    while login:\n",
    "        print(\"For deposit press 1: \")\n",
    "        print(\"For withdrawal press 2: \")\n",
    "        print(\"For logout press 3: \")\n",
    "\n",
    "        x = int(input(\"Enter your choice: \"))\n",
    "\n",
    "        if x == 1:\n",
    "            dep = int(input(\"Enter deposit amount: \"))\n",
    "            acc_hold[user][\"bal\"] = acc_hold[user][\"bal\"]+dep\n",
    "            print(\"current balance is:\",acc_hold[user][\"bal\"])\n",
    "\n",
    "        elif x == 2:\n",
    "            wit = int(input(\"Enter withdraw amount: \"))\n",
    "            if wit > acc_hold[user][\"bal\"]:\n",
    "                print(\"not sufficient balance.\")\n",
    "            else:\n",
    "                acc_hold[user][\"bal\"] = acc_hold[user][\"bal\"]-wit\n",
    "                print(\"current balance is:\",acc_hold[user][\"bal\"])\n",
    "\n",
    "        elif x == 3:\n",
    "            logout()\n",
    "            "
   ]
  },
  {
   "cell_type": "markdown",
   "metadata": {},
   "source": [
    "#### Function to create account"
   ]
  },
  {
   "cell_type": "code",
   "execution_count": null,
   "metadata": {},
   "outputs": [],
   "source": [
    "def create_acc():\n",
    "    user_name = input(\"Entet the user name: \")\n",
    "    password = input(\"Entet the password: \")\n",
    "    int_dep = int(input(\"Enter a deposit amount: \"))\n",
    "    \n",
    "    if  user_name in acc_hold:\n",
    "        print(\"user name already taken\")\n",
    "    else:\n",
    "        acc_hold[user_name] = {\"pass\":password,\"bal\":int_dep}\n",
    "        print(\"account created\")"
   ]
  },
  {
   "cell_type": "markdown",
   "metadata": {},
   "source": [
    "#### Function for the main menu of the banking app"
   ]
  },
  {
   "cell_type": "code",
   "execution_count": null,
   "metadata": {},
   "outputs": [],
   "source": [
    "def main_menu():\n",
    "    print(\"Welcome to the banking app.\")\n",
    "    print(\"For login press 1: \")\n",
    "    print(\"For creating new account press 2: \")\n",
    "    print(\"For exiting the app press 3: \")\n",
    "    \n",
    "    x = int(input(\"Enter your choice: \"))\n",
    "    \n",
    "    if x == 1:\n",
    "        login()\n",
    "    elif x == 2:\n",
    "        create_acc()\n",
    "    elif x == 3:\n",
    "        exit()"
   ]
  },
  {
   "cell_type": "markdown",
   "metadata": {},
   "source": [
    "#### Function exit the banking app"
   ]
  },
  {
   "cell_type": "code",
   "execution_count": null,
   "metadata": {},
   "outputs": [],
   "source": [
    "def exit():\n",
    "    global running\n",
    "    print(\"closing the app\")\n",
    "    running = False"
   ]
  },
  {
   "cell_type": "markdown",
   "metadata": {},
   "source": [
    "#### While true loop to keep the app running."
   ]
  },
  {
   "cell_type": "code",
   "execution_count": null,
   "metadata": {},
   "outputs": [],
   "source": [
    "while running:\n",
    "    main_menu()"
   ]
  },
  {
   "cell_type": "markdown",
   "metadata": {},
   "source": [
    "---\n",
    "\n",
    "## HOMEWORK\n",
    "\n",
    "1. Write a program to find out factorial of given number \n",
    "2. Write a function to find the sum of all even number from 1-20\n",
    "\n",
    "---"
   ]
  }
 ],
 "metadata": {
  "kernelspec": {
   "display_name": "Python 3",
   "language": "python",
   "name": "python3"
  },
  "language_info": {
   "codemirror_mode": {
    "name": "ipython",
    "version": 3
   },
   "file_extension": ".py",
   "mimetype": "text/x-python",
   "name": "python",
   "nbconvert_exporter": "python",
   "pygments_lexer": "ipython3",
   "version": "3.9.10"
  }
 },
 "nbformat": 4,
 "nbformat_minor": 4
}
