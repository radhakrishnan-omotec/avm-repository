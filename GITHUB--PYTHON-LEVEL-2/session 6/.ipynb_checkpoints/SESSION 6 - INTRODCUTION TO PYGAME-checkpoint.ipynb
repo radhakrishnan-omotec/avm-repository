{
 "cells": [
  {
   "cell_type": "markdown",
   "metadata": {},
   "source": [
    "<img src=\"images/omotec.png\" alt=\"Drawing\" style=\"width: 130px;\" align=\"center\"/>"
   ]
  },
  {
   "cell_type": "markdown",
   "metadata": {},
   "source": [
    "# PyGame\n",
    "\n",
    "- PyGame is the library used to create GUI effect in games\n",
    "- It supports the picture, sound, shapes \n",
    "- PyGame provides cross platform with system's multimedia hardware like, keyboard, joystick, sound etc\n",
    "\n",
    "------\n",
    "- Difference between turtle libary and PyGame\n",
    "        - The Turtle package is a tool to help to draw Graphical output \n",
    "        - On the other hand, PyGame is game development package that gives you all the tools to create a game with Python.\n",
    "---"
   ]
  },
  {
   "cell_type": "markdown",
   "metadata": {},
   "source": [
    "## Installing PyGame\n",
    "\n",
    "For windows \n",
    "\n",
    "`pip install pygame`\n",
    "\n",
    "---\n",
    "\n",
    "For mac (Provided you have python3 installed)\n",
    "\n",
    "`pip3 install pygame`\n",
    "\n",
    "---\n",
    "\n",
    "***if the commands don't work its porbably because you have not added python/python3 to the enviornment variable. Please check the steps to resolve this probem attached in the folder***"
   ]
  },
  {
   "cell_type": "markdown",
   "metadata": {},
   "source": [
    "## Bare minimum code\n",
    "\n",
    "Below code creates a simple blank pygame window"
   ]
  },
  {
   "cell_type": "code",
   "execution_count": null,
   "metadata": {},
   "outputs": [
    {
     "name": "stdout",
     "output_type": "stream",
     "text": [
      "pygame 1.9.6\n",
      "Hello from the pygame community. https://www.pygame.org/contribute.html\n"
     ]
    }
   ],
   "source": [
    "import pygame\n",
    "import time\n",
    "\n",
    "\n",
    "pygame.init()\n",
    "\n",
    "screen = pygame.display.set_mode([500, 500])   # creates a screen with the said size\n",
    "\n",
    "run = True\n",
    "while run:\n",
    "    pass\n",
    "    \n",
    "pygame.quit()"
   ]
  },
  {
   "cell_type": "markdown",
   "metadata": {},
   "source": [
    "---\n",
    "<u>Command explaintion</u>\n",
    "\n",
    "- The `pygame.display.set_mode([500, 500])` is used to create a screen of a specified size in pygame.\n",
    "  Creating a screen by default creates a surface. Surface is the drawable portion on the screen.\n",
    "\n",
    "---"
   ]
  },
  {
   "cell_type": "markdown",
   "metadata": {},
   "source": [
    "####  PROBLEM : The launched window does not work properly!!! \n",
    "You can also see the not responding sign on top of the window.\n",
    "\n",
    "---\n",
    "\n",
    "To understand why this is happeneing we must understand how an app actually works.\n",
    "Any app can be divided into 2 parts the \n",
    "1. The main app window\n",
    "2. The event handler\n",
    "\n",
    "\n",
    "- The main window is where we get the graphical outputs\n",
    "- The event handler  is a task which is supossed to run continously in the background checking for all the events that are happening in the main window.\n",
    "\n",
    "## Events \n",
    "- Events are bacially any unser interaction that can be caught on the screen.\n",
    "- This can include keyboard key presses, mouse interaction etc.\n",
    "\n",
    "---\n",
    "\n",
    "---\n",
    "**In the above code we created a main window when we created the display. Calling the init() funcion also creates an event handler for us which is runnig in the background.**\n",
    "\n",
    "Then what is the issue???????\n",
    "\n",
    "- The event handler that is running in the background is capturing events(user interactions) and storing them into a    \n",
    "  list(queue).\n",
    "- We are supposed to go through this list frequently enough and tell the app what has to be done when a particular event has occured. \n",
    "- Even if no action has to be performed after a particular event, reading the event list(queue) has to be done.\n",
    "\n",
    "- In the above we have a game loop but the game loop is not reading the event list. Which causes the app to become not \n",
    "  responding.\n",
    "---"
   ]
  },
  {
   "cell_type": "code",
   "execution_count": null,
   "metadata": {},
   "outputs": [],
   "source": [
    "import pygame\n",
    "import time\n",
    "\n",
    "\n",
    "pygame.init()\n",
    "\n",
    "screen = pygame.display.set_mode([500, 500])   # creates a screen with the said size\n",
    "\n",
    "run = True\n",
    "while run:\n",
    "    for event in pygame.event.get():\n",
    "        pass\n",
    "    \n",
    "pygame.quit()"
   ]
  },
  {
   "cell_type": "markdown",
   "metadata": {},
   "source": [
    "---\n",
    "\n",
    "#### PROBLEM : We wont be able to close the above window!!\n",
    "- To be able to close the window we need to check  if the close button was clicked and break the game loop(while loop).\n",
    "---"
   ]
  },
  {
   "cell_type": "code",
   "execution_count": 3,
   "metadata": {},
   "outputs": [],
   "source": [
    "#TASK :closing output window without error "
   ]
  },
  {
   "cell_type": "code",
   "execution_count": 4,
   "metadata": {
    "scrolled": true
   },
   "outputs": [],
   "source": [
    "import pygame\n",
    "import time\n",
    "\n",
    "\n",
    "pygame.init()\n",
    "\n",
    "screen = pygame.display.set_mode([500, 500])   # creates a screen with the said size\n",
    "\n",
    "run = True\n",
    "while run:\n",
    "    for event in pygame.event.get():\n",
    "        if event.type == pygame.QUIT:\n",
    "            run = False\n",
    "    \n",
    "pygame.quit()"
   ]
  },
  {
   "cell_type": "markdown",
   "metadata": {},
   "source": [
    "---\n",
    "<u>Command explaintion</u>\n",
    "\n",
    "`pygame.event.get()` returns us a list of event which the event handler has caught. We then need to go through the list and check manually if a particular event has occured.\n",
    "\n",
    "\n",
    "---\n",
    "\n",
    "### list of all events that can be captured by the event handler.\n",
    "\n",
    "|Event             | Attributes                                 |\n",
    "|:-|:-|\n",
    "|QUIT              | none|\n",
    "|ACTIVEEVENT       | gain, state|\n",
    "|KEYDOWN           | key, mod, unicode, scancode|\n",
    "|KEYUP             | key, mod|\n",
    "|MOUSEMOTION       | pos, rel, buttons|\n",
    "|MOUSEBUTTONUP     | pos, button|\n",
    "|MOUSEBUTTONDOWN   | pos, button|\n",
    "|JOYAXISMOTION     | joy (deprecated), instance_id, axis, value|\n",
    "|JOYBALLMOTION     | joy (deprecated), instance_id, ball, rel|\n",
    "|JOYHATMOTION      | joy (deprecated), instance_id, hat, value|\n",
    "|JOYBUTTONUP       | joy (deprecated), instance_id, button|\n",
    "|JOYBUTTONDOWN     | joy (deprecated), instance_id, button|\n",
    "|VIDEORESIZE       | size, w, h|\n",
    "|VIDEOEXPOSE       | none|\n",
    "|USEREVENT         | code|\n",
    "---"
   ]
  },
  {
   "cell_type": "markdown",
   "metadata": {},
   "source": [
    "## Screen / Surface\n",
    "\n",
    "\n",
    "`screen = pygame.display.set_mode([500, 500])`\n",
    "\n",
    "The above line of code creates a screen. The screen that we create is also a surfcae in pygame that can be used to draw things on to.\n",
    "\n",
    "Surface objects has its own set of methods.<br>\n",
    "\n",
    "<u>Command explaination:</u>\n",
    "\n",
    "- The most frequenty used one is the `fill(color)` method which fill the screen with a specified color."
   ]
  },
  {
   "cell_type": "code",
   "execution_count": 2,
   "metadata": {},
   "outputs": [],
   "source": [
    "import pygame\n",
    "import time\n",
    "\n",
    "\n",
    "pygame.init()\n",
    "\n",
    "screen = pygame.display.set_mode([500, 500])   # creates a screen with the said size\n",
    "\n",
    "run = True\n",
    "while run:\n",
    "    for event in pygame.event.get():\n",
    "        if event.type == pygame.QUIT:\n",
    "            run = False\n",
    "            \n",
    "    screen.fill((255,255,255))\n",
    "    \n",
    "pygame.quit()"
   ]
  },
  {
   "cell_type": "markdown",
   "metadata": {},
   "source": [
    "####  PROBLEM: We just filled the screen with white but then why is the screen not white\n",
    "\n",
    "- The issue is that the screen has been painted white but has not yet been updated. \n",
    "- To update screen we need to flip the disply. Fliping is the operation by which the screen is updated.\n",
    "\n",
    "<u>Command explaination:</u>\n",
    "\n",
    "`pygame.display.flip()`"
   ]
  },
  {
   "cell_type": "code",
   "execution_count": 3,
   "metadata": {},
   "outputs": [],
   "source": [
    "import pygame\n",
    "import time\n",
    "\n",
    "\n",
    "pygame.init()\n",
    "\n",
    "screen = pygame.display.set_mode([500, 500])   # creates a screen with the said size\n",
    "\n",
    "run = True\n",
    "while run:\n",
    "    for event in pygame.event.get():\n",
    "        if event.type == pygame.QUIT:\n",
    "            run = False\n",
    "            \n",
    "    screen.fill((255,255,255))\n",
    "    \n",
    "    pygame.display.flip()\n",
    "    \n",
    "    \n",
    "pygame.quit()"
   ]
  },
  {
   "cell_type": "markdown",
   "metadata": {},
   "source": [
    "## Drawing shapes"
   ]
  },
  {
   "cell_type": "markdown",
   "metadata": {},
   "source": [
    "The pygame.draw module has a bunch of function that can used to draw shapes.\n",
    "\n",
    "**Drawaing circles<br>**\n",
    "`pygame.draw.circle(Surface, color , center location , radius)`\n",
    "\n",
    "|Arguments             |                                  |\n",
    "|:-|:-|\n",
    "|Surface |The screen or any drawable surface|\n",
    "|color |Tuple representing the RGB vlaues|\n",
    "|center loaction |Tuple representing the x and y coordinate of the center point of the rectangle|\n",
    "|radius |Scalar vlaues representing the radius of the circle\n",
    "\n",
    "**Drawing Rectangles<br>**\n",
    "`pygame.draw.rect(Surface, color , rect)`\n",
    "\n",
    "|Arguments             |                                  |\n",
    "|:-|:-|\n",
    "|Surface |The screen or any drawable surface|\n",
    "|color |Tuple representing the RGB vlaues|\n",
    "|center loaction |Tuple representing the x and y coordinate of the center point of the rectangle|\n",
    "|rect |Tuple representing the x and y coordinate of top left hand corner of the rectangle <br>along with the width and height of the rectangle(left, top, width, height)"
   ]
  },
  {
   "cell_type": "markdown",
   "metadata": {},
   "source": [
    "**Drawing Circle**"
   ]
  },
  {
   "cell_type": "code",
   "execution_count": 4,
   "metadata": {},
   "outputs": [],
   "source": [
    "import pygame\n",
    "import time\n",
    "\n",
    "\n",
    "pygame.init()\n",
    "\n",
    "screen = pygame.display.set_mode([500, 500])   # creates a screen with the said size\n",
    "\n",
    "run = True\n",
    "while run:\n",
    "    for event in pygame.event.get():\n",
    "        if event.type == pygame.QUIT:\n",
    "            run = False\n",
    "            \n",
    "    screen.fill((255,255,255))\n",
    "    \n",
    "    pygame.draw.circle(screen, (0, 0, 255), (250, 250), 75)\n",
    "    \n",
    "    pygame.display.flip()\n",
    "    \n",
    "    \n",
    "pygame.quit()"
   ]
  },
  {
   "cell_type": "markdown",
   "metadata": {},
   "source": [
    "**Drawing Rectangle**"
   ]
  },
  {
   "cell_type": "code",
   "execution_count": 5,
   "metadata": {},
   "outputs": [],
   "source": [
    "import pygame\n",
    "import time\n",
    "\n",
    "\n",
    "pygame.init()\n",
    "\n",
    "screen = pygame.display.set_mode([500, 500])   # creates a screen with the said size\n",
    "\n",
    "run = True\n",
    "while run:\n",
    "    for event in pygame.event.get():\n",
    "        if event.type == pygame.QUIT:\n",
    "            run = False\n",
    "            \n",
    "    screen.fill((255,255,255))\n",
    "    \n",
    "    pygame.draw.rect(screen, (0, 0, 255), (100,100,300,300))\n",
    "    \n",
    "    pygame.display.flip()\n",
    "    \n",
    "    \n",
    "pygame.quit()"
   ]
  },
  {
   "cell_type": "markdown",
   "metadata": {},
   "source": [
    "## Setting the FPS \n",
    "\n",
    "FPS stands for frames per second. This parameter defines how fast the screen is refreshing. As of now we don't have any control over the speed at which the while loop is running. We can limit the speed by creating a clock and setting the frame rate using the tick method.\n",
    "\n",
    "We won't see andy deiffernce though as we are not animating anything as of yet.\n",
    "But once we start with the animation we will be able to see the difference.\n",
    "\n",
    "`clock = pygame.time.Clock()`<br>\n",
    "The above line of code creates a clock object\n",
    "\n",
    "`clock.tick(30)`<br>\n",
    "the above line of code sets the frame rate. A frame rate of 30 means the while loop/ game loop will run 30 times every second.<br>\n",
    "The `clock.tick(30)` has to be inside the game loop for which the frame rate has to controller."
   ]
  },
  {
   "cell_type": "code",
   "execution_count": null,
   "metadata": {},
   "outputs": [],
   "source": [
    "import pygame\n",
    "import time\n",
    "\n",
    "\n",
    "pygame.init()\n",
    "\n",
    "screen = pygame.display.set_mode([500, 500])   # creates a screen with the said size\n",
    "\n",
    "clock = pygame.time.Clock()\n",
    "\n",
    "run = True\n",
    "while run:\n",
    "    for event in pygame.event.get():\n",
    "        if event.type == pygame.QUIT:\n",
    "            run = False\n",
    "            \n",
    "    screen.fill((255,255,255))\n",
    "    \n",
    "    pygame.draw.rect(screen, (0, 0, 255), (100,100,300,300))\n",
    "    \n",
    "    pygame.display.flip()\n",
    "    clock.tick(30)\n",
    "    \n",
    "    \n",
    "pygame.quit()"
   ]
  },
  {
   "cell_type": "markdown",
   "metadata": {},
   "source": [
    "---\n",
    "\n",
    "**REVISION :**\n",
    "- Understandng : pygame , difference between pygame\n",
    "- Installation of pygame \n",
    "- Understaning : bare code for game window\n",
    "- Event handling : quit event \n",
    "- screen colour filling \n",
    "- Updating screen color \n",
    "- drawing shapes \n",
    "\n",
    "---\n",
    "    "
   ]
  },
  {
   "cell_type": "markdown",
   "metadata": {},
   "source": [
    "---\n",
    "\n",
    "**HOMEWORK**\n",
    "\n",
    "1. Draw 2 different shapes together on the screen with different size, color and position \n",
    "\n",
    "---"
   ]
  },
  {
   "cell_type": "code",
   "execution_count": null,
   "metadata": {},
   "outputs": [],
   "source": []
  }
 ],
 "metadata": {
  "kernelspec": {
   "display_name": "Python 3",
   "language": "python",
   "name": "python3"
  },
  "language_info": {
   "codemirror_mode": {
    "name": "ipython",
    "version": 3
   },
   "file_extension": ".py",
   "mimetype": "text/x-python",
   "name": "python",
   "nbconvert_exporter": "python",
   "pygments_lexer": "ipython3",
   "version": "3.9.1"
  }
 },
 "nbformat": 4,
 "nbformat_minor": 4
}
