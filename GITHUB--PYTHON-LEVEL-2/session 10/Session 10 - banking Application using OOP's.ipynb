{
 "cells": [
  {
   "cell_type": "markdown",
   "metadata": {},
   "source": [
    "<img src=\"images/omotec.png\" alt=\"Drawing\" style=\"width: 130px;\" align=\"center\"/>"
   ]
  },
  {
   "cell_type": "markdown",
   "metadata": {},
   "source": [
    "## Create a banking app using OOP's based programming"
   ]
  },
  {
   "cell_type": "markdown",
   "metadata": {},
   "source": [
    "## The App should have the following features\n",
    "\n",
    "### Simple Tasks\n",
    "1. Create account (During account creation username,password and the initial depoist amount should be specified.)\n",
    "2. The account holders should be able to login and logout from the account using password.\n",
    "3. Account holders should be allowed to credit and debit Money.\n",
    "\n",
    "---\n",
    "\n",
    "### Difficult Tasks\n",
    "1. Remove account Holder\n",
    "2. The app should have checks which limits the withrawal of amount bigger than the cuurent balance in the account."
   ]
  },
  {
   "cell_type": "markdown",
   "metadata": {},
   "source": [
    "\n",
    "---\n"
   ]
  },
  {
   "cell_type": "markdown",
   "metadata": {},
   "source": [
    "#### Defining the account holder class"
   ]
  },
  {
   "cell_type": "code",
   "execution_count": null,
   "metadata": {},
   "outputs": [],
   "source": [
    "class AccountHolder():\n",
    "    def __init__(self,user_name,password,initial_deposit):\n",
    "        self.user_name = user_name\n",
    "        self.password = password\n",
    "        self.bal = initial_deposit    \n",
    "        self.login_check = False\n",
    "        \n",
    "    def login(self,pwd):\n",
    "        if self.password == pwd:\n",
    "            self.login_check = True\n",
    "            print(\"logged in\")\n",
    "            login_menu(self)\n",
    "        else:\n",
    "            print(\"wrong password\")\n",
    "        \n",
    "    def deposit(self,amt):\n",
    "        self.bal = self.bal+amt\n",
    "        print(\"current balance:\",self.bal)\n",
    "    \n",
    "    def withdraw(self,amt):\n",
    "        if self.bal>=amt:\n",
    "            self.bal = self.bal-amt\n",
    "            print(\"current balance:\",self.bal)\n",
    "        else:\n",
    "            print(\"not sufficient balance\")\n",
    "        \n",
    "    def logout(self):\n",
    "        self.login_check = False\n",
    "        print(\"Logout successful\")"
   ]
  },
  {
   "cell_type": "markdown",
   "metadata": {},
   "source": [
    "#### Global list used to store the account holder objects"
   ]
  },
  {
   "cell_type": "code",
   "execution_count": null,
   "metadata": {},
   "outputs": [],
   "source": [
    "acc_hold = []"
   ]
  },
  {
   "cell_type": "markdown",
   "metadata": {},
   "source": [
    "#### Global variables used for program state "
   ]
  },
  {
   "cell_type": "code",
   "execution_count": null,
   "metadata": {},
   "outputs": [],
   "source": [
    "# variables used to check the state of things\n",
    "running  = True"
   ]
  },
  {
   "cell_type": "markdown",
   "metadata": {},
   "source": [
    "#### Login Menu"
   ]
  },
  {
   "cell_type": "code",
   "execution_count": null,
   "metadata": {},
   "outputs": [],
   "source": [
    "def login_menu(user):\n",
    "    while user.login_check:\n",
    "        print(\"For deposit press 1: \")\n",
    "        print(\"For withdrawal press 2: \")\n",
    "        print(\"For logout press 3: \")\n",
    "\n",
    "        x = int(input(\"Enter your choice: \"))\n",
    "\n",
    "        if x == 1:\n",
    "            dep = int(input(\"Enter deposit amount: \"))\n",
    "            user.deposit(dep)\n",
    "\n",
    "        elif x == 2:\n",
    "            wit = int(input(\"Enter withdrawl amount: \"))\n",
    "            user.withdraw(wit)\n",
    "\n",
    "        elif x == 3:\n",
    "            user.logout()"
   ]
  },
  {
   "cell_type": "markdown",
   "metadata": {},
   "source": [
    "#### Function exit the banking app"
   ]
  },
  {
   "cell_type": "code",
   "execution_count": null,
   "metadata": {},
   "outputs": [],
   "source": [
    "def exit():\n",
    "    global running\n",
    "    print(\"closing the app\")\n",
    "    running = False"
   ]
  },
  {
   "cell_type": "markdown",
   "metadata": {},
   "source": [
    "#### Fucntion to  find user object from the list of account holders"
   ]
  },
  {
   "cell_type": "code",
   "execution_count": null,
   "metadata": {},
   "outputs": [],
   "source": [
    "def find_user(user_name):\n",
    "    user = None\n",
    "    for acc in acc_hold:\n",
    "        if acc.user_name == user_name:\n",
    "            user = acc \n",
    "            break\n",
    "    else:\n",
    "        user = None\n",
    "        \n",
    "    return user"
   ]
  },
  {
   "cell_type": "markdown",
   "metadata": {},
   "source": [
    "#### Function for the main menu of the banking app"
   ]
  },
  {
   "cell_type": "code",
   "execution_count": null,
   "metadata": {},
   "outputs": [],
   "source": [
    "def main_menu():\n",
    "    print(\"Welcome to the banking app.\")\n",
    "    print(\"For login press 1: \")\n",
    "    print(\"For creating new account press 2: \")\n",
    "    print(\"For exiting the app press 3: \")\n",
    "    \n",
    "    x = int(input(\"Enter your choice: \"))\n",
    "    \n",
    "    if x == 1:\n",
    "        user_name = input(\"Entet the user name : \")\n",
    "        password = input(\"Entet the password : \")\n",
    "\n",
    "        user = find_user(user_name)\n",
    "        if user == None:\n",
    "            print(\"Please check the user name\")\n",
    "        else:\n",
    "            user.login(password)\n",
    "        \n",
    "    elif x == 2:\n",
    "        user_name = input(\"Entet the user name: \")\n",
    "        password = input(\"Entet the password: \")\n",
    "        int_dep = int(input(\"Enter a deposit amount: \"))\n",
    "\n",
    "        user = find_user(user_name)\n",
    "        if user == None:\n",
    "            acc_hold.append(AccountHolder(user_name,password,int_dep))\n",
    "            print(\"Account created successfully\")\n",
    "        else:\n",
    "            print(\"Username already exists\")\n",
    "            \n",
    "    elif x == 3:\n",
    "        exit()"
   ]
  },
  {
   "cell_type": "markdown",
   "metadata": {},
   "source": [
    "#### While true loop to keep the app running."
   ]
  },
  {
   "cell_type": "code",
   "execution_count": null,
   "metadata": {},
   "outputs": [],
   "source": [
    "while running:\n",
    "    main_menu()"
   ]
  },
  {
   "cell_type": "markdown",
   "metadata": {},
   "source": [
    "\n",
    "---\n"
   ]
  },
  {
   "cell_type": "markdown",
   "metadata": {},
   "source": [
    "### Home work\n",
    "\n",
    "1. Add a methods that allows the user to check his current balance. This should also be provided as a option in the `login_menu` function\n",
    "2. Add a method that does login and logout animation "
   ]
  },
  {
   "cell_type": "code",
   "execution_count": null,
   "metadata": {},
   "outputs": [],
   "source": []
  }
 ],
 "metadata": {
  "kernelspec": {
   "display_name": "Python 3",
   "language": "python",
   "name": "python3"
  },
  "language_info": {
   "codemirror_mode": {
    "name": "ipython",
    "version": 3
   },
   "file_extension": ".py",
   "mimetype": "text/x-python",
   "name": "python",
   "nbconvert_exporter": "python",
   "pygments_lexer": "ipython3",
   "version": "3.9.1"
  }
 },
 "nbformat": 4,
 "nbformat_minor": 4
}
