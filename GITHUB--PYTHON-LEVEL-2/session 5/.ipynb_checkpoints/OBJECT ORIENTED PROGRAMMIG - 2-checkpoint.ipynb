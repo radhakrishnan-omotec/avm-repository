{
 "cells": [
  {
   "cell_type": "markdown",
   "metadata": {},
   "source": [
    "<img src=\"images/omotec.png\" alt=\"Drawing\" style=\"width: 130px;\" align=\"center\"/>"
   ]
  },
  {
   "cell_type": "markdown",
   "metadata": {},
   "source": [
    "## `INHERITANCE`\n",
    "\n",
    "- Inheritance allows us to define a class that inherits all the methods and properties from another class.\n",
    "\n",
    "- Parent class is the class being inherited from, also called base class.\n",
    " \n",
    "- Child class is the class that inherits from another class, also called derived class"
   ]
  },
  {
   "cell_type": "markdown",
   "metadata": {},
   "source": [
    "---\n",
    "Now lets say want to create different types of employees<br>\n",
    "- manager\n",
    "- developers\n",
    "\n",
    "What we can do is create two different types of class one for manager and another for developer.<br>\n",
    "but that is not what oop is about.<br>\n",
    "**OOP is about code reuse.**\n",
    "\n",
    "---\n",
    "\n",
    "So what we do is break the entire problem into 3 separate classes.<br>\n",
    "One class would have all the attributes common to both the employee and developer class.<br>\n",
    "and the next 2 classes for manager and developer with the things that are not common<br>\n",
    "\n",
    "---\n"
   ]
  },
  {
   "cell_type": "markdown",
   "metadata": {},
   "source": [
    "---\n",
    "-- This is called as subclassing. \n",
    "\n",
    "-- The subclasses inherit from the base class. \n",
    "\n",
    "-- So in our case the the **base class** is the **employee class** \n",
    "\n",
    "-- And the **subclasses** are the **manager and developers class**.\n",
    "\n",
    "---"
   ]
  },
  {
   "cell_type": "code",
   "execution_count": 12,
   "metadata": {},
   "outputs": [],
   "source": [
    "# creating parent class employee\n",
    "\n",
    "class Employee():\n",
    "    \n",
    "    raise_amount = 1.04\n",
    "    \n",
    "    def __init__(self,first,last,pay):\n",
    "        self.first_name = first\n",
    "        self.last_name = last\n",
    "        self.salary = pay\n",
    "        self.email = first+'.'+last+'@companymail.com'\n",
    "    \n",
    "    def full_name(self):\n",
    "        return self.first_name+' '+self.last_name\n",
    "    \n",
    "    def apply_raise(self):\n",
    "        self.salary = int(self.salary * self.raise_amount)\n",
    "        print(self.salary)"
   ]
  },
  {
   "cell_type": "code",
   "execution_count": 8,
   "metadata": {},
   "outputs": [],
   "source": [
    "# creating devleoper class by inheritance method\n",
    "\n",
    "class Employee():\n",
    "    \n",
    "    raise_amount = 1.04\n",
    "    \n",
    "    def __init__(self,first,last,pay):\n",
    "        self.first_name = first\n",
    "        self.last_name = last\n",
    "        self.salary = pay\n",
    "        self.email = first+'.'+last+'@companymail.com'\n",
    "    \n",
    "    def full_name(self):\n",
    "        return self.first_name+' '+self.last_name\n",
    "    \n",
    "    def apply_raise(self):\n",
    "        self.salary = int(self.salary * self.raise_amount)\n",
    "        \n",
    "class Developer(Employee):\n",
    "    pass"
   ]
  },
  {
   "cell_type": "code",
   "execution_count": 10,
   "metadata": {},
   "outputs": [],
   "source": [
    "dev1 =Developer(\"test1\",\"user\",50000)"
   ]
  },
  {
   "cell_type": "code",
   "execution_count": 11,
   "metadata": {},
   "outputs": [
    {
     "name": "stdout",
     "output_type": "stream",
     "text": [
      "50000\n"
     ]
    }
   ],
   "source": [
    "print(dev1.salary)"
   ]
  },
  {
   "cell_type": "code",
   "execution_count": 14,
   "metadata": {},
   "outputs": [
    {
     "name": "stdout",
     "output_type": "stream",
     "text": [
      "1.04\n"
     ]
    }
   ],
   "source": [
    "print(dev1.raise_amount)"
   ]
  },
  {
   "cell_type": "code",
   "execution_count": 13,
   "metadata": {},
   "outputs": [],
   "source": [
    "# creating developer class with different raise amount"
   ]
  },
  {
   "cell_type": "code",
   "execution_count": 15,
   "metadata": {},
   "outputs": [],
   "source": [
    "class Developer(Employee):\n",
    "    raise_amount =2.0\n",
    "    "
   ]
  },
  {
   "cell_type": "code",
   "execution_count": 16,
   "metadata": {},
   "outputs": [],
   "source": [
    "dev1 =Developer(\"test1\",\"user\",50000)"
   ]
  },
  {
   "cell_type": "code",
   "execution_count": 17,
   "metadata": {},
   "outputs": [
    {
     "name": "stdout",
     "output_type": "stream",
     "text": [
      "2.0\n"
     ]
    }
   ],
   "source": [
    "print(dev1.raise_amount)"
   ]
  },
  {
   "cell_type": "markdown",
   "metadata": {},
   "source": [
    "--- \n",
    "-- What the above cell means is that the changes made to the subclass **doesnot chnage anything in the base class**.<br>\n",
    "\n",
    "-- In the above code we initiated the developer class with the attributes that were defined in the parent class.<br>\n",
    "\n",
    "-- **lets say we want to initialise the subclass with much more attributes**.<br>\n",
    "\n",
    "---"
   ]
  },
  {
   "cell_type": "code",
   "execution_count": 18,
   "metadata": {},
   "outputs": [],
   "source": [
    "class Employee():\n",
    "    \n",
    "    raise_amount = 1.04\n",
    "    \n",
    "    def __init__(self,first,last,pay):\n",
    "        self.first_name = first\n",
    "        self.last_name = last\n",
    "        self.salary = pay\n",
    "        self.email = first+'.'+last+'@companymail.com'\n",
    "    \n",
    "    def full_name(self):\n",
    "        return self.first_name+' '+self.last_name\n",
    "    \n",
    "    def apply_raise(self):\n",
    "        self.salary = int(self.salary * self.raise_amount)\n",
    "        \n",
    "class Developer(Employee):\n",
    "    raise_amount = 1.1\n",
    "    \n",
    "    def __init__(self,first,last,pay,lang):\n",
    "        self.first_name = first\n",
    "        self.last_name = last\n",
    "        self.salary = pay\n",
    "        self.email = first+'.'+last+'@companymail.com'\n",
    "        self.lang = lang\n",
    "\n",
    "dev1 = Developer('test1','user',3000,'python')"
   ]
  },
  {
   "cell_type": "code",
   "execution_count": 19,
   "metadata": {},
   "outputs": [
    {
     "name": "stdout",
     "output_type": "stream",
     "text": [
      "3300\n"
     ]
    }
   ],
   "source": [
    "dev1.apply_raise()\n",
    "\n",
    "print(dev1.salary)"
   ]
  },
  {
   "cell_type": "markdown",
   "metadata": {},
   "source": [
    "---\n",
    "\n",
    "**problem :**\n",
    "The above coed works fine but the problem being we just repeated ourselfs which is against OOPs\n",
    "\n",
    "**Solution :**\n",
    "- Use of `super()` key word.\n",
    "- using super() we can direcetly pass atributes without passing the self keyword.<br>\n",
    "- but when using the class name to initialise we must pass the self keyword.\n",
    "---"
   ]
  },
  {
   "cell_type": "code",
   "execution_count": 21,
   "metadata": {},
   "outputs": [],
   "source": [
    "class Employee():\n",
    "    \n",
    "    raise_amount = 1.04\n",
    "    \n",
    "    def __init__(self,first,last,pay):\n",
    "        self.first_name = first\n",
    "        self.last_name = last\n",
    "        self.salary = pay\n",
    "        self.email = first+'.'+last+'@companymail.com'\n",
    "    \n",
    "    def full_name(self):\n",
    "        return self.first_name+' '+self.last_name\n",
    "    \n",
    "    def apply_raise(self):\n",
    "        self.salary = int(self.salary * self.raise_amount)\n",
    "        \n",
    "class Developer(Employee):\n",
    "    raise_amount = 1.1\n",
    "    \n",
    "    def __init__(self,first,last,pay,lang):\n",
    "        super().__init__(first,last,pay)\n",
    "        self.lang = lang\n",
    "\n",
    "dev1 = Developer('test1','user',3000,'python')"
   ]
  },
  {
   "cell_type": "code",
   "execution_count": 23,
   "metadata": {},
   "outputs": [],
   "source": [
    "# creating manager class in same way \n",
    "\n",
    "class Employee():\n",
    "    \n",
    "    raise_amount = 1.04\n",
    "    \n",
    "    def __init__(self,first,last,pay):\n",
    "        self.first_name = first\n",
    "        self.last_name = last\n",
    "        self.salary = pay\n",
    "        self.email = first+'.'+last+'@companymail.com'\n",
    "    \n",
    "    def full_name(self):\n",
    "        return self.first_name+' '+self.last_name\n",
    "    \n",
    "    def apply_raise(self):\n",
    "        self.salary = int(self.salary * self.raise_amount)\n",
    "        \n",
    "class Developer(Employee):\n",
    "    raise_amount = 1.1\n",
    "    \n",
    "    def __init__(self,first,last,pay,lang):\n",
    "        super().__init__(first,last,pay)\n",
    "        self.lang = lang\n",
    "    \n",
    "class Manager(Employee):\n",
    "    \n",
    "    def __init__(self,first,last,pay,designation):\n",
    "        super().__init__(first,last,pay)\n",
    "        self.designation = designation\n",
    "    \n",
    "\n",
    "dev1 = Developer('test1','user',3000,'python')\n",
    "dev2 = Developer('test2','user',6000,'java')\n",
    "\n",
    "mang1 = Manager('mang1','super1',30000,'sales')"
   ]
  },
  {
   "cell_type": "code",
   "execution_count": 25,
   "metadata": {},
   "outputs": [
    {
     "name": "stdout",
     "output_type": "stream",
     "text": [
      "30000\n"
     ]
    }
   ],
   "source": [
    "print(mang1.salary)"
   ]
  },
  {
   "cell_type": "code",
   "execution_count": 26,
   "metadata": {},
   "outputs": [
    {
     "name": "stdout",
     "output_type": "stream",
     "text": [
      "python\n"
     ]
    }
   ],
   "source": [
    "print(dev1.lang)"
   ]
  },
  {
   "cell_type": "code",
   "execution_count": 27,
   "metadata": {},
   "outputs": [],
   "source": [
    "# Task : Add more methods into the devleoper and manager class "
   ]
  },
  {
   "cell_type": "markdown",
   "metadata": {},
   "source": [
    "## `POLYMORPHISM`\n",
    "- Polymorphism in python refers to how different object classes can share the same method name"
   ]
  },
  {
   "cell_type": "code",
   "execution_count": 28,
   "metadata": {},
   "outputs": [],
   "source": [
    "# Creating separate class for dog with the method speak\n",
    "\n",
    "class Dog():\n",
    "    def __init__(self,name):\n",
    "        self.name = name\n",
    "    \n",
    "    def speak(self):\n",
    "        return '{} says woff'.format(self.name)"
   ]
  },
  {
   "cell_type": "code",
   "execution_count": 29,
   "metadata": {},
   "outputs": [],
   "source": [
    "# Creating separate class for cat with the method speak\n",
    "class Cat():\n",
    "    def __init__(self,name):\n",
    "        self.name = name\n",
    "    \n",
    "    def speak(self):\n",
    "        return '{} says meow'.format(self.name)"
   ]
  },
  {
   "cell_type": "code",
   "execution_count": 30,
   "metadata": {},
   "outputs": [
    {
     "name": "stdout",
     "output_type": "stream",
     "text": [
      "richard says woff\n",
      "isis says meow\n"
     ]
    }
   ],
   "source": [
    "# creating objects \n",
    "\n",
    "dog1 = Dog('richard')\n",
    "cat1 = Cat('isis')\n",
    "\n",
    "print(dog1.speak())\n",
    "print(cat1.speak())\n"
   ]
  },
  {
   "cell_type": "code",
   "execution_count": 31,
   "metadata": {},
   "outputs": [
    {
     "name": "stdout",
     "output_type": "stream",
     "text": [
      "richard says woff\n",
      "isis says meow\n"
     ]
    }
   ],
   "source": [
    "# calling speak metho for pet using for loop in both classes \n",
    "\n",
    "for pet in [dog1,cat1]:\n",
    "    print(pet.speak())"
   ]
  },
  {
   "cell_type": "code",
   "execution_count": 34,
   "metadata": {},
   "outputs": [],
   "source": [
    "def talk(pet):\n",
    "    print(pet.speak())"
   ]
  },
  {
   "cell_type": "code",
   "execution_count": 35,
   "metadata": {},
   "outputs": [
    {
     "name": "stdout",
     "output_type": "stream",
     "text": [
      "richard says woff\n"
     ]
    }
   ],
   "source": [
    "talk(dog1)"
   ]
  },
  {
   "cell_type": "code",
   "execution_count": 36,
   "metadata": {},
   "outputs": [
    {
     "name": "stdout",
     "output_type": "stream",
     "text": [
      "isis says meow\n"
     ]
    }
   ],
   "source": [
    "talk(cat1)"
   ]
  },
  {
   "cell_type": "markdown",
   "metadata": {},
   "source": [
    "**meaing of above code :**"
   ]
  },
  {
   "cell_type": "code",
   "execution_count": null,
   "metadata": {},
   "outputs": [],
   "source": []
  },
  {
   "cell_type": "markdown",
   "metadata": {},
   "source": [
    "---\n",
    "\n",
    "** REVISION**\n",
    "\n",
    "- 1) Understanding : Inheritance\n",
    "- 2) creating sub class: developer \n",
    "- 3) creating sub class: manager \n",
    "- 4) Understanting : Polymorphism \n",
    "- 5) creating class for dog and cat to understand polymorphism\n",
    "\n",
    "---"
   ]
  },
  {
   "cell_type": "markdown",
   "metadata": {},
   "source": [
    "---\n",
    "\n",
    "**HOMEWORK**\n",
    "- 1)\n",
    "\n",
    "---"
   ]
  },
  {
   "cell_type": "markdown",
   "metadata": {},
   "source": []
  }
 ],
 "metadata": {
  "kernelspec": {
   "display_name": "Python 3",
   "language": "python",
   "name": "python3"
  },
  "language_info": {
   "codemirror_mode": {
    "name": "ipython",
    "version": 3
   },
   "file_extension": ".py",
   "mimetype": "text/x-python",
   "name": "python",
   "nbconvert_exporter": "python",
   "pygments_lexer": "ipython3",
   "version": "3.9.1"
  }
 },
 "nbformat": 4,
 "nbformat_minor": 5
}
