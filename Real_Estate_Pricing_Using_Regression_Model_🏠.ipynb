{
  "metadata": {
    "kernelspec": {
      "language": "python",
      "display_name": "Python 3",
      "name": "python3"
    },
    "language_info": {
      "pygments_lexer": "ipython3",
      "nbconvert_exporter": "python",
      "version": "3.6.4",
      "file_extension": ".py",
      "codemirror_mode": {
        "name": "ipython",
        "version": 3
      },
      "name": "python",
      "mimetype": "text/x-python"
    },
    "colab": {
      "provenance": [],
      "include_colab_link": true
    }
  },
  "nbformat_minor": 0,
  "nbformat": 4,
  "cells": [
    {
      "cell_type": "markdown",
      "metadata": {
        "id": "view-in-github",
        "colab_type": "text"
      },
      "source": [
        "<a href=\"https://colab.research.google.com/github/radhakrishnan-omotec/avm-repository/blob/master/Real_Estate_Pricing_Using_Regression_Model_%F0%9F%8F%A0.ipynb\" target=\"_parent\"><img src=\"https://colab.research.google.com/assets/colab-badge.svg\" alt=\"Open In Colab\"/></a>"
      ]
    },
    {
      "cell_type": "markdown",
      "source": [
        "# <b>1 <span style='color:#a6acd7'>|</span> Introduction</b>\n",
        "![](https://images.pexels.com/photos/106399/pexels-photo-106399.jpeg?auto=compress&cs=tinysrgb&w=1260&h=750&dpr=1)\n",
        "\n",
        "### What Is Real Estate?\n",
        "Real estate is the land along with any permanent improvements attached to the land, whether natural or man-made—including water, trees, minerals, buildings, homes, fences, and bridges. Real estate is a form of real property. - [Investopedia](https://www.investopedia.com/terms/r/realestate.asp)\n",
        "\n",
        "### What to Expect\n",
        "In this notebook, I will be analyzing factors that affects house pricing by visualizing it using Plotly graphs. I'm also going to make a model that predict house prices base on its properties\n",
        "\n",
        "### Dataset\n",
        "This dataset contains Real Estate listings in the US broken by State and zip code.\n",
        "#### Columns Attributes\n",
        "The realtor-data.csv has 200k+ entries:\n",
        "* **status** - Housing Status (on sale or other option)\n",
        "* **price** - Price in USD\n",
        "* **bed** - Bedroom count\n",
        "* **bath** - Bathroom count\n",
        "* **acre_lot** - Acre lot\n",
        "* **full_address** - Full address\n",
        "* **street** - Street name\n",
        "* **city** - City name\n",
        "* **state** - State name\n",
        "* **zip_code** - Zip Code\n",
        "* **house_size** - House size in sqft (square feet)\n",
        "* **sold_date** - The date when the house is sold"
      ],
      "metadata": {
        "id": "hcuGDFtFYyeZ"
      }
    },
    {
      "cell_type": "markdown",
      "source": [
        "# <b>2 <span style='color:#a6acd7'>|</span> Data Preprocessing</b>\n",
        "### Importing Libraries"
      ],
      "metadata": {
        "id": "CfsrrWdWYyef"
      }
    },
    {
      "cell_type": "code",
      "source": [
        "import numpy as np\n",
        "import pandas as pd\n",
        "import matplotlib.pyplot as plt\n",
        "\n",
        "from sklearn.ensemble import GradientBoostingRegressor\n",
        "from catboost import CatBoostRegressor\n",
        "from sklearn.kernel_ridge import KernelRidge\n",
        "from xgboost.sklearn import XGBRegressor\n",
        "from lightgbm import LGBMRegressor\n",
        "from sklearn.linear_model import LinearRegression, Lasso, Ridge, BayesianRidge, SGDRegressor, ElasticNet\n",
        "from sklearn.tree import DecisionTreeRegressor\n",
        "from sklearn.svm import LinearSVR\n",
        "from sklearn.neighbors import KNeighborsRegressor\n",
        "from sklearn.ensemble import RandomForestRegressor\n",
        "\n",
        "from sklearn.model_selection import train_test_split\n",
        "from sklearn.preprocessing import LabelEncoder\n",
        "from sklearn.metrics import mean_absolute_error, mean_squared_error, r2_score\n",
        "from sklearn.model_selection import RepeatedKFold\n",
        "from sklearn.model_selection import RandomizedSearchCV"
      ],
      "metadata": {
        "execution": {
          "iopub.status.busy": "2022-06-16T14:07:13.37978Z",
          "iopub.execute_input": "2022-06-16T14:07:13.380217Z",
          "iopub.status.idle": "2022-06-16T14:07:15.75541Z",
          "shell.execute_reply.started": "2022-06-16T14:07:13.380118Z",
          "shell.execute_reply": "2022-06-16T14:07:15.75441Z"
        },
        "trusted": true,
        "id": "TZxtKBmjYyeg"
      },
      "execution_count": null,
      "outputs": []
    },
    {
      "cell_type": "markdown",
      "source": [
        "### Exploring the dataset"
      ],
      "metadata": {
        "id": "oE6sl3PYYyej"
      }
    },
    {
      "cell_type": "code",
      "source": [
        "df = pd.read_csv('../input/usa-real-estate-dataset/realtor-data.csv')\n",
        "df.head()"
      ],
      "metadata": {
        "execution": {
          "iopub.status.busy": "2022-06-16T14:07:15.756982Z",
          "iopub.execute_input": "2022-06-16T14:07:15.757398Z",
          "iopub.status.idle": "2022-06-16T14:07:16.476074Z",
          "shell.execute_reply.started": "2022-06-16T14:07:15.757365Z",
          "shell.execute_reply": "2022-06-16T14:07:16.475016Z"
        },
        "trusted": true,
        "id": "UL8e_D8XYyek"
      },
      "execution_count": null,
      "outputs": []
    },
    {
      "cell_type": "code",
      "source": [
        "df.info()"
      ],
      "metadata": {
        "execution": {
          "iopub.status.busy": "2022-06-16T14:07:16.477181Z",
          "iopub.execute_input": "2022-06-16T14:07:16.477486Z",
          "iopub.status.idle": "2022-06-16T14:07:16.627199Z",
          "shell.execute_reply.started": "2022-06-16T14:07:16.477458Z",
          "shell.execute_reply": "2022-06-16T14:07:16.626223Z"
        },
        "trusted": true,
        "id": "5QtmNX7YYyel"
      },
      "execution_count": null,
      "outputs": []
    },
    {
      "cell_type": "code",
      "source": [
        "df.shape"
      ],
      "metadata": {
        "execution": {
          "iopub.status.busy": "2022-06-16T14:07:16.629089Z",
          "iopub.execute_input": "2022-06-16T14:07:16.629429Z",
          "iopub.status.idle": "2022-06-16T14:07:16.636095Z",
          "shell.execute_reply.started": "2022-06-16T14:07:16.6294Z",
          "shell.execute_reply": "2022-06-16T14:07:16.635117Z"
        },
        "trusted": true,
        "id": "dJs2oHUQYyem"
      },
      "execution_count": null,
      "outputs": []
    },
    {
      "cell_type": "markdown",
      "source": [
        "Lets check if theres duplicate values in our data"
      ],
      "metadata": {
        "id": "3oU4oLjyYyen"
      }
    },
    {
      "cell_type": "code",
      "source": [
        "df.duplicated().sum()"
      ],
      "metadata": {
        "execution": {
          "iopub.status.busy": "2022-06-16T14:07:16.6378Z",
          "iopub.execute_input": "2022-06-16T14:07:16.638486Z",
          "iopub.status.idle": "2022-06-16T14:07:16.858982Z",
          "shell.execute_reply.started": "2022-06-16T14:07:16.63844Z",
          "shell.execute_reply": "2022-06-16T14:07:16.858108Z"
        },
        "trusted": true,
        "id": "wMNszwe8Yyen"
      },
      "execution_count": null,
      "outputs": []
    },
    {
      "cell_type": "markdown",
      "source": [
        "Oops thats alot of duplicate values! We have no choice but to drop those as it might cause overfitting on our data."
      ],
      "metadata": {
        "id": "FoJtWJ63Yyeo"
      }
    },
    {
      "cell_type": "code",
      "source": [
        "df.drop_duplicates(inplace=True)\n",
        "df.shape"
      ],
      "metadata": {
        "execution": {
          "iopub.status.busy": "2022-06-16T14:07:16.860293Z",
          "iopub.execute_input": "2022-06-16T14:07:16.860575Z",
          "iopub.status.idle": "2022-06-16T14:07:17.077042Z",
          "shell.execute_reply.started": "2022-06-16T14:07:16.860549Z",
          "shell.execute_reply": "2022-06-16T14:07:17.076122Z"
        },
        "trusted": true,
        "id": "c9hhpZNYYyeo"
      },
      "execution_count": null,
      "outputs": []
    },
    {
      "cell_type": "markdown",
      "source": [
        "While analyzing the data, I think it would be better just to drop sold_date, street and full address because those columns might not help on regression"
      ],
      "metadata": {
        "id": "7q_VIo2FYyeo"
      }
    },
    {
      "cell_type": "code",
      "source": [
        "df = df.drop(columns=['sold_date', 'street', 'full_address'])\n",
        "df.head()"
      ],
      "metadata": {
        "execution": {
          "iopub.status.busy": "2022-06-16T14:07:17.078119Z",
          "iopub.execute_input": "2022-06-16T14:07:17.07845Z",
          "iopub.status.idle": "2022-06-16T14:07:17.101245Z",
          "shell.execute_reply.started": "2022-06-16T14:07:17.078421Z",
          "shell.execute_reply": "2022-06-16T14:07:17.100274Z"
        },
        "trusted": true,
        "id": "UH_EcqE3Yyep"
      },
      "execution_count": null,
      "outputs": []
    },
    {
      "cell_type": "markdown",
      "source": [
        "Now lets check for missing values"
      ],
      "metadata": {
        "id": "cmE1CmyEYyep"
      }
    },
    {
      "cell_type": "code",
      "source": [
        "df.isnull().sum()"
      ],
      "metadata": {
        "execution": {
          "iopub.status.busy": "2022-06-16T14:07:17.102304Z",
          "iopub.execute_input": "2022-06-16T14:07:17.102607Z",
          "iopub.status.idle": "2022-06-16T14:07:17.117547Z",
          "shell.execute_reply.started": "2022-06-16T14:07:17.10258Z",
          "shell.execute_reply": "2022-06-16T14:07:17.116745Z"
        },
        "trusted": true,
        "id": "BRZvE7ruYyep"
      },
      "execution_count": null,
      "outputs": []
    },
    {
      "cell_type": "code",
      "source": [
        "df.dropna().shape"
      ],
      "metadata": {
        "execution": {
          "iopub.status.busy": "2022-06-16T14:07:17.11842Z",
          "iopub.execute_input": "2022-06-16T14:07:17.11878Z",
          "iopub.status.idle": "2022-06-16T14:07:17.137232Z",
          "shell.execute_reply.started": "2022-06-16T14:07:17.118751Z",
          "shell.execute_reply": "2022-06-16T14:07:17.136498Z"
        },
        "trusted": true,
        "id": "uXe2qqpcYyep"
      },
      "execution_count": null,
      "outputs": []
    },
    {
      "cell_type": "markdown",
      "source": [
        "Its not gonna be a great idea to just drop missing values considering that we had drop around 90% of our data because of duplicate values and if we drop missing values, our rows will just be 13062. The alternative solution that we can do is to impute the missing values on their median (if numerical value) and mode (if non-numerical value).\n",
        "\n",
        "But I think we should use the dataset that was dropped missing values on exploratory data analysis so that we can analyze real data"
      ],
      "metadata": {
        "id": "WYQVnb3bYyeq"
      }
    },
    {
      "cell_type": "code",
      "source": [
        "df_nonull = df.dropna()"
      ],
      "metadata": {
        "execution": {
          "iopub.status.busy": "2022-06-16T14:07:17.139169Z",
          "iopub.execute_input": "2022-06-16T14:07:17.139785Z",
          "iopub.status.idle": "2022-06-16T14:07:17.156024Z",
          "shell.execute_reply.started": "2022-06-16T14:07:17.139751Z",
          "shell.execute_reply": "2022-06-16T14:07:17.154921Z"
        },
        "trusted": true,
        "id": "yHYOIHEgYyeq"
      },
      "execution_count": null,
      "outputs": []
    },
    {
      "cell_type": "code",
      "source": [
        "df['bed'] = df['bed'].fillna(df['bed'].median())\n",
        "df['bath'] = df['bath'].fillna(df['bath'].median())\n",
        "df['acre_lot'] = df['acre_lot'].fillna(df['acre_lot'].median())\n",
        "df['city'] = df['city'].fillna(df['city'].mode()[0])\n",
        "df['zip_code'] = df['zip_code'].fillna(df['zip_code'].median())\n",
        "df['house_size'] = df['house_size'].fillna(df['house_size'].median())"
      ],
      "metadata": {
        "execution": {
          "iopub.status.busy": "2022-06-16T14:07:17.157246Z",
          "iopub.execute_input": "2022-06-16T14:07:17.157735Z",
          "iopub.status.idle": "2022-06-16T14:07:17.183744Z",
          "shell.execute_reply.started": "2022-06-16T14:07:17.157692Z",
          "shell.execute_reply": "2022-06-16T14:07:17.182856Z"
        },
        "trusted": true,
        "id": "luIoPqMNYyeq"
      },
      "execution_count": null,
      "outputs": []
    },
    {
      "cell_type": "markdown",
      "source": [
        "And lets also we need to change our categorical data into numerical data by using LabelEncoder"
      ],
      "metadata": {
        "id": "iRsiAONRYyeq"
      }
    },
    {
      "cell_type": "code",
      "source": [
        "from sklearn.preprocessing import LabelEncoder\n",
        "print('Categorical columns: ')\n",
        "for col in df.columns:\n",
        "    if df[col].dtype == 'object':\n",
        "        values = df[col].value_counts()\n",
        "        values = dict(values)\n",
        "\n",
        "        print(str(col))\n",
        "        label = LabelEncoder()\n",
        "        label = label.fit(df[col])\n",
        "        df[col] = label.transform(df[col].astype(str))\n",
        "\n",
        "        new_values = df[col].value_counts()\n",
        "        new_values = dict(new_values)\n",
        "\n",
        "        value_dict = {}\n",
        "        i=0\n",
        "        for key in values:\n",
        "            value_dict[key] = list(new_values)[i]\n",
        "            i+= 1\n",
        "        print(value_dict)"
      ],
      "metadata": {
        "execution": {
          "iopub.status.busy": "2022-06-16T14:07:17.185097Z",
          "iopub.execute_input": "2022-06-16T14:07:17.185461Z",
          "iopub.status.idle": "2022-06-16T14:07:17.245078Z",
          "shell.execute_reply.started": "2022-06-16T14:07:17.18543Z",
          "shell.execute_reply": "2022-06-16T14:07:17.244145Z"
        },
        "_kg_hide-output": true,
        "trusted": true,
        "id": "Ws7G8tHNYyeq"
      },
      "execution_count": null,
      "outputs": []
    },
    {
      "cell_type": "markdown",
      "source": [
        "# <b>3 <span style='color:#a6acd7'>|</span> Exploratory Data Analysis</b>\n",
        "\n",
        "Here we will use plotly for interactive data analysis. Also, we are using the dataset that we dropped missing values so that we would analyze real data."
      ],
      "metadata": {
        "id": "q5OeXDRFYyeq"
      }
    },
    {
      "cell_type": "code",
      "source": [
        "from plotly.offline import iplot, init_notebook_mode\n",
        "import plotly.express as px\n",
        "\n",
        "init_notebook_mode(connected=True)"
      ],
      "metadata": {
        "execution": {
          "iopub.status.busy": "2022-06-16T14:07:17.246688Z",
          "iopub.execute_input": "2022-06-16T14:07:17.24734Z",
          "iopub.status.idle": "2022-06-16T14:07:17.885065Z",
          "shell.execute_reply.started": "2022-06-16T14:07:17.247296Z",
          "shell.execute_reply": "2022-06-16T14:07:17.884197Z"
        },
        "trusted": true,
        "id": "qZiZj4kmYyer"
      },
      "execution_count": null,
      "outputs": []
    },
    {
      "cell_type": "markdown",
      "source": [
        "### Checking if number of bed, bath, and house size affects its price"
      ],
      "metadata": {
        "id": "CTM3F_yxYyer"
      }
    },
    {
      "cell_type": "markdown",
      "source": [
        "#### House size & Price"
      ],
      "metadata": {
        "id": "TKZtFaVXYyer"
      }
    },
    {
      "cell_type": "code",
      "source": [
        "fig = px.scatter(df_nonull, x=\"house_size\", y=\"price\", trendline=\"ols\", color='price', title='Total Square Feet and its Price')\n",
        "fig.show()"
      ],
      "metadata": {
        "execution": {
          "iopub.status.busy": "2022-06-16T14:07:17.886216Z",
          "iopub.execute_input": "2022-06-16T14:07:17.886917Z",
          "iopub.status.idle": "2022-06-16T14:07:20.02432Z",
          "shell.execute_reply.started": "2022-06-16T14:07:17.886887Z",
          "shell.execute_reply": "2022-06-16T14:07:20.022057Z"
        },
        "trusted": true,
        "id": "Dpzqk53_Yyer"
      },
      "execution_count": null,
      "outputs": []
    },
    {
      "cell_type": "markdown",
      "source": [
        "Looking at the graph above, it seems that theres a mistake here, I think it would be crazy if someone would sell a 1 million square feet house and just sell it for 8 million, so we need to remove that and also the 60 million house as its so high and its definetly an outlier"
      ],
      "metadata": {
        "id": "2n2gIOWYYyer"
      }
    },
    {
      "cell_type": "code",
      "source": [
        "df_nonull = df_nonull.sort_values(by='house_size', ascending=False)\n",
        "df_nonull = df_nonull.drop(10328)\n",
        "df = df.drop(10328)"
      ],
      "metadata": {
        "execution": {
          "iopub.status.busy": "2022-06-16T14:07:20.025347Z",
          "iopub.execute_input": "2022-06-16T14:07:20.026183Z",
          "iopub.status.idle": "2022-06-16T14:07:20.037724Z",
          "shell.execute_reply.started": "2022-06-16T14:07:20.026126Z",
          "shell.execute_reply": "2022-06-16T14:07:20.037056Z"
        },
        "trusted": true,
        "id": "60X-XoocYyer"
      },
      "execution_count": null,
      "outputs": []
    },
    {
      "cell_type": "code",
      "source": [
        "df_nonull = df_nonull.sort_values(by='price', ascending=False)\n",
        "df_nonull = df_nonull.drop(40599)\n",
        "df = df.drop(40599)"
      ],
      "metadata": {
        "execution": {
          "iopub.status.busy": "2022-06-16T14:07:20.038783Z",
          "iopub.execute_input": "2022-06-16T14:07:20.039095Z",
          "iopub.status.idle": "2022-06-16T14:07:20.053441Z",
          "shell.execute_reply.started": "2022-06-16T14:07:20.039065Z",
          "shell.execute_reply": "2022-06-16T14:07:20.052424Z"
        },
        "trusted": true,
        "id": "2eIecmsbYyes"
      },
      "execution_count": null,
      "outputs": []
    },
    {
      "cell_type": "code",
      "source": [
        "fig = px.scatter(df_nonull, x=\"house_size\", y=\"price\", trendline=\"ols\", color='price', title='Total Square Feet and its Price')\n",
        "fig.show()"
      ],
      "metadata": {
        "execution": {
          "iopub.status.busy": "2022-06-16T14:26:14.371898Z",
          "iopub.execute_input": "2022-06-16T14:26:14.372437Z",
          "iopub.status.idle": "2022-06-16T14:26:14.64064Z",
          "shell.execute_reply.started": "2022-06-16T14:26:14.372391Z",
          "shell.execute_reply": "2022-06-16T14:26:14.639247Z"
        },
        "trusted": true,
        "id": "2uwg08OaYyes"
      },
      "execution_count": null,
      "outputs": []
    },
    {
      "cell_type": "markdown",
      "source": [
        "#### Bed & Price"
      ],
      "metadata": {
        "id": "L6CPVjefYyes"
      }
    },
    {
      "cell_type": "code",
      "source": [
        "fig = px.scatter(df_nonull, x=\"bed\", y=\"price\", trendline=\"ols\", color='price', title='Number of Beds and its Price')\n",
        "fig.show()"
      ],
      "metadata": {
        "execution": {
          "iopub.status.busy": "2022-06-16T14:07:20.38599Z",
          "iopub.execute_input": "2022-06-16T14:07:20.386535Z",
          "iopub.status.idle": "2022-06-16T14:07:20.669278Z",
          "shell.execute_reply.started": "2022-06-16T14:07:20.3865Z",
          "shell.execute_reply": "2022-06-16T14:07:20.668211Z"
        },
        "trusted": true,
        "id": "aDBxkbd2Yyes"
      },
      "execution_count": null,
      "outputs": []
    },
    {
      "cell_type": "markdown",
      "source": [
        "#### Bath & Price"
      ],
      "metadata": {
        "id": "T-CEL_06Yyes"
      }
    },
    {
      "cell_type": "code",
      "source": [
        "fig = px.scatter(df_nonull, x=\"bath\", y=\"price\", trendline=\"ols\", color='price', title='Number of Baths and its Price')\n",
        "fig.show()"
      ],
      "metadata": {
        "execution": {
          "iopub.status.busy": "2022-06-16T14:07:20.672104Z",
          "iopub.execute_input": "2022-06-16T14:07:20.67272Z",
          "iopub.status.idle": "2022-06-16T14:07:21.060988Z",
          "shell.execute_reply.started": "2022-06-16T14:07:20.672677Z",
          "shell.execute_reply": "2022-06-16T14:07:21.059904Z"
        },
        "trusted": true,
        "id": "KxD8legeYyes"
      },
      "execution_count": null,
      "outputs": []
    },
    {
      "cell_type": "markdown",
      "source": [
        "By analyzing the graphs above, we can say yes. Yes, the number of beds, baths, and house size does affects its price. All of them has a positive correlation towards price but its a weak correlations.\n"
      ],
      "metadata": {
        "id": "pmgXagAnYyes"
      }
    },
    {
      "cell_type": "markdown",
      "source": [
        "\n",
        "### Now lets rank which state has the highest median house prices"
      ],
      "metadata": {
        "id": "xd3LsQCBYyes"
      }
    },
    {
      "cell_type": "code",
      "source": [
        "order = df_nonull.groupby(by=['state'])['price'].median().sort_values(ascending=False).index\n",
        "\n",
        "fig = px.box(df_nonull, x=\"state\", y=\"price\", points='all', color='state', title='Highest City House Prizes Ranking by Median')\n",
        "fig.update_xaxes(categoryorder='array', categoryarray= list(order))\n",
        "fig.show()"
      ],
      "metadata": {
        "execution": {
          "iopub.status.busy": "2022-06-16T14:07:21.062373Z",
          "iopub.execute_input": "2022-06-16T14:07:21.062723Z",
          "iopub.status.idle": "2022-06-16T14:07:21.331214Z",
          "shell.execute_reply.started": "2022-06-16T14:07:21.062685Z",
          "shell.execute_reply": "2022-06-16T14:07:21.330298Z"
        },
        "trusted": true,
        "id": "4I0nIphHYyet"
      },
      "execution_count": null,
      "outputs": []
    },
    {
      "cell_type": "markdown",
      "source": [
        "### Heatmap"
      ],
      "metadata": {
        "id": "TB9viJxeYyet"
      }
    },
    {
      "cell_type": "code",
      "source": [
        "fig = px.imshow(df_nonull.corr(), title='Heatmap of numerical values of the data')\n",
        "fig.show()"
      ],
      "metadata": {
        "execution": {
          "iopub.status.busy": "2022-06-16T14:07:21.33245Z",
          "iopub.execute_input": "2022-06-16T14:07:21.333224Z",
          "iopub.status.idle": "2022-06-16T14:07:21.40285Z",
          "shell.execute_reply.started": "2022-06-16T14:07:21.333168Z",
          "shell.execute_reply": "2022-06-16T14:07:21.401846Z"
        },
        "trusted": true,
        "id": "UhskyS6rYyet"
      },
      "execution_count": null,
      "outputs": []
    },
    {
      "cell_type": "markdown",
      "source": [
        "Oh it seems that our price columns has weak correlation towards to bed but has moderate correlations to number of baths and house size which is great, it might help us to get a decent r2 score"
      ],
      "metadata": {
        "id": "eYo_Cub2Yye2"
      }
    },
    {
      "cell_type": "markdown",
      "source": [
        "# <b>4 <span style='color:#a6acd7'>|</span> Preparing the Data for Modelling</b>\n",
        "\n",
        "### Lets standarize the data"
      ],
      "metadata": {
        "id": "7cCK3NjUYye2"
      }
    },
    {
      "cell_type": "code",
      "source": [
        "df = (df-df.mean())/df.std()"
      ],
      "metadata": {
        "execution": {
          "iopub.status.busy": "2022-06-16T14:07:21.40396Z",
          "iopub.execute_input": "2022-06-16T14:07:21.404304Z",
          "iopub.status.idle": "2022-06-16T14:07:21.417432Z",
          "shell.execute_reply.started": "2022-06-16T14:07:21.404275Z",
          "shell.execute_reply": "2022-06-16T14:07:21.416486Z"
        },
        "trusted": true,
        "id": "JwVzRiIFYye2"
      },
      "execution_count": null,
      "outputs": []
    },
    {
      "cell_type": "markdown",
      "source": [
        "### Separating the data"
      ],
      "metadata": {
        "id": "jKcUbCfAYye3"
      }
    },
    {
      "cell_type": "code",
      "source": [
        "X = df.drop(columns='price')\n",
        "y = df['price']\n",
        "\n",
        "X_train, X_test, y_train, y_test = train_test_split(X, y, test_size=0.2)"
      ],
      "metadata": {
        "execution": {
          "iopub.status.busy": "2022-06-16T14:07:21.418435Z",
          "iopub.execute_input": "2022-06-16T14:07:21.418791Z",
          "iopub.status.idle": "2022-06-16T14:07:21.429263Z",
          "shell.execute_reply.started": "2022-06-16T14:07:21.418762Z",
          "shell.execute_reply": "2022-06-16T14:07:21.428339Z"
        },
        "trusted": true,
        "id": "IRXPad_sYye3"
      },
      "execution_count": null,
      "outputs": []
    },
    {
      "cell_type": "markdown",
      "source": [
        "# <b>5 <span style='color:#a6acd7'>|</span> Training the Model</b>\n",
        "### Trying out different regression models\n",
        "To see what model gets the highest score and we will use it on training"
      ],
      "metadata": {
        "id": "WoJ0TOW5Yye3"
      }
    },
    {
      "cell_type": "code",
      "source": [
        "models = {}\n",
        "def train_validate_predict(regressor, x_train, y_train, x_test, y_test, index):\n",
        "    model = regressor\n",
        "    model.fit(x_train, y_train)\n",
        "\n",
        "    y_pred = model.predict(x_test)\n",
        "\n",
        "    r2 = r2_score(y_test, y_pred)\n",
        "    models[index] = r2"
      ],
      "metadata": {
        "execution": {
          "iopub.status.busy": "2022-06-16T14:07:21.430263Z",
          "iopub.execute_input": "2022-06-16T14:07:21.431044Z",
          "iopub.status.idle": "2022-06-16T14:07:21.443822Z",
          "shell.execute_reply.started": "2022-06-16T14:07:21.431012Z",
          "shell.execute_reply": "2022-06-16T14:07:21.443055Z"
        },
        "trusted": true,
        "id": "KC-8Y97GYye3"
      },
      "execution_count": null,
      "outputs": []
    },
    {
      "cell_type": "code",
      "source": [
        "model_list = [LinearRegression, Lasso, Ridge, BayesianRidge, DecisionTreeRegressor, LinearSVR, KNeighborsRegressor,\n",
        "              RandomForestRegressor, GradientBoostingRegressor, ElasticNet, SGDRegressor, CatBoostRegressor, XGBRegressor,\n",
        "             LGBMRegressor]\n",
        "model_names = ['Linear Regression', 'Lasso', 'Ridge', 'Bayesian Ridge', 'Decision Tree Regressor', 'Linear SVR',\n",
        "               'KNeighbors Regressor', 'Random Forest Regressor', 'Gradient Boosting Regressor', 'Elastic Net', 'SGD Regressor',\n",
        "              'Cat Boost Regressor', 'XGB Regressor', 'LGBM Regressor']\n",
        "\n",
        "index = 0\n",
        "for regressor in model_list:\n",
        "    train_validate_predict(regressor(), X_train, y_train, X_test, y_test, model_names[index])\n",
        "    index+=1"
      ],
      "metadata": {
        "execution": {
          "iopub.status.busy": "2022-06-16T14:07:21.444825Z",
          "iopub.execute_input": "2022-06-16T14:07:21.445232Z",
          "iopub.status.idle": "2022-06-16T14:07:36.001698Z",
          "shell.execute_reply.started": "2022-06-16T14:07:21.445191Z",
          "shell.execute_reply": "2022-06-16T14:07:36.000848Z"
        },
        "_kg_hide-output": true,
        "trusted": true,
        "id": "_AdtPqCxYye3"
      },
      "execution_count": null,
      "outputs": []
    },
    {
      "cell_type": "code",
      "source": [
        "models"
      ],
      "metadata": {
        "execution": {
          "iopub.status.busy": "2022-06-16T14:07:36.003279Z",
          "iopub.execute_input": "2022-06-16T14:07:36.006869Z",
          "iopub.status.idle": "2022-06-16T14:07:36.017739Z",
          "shell.execute_reply.started": "2022-06-16T14:07:36.006822Z",
          "shell.execute_reply": "2022-06-16T14:07:36.016829Z"
        },
        "trusted": true,
        "id": "XPpgJeTnYye3"
      },
      "execution_count": null,
      "outputs": []
    },
    {
      "cell_type": "markdown",
      "source": [
        "From the scores above the highest r2 score was XGB Regressor followed by Cat Boost Regressor. We got around 0.65 r2 score or kinda like 65% which is not that good."
      ],
      "metadata": {
        "id": "6auRmP72Yye4"
      }
    },
    {
      "cell_type": "markdown",
      "source": [
        "# <b>6 <span style='color:#a6acd7'>|</span> Evaluating the Model</b>\n",
        "\n",
        "Lets use XGB Regressor to train our model"
      ],
      "metadata": {
        "id": "d4wKIXGfYye4"
      }
    },
    {
      "cell_type": "code",
      "source": [
        "model = XGBRegressor()\n",
        "model.fit(X_train, y_train)\n",
        "\n",
        "y_pred = model.predict(X_test)"
      ],
      "metadata": {
        "execution": {
          "iopub.status.busy": "2022-06-16T14:09:56.449394Z",
          "iopub.execute_input": "2022-06-16T14:09:56.449813Z",
          "iopub.status.idle": "2022-06-16T14:09:57.641775Z",
          "shell.execute_reply.started": "2022-06-16T14:09:56.449783Z",
          "shell.execute_reply": "2022-06-16T14:09:57.640992Z"
        },
        "trusted": true,
        "id": "z7tBx2gdYye4"
      },
      "execution_count": null,
      "outputs": []
    },
    {
      "cell_type": "markdown",
      "source": [
        "### Evaluating"
      ],
      "metadata": {
        "id": "VQ9f1c0SYye4"
      }
    },
    {
      "cell_type": "code",
      "source": [
        "print('MAE: ', mean_absolute_error(y_test, y_pred))\n",
        "print('MSE: ', mean_squared_error(y_test, y_pred))\n",
        "print('r2: ', r2_score(y_test, y_pred))"
      ],
      "metadata": {
        "execution": {
          "iopub.status.busy": "2022-06-16T14:10:03.026471Z",
          "iopub.execute_input": "2022-06-16T14:10:03.027326Z",
          "iopub.status.idle": "2022-06-16T14:10:03.036802Z",
          "shell.execute_reply.started": "2022-06-16T14:10:03.02728Z",
          "shell.execute_reply": "2022-06-16T14:10:03.035818Z"
        },
        "trusted": true,
        "id": "2be6Oc6bYye4"
      },
      "execution_count": null,
      "outputs": []
    },
    {
      "cell_type": "code",
      "source": [
        "preds = pd.DataFrame({'y_pred': y_pred, 'y_test':y_test})\n",
        "preds = preds.sort_values(by='y_test')\n",
        "preds = preds.reset_index()"
      ],
      "metadata": {
        "execution": {
          "iopub.status.busy": "2022-06-16T14:10:21.477776Z",
          "iopub.execute_input": "2022-06-16T14:10:21.479054Z",
          "iopub.status.idle": "2022-06-16T14:10:21.489322Z",
          "shell.execute_reply.started": "2022-06-16T14:10:21.478987Z",
          "shell.execute_reply": "2022-06-16T14:10:21.48758Z"
        },
        "trusted": true,
        "id": "xv79jODRYye4"
      },
      "execution_count": null,
      "outputs": []
    },
    {
      "cell_type": "code",
      "source": [
        "fig = px.line(preds, x=preds.index, y=preds.columns[1::], title='Predictions vs Actual Value')\n",
        "fig.show()"
      ],
      "metadata": {
        "execution": {
          "iopub.status.busy": "2022-06-16T14:10:21.898681Z",
          "iopub.execute_input": "2022-06-16T14:10:21.899153Z",
          "iopub.status.idle": "2022-06-16T14:10:22.044212Z",
          "shell.execute_reply.started": "2022-06-16T14:10:21.899113Z",
          "shell.execute_reply": "2022-06-16T14:10:22.043126Z"
        },
        "trusted": true,
        "id": "obU8zjH1Yye4"
      },
      "execution_count": null,
      "outputs": []
    },
    {
      "cell_type": "markdown",
      "source": [
        "Oh it predicts not so great especially when it comes to the high price houses. Its not that bad and maybe by doing more feature engineering and hyper parameter tuning, the model would be more reliable and accurate."
      ],
      "metadata": {
        "id": "bI342e78Yye5"
      }
    }
  ]
}