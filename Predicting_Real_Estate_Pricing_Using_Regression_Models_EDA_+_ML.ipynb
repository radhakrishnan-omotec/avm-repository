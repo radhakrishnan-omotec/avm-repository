{
  "metadata": {
    "kernelspec": {
      "language": "python",
      "display_name": "Python 3",
      "name": "python3"
    },
    "language_info": {
      "name": "python",
      "version": "3.10.10",
      "mimetype": "text/x-python",
      "codemirror_mode": {
        "name": "ipython",
        "version": 3
      },
      "pygments_lexer": "ipython3",
      "nbconvert_exporter": "python",
      "file_extension": ".py"
    },
    "kaggle": {
      "accelerator": "none",
      "dataSources": [
        {
          "sourceId": 7128529,
          "sourceType": "datasetVersion",
          "datasetId": 3202774
        }
      ],
      "dockerImageVersionId": 30474,
      "isInternetEnabled": false,
      "language": "python",
      "sourceType": "notebook",
      "isGpuEnabled": false
    },
    "colab": {
      "provenance": [],
      "include_colab_link": true
    }
  },
  "nbformat_minor": 0,
  "nbformat": 4,
  "cells": [
    {
      "cell_type": "markdown",
      "metadata": {
        "id": "view-in-github",
        "colab_type": "text"
      },
      "source": [
        "<a href=\"https://colab.research.google.com/github/radhakrishnan-omotec/avm-repository/blob/master/Predicting_Real_Estate_Pricing_Using_Regression_Models_EDA_%2B_ML.ipynb\" target=\"_parent\"><img src=\"https://colab.research.google.com/assets/colab-badge.svg\" alt=\"Open In Colab\"/></a>"
      ]
    },
    {
      "source": [
        "# IMPORTANT: RUN THIS CELL IN ORDER TO IMPORT YOUR KAGGLE DATA SOURCES,\n",
        "# THEN FEEL FREE TO DELETE THIS CELL.\n",
        "# NOTE: THIS NOTEBOOK ENVIRONMENT DIFFERS FROM KAGGLE'S PYTHON\n",
        "# ENVIRONMENT SO THERE MAY BE MISSING LIBRARIES USED BY YOUR\n",
        "# NOTEBOOK.\n",
        "import kagglehub\n",
        "ahmedshahriarsakib_usa_real_estate_dataset_path = kagglehub.dataset_download('ahmedshahriarsakib/usa-real-estate-dataset')\n",
        "\n",
        "print('Data source import complete.')\n"
      ],
      "metadata": {
        "id": "R2_9cWUidR3q"
      },
      "cell_type": "code",
      "outputs": [],
      "execution_count": null
    },
    {
      "cell_type": "code",
      "source": [
        "# This Python 3 environment comes with many helpful analytics libraries installed\n",
        "# It is defined by the kaggle/python Docker image: https://github.com/kaggle/docker-python\n",
        "# For example, here's several helpful packages to load\n",
        "\n",
        "import numpy as np # linear algebra\n",
        "import pandas as pd # data processing, CSV file I/O (e.g. pd.read_csv)\n",
        "import matplotlib.pyplot as plt\n",
        "import seaborn as sns\n",
        "import plotly.express as px\n",
        "import plotly.graph_objects as go\n",
        "# Input data files are available in the read-only \"../input/\" directory\n",
        "# For example, running this (by clicking run or pressing Shift+Enter) will list all files under the input directory\n",
        "\n",
        "import os\n",
        "for dirname, _, filenames in os.walk('/kaggle/input'):\n",
        "    for filename in filenames:\n",
        "        print(os.path.join(dirname, filename))\n",
        "\n",
        "# You can write up to 20GB to the current directory (/kaggle/working/) that gets preserved as output when you create a version using \"Save & Run All\"\n",
        "# You can also write temporary files to /kaggle/temp/, but they won't be saved outside of the current session"
      ],
      "metadata": {
        "_uuid": "8f2839f25d086af736a60e9eeb907d3b93b6e0e5",
        "_cell_guid": "b1076dfc-b9ad-4769-8c92-a6c4dae69d19",
        "execution": {
          "iopub.status.busy": "2023-12-04T19:01:40.261409Z",
          "iopub.execute_input": "2023-12-04T19:01:40.261901Z",
          "iopub.status.idle": "2023-12-04T19:01:40.279387Z",
          "shell.execute_reply.started": "2023-12-04T19:01:40.261856Z",
          "shell.execute_reply": "2023-12-04T19:01:40.278157Z"
        },
        "trusted": true,
        "id": "u-Js4zO5dR3r"
      },
      "execution_count": null,
      "outputs": []
    },
    {
      "cell_type": "markdown",
      "source": [
        "**DATA UNDERSTANDING**"
      ],
      "metadata": {
        "id": "F4PIaRaidR3s"
      }
    },
    {
      "cell_type": "code",
      "source": [
        "df = pd.read_csv('/kaggle/input/usa-real-estate-dataset/realtor-data.zip.csv')\n",
        "df.head(10)"
      ],
      "metadata": {
        "execution": {
          "iopub.status.busy": "2023-12-04T19:01:40.281692Z",
          "iopub.execute_input": "2023-12-04T19:01:40.282542Z",
          "iopub.status.idle": "2023-12-04T19:01:42.187551Z",
          "shell.execute_reply.started": "2023-12-04T19:01:40.282497Z",
          "shell.execute_reply": "2023-12-04T19:01:42.186203Z"
        },
        "trusted": true,
        "id": "CFquhp53dR3s"
      },
      "execution_count": null,
      "outputs": []
    },
    {
      "cell_type": "code",
      "source": [
        "df.shape"
      ],
      "metadata": {
        "execution": {
          "iopub.status.busy": "2023-12-04T19:01:42.189195Z",
          "iopub.execute_input": "2023-12-04T19:01:42.189642Z",
          "iopub.status.idle": "2023-12-04T19:01:42.197069Z",
          "shell.execute_reply.started": "2023-12-04T19:01:42.189599Z",
          "shell.execute_reply": "2023-12-04T19:01:42.196176Z"
        },
        "trusted": true,
        "id": "w0wrAracdR3s"
      },
      "execution_count": null,
      "outputs": []
    },
    {
      "cell_type": "code",
      "source": [
        "df.info()"
      ],
      "metadata": {
        "execution": {
          "iopub.status.busy": "2023-12-04T19:01:42.198929Z",
          "iopub.execute_input": "2023-12-04T19:01:42.19934Z",
          "iopub.status.idle": "2023-12-04T19:01:43.566934Z",
          "shell.execute_reply.started": "2023-12-04T19:01:42.19927Z",
          "shell.execute_reply": "2023-12-04T19:01:43.565791Z"
        },
        "trusted": true,
        "id": "5-reNT0PdR3t"
      },
      "execution_count": null,
      "outputs": []
    },
    {
      "cell_type": "code",
      "source": [
        "df.describe()"
      ],
      "metadata": {
        "execution": {
          "iopub.status.busy": "2023-12-04T19:01:43.570135Z",
          "iopub.execute_input": "2023-12-04T19:01:43.570469Z",
          "iopub.status.idle": "2023-12-04T19:01:43.993816Z",
          "shell.execute_reply.started": "2023-12-04T19:01:43.570441Z",
          "shell.execute_reply": "2023-12-04T19:01:43.992731Z"
        },
        "trusted": true,
        "id": "W85tDI_PdR3t"
      },
      "execution_count": null,
      "outputs": []
    },
    {
      "cell_type": "code",
      "source": [
        "df.describe(include = 'object')"
      ],
      "metadata": {
        "execution": {
          "iopub.status.busy": "2023-12-04T19:01:43.995219Z",
          "iopub.execute_input": "2023-12-04T19:01:43.99554Z",
          "iopub.status.idle": "2023-12-04T19:01:45.241579Z",
          "shell.execute_reply.started": "2023-12-04T19:01:43.995513Z",
          "shell.execute_reply": "2023-12-04T19:01:45.240417Z"
        },
        "trusted": true,
        "id": "ITOkglO1dR3t"
      },
      "execution_count": null,
      "outputs": []
    },
    {
      "cell_type": "markdown",
      "source": [
        "**DATA PREPROCESSING**"
      ],
      "metadata": {
        "id": "X2R5_m6NdR3t"
      }
    },
    {
      "cell_type": "code",
      "source": [
        "df.duplicated().sum()"
      ],
      "metadata": {
        "execution": {
          "iopub.status.busy": "2023-12-04T19:01:45.243293Z",
          "iopub.execute_input": "2023-12-04T19:01:45.243739Z",
          "iopub.status.idle": "2023-12-04T19:01:46.170982Z",
          "shell.execute_reply.started": "2023-12-04T19:01:45.243699Z",
          "shell.execute_reply": "2023-12-04T19:01:46.170119Z"
        },
        "trusted": true,
        "id": "QsOLrWKRdR3t"
      },
      "execution_count": null,
      "outputs": []
    },
    {
      "cell_type": "code",
      "source": [
        "df.drop_duplicates(inplace=True)"
      ],
      "metadata": {
        "execution": {
          "iopub.status.busy": "2023-12-04T19:01:46.172079Z",
          "iopub.execute_input": "2023-12-04T19:01:46.172419Z",
          "iopub.status.idle": "2023-12-04T19:01:47.140542Z",
          "shell.execute_reply.started": "2023-12-04T19:01:46.172389Z",
          "shell.execute_reply": "2023-12-04T19:01:47.139197Z"
        },
        "trusted": true,
        "id": "XpgVqAsjdR3t"
      },
      "execution_count": null,
      "outputs": []
    },
    {
      "cell_type": "code",
      "source": [
        "total_missing = df.isna().sum()*100/len(df)\n",
        "print('Percentage Missing Value %')\n",
        "total_missing"
      ],
      "metadata": {
        "execution": {
          "iopub.status.busy": "2023-12-04T19:01:47.142143Z",
          "iopub.execute_input": "2023-12-04T19:01:47.142541Z",
          "iopub.status.idle": "2023-12-04T19:01:47.307563Z",
          "shell.execute_reply.started": "2023-12-04T19:01:47.142506Z",
          "shell.execute_reply": "2023-12-04T19:01:47.306473Z"
        },
        "trusted": true,
        "id": "XqwFCpOudR3t"
      },
      "execution_count": null,
      "outputs": []
    },
    {
      "cell_type": "code",
      "source": [
        "# Mode imputation to handle missing value\n",
        "df['bed'].fillna(df['bed'].mode()[0], inplace=True)\n",
        "df['bath'].fillna(df['bath'].mode()[0], inplace=True)\n",
        "df['acre_lot'].fillna(df['acre_lot'].mode()[0], inplace=True)\n",
        "df['house_size'].fillna(df['house_size'].mode()[0], inplace=True)"
      ],
      "metadata": {
        "execution": {
          "iopub.status.busy": "2023-12-04T19:01:47.309067Z",
          "iopub.execute_input": "2023-12-04T19:01:47.309461Z",
          "iopub.status.idle": "2023-12-04T19:01:47.331444Z",
          "shell.execute_reply.started": "2023-12-04T19:01:47.30943Z",
          "shell.execute_reply": "2023-12-04T19:01:47.330215Z"
        },
        "trusted": true,
        "id": "liBpw__rdR3u"
      },
      "execution_count": null,
      "outputs": []
    },
    {
      "cell_type": "code",
      "source": [
        "df = df.dropna(subset=['zip_code','city', 'price'])\n",
        "df = df.drop('prev_sold_date', axis=1)"
      ],
      "metadata": {
        "execution": {
          "iopub.status.busy": "2023-12-04T19:01:47.333282Z",
          "iopub.execute_input": "2023-12-04T19:01:47.333654Z",
          "iopub.status.idle": "2023-12-04T19:01:47.408436Z",
          "shell.execute_reply.started": "2023-12-04T19:01:47.333625Z",
          "shell.execute_reply": "2023-12-04T19:01:47.407291Z"
        },
        "trusted": true,
        "id": "GtTb51zOdR3u"
      },
      "execution_count": null,
      "outputs": []
    },
    {
      "cell_type": "code",
      "source": [
        "df.info()"
      ],
      "metadata": {
        "execution": {
          "iopub.status.busy": "2023-12-04T19:01:47.410139Z",
          "iopub.execute_input": "2023-12-04T19:01:47.410494Z",
          "iopub.status.idle": "2023-12-04T19:01:47.54102Z",
          "shell.execute_reply.started": "2023-12-04T19:01:47.410463Z",
          "shell.execute_reply": "2023-12-04T19:01:47.539892Z"
        },
        "trusted": true,
        "id": "1cqu2wCndR3u"
      },
      "execution_count": null,
      "outputs": []
    },
    {
      "cell_type": "code",
      "source": [
        "df.isnull().sum()"
      ],
      "metadata": {
        "execution": {
          "iopub.status.busy": "2023-12-04T19:01:47.542674Z",
          "iopub.execute_input": "2023-12-04T19:01:47.543321Z",
          "iopub.status.idle": "2023-12-04T19:01:47.669358Z",
          "shell.execute_reply.started": "2023-12-04T19:01:47.543289Z",
          "shell.execute_reply": "2023-12-04T19:01:47.668093Z"
        },
        "trusted": true,
        "id": "QM4y43IwdR3u"
      },
      "execution_count": null,
      "outputs": []
    },
    {
      "cell_type": "code",
      "source": [
        "column_num = ['bed','bath','acre_lot','house_size','price']\n",
        "plt.boxplot(df[column_num])\n",
        "plt.xticks([1, 2, 3, 4, 5], column_num)\n",
        "plt.title('Outlier Before Remove')\n",
        "plt.show()\n",
        "print(f'Total Row With Outlier: {df.shape[0]}')"
      ],
      "metadata": {
        "execution": {
          "iopub.status.busy": "2023-12-04T19:01:47.674765Z",
          "iopub.execute_input": "2023-12-04T19:01:47.675145Z",
          "iopub.status.idle": "2023-12-04T19:01:47.971886Z",
          "shell.execute_reply.started": "2023-12-04T19:01:47.675113Z",
          "shell.execute_reply": "2023-12-04T19:01:47.970738Z"
        },
        "trusted": true,
        "id": "52VNTzbpdR3u"
      },
      "execution_count": null,
      "outputs": []
    },
    {
      "cell_type": "code",
      "source": [
        "Q1 = df[column_num].quantile(0.25)\n",
        "Q3 = df[column_num].quantile(0.75)\n",
        "IQR = Q3 - Q1\n",
        "\n",
        "df = df[~((df[column_num] < (Q1 - 1.5 * IQR)) | (df[column_num] > (Q3 + 1.5 * IQR))).any(axis=1)]"
      ],
      "metadata": {
        "execution": {
          "iopub.status.busy": "2023-12-04T19:01:47.973389Z",
          "iopub.execute_input": "2023-12-04T19:01:47.973746Z",
          "iopub.status.idle": "2023-12-04T19:01:48.030663Z",
          "shell.execute_reply.started": "2023-12-04T19:01:47.973715Z",
          "shell.execute_reply": "2023-12-04T19:01:48.029527Z"
        },
        "trusted": true,
        "id": "zjuWTG_ndR3u"
      },
      "execution_count": null,
      "outputs": []
    },
    {
      "cell_type": "code",
      "source": [
        "column_num = ['bed','bath','acre_lot','house_size','price']\n",
        "plt.boxplot(df[column_num])\n",
        "plt.xticks([1, 2, 3, 4, 5], column_num)\n",
        "plt.title('Outlier After Remove')\n",
        "plt.show()\n",
        "print(f'Total Row Without Outlier: {df.shape[0]}')"
      ],
      "metadata": {
        "execution": {
          "iopub.status.busy": "2023-12-04T19:01:48.03226Z",
          "iopub.execute_input": "2023-12-04T19:01:48.033074Z",
          "iopub.status.idle": "2023-12-04T19:01:48.309673Z",
          "shell.execute_reply.started": "2023-12-04T19:01:48.033031Z",
          "shell.execute_reply": "2023-12-04T19:01:48.308549Z"
        },
        "trusted": true,
        "id": "kE3me0ArdR3u"
      },
      "execution_count": null,
      "outputs": []
    },
    {
      "cell_type": "code",
      "source": [
        "df.describe()"
      ],
      "metadata": {
        "execution": {
          "iopub.status.busy": "2023-12-04T19:01:48.311009Z",
          "iopub.execute_input": "2023-12-04T19:01:48.311811Z",
          "iopub.status.idle": "2023-12-04T19:01:48.363146Z",
          "shell.execute_reply.started": "2023-12-04T19:01:48.311779Z",
          "shell.execute_reply": "2023-12-04T19:01:48.361474Z"
        },
        "trusted": true,
        "id": "RIM2WKUfdR3u"
      },
      "execution_count": null,
      "outputs": []
    },
    {
      "cell_type": "markdown",
      "source": [
        "**EXPLORATORY DATA ANALYSIS**"
      ],
      "metadata": {
        "id": "hQTtSpaUdR3u"
      }
    },
    {
      "cell_type": "code",
      "source": [
        "sns.clustermap(\n",
        "    df.corr(),\n",
        "    annot=True,\n",
        "    cmap='mako',\n",
        "    figsize=(8, 8)\n",
        ")\n",
        "plt.show"
      ],
      "metadata": {
        "execution": {
          "iopub.status.busy": "2023-12-04T19:01:48.365355Z",
          "iopub.execute_input": "2023-12-04T19:01:48.36617Z",
          "iopub.status.idle": "2023-12-04T19:01:48.960338Z",
          "shell.execute_reply.started": "2023-12-04T19:01:48.366125Z",
          "shell.execute_reply": "2023-12-04T19:01:48.959305Z"
        },
        "trusted": true,
        "id": "5MxhPwrkdR3u"
      },
      "execution_count": null,
      "outputs": []
    },
    {
      "cell_type": "markdown",
      "source": [
        "**DISTRIBUTION BY BED**"
      ],
      "metadata": {
        "id": "h3_dPmNKdR3u"
      }
    },
    {
      "cell_type": "code",
      "source": [
        "plt.figure(figsize=(10,10))\n",
        "ax = sns.countplot(data=df, x='bed')\n",
        "for i in ax.containers:\n",
        "  ax.bar_label(i,)\n",
        "plt.title('Distribution of Bed', fontsize=18)\n",
        "plt.show()"
      ],
      "metadata": {
        "execution": {
          "iopub.status.busy": "2023-12-04T19:01:48.961667Z",
          "iopub.execute_input": "2023-12-04T19:01:48.962054Z",
          "iopub.status.idle": "2023-12-04T19:01:49.251883Z",
          "shell.execute_reply.started": "2023-12-04T19:01:48.962024Z",
          "shell.execute_reply": "2023-12-04T19:01:49.250687Z"
        },
        "trusted": true,
        "id": "UWB07iZYdR3v"
      },
      "execution_count": null,
      "outputs": []
    },
    {
      "cell_type": "markdown",
      "source": [
        "**DISTRIBUTION BY BATH**"
      ],
      "metadata": {
        "id": "C7IyfoKddR3v"
      }
    },
    {
      "cell_type": "code",
      "source": [
        "plt.figure(figsize=(10,10))\n",
        "ax = sns.countplot(data=df, x='bath')\n",
        "for i in ax.containers:\n",
        "  ax.bar_label(i,)\n",
        "plt.title('Distribution of Bath', fontsize=18)\n",
        "plt.show()"
      ],
      "metadata": {
        "execution": {
          "iopub.status.busy": "2023-12-04T19:01:49.253692Z",
          "iopub.execute_input": "2023-12-04T19:01:49.254367Z",
          "iopub.status.idle": "2023-12-04T19:01:49.508673Z",
          "shell.execute_reply.started": "2023-12-04T19:01:49.254336Z",
          "shell.execute_reply": "2023-12-04T19:01:49.507526Z"
        },
        "trusted": true,
        "id": "2ccHa9qFdR3v"
      },
      "execution_count": null,
      "outputs": []
    },
    {
      "cell_type": "markdown",
      "source": [
        "**DISTRIBUTION OF BED AND BATH**"
      ],
      "metadata": {
        "id": "QOUWLspNdR3v"
      }
    },
    {
      "cell_type": "code",
      "source": [
        "plt.subplots(figsize=(10,10))\n",
        "plt.xticks(rotation=90)\n",
        "sns.stripplot(y='bath', x='bed', data=df, marker='D', alpha=0.2)\n",
        "plt.title('Distribution of Bed depending on the Bath',fontsize = 20)\n",
        "plt.show()"
      ],
      "metadata": {
        "execution": {
          "iopub.status.busy": "2023-12-04T19:01:49.510181Z",
          "iopub.execute_input": "2023-12-04T19:01:49.511079Z",
          "iopub.status.idle": "2023-12-04T19:01:50.140566Z",
          "shell.execute_reply.started": "2023-12-04T19:01:49.511025Z",
          "shell.execute_reply": "2023-12-04T19:01:50.139446Z"
        },
        "trusted": true,
        "id": "_PjHwlx6dR3v"
      },
      "execution_count": null,
      "outputs": []
    },
    {
      "cell_type": "code",
      "source": [
        "df.groupby('bed', as_index=False).agg({'bath' : 'mean'}).sort_values('bath', ascending=False)"
      ],
      "metadata": {
        "execution": {
          "iopub.status.busy": "2023-12-04T19:01:50.142303Z",
          "iopub.execute_input": "2023-12-04T19:01:50.142648Z",
          "iopub.status.idle": "2023-12-04T19:01:50.158848Z",
          "shell.execute_reply.started": "2023-12-04T19:01:50.142617Z",
          "shell.execute_reply": "2023-12-04T19:01:50.157648Z"
        },
        "trusted": true,
        "id": "a2atuZRrdR3v"
      },
      "execution_count": null,
      "outputs": []
    },
    {
      "cell_type": "code",
      "source": [
        "grouped = df.groupby(['bed', 'bath']).size().reset_index(name='count')\n",
        "\n",
        "pivot = grouped.pivot('bed', 'bath', 'count')\n",
        "\n",
        "sns.heatmap(pivot, cmap='YlGnBu', annot=True, fmt='g')"
      ],
      "metadata": {
        "execution": {
          "iopub.status.busy": "2023-12-04T19:01:50.160095Z",
          "iopub.execute_input": "2023-12-04T19:01:50.160522Z",
          "iopub.status.idle": "2023-12-04T19:01:50.559658Z",
          "shell.execute_reply.started": "2023-12-04T19:01:50.160482Z",
          "shell.execute_reply": "2023-12-04T19:01:50.558397Z"
        },
        "trusted": true,
        "id": "YLDuD8NTdR3v"
      },
      "execution_count": null,
      "outputs": []
    },
    {
      "cell_type": "markdown",
      "source": [
        "**DISTRIBUTION OF ACRE LOT**"
      ],
      "metadata": {
        "id": "NHDgaumRdR3v"
      }
    },
    {
      "cell_type": "code",
      "source": [
        "sns.histplot(data=df, x=\"acre_lot\")\n",
        "plt.title('Distribution of Acre Lot')\n",
        "plt.show()"
      ],
      "metadata": {
        "execution": {
          "iopub.status.busy": "2023-12-04T19:01:50.561018Z",
          "iopub.execute_input": "2023-12-04T19:01:50.561449Z",
          "iopub.status.idle": "2023-12-04T19:01:51.126476Z",
          "shell.execute_reply.started": "2023-12-04T19:01:50.561399Z",
          "shell.execute_reply": "2023-12-04T19:01:51.123873Z"
        },
        "trusted": true,
        "id": "iZ6gXGNNdR3v"
      },
      "execution_count": null,
      "outputs": []
    },
    {
      "cell_type": "code",
      "source": [
        "df['acre_lot'].value_counts()"
      ],
      "metadata": {
        "execution": {
          "iopub.status.busy": "2023-12-04T19:01:51.128027Z",
          "iopub.execute_input": "2023-12-04T19:01:51.12914Z",
          "iopub.status.idle": "2023-12-04T19:01:51.140547Z",
          "shell.execute_reply.started": "2023-12-04T19:01:51.129088Z",
          "shell.execute_reply": "2023-12-04T19:01:51.139437Z"
        },
        "trusted": true,
        "id": "6AL2Bsl1dR3v"
      },
      "execution_count": null,
      "outputs": []
    },
    {
      "cell_type": "code",
      "source": [
        "plt.subplots(figsize=(10,10))\n",
        "plt.xticks(rotation=90)\n",
        "sns.stripplot(y='acre_lot', x='bed', data=df, marker='D', alpha=0.5)\n",
        "plt.title('Distribution of Acre Lot depending on the Bed',fontsize = 20)\n",
        "plt.show()"
      ],
      "metadata": {
        "execution": {
          "iopub.status.busy": "2023-12-04T19:01:51.142654Z",
          "iopub.execute_input": "2023-12-04T19:01:51.14304Z",
          "iopub.status.idle": "2023-12-04T19:01:51.889104Z",
          "shell.execute_reply.started": "2023-12-04T19:01:51.143008Z",
          "shell.execute_reply": "2023-12-04T19:01:51.887985Z"
        },
        "trusted": true,
        "id": "_ZgedWHodR3w"
      },
      "execution_count": null,
      "outputs": []
    },
    {
      "cell_type": "code",
      "source": [
        "df.groupby('bed', as_index=False).agg({'acre_lot' : 'count'}).sort_values('bed', ascending=False)"
      ],
      "metadata": {
        "execution": {
          "iopub.status.busy": "2023-12-04T19:01:51.890501Z",
          "iopub.execute_input": "2023-12-04T19:01:51.890943Z",
          "iopub.status.idle": "2023-12-04T19:01:51.911552Z",
          "shell.execute_reply.started": "2023-12-04T19:01:51.890908Z",
          "shell.execute_reply": "2023-12-04T19:01:51.910206Z"
        },
        "trusted": true,
        "id": "H7bfVU9WdR3w"
      },
      "execution_count": null,
      "outputs": []
    },
    {
      "cell_type": "code",
      "source": [
        "plt.subplots(figsize=(10,10))\n",
        "plt.xticks(rotation=90)\n",
        "sns.stripplot(y='acre_lot', x='bath', data=df, marker='D', alpha=0.5)\n",
        "plt.title('Distribution of Acre Lot Depending on the Bath',fontsize = 20)\n",
        "plt.show()"
      ],
      "metadata": {
        "execution": {
          "iopub.status.busy": "2023-12-04T19:01:51.91321Z",
          "iopub.execute_input": "2023-12-04T19:01:51.913661Z",
          "iopub.status.idle": "2023-12-04T19:01:52.640714Z",
          "shell.execute_reply.started": "2023-12-04T19:01:51.91362Z",
          "shell.execute_reply": "2023-12-04T19:01:52.639621Z"
        },
        "trusted": true,
        "id": "BH3dm5BgdR3w"
      },
      "execution_count": null,
      "outputs": []
    },
    {
      "cell_type": "code",
      "source": [
        "df.groupby('bath', as_index=False).agg({'acre_lot' : 'count'}).sort_values('bath', ascending=False)"
      ],
      "metadata": {
        "execution": {
          "iopub.status.busy": "2023-12-04T19:01:52.642749Z",
          "iopub.execute_input": "2023-12-04T19:01:52.643656Z",
          "iopub.status.idle": "2023-12-04T19:01:52.664191Z",
          "shell.execute_reply.started": "2023-12-04T19:01:52.643614Z",
          "shell.execute_reply": "2023-12-04T19:01:52.66286Z"
        },
        "trusted": true,
        "id": "5v1CohyodR3w"
      },
      "execution_count": null,
      "outputs": []
    },
    {
      "cell_type": "markdown",
      "source": [
        "**DISTRIBUTION OF THE CITY**"
      ],
      "metadata": {
        "id": "e_BWFYHidR3w"
      }
    },
    {
      "cell_type": "code",
      "source": [
        "City = df['city'].value_counts().reset_index().rename(columns={'index': 'city', 'city': 'count'})\n",
        "top_5 = City[:5]\n",
        "fig = px.bar(top_5,'city', y='count', color='city', template='plotly')\n",
        "fig.update_layout(title='Distribution of Top 5 Cities with Most Houses')\n",
        "fig.update_traces(texttemplate='%{y:.}', textposition='outside')\n",
        "fig.show()"
      ],
      "metadata": {
        "execution": {
          "iopub.status.busy": "2023-12-04T19:01:52.665723Z",
          "iopub.execute_input": "2023-12-04T19:01:52.666094Z",
          "iopub.status.idle": "2023-12-04T19:01:52.789118Z",
          "shell.execute_reply.started": "2023-12-04T19:01:52.666063Z",
          "shell.execute_reply": "2023-12-04T19:01:52.788088Z"
        },
        "trusted": true,
        "id": "ywFq6FX1dR3w"
      },
      "execution_count": null,
      "outputs": []
    },
    {
      "cell_type": "code",
      "source": [
        "top10 = df.groupby('city')['bed'].sum().nlargest(10).reset_index()\n",
        "\n",
        "fig = px.bar(top10, x='city', y='bed',color='bed', template='plotly',\n",
        "             title='Top 10 Cities with the Most Total Beds')\n",
        "fig.update_traces(texttemplate='%{y:.}', textposition='outside')\n",
        "fig.show()"
      ],
      "metadata": {
        "execution": {
          "iopub.status.busy": "2023-12-04T19:01:52.790722Z",
          "iopub.execute_input": "2023-12-04T19:01:52.791605Z",
          "iopub.status.idle": "2023-12-04T19:01:52.888012Z",
          "shell.execute_reply.started": "2023-12-04T19:01:52.791562Z",
          "shell.execute_reply": "2023-12-04T19:01:52.886951Z"
        },
        "trusted": true,
        "id": "5sqTrim6dR33"
      },
      "execution_count": null,
      "outputs": []
    },
    {
      "cell_type": "code",
      "source": [
        "top10 = df.groupby('city')['bath'].sum().nlargest(10).reset_index()\n",
        "\n",
        "fig = px.bar(top10, x='city', y='bath',color='bath', template='plotly',\n",
        "             title='Top 10 Cities with the Most Total Bath')\n",
        "fig.update_traces(texttemplate='%{y:.}', textposition='outside')\n",
        "fig.show()"
      ],
      "metadata": {
        "execution": {
          "iopub.status.busy": "2023-12-04T19:01:52.889345Z",
          "iopub.execute_input": "2023-12-04T19:01:52.889685Z",
          "iopub.status.idle": "2023-12-04T19:01:52.984313Z",
          "shell.execute_reply.started": "2023-12-04T19:01:52.889654Z",
          "shell.execute_reply": "2023-12-04T19:01:52.983152Z"
        },
        "trusted": true,
        "id": "Og-uTUGXdR34"
      },
      "execution_count": null,
      "outputs": []
    },
    {
      "cell_type": "code",
      "source": [
        "df_mean = df.groupby('city')[['bed', 'bath']].mean().reset_index()\n",
        "\n",
        "df_mean_sort = df_mean.sort_values(by=['bed', 'bath'], ascending=False)\n",
        "\n",
        "top10 = df_mean_sort.head(10)\n",
        "\n",
        "fig = px.bar(top10, x='city', y=['bed', 'bath'], barmode='group',\n",
        "             color_discrete_sequence=['blue', 'orange'],\n",
        "             labels={'value': 'Mean Bed and Bath'},\n",
        "             title='Top 10 Cities with Highest Mean Bed and Bath')\n",
        "fig.show()"
      ],
      "metadata": {
        "execution": {
          "iopub.status.busy": "2023-12-04T19:01:52.985695Z",
          "iopub.execute_input": "2023-12-04T19:01:52.98606Z",
          "iopub.status.idle": "2023-12-04T19:01:53.088034Z",
          "shell.execute_reply.started": "2023-12-04T19:01:52.98603Z",
          "shell.execute_reply": "2023-12-04T19:01:53.086843Z"
        },
        "trusted": true,
        "id": "N9zk9atKdR34"
      },
      "execution_count": null,
      "outputs": []
    },
    {
      "cell_type": "code",
      "source": [
        "top10 = df.groupby('city')['acre_lot'].sum().nlargest(10).reset_index()\n",
        "\n",
        "fig = px.bar(top10, x='city', y='acre_lot',color='city', template='plotly',\n",
        "             title='Top 10 Cities with Highest Most Acre Lot')\n",
        "fig.update_traces(texttemplate='%{y:.2f}', textposition='outside')\n",
        "fig.show()\n"
      ],
      "metadata": {
        "execution": {
          "iopub.status.busy": "2023-12-04T19:01:53.089597Z",
          "iopub.execute_input": "2023-12-04T19:01:53.089998Z",
          "iopub.status.idle": "2023-12-04T19:01:53.230929Z",
          "shell.execute_reply.started": "2023-12-04T19:01:53.089967Z",
          "shell.execute_reply": "2023-12-04T19:01:53.22997Z"
        },
        "trusted": true,
        "id": "okfxhnUndR34"
      },
      "execution_count": null,
      "outputs": []
    },
    {
      "cell_type": "code",
      "source": [
        "df_mean = df.groupby('city')['acre_lot'].mean().reset_index()\n",
        "\n",
        "df_mean_sort = df_mean.sort_values(by='acre_lot', ascending=False)\n",
        "\n",
        "top10 = df_mean_sort.head(10)\n",
        "\n",
        "fig = px.bar(top10, x='city', y='acre_lot', color='acre_lot', template='plotly',\n",
        "             title='Top 10 Cities with Highest Mean Acre Lot')\n",
        "fig.update_layout(xaxis_title='City', yaxis_title='Mean Acre Lot')\n",
        "fig.update_traces(texttemplate='%{y:.2f}', textposition='outside')\n",
        "fig.show()"
      ],
      "metadata": {
        "execution": {
          "iopub.status.busy": "2023-12-04T19:01:53.232372Z",
          "iopub.execute_input": "2023-12-04T19:01:53.233067Z",
          "iopub.status.idle": "2023-12-04T19:01:53.327955Z",
          "shell.execute_reply.started": "2023-12-04T19:01:53.233031Z",
          "shell.execute_reply": "2023-12-04T19:01:53.326924Z"
        },
        "trusted": true,
        "id": "JwtVhj6ldR34"
      },
      "execution_count": null,
      "outputs": []
    },
    {
      "cell_type": "markdown",
      "source": [
        "**DISTRIBUTION OF THE STATE**"
      ],
      "metadata": {
        "id": "7hnBydwwdR34"
      }
    },
    {
      "cell_type": "code",
      "source": [
        "fig = px.histogram(df, x='state', nbins=25, color='state', template='plotly')\n",
        "fig.update_layout(title='Distribution of State')\n",
        "fig.show()"
      ],
      "metadata": {
        "execution": {
          "iopub.status.busy": "2023-12-04T19:01:53.329437Z",
          "iopub.execute_input": "2023-12-04T19:01:53.329811Z",
          "iopub.status.idle": "2023-12-04T19:01:53.935466Z",
          "shell.execute_reply.started": "2023-12-04T19:01:53.329753Z",
          "shell.execute_reply": "2023-12-04T19:01:53.93429Z"
        },
        "trusted": true,
        "id": "BLUq2eRpdR34"
      },
      "execution_count": null,
      "outputs": []
    },
    {
      "cell_type": "code",
      "source": [
        "city_bed_count = df.groupby(['state', 'bed']).size().reset_index(name='count')\n",
        "\n",
        "fig = px.bar(city_bed_count, x='state', y='count', color='bed', barmode='stack',\n",
        "             title='Distribution of State with Bed')\n",
        "fig.show()"
      ],
      "metadata": {
        "execution": {
          "iopub.status.busy": "2023-12-04T19:01:53.937238Z",
          "iopub.execute_input": "2023-12-04T19:01:53.937566Z",
          "iopub.status.idle": "2023-12-04T19:01:54.030238Z",
          "shell.execute_reply.started": "2023-12-04T19:01:53.937538Z",
          "shell.execute_reply": "2023-12-04T19:01:54.029105Z"
        },
        "trusted": true,
        "id": "Tesw1RqfdR34"
      },
      "execution_count": null,
      "outputs": []
    },
    {
      "cell_type": "code",
      "source": [
        "df.groupby('state', as_index=False).agg({'bed' : 'mean'}).sort_values('bed', ascending=False)"
      ],
      "metadata": {
        "execution": {
          "iopub.status.busy": "2023-12-04T19:01:54.0316Z",
          "iopub.execute_input": "2023-12-04T19:01:54.031959Z",
          "iopub.status.idle": "2023-12-04T19:01:54.055879Z",
          "shell.execute_reply.started": "2023-12-04T19:01:54.031928Z",
          "shell.execute_reply": "2023-12-04T19:01:54.054825Z"
        },
        "trusted": true,
        "id": "YNXSMmhcdR34"
      },
      "execution_count": null,
      "outputs": []
    },
    {
      "cell_type": "code",
      "source": [
        "city_bed_count = df.groupby(['state', 'bath']).size().reset_index(name='count')\n",
        "\n",
        "fig = px.bar(city_bed_count, x='state', y='count', color='bath', barmode='stack',\n",
        "             title='Distribution of State with Bath')\n",
        "fig.show()"
      ],
      "metadata": {
        "execution": {
          "iopub.status.busy": "2023-12-04T19:01:54.057625Z",
          "iopub.execute_input": "2023-12-04T19:01:54.057947Z",
          "iopub.status.idle": "2023-12-04T19:01:54.144391Z",
          "shell.execute_reply.started": "2023-12-04T19:01:54.057919Z",
          "shell.execute_reply": "2023-12-04T19:01:54.143336Z"
        },
        "trusted": true,
        "id": "d3ooz3yKdR34"
      },
      "execution_count": null,
      "outputs": []
    },
    {
      "cell_type": "code",
      "source": [
        "df.groupby('state', as_index=False).agg({'bath' : 'mean'}).sort_values('bath', ascending=False)"
      ],
      "metadata": {
        "execution": {
          "iopub.status.busy": "2023-12-04T19:01:54.14597Z",
          "iopub.execute_input": "2023-12-04T19:01:54.146662Z",
          "iopub.status.idle": "2023-12-04T19:01:54.177042Z",
          "shell.execute_reply.started": "2023-12-04T19:01:54.146621Z",
          "shell.execute_reply": "2023-12-04T19:01:54.176161Z"
        },
        "trusted": true,
        "id": "CxZTmuqIdR34"
      },
      "execution_count": null,
      "outputs": []
    },
    {
      "cell_type": "code",
      "source": [
        "df.groupby('state', as_index=False).agg({'acre_lot' : 'mean'}).sort_values('acre_lot', ascending=False)"
      ],
      "metadata": {
        "execution": {
          "iopub.status.busy": "2023-12-04T19:01:54.186285Z",
          "iopub.execute_input": "2023-12-04T19:01:54.186663Z",
          "iopub.status.idle": "2023-12-04T19:01:54.211065Z",
          "shell.execute_reply.started": "2023-12-04T19:01:54.186632Z",
          "shell.execute_reply": "2023-12-04T19:01:54.209951Z"
        },
        "trusted": true,
        "id": "Py1UHSUGdR35"
      },
      "execution_count": null,
      "outputs": []
    },
    {
      "cell_type": "markdown",
      "source": [
        "**DISTRIBUTION OF HOUSE SIZE**"
      ],
      "metadata": {
        "id": "gaJ4o0TsdR35"
      }
    },
    {
      "cell_type": "code",
      "source": [
        "fig = px.histogram(df, x='house_size', nbins=20)\n",
        "fig.update_layout(title='Distribution of House Size')\n",
        "fig.show()"
      ],
      "metadata": {
        "execution": {
          "iopub.status.busy": "2023-12-04T19:01:54.212411Z",
          "iopub.execute_input": "2023-12-04T19:01:54.21274Z",
          "iopub.status.idle": "2023-12-04T19:01:54.307697Z",
          "shell.execute_reply.started": "2023-12-04T19:01:54.212711Z",
          "shell.execute_reply": "2023-12-04T19:01:54.306855Z"
        },
        "trusted": true,
        "id": "DT5KK6CwdR35"
      },
      "execution_count": null,
      "outputs": []
    },
    {
      "cell_type": "code",
      "source": [
        "df['house_size'].value_counts()"
      ],
      "metadata": {
        "execution": {
          "iopub.status.busy": "2023-12-04T19:01:54.308849Z",
          "iopub.execute_input": "2023-12-04T19:01:54.309186Z",
          "iopub.status.idle": "2023-12-04T19:01:54.322579Z",
          "shell.execute_reply.started": "2023-12-04T19:01:54.309156Z",
          "shell.execute_reply": "2023-12-04T19:01:54.321362Z"
        },
        "trusted": true,
        "id": "llKBjpg5dR35"
      },
      "execution_count": null,
      "outputs": []
    },
    {
      "cell_type": "code",
      "source": [
        "fig = px.histogram(df, x='house_size', color='bed', nbins=25, marginal='box',\n",
        "                   labels={'house_size':'House Size (sqft)'},\n",
        "                   title='Distribution of House Size with Bed')\n",
        "\n",
        "fig.show()"
      ],
      "metadata": {
        "execution": {
          "iopub.status.busy": "2023-12-04T19:01:54.324303Z",
          "iopub.execute_input": "2023-12-04T19:01:54.324748Z",
          "iopub.status.idle": "2023-12-04T19:01:54.511676Z",
          "shell.execute_reply.started": "2023-12-04T19:01:54.324707Z",
          "shell.execute_reply": "2023-12-04T19:01:54.510834Z"
        },
        "trusted": true,
        "id": "LXAn-8ZpdR35"
      },
      "execution_count": null,
      "outputs": []
    },
    {
      "cell_type": "code",
      "source": [
        "df.groupby('bed', as_index=False).agg({'house_size' : 'mean'}).sort_values('house_size', ascending=False)"
      ],
      "metadata": {
        "execution": {
          "iopub.status.busy": "2023-12-04T19:01:54.512603Z",
          "iopub.execute_input": "2023-12-04T19:01:54.512943Z",
          "iopub.status.idle": "2023-12-04T19:01:54.530928Z",
          "shell.execute_reply.started": "2023-12-04T19:01:54.512912Z",
          "shell.execute_reply": "2023-12-04T19:01:54.52985Z"
        },
        "trusted": true,
        "id": "zFQP781MdR35"
      },
      "execution_count": null,
      "outputs": []
    },
    {
      "cell_type": "code",
      "source": [
        "fig = px.histogram(df, x=\"house_size\", color=\"bath\", nbins=25, marginal=\"box\")\n",
        "fig.update_layout(title=\"Distribution of House Size with Bath\", xaxis_title=\"House Size\", yaxis_title=\"Count\")\n",
        "fig.show()"
      ],
      "metadata": {
        "execution": {
          "iopub.status.busy": "2023-12-04T19:01:54.532302Z",
          "iopub.execute_input": "2023-12-04T19:01:54.532645Z",
          "iopub.status.idle": "2023-12-04T19:01:54.700031Z",
          "shell.execute_reply.started": "2023-12-04T19:01:54.532615Z",
          "shell.execute_reply": "2023-12-04T19:01:54.699121Z"
        },
        "trusted": true,
        "id": "2w_mNisBdR35"
      },
      "execution_count": null,
      "outputs": []
    },
    {
      "cell_type": "code",
      "source": [
        "df.groupby('bath', as_index=False).agg({'house_size' : 'mean'}).sort_values('house_size', ascending=False)"
      ],
      "metadata": {
        "execution": {
          "iopub.status.busy": "2023-12-04T19:01:54.700954Z",
          "iopub.execute_input": "2023-12-04T19:01:54.701253Z",
          "iopub.status.idle": "2023-12-04T19:01:54.718952Z",
          "shell.execute_reply.started": "2023-12-04T19:01:54.701226Z",
          "shell.execute_reply": "2023-12-04T19:01:54.717765Z"
        },
        "trusted": true,
        "id": "Hv2NGyW1dR35"
      },
      "execution_count": null,
      "outputs": []
    },
    {
      "cell_type": "code",
      "source": [
        "fig = px.scatter(df, x='bed', y='bath', size='house_size', color='bed', opacity=1,\n",
        "                 marginal_x='histogram', marginal_y='histogram',\n",
        "                 labels={'bed': 'Bedrooms', 'bath': 'Bathrooms', 'house_size': 'House Size'},\n",
        "                 title='Distribution of House Size by Bedrooms and Bathrooms')\n",
        "fig.show()"
      ],
      "metadata": {
        "execution": {
          "iopub.status.busy": "2023-12-04T19:01:54.72027Z",
          "iopub.execute_input": "2023-12-04T19:01:54.720591Z",
          "iopub.status.idle": "2023-12-04T19:01:54.947309Z",
          "shell.execute_reply.started": "2023-12-04T19:01:54.720564Z",
          "shell.execute_reply": "2023-12-04T19:01:54.945691Z"
        },
        "trusted": true,
        "id": "uIjRyo1xdR35"
      },
      "execution_count": null,
      "outputs": []
    },
    {
      "cell_type": "code",
      "source": [
        "fig = px.histogram(df, x='acre_lot', y='house_size', color='bed',\n",
        "                   marginal='box', nbins=20, opacity=0.7,\n",
        "                   title='Distribution of House Size by Acre Lot and Bed')\n",
        "fig.update_layout(xaxis_title='Acre Lot',\n",
        "                  yaxis_title='House Size (sqft)',\n",
        "                  legend_title='Bed')\n",
        "fig.show()"
      ],
      "metadata": {
        "execution": {
          "iopub.status.busy": "2023-12-04T19:01:54.948917Z",
          "iopub.execute_input": "2023-12-04T19:01:54.949447Z",
          "iopub.status.idle": "2023-12-04T19:01:55.165033Z",
          "shell.execute_reply.started": "2023-12-04T19:01:54.94938Z",
          "shell.execute_reply": "2023-12-04T19:01:55.163968Z"
        },
        "trusted": true,
        "id": "qHECgoK1dR35"
      },
      "execution_count": null,
      "outputs": []
    },
    {
      "cell_type": "code",
      "source": [
        "fig = px.histogram(df, x='acre_lot', y='house_size', color='bath',\n",
        "                   marginal='box', nbins=20, opacity=0.7,\n",
        "                   title='Distribution of House Size by Acre Lot and Bath')\n",
        "fig.update_layout(xaxis_title='Acre Lot',\n",
        "                  yaxis_title='House Size (sqft)',\n",
        "                  legend_title='Bath')\n",
        "fig.show()"
      ],
      "metadata": {
        "execution": {
          "iopub.status.busy": "2023-12-04T19:01:55.1664Z",
          "iopub.execute_input": "2023-12-04T19:01:55.167432Z",
          "iopub.status.idle": "2023-12-04T19:01:55.351134Z",
          "shell.execute_reply.started": "2023-12-04T19:01:55.167388Z",
          "shell.execute_reply": "2023-12-04T19:01:55.349946Z"
        },
        "trusted": true,
        "id": "geeNt_WwdR36"
      },
      "execution_count": null,
      "outputs": []
    },
    {
      "cell_type": "code",
      "source": [
        "df_mean = df.groupby('acre_lot')['house_size'].mean().reset_index()\n",
        "\n",
        "fig = px.scatter(df_mean, x='acre_lot', y='house_size', title='Average House Size by Acre Lot',trendline='ols')\n",
        "fig.show()"
      ],
      "metadata": {
        "execution": {
          "iopub.status.busy": "2023-12-04T19:01:55.352534Z",
          "iopub.execute_input": "2023-12-04T19:01:55.353466Z",
          "iopub.status.idle": "2023-12-04T19:01:55.43249Z",
          "shell.execute_reply.started": "2023-12-04T19:01:55.353422Z",
          "shell.execute_reply": "2023-12-04T19:01:55.431337Z"
        },
        "trusted": true,
        "id": "7EIg3vmtdR36"
      },
      "execution_count": null,
      "outputs": []
    },
    {
      "cell_type": "code",
      "source": [
        "df_mean = df.groupby('city')['house_size'].mean().reset_index()\n",
        "df_mean_sort = df_mean.sort_values(by='house_size', ascending=False)\n",
        "\n",
        "top10 = df_mean_sort.head(10)\n",
        "\n",
        "fig = px.bar(top10, x='city', y='house_size', color='house_size',\n",
        "             color_continuous_scale='RdYlBu_r')\n",
        "fig.update_layout(title='Top 10 Cities with Highest Mean House Size',\n",
        "                  xaxis_title='City', yaxis_title='Mean House Size')\n",
        "fig.update_traces(texttemplate='%{y:.2f}', textposition='outside')\n",
        "fig.show()\n",
        "\n",
        "\n"
      ],
      "metadata": {
        "execution": {
          "iopub.status.busy": "2023-12-04T19:01:55.433968Z",
          "iopub.execute_input": "2023-12-04T19:01:55.434669Z",
          "iopub.status.idle": "2023-12-04T19:01:55.528833Z",
          "shell.execute_reply.started": "2023-12-04T19:01:55.434636Z",
          "shell.execute_reply": "2023-12-04T19:01:55.527623Z"
        },
        "trusted": true,
        "id": "FfNya0DZdR36"
      },
      "execution_count": null,
      "outputs": []
    },
    {
      "cell_type": "code",
      "source": [
        "df.groupby('city', as_index=False).agg({'house_size' : 'mean'}).sort_values('house_size', ascending=False)"
      ],
      "metadata": {
        "execution": {
          "iopub.status.busy": "2023-12-04T19:01:55.530351Z",
          "iopub.execute_input": "2023-12-04T19:01:55.530798Z",
          "iopub.status.idle": "2023-12-04T19:01:55.562426Z",
          "shell.execute_reply.started": "2023-12-04T19:01:55.530736Z",
          "shell.execute_reply": "2023-12-04T19:01:55.561308Z"
        },
        "trusted": true,
        "id": "zhy-jXwPdR36"
      },
      "execution_count": null,
      "outputs": []
    },
    {
      "cell_type": "code",
      "source": [
        "df_mean = df.groupby('state')['house_size'].mean().reset_index()\n",
        "\n",
        "df_mean_sort = df_mean.sort_values(by='house_size', ascending=False)\n",
        "\n",
        "fig = px.bar(df_mean_sort, x='state', y='house_size', color='state')\n",
        "fig.update_layout(title='Top 10 States with Highest Average House Size',\n",
        "                  xaxis_title='State',\n",
        "                  yaxis_title='Average House Size (sqft)')\n",
        "fig.update_traces(texttemplate='%{y:.1f}', textposition='outside')\n",
        "fig.show()"
      ],
      "metadata": {
        "execution": {
          "iopub.status.busy": "2023-12-04T19:01:55.56406Z",
          "iopub.execute_input": "2023-12-04T19:01:55.564586Z",
          "iopub.status.idle": "2023-12-04T19:01:55.744352Z",
          "shell.execute_reply.started": "2023-12-04T19:01:55.564545Z",
          "shell.execute_reply": "2023-12-04T19:01:55.743187Z"
        },
        "trusted": true,
        "id": "fa8mmZUTdR36"
      },
      "execution_count": null,
      "outputs": []
    },
    {
      "cell_type": "code",
      "source": [
        "df.groupby('state', as_index=False).agg({'house_size' : 'mean'}).sort_values('house_size', ascending=False)"
      ],
      "metadata": {
        "execution": {
          "iopub.status.busy": "2023-12-04T19:01:55.745656Z",
          "iopub.execute_input": "2023-12-04T19:01:55.746113Z",
          "iopub.status.idle": "2023-12-04T19:01:55.774541Z",
          "shell.execute_reply.started": "2023-12-04T19:01:55.746071Z",
          "shell.execute_reply": "2023-12-04T19:01:55.773252Z"
        },
        "trusted": true,
        "id": "PDSC-EahdR36"
      },
      "execution_count": null,
      "outputs": []
    },
    {
      "cell_type": "markdown",
      "source": [
        "**DISTRIBUTION OF PRICE**"
      ],
      "metadata": {
        "id": "jIm5ku26dR36"
      }
    },
    {
      "cell_type": "code",
      "source": [
        "fig = px.histogram(df, x=\"price\", nbins=25, template=\"plotly\")\n",
        "fig.update_layout(title=\"Distribution of Price\")\n",
        "fig.show()"
      ],
      "metadata": {
        "execution": {
          "iopub.status.busy": "2023-12-04T19:01:55.776443Z",
          "iopub.execute_input": "2023-12-04T19:01:55.776979Z",
          "iopub.status.idle": "2023-12-04T19:01:55.875014Z",
          "shell.execute_reply.started": "2023-12-04T19:01:55.776919Z",
          "shell.execute_reply": "2023-12-04T19:01:55.874077Z"
        },
        "trusted": true,
        "id": "77g98kRMdR37"
      },
      "execution_count": null,
      "outputs": []
    },
    {
      "cell_type": "code",
      "source": [
        "df['price'].value_counts()"
      ],
      "metadata": {
        "execution": {
          "iopub.status.busy": "2023-12-04T19:01:55.875997Z",
          "iopub.execute_input": "2023-12-04T19:01:55.876317Z",
          "iopub.status.idle": "2023-12-04T19:01:55.890645Z",
          "shell.execute_reply.started": "2023-12-04T19:01:55.876289Z",
          "shell.execute_reply": "2023-12-04T19:01:55.889082Z"
        },
        "trusted": true,
        "id": "za_bnchZdR37"
      },
      "execution_count": null,
      "outputs": []
    },
    {
      "cell_type": "code",
      "source": [
        "fig = px.histogram(df, x=\"price\", color=\"bed\", nbins=20)\n",
        "fig.update_layout(title=\"Distribution of Price by Bed\", xaxis_title=\"Price\", yaxis_title=\"Count\")\n",
        "fig.show()"
      ],
      "metadata": {
        "execution": {
          "iopub.status.busy": "2023-12-04T19:01:55.892305Z",
          "iopub.execute_input": "2023-12-04T19:01:55.893344Z",
          "iopub.status.idle": "2023-12-04T19:01:56.044586Z",
          "shell.execute_reply.started": "2023-12-04T19:01:55.893306Z",
          "shell.execute_reply": "2023-12-04T19:01:56.043268Z"
        },
        "trusted": true,
        "id": "-Dm8qv3edR37"
      },
      "execution_count": null,
      "outputs": []
    },
    {
      "cell_type": "code",
      "source": [
        "df.groupby('bed', as_index=False).agg({'price' : 'mean'}).sort_values('price', ascending=False)"
      ],
      "metadata": {
        "execution": {
          "iopub.status.busy": "2023-12-04T19:01:56.046428Z",
          "iopub.execute_input": "2023-12-04T19:01:56.046913Z",
          "iopub.status.idle": "2023-12-04T19:01:56.066383Z",
          "shell.execute_reply.started": "2023-12-04T19:01:56.046859Z",
          "shell.execute_reply": "2023-12-04T19:01:56.065533Z"
        },
        "trusted": true,
        "id": "q39naLqPdR37"
      },
      "execution_count": null,
      "outputs": []
    },
    {
      "cell_type": "code",
      "source": [
        "fig = px.histogram(df, x=\"price\", color=\"bath\", nbins=20)\n",
        "fig.update_layout(title=\"Distribution of Price by Bath\", xaxis_title=\"Price\", yaxis_title=\"Count\")\n",
        "fig.show()"
      ],
      "metadata": {
        "execution": {
          "iopub.status.busy": "2023-12-04T19:01:56.067814Z",
          "iopub.execute_input": "2023-12-04T19:01:56.068383Z",
          "iopub.status.idle": "2023-12-04T19:01:56.190918Z",
          "shell.execute_reply.started": "2023-12-04T19:01:56.068348Z",
          "shell.execute_reply": "2023-12-04T19:01:56.189748Z"
        },
        "trusted": true,
        "id": "I6Od0AUtdR37"
      },
      "execution_count": null,
      "outputs": []
    },
    {
      "cell_type": "code",
      "source": [
        "df.groupby('bath', as_index=False).agg({'price' : 'mean'}).sort_values('price', ascending=False)"
      ],
      "metadata": {
        "execution": {
          "iopub.status.busy": "2023-12-04T19:01:56.192223Z",
          "iopub.execute_input": "2023-12-04T19:01:56.192898Z",
          "iopub.status.idle": "2023-12-04T19:01:56.210711Z",
          "shell.execute_reply.started": "2023-12-04T19:01:56.192863Z",
          "shell.execute_reply": "2023-12-04T19:01:56.209526Z"
        },
        "trusted": true,
        "id": "kP-APQ15dR37"
      },
      "execution_count": null,
      "outputs": []
    },
    {
      "cell_type": "code",
      "source": [
        "df_mean = df.groupby('acre_lot')['price'].mean().reset_index()\n",
        "\n",
        "# plot mean price per acre lot\n",
        "fig = px.scatter(df_mean, x='acre_lot', y='price', trendline='ols')\n",
        "fig.update_layout(title='Average Price per Acre Lot', xaxis_title='Acre Lot', yaxis_title='Price')\n",
        "fig.show()"
      ],
      "metadata": {
        "execution": {
          "iopub.status.busy": "2023-12-04T19:01:56.212627Z",
          "iopub.execute_input": "2023-12-04T19:01:56.213008Z",
          "iopub.status.idle": "2023-12-04T19:01:56.297891Z",
          "shell.execute_reply.started": "2023-12-04T19:01:56.212975Z",
          "shell.execute_reply": "2023-12-04T19:01:56.296897Z"
        },
        "trusted": true,
        "id": "6ipxf0iMdR37"
      },
      "execution_count": null,
      "outputs": []
    },
    {
      "cell_type": "code",
      "source": [
        "df_mean = df.groupby('city')['price'].mean().reset_index()\n",
        "\n",
        "df_mean_sort = df_mean.sort_values(by='price', ascending=False)\n",
        "\n",
        "top10 = df_mean_sort.head(10)\n",
        "\n",
        "fig = px.bar(top10, x='city', y='price', color='city',\n",
        "             labels={'city': 'City', 'price': 'Mean Price'},\n",
        "             title='Top 10 Cities with the Highest Average Price')\n",
        "fig.update_traces(texttemplate='%{y:.1f}', textposition='outside')\n",
        "fig.show()"
      ],
      "metadata": {
        "execution": {
          "iopub.status.busy": "2023-12-04T19:01:56.299367Z",
          "iopub.execute_input": "2023-12-04T19:01:56.299692Z",
          "iopub.status.idle": "2023-12-04T19:01:56.435921Z",
          "shell.execute_reply.started": "2023-12-04T19:01:56.299664Z",
          "shell.execute_reply": "2023-12-04T19:01:56.434822Z"
        },
        "trusted": true,
        "id": "NMzFgmtCdR38"
      },
      "execution_count": null,
      "outputs": []
    },
    {
      "cell_type": "code",
      "source": [
        "df.groupby('city', as_index=False).agg({'price' : 'mean'}).sort_values('price', ascending=False)"
      ],
      "metadata": {
        "execution": {
          "iopub.status.busy": "2023-12-04T19:01:56.437596Z",
          "iopub.execute_input": "2023-12-04T19:01:56.438298Z",
          "iopub.status.idle": "2023-12-04T19:01:56.472481Z",
          "shell.execute_reply.started": "2023-12-04T19:01:56.438256Z",
          "shell.execute_reply": "2023-12-04T19:01:56.471332Z"
        },
        "trusted": true,
        "id": "2WFk2eN_dR38"
      },
      "execution_count": null,
      "outputs": []
    },
    {
      "cell_type": "code",
      "source": [
        "df_mean = df.groupby('state')['price'].mean().reset_index()\n",
        "\n",
        "df_mean_sort = df_mean.sort_values(by='price', ascending=False)\n",
        "\n",
        "fig = px.bar(df_mean_sort, x='state', y='price',\n",
        "             title='Top 10 States with Highest Mean Price',\n",
        "             labels={'state': 'State', 'price': 'Mean Price'})\n",
        "fig.update_traces(texttemplate='%{y:.1f}', textposition='outside')\n",
        "fig.show()"
      ],
      "metadata": {
        "execution": {
          "iopub.status.busy": "2023-12-04T19:01:56.474193Z",
          "iopub.execute_input": "2023-12-04T19:01:56.475349Z",
          "iopub.status.idle": "2023-12-04T19:01:56.559615Z",
          "shell.execute_reply.started": "2023-12-04T19:01:56.475305Z",
          "shell.execute_reply": "2023-12-04T19:01:56.558783Z"
        },
        "trusted": true,
        "id": "Yq037a25dR38"
      },
      "execution_count": null,
      "outputs": []
    },
    {
      "cell_type": "code",
      "source": [
        "df.groupby('state', as_index=False).agg({'price' : 'mean'}).sort_values('price', ascending=False)"
      ],
      "metadata": {
        "execution": {
          "iopub.status.busy": "2023-12-04T19:01:56.560738Z",
          "iopub.execute_input": "2023-12-04T19:01:56.56162Z",
          "iopub.status.idle": "2023-12-04T19:01:56.589147Z",
          "shell.execute_reply.started": "2023-12-04T19:01:56.561589Z",
          "shell.execute_reply": "2023-12-04T19:01:56.587868Z"
        },
        "trusted": true,
        "id": "WiVgHlT2dR38"
      },
      "execution_count": null,
      "outputs": []
    },
    {
      "cell_type": "code",
      "source": [
        "df_mean = df.groupby('price')['house_size'].mean().reset_index()\n",
        "\n",
        "fig = px.scatter(df_mean, x='price', y='house_size', trendline='ols',\n",
        "                 labels={'price':'Price', 'house_size':'Mean House Size'})\n",
        "fig.update_layout(title='Distribution of Mean House Size by Price')\n",
        "fig.show()"
      ],
      "metadata": {
        "execution": {
          "iopub.status.busy": "2023-12-04T19:01:56.590962Z",
          "iopub.execute_input": "2023-12-04T19:01:56.591455Z",
          "iopub.status.idle": "2023-12-04T19:01:56.747686Z",
          "shell.execute_reply.started": "2023-12-04T19:01:56.591412Z",
          "shell.execute_reply": "2023-12-04T19:01:56.746398Z"
        },
        "trusted": true,
        "id": "XdsDo4YPdR38"
      },
      "execution_count": null,
      "outputs": []
    },
    {
      "cell_type": "code",
      "source": [
        "fig = px.scatter(df, x='house_size', y='price', color='bed', size='bath',trendline='ols')\n",
        "fig.update_layout(title='House Size vs Price',\n",
        "                  xaxis_title='House Size',\n",
        "                  yaxis_title='Price')\n",
        "fig.show()\n"
      ],
      "metadata": {
        "execution": {
          "iopub.status.busy": "2023-12-04T19:01:56.749187Z",
          "iopub.execute_input": "2023-12-04T19:01:56.749617Z",
          "iopub.status.idle": "2023-12-04T19:01:57.065116Z",
          "shell.execute_reply.started": "2023-12-04T19:01:56.749577Z",
          "shell.execute_reply": "2023-12-04T19:01:57.061701Z"
        },
        "trusted": true,
        "id": "QtcGtDBVdR38"
      },
      "execution_count": null,
      "outputs": []
    },
    {
      "cell_type": "markdown",
      "source": [
        "**MODEL PREDICTING PRICE HOUSE**"
      ],
      "metadata": {
        "id": "1ZCqjWvjdR38"
      }
    },
    {
      "cell_type": "code",
      "source": [
        "from sklearn.model_selection import train_test_split\n",
        "from sklearn.linear_model import RidgeCV, ElasticNetCV\n",
        "from sklearn.tree import DecisionTreeRegressor\n",
        "from sklearn.ensemble import RandomForestRegressor\n",
        "from sklearn.ensemble import GradientBoostingRegressor\n",
        "from sklearn.preprocessing import OneHotEncoder, StandardScaler, MinMaxScaler\n",
        "from sklearn.metrics import r2_score, mean_squared_error, mean_absolute_error"
      ],
      "metadata": {
        "execution": {
          "iopub.status.busy": "2023-12-04T19:01:57.066599Z",
          "iopub.execute_input": "2023-12-04T19:01:57.066952Z",
          "iopub.status.idle": "2023-12-04T19:01:57.07432Z",
          "shell.execute_reply.started": "2023-12-04T19:01:57.066922Z",
          "shell.execute_reply": "2023-12-04T19:01:57.073033Z"
        },
        "trusted": true,
        "id": "LGabsyfMdR38"
      },
      "execution_count": null,
      "outputs": []
    },
    {
      "cell_type": "code",
      "source": [
        "df['house_size'] = StandardScaler().fit_transform(df['house_size'].values.reshape(len(df), 1))\n",
        "df['price'] = StandardScaler().fit_transform(df['price'].values.reshape(len(df), 1))"
      ],
      "metadata": {
        "execution": {
          "iopub.status.busy": "2023-12-04T19:01:57.075715Z",
          "iopub.execute_input": "2023-12-04T19:01:57.076108Z",
          "iopub.status.idle": "2023-12-04T19:01:57.098063Z",
          "shell.execute_reply.started": "2023-12-04T19:01:57.076076Z",
          "shell.execute_reply": "2023-12-04T19:01:57.096758Z"
        },
        "trusted": true,
        "id": "zZ-44MYRdR38"
      },
      "execution_count": null,
      "outputs": []
    },
    {
      "cell_type": "code",
      "source": [
        "df['bed'] = MinMaxScaler().fit_transform(df['bed'].values.reshape(len(df), 1))\n",
        "df['bath'] = MinMaxScaler().fit_transform(df['bath'].values.reshape(len(df), 1))\n",
        "df['acre_lot'] = MinMaxScaler().fit_transform(df['acre_lot'].values.reshape(len(df), 1))"
      ],
      "metadata": {
        "execution": {
          "iopub.status.busy": "2023-12-04T19:01:57.099686Z",
          "iopub.execute_input": "2023-12-04T19:01:57.100089Z",
          "iopub.status.idle": "2023-12-04T19:01:57.114174Z",
          "shell.execute_reply.started": "2023-12-04T19:01:57.100056Z",
          "shell.execute_reply": "2023-12-04T19:01:57.112674Z"
        },
        "trusted": true,
        "id": "OyOml3z-dR39"
      },
      "execution_count": null,
      "outputs": []
    },
    {
      "cell_type": "code",
      "source": [
        "df.head()"
      ],
      "metadata": {
        "execution": {
          "iopub.status.busy": "2023-12-04T19:01:57.115611Z",
          "iopub.execute_input": "2023-12-04T19:01:57.116054Z",
          "iopub.status.idle": "2023-12-04T19:01:57.135366Z",
          "shell.execute_reply.started": "2023-12-04T19:01:57.116021Z",
          "shell.execute_reply": "2023-12-04T19:01:57.133836Z"
        },
        "trusted": true,
        "id": "kuIY0gsPdR39"
      },
      "execution_count": null,
      "outputs": []
    },
    {
      "cell_type": "code",
      "source": [
        "X = df[['bed', 'bath', 'acre_lot', 'house_size', 'city', 'state']]\n",
        "y = df['price']\n",
        "\n",
        "# one-hot encode the categorical features\n",
        "X = pd.get_dummies(X, columns=['city', 'state'])\n",
        "\n",
        "# split the data into training and testing sets\n",
        "X_train, X_test, y_train, y_test = train_test_split(X, y, test_size=0.2, random_state=42)"
      ],
      "metadata": {
        "execution": {
          "iopub.status.busy": "2023-12-04T19:21:42.971341Z",
          "iopub.execute_input": "2023-12-04T19:21:42.972186Z",
          "iopub.status.idle": "2023-12-04T19:21:46.360797Z",
          "shell.execute_reply.started": "2023-12-04T19:21:42.972152Z",
          "shell.execute_reply": "2023-12-04T19:21:46.359642Z"
        },
        "trusted": true,
        "id": "KY8m4m69dR39"
      },
      "execution_count": null,
      "outputs": []
    },
    {
      "cell_type": "code",
      "source": [
        "#create the decision tree model\n",
        "model_DT = DecisionTreeRegressor(max_depth=5)\n",
        "\n",
        "# fit the model to the training data\n",
        "model_DT.fit(X_train, y_train)\n",
        "\n",
        "# make predictions on the testing data\n",
        "y_pred = model_DT.predict(X_test)\n",
        "\n",
        "# calculate\n",
        "mse_DT = mean_squared_error(y_test, y_pred)\n",
        "rmse_DT = mean_squared_error(y_test, y_pred, squared=False)\n",
        "mae_DT = mean_absolute_error(y_test, y_pred)\n",
        "r2_DT = r2_score(y_test, y_pred)"
      ],
      "metadata": {
        "execution": {
          "iopub.status.busy": "2023-12-04T19:21:46.362748Z",
          "iopub.execute_input": "2023-12-04T19:21:46.363168Z",
          "iopub.status.idle": "2023-12-04T19:21:50.187229Z",
          "shell.execute_reply.started": "2023-12-04T19:21:46.363123Z",
          "shell.execute_reply": "2023-12-04T19:21:50.186081Z"
        },
        "trusted": true,
        "id": "n4kvsG62dR39"
      },
      "execution_count": null,
      "outputs": []
    },
    {
      "cell_type": "code",
      "source": [
        "# buat model Random Forest dan latih menggunakan data training\n",
        "model_RF = RandomForestRegressor(n_estimators=100, random_state=42)\n",
        "model_RF.fit(X_train, y_train)\n",
        "\n",
        "# lakukan prediksi menggunakan data testing\n",
        "y_pred = model_RF.predict(X_test)\n",
        "\n",
        "# hitung nilai rata-rata error menggunakan metrik MSE\n",
        "mse_RF = mean_squared_error(y_test, y_pred)\n",
        "rmse_RF = mean_squared_error(y_test, y_pred, squared=False)\n",
        "mae_RF = mean_absolute_error(y_test, y_pred)\n",
        "r2_RF = r2_score(y_test, y_pred)"
      ],
      "metadata": {
        "execution": {
          "iopub.status.busy": "2023-12-04T19:21:50.188808Z",
          "iopub.execute_input": "2023-12-04T19:21:50.18913Z",
          "iopub.status.idle": "2023-12-04T19:35:05.072344Z",
          "shell.execute_reply.started": "2023-12-04T19:21:50.189103Z",
          "shell.execute_reply": "2023-12-04T19:35:05.070562Z"
        },
        "trusted": true,
        "id": "K6tJ2oFkdR39"
      },
      "execution_count": null,
      "outputs": []
    },
    {
      "cell_type": "code",
      "source": [
        "# Buat model Gradient Boosting dan lakukan training pada data training\n",
        "model_GD = GradientBoostingRegressor(learning_rate=0.05,\n",
        "    n_estimators=150,\n",
        "    max_depth=3,\n",
        "    min_samples_split=4,\n",
        "    min_samples_leaf=1)\n",
        "model_GD.fit(X_train, y_train)\n",
        "\n",
        "# Lakukan prediksi pada data testing\n",
        "y_pred = model_GD.predict(X_test)\n",
        "\n",
        "# Evaluasi performa model\n",
        "mse_GD = mean_squared_error(y_test, y_pred)\n",
        "rmse_GD = mean_squared_error(y_test, y_pred, squared=False)\n",
        "mae_GD = mean_absolute_error(y_test, y_pred)\n",
        "r2_GD = r2_score(y_test, y_pred)"
      ],
      "metadata": {
        "execution": {
          "iopub.status.busy": "2023-12-04T19:35:05.078528Z",
          "iopub.execute_input": "2023-12-04T19:35:05.078932Z",
          "iopub.status.idle": "2023-12-04T19:40:00.551694Z",
          "shell.execute_reply.started": "2023-12-04T19:35:05.078899Z",
          "shell.execute_reply": "2023-12-04T19:40:00.550025Z"
        },
        "trusted": true,
        "id": "7hvD69mldR39"
      },
      "execution_count": null,
      "outputs": []
    },
    {
      "cell_type": "code",
      "source": [
        "ridge_cv_model = RidgeCV(alphas=(1.38), scoring='neg_mean_absolute_error')\n",
        "ridge_cv_model.fit(X_train, y_train)\n",
        "\n",
        "y_pred = ridge_cv_model.predict(X_test)\n",
        "\n",
        "mse_R = mean_squared_error(y_test, y_pred)\n",
        "rmse_R = mean_squared_error(y_test, y_pred, squared=False)\n",
        "mae_R = mean_absolute_error(y_test, y_pred)\n",
        "r2_R = r2_score(y_test, y_pred)"
      ],
      "metadata": {
        "execution": {
          "iopub.status.busy": "2023-12-04T19:40:00.553318Z",
          "iopub.execute_input": "2023-12-04T19:40:00.553672Z",
          "iopub.status.idle": "2023-12-04T19:41:05.590533Z",
          "shell.execute_reply.started": "2023-12-04T19:40:00.553643Z",
          "shell.execute_reply": "2023-12-04T19:41:05.588868Z"
        },
        "trusted": true,
        "id": "pP_F2J8cdR39"
      },
      "execution_count": null,
      "outputs": []
    },
    {
      "cell_type": "code",
      "source": [
        "elastic_model = ElasticNetCV(l1_ratio=[0.01], tol=0.01)\n",
        "elastic_model.fit(X_train, y_train)\n",
        "\n",
        "y_pred = elastic_model.predict(X_test)\n",
        "\n",
        "mse_E = mean_squared_error(y_test, y_pred)\n",
        "rmse_E = mean_squared_error(y_test, y_pred, squared=False)\n",
        "mae_E = mean_absolute_error(y_test, y_pred)\n",
        "r2_E = r2_score(y_test, y_pred)"
      ],
      "metadata": {
        "execution": {
          "iopub.status.busy": "2023-12-04T19:41:05.592728Z",
          "iopub.execute_input": "2023-12-04T19:41:05.59365Z",
          "iopub.status.idle": "2023-12-04T19:42:11.016459Z",
          "shell.execute_reply.started": "2023-12-04T19:41:05.593589Z",
          "shell.execute_reply": "2023-12-04T19:42:11.014825Z"
        },
        "trusted": true,
        "id": "VvRnPW3idR39"
      },
      "execution_count": null,
      "outputs": []
    },
    {
      "cell_type": "code",
      "source": [
        "results = {\n",
        "    'Decision Tree': {'MSE': mse_DT, 'RMSE': rmse_DT, 'MAE': mae_DT, 'R^2': r2_DT},\n",
        "    'Random Forest': {'MSE': mse_RF, 'RMSE': rmse_RF, 'MAE': mae_RF, 'R^2': r2_RF},\n",
        "    'Gradient Boosting': {'MSE': mse_GD, 'RMSE': rmse_GD, 'MAE': mae_GD, 'R^2': r2_GD},\n",
        "    'Ridge CV': {'MSE': mse_R, 'RMSE': rmse_R, 'MAE': mae_R, 'R^2': r2_R},\n",
        "    'ElasticNet CV': {'MSE': mse_E, 'RMSE': rmse_E, 'MAE': mae_E, 'R^2': r2_E}\n",
        "}\n",
        "\n",
        "# konversi dictionary ke dalam dataframe\n",
        "data = pd.DataFrame.from_dict(results, orient='index')\n",
        "data = data.applymap(lambda x: f'{x:.2f}')\n",
        "# tampilkan dataframe\n",
        "print(data)"
      ],
      "metadata": {
        "execution": {
          "iopub.status.busy": "2023-12-04T19:42:11.019794Z",
          "iopub.execute_input": "2023-12-04T19:42:11.021106Z",
          "iopub.status.idle": "2023-12-04T19:42:11.047879Z",
          "shell.execute_reply.started": "2023-12-04T19:42:11.021041Z",
          "shell.execute_reply": "2023-12-04T19:42:11.046369Z"
        },
        "trusted": true,
        "id": "e5Uaan2UdR39"
      },
      "execution_count": null,
      "outputs": []
    }
  ]
}