{
 "cells": [
  {
   "cell_type": "markdown",
   "id": "e557eea7",
   "metadata": {},
   "source": [
    "# Solution for session 4"
   ]
  },
  {
   "cell_type": "markdown",
   "id": "b3c6693b",
   "metadata": {},
   "source": [
    "#### Task 5\n",
    "Write a python program to check whether you are eligible to vote or not using if else condition"
   ]
  },
  {
   "cell_type": "code",
   "execution_count": 1,
   "id": "87974b62",
   "metadata": {},
   "outputs": [
    {
     "name": "stdout",
     "output_type": "stream",
     "text": [
      "Enter Age : 18\n",
      "You are  Eligible  for Vote.\n"
     ]
    }
   ],
   "source": [
    "# input age\n",
    "age = int(input(\"Enter Age : \"))\n",
    "\n",
    "# condition to check voting eligibility\n",
    "if age>=18:\n",
    "        status=\"Eligible\"\n",
    "else:\n",
    "    status=\"Not Eligible\"\n",
    "\n",
    "print(\"You are \",status,\" for Vote.\")"
   ]
  },
  {
   "cell_type": "markdown",
   "id": "18ce323f",
   "metadata": {},
   "source": [
    "#### Task 6\n",
    "Write a python program that will check for the following conditions:\n",
    "\n",
    "**If the light is green – Car is allowed to go\n",
    "If the light is yellow – Car has to wait\n",
    "If the light is red – Car has to stop\n",
    "Other signal – unrecognized signal. Example black, blue, etc… #using if elif and else**"
   ]
  },
  {
   "cell_type": "code",
   "execution_count": null,
   "id": "a24d906e",
   "metadata": {},
   "outputs": [],
   "source": [
    "signal = input(\"What is a traffic signal? :\").title()\n",
    "if signal == \"Red\":\n",
    "    print(\"Stop your car!\")\n",
    "elif signal == \"Yellow\":\n",
    "    print(\"Wait your car!\")\n",
    "elif signal == \"Green\":\n",
    "    print(\"You are allowed to go!\")\n",
    "else:\n",
    "    print(\"Unrecgonized signal!\")"
   ]
  },
  {
   "cell_type": "markdown",
   "id": "4d7d4212",
   "metadata": {},
   "source": [
    "#### Task 7\n",
    "Test if a is greater than b, AND if c is greater than a:"
   ]
  },
  {
   "cell_type": "code",
   "execution_count": null,
   "id": "63e46ee9",
   "metadata": {},
   "outputs": [],
   "source": [
    "a = 200\n",
    "b = 33\n",
    "c = 500\n",
    "if a > b and c > a:\n",
    "  print(\"Both conditions are True\")"
   ]
  },
  {
   "cell_type": "markdown",
   "id": "bdab66fe",
   "metadata": {},
   "source": [
    "#### TASK 8:\n",
    "Write a code to insert 41 before 51 \n",
    "```\n",
    "list1 = [ 1, 2, 3, 4, 5, 6, 7 ]\n",
    "```"
   ]
  },
  {
   "cell_type": "code",
   "execution_count": null,
   "id": "d6676b1f",
   "metadata": {},
   "outputs": [],
   "source": [
    "list1 = [ 1, 2, 3, 4, 5, 6, 7 ]\n",
    "\n",
    "# insert 10 at 4th index\n",
    "list1.insert(4, 10)\n",
    "print(list1)\n"
   ]
  },
  {
   "cell_type": "markdown",
   "id": "b6cb98ce",
   "metadata": {},
   "source": [
    "#### Task 9\n",
    "Finding the average of 10 numbers using while loop"
   ]
  },
  {
   "cell_type": "code",
   "execution_count": null,
   "id": "6c3a4334",
   "metadata": {},
   "outputs": [],
   "source": [
    "sum = 0\n",
    "count = 0\n",
    "\n",
    "while count<10:\n",
    "    n = float(input('Enter a number: '))\n",
    "    sum = sum + n\n",
    "    count = count + 1\n",
    "\n",
    "average = sum/10\n",
    "\n",
    "print(f'The average of these numbers is: {average}')"
   ]
  },
  {
   "cell_type": "markdown",
   "id": "f98009e3",
   "metadata": {},
   "source": [
    "#### TASK 10:\n",
    "Write a code to pop the number 6 from the give list\n",
    "```\n",
    "list1 = [1, 2, 3, 4, 5, 6]\n",
    "```"
   ]
  },
  {
   "cell_type": "code",
   "execution_count": null,
   "id": "6e192d9d",
   "metadata": {},
   "outputs": [],
   "source": [
    "list1 = [1, 2, 3, 4,5,6]\n",
    "print(\"Popped element:\", list1.pop())\n",
    "print(\"List after pop():\", list1)\n"
   ]
  },
  {
   "cell_type": "code",
   "execution_count": null,
   "id": "d32b12df",
   "metadata": {},
   "outputs": [],
   "source": []
  }
 ],
 "metadata": {
  "kernelspec": {
   "display_name": "Python 3 (ipykernel)",
   "language": "python",
   "name": "python3"
  },
  "language_info": {
   "codemirror_mode": {
    "name": "ipython",
    "version": 3
   },
   "file_extension": ".py",
   "mimetype": "text/x-python",
   "name": "python",
   "nbconvert_exporter": "python",
   "pygments_lexer": "ipython3",
   "version": "3.9.12"
  }
 },
 "nbformat": 4,
 "nbformat_minor": 5
}
