{
 "cells": [
  {
   "cell_type": "markdown",
   "metadata": {},
   "source": [
    "<img src=\"images/omotec.png\" alt=\"Drawing\" style=\"width: 130px;\" align=\"center\"/>\n",
    "\n",
    "# Session 4 \n",
    "- If statement\n",
    "- If else statements\n",
    "- If elif else statements\n",
    "- Built in list methods\n",
    "- Built in String methods\n",
    "- Mutable vs Immutable datatypes"
   ]
  },
  {
   "cell_type": "markdown",
   "metadata": {},
   "source": [
    "## 1) If statement\n",
    "\n",
    "**If statements allows programming languages to make decisions**\n",
    "\n",
    "We can have individual if statements without an else part. The single If statements are useful if we want to check for  conditions and do certain thing only if the codition is True."
   ]
  },
  {
   "cell_type": "code",
   "execution_count": 2,
   "metadata": {
    "scrolled": true
   },
   "outputs": [
    {
     "name": "stdout",
     "output_type": "stream",
     "text": [
      "I am True\n"
     ]
    }
   ],
   "source": [
    "if True:\n",
    "    print(\"I am True\")"
   ]
  },
  {
   "cell_type": "markdown",
   "metadata": {},
   "source": [
    "Usualy the conditions are created using the comparison and logical operators"
   ]
  },
  {
   "cell_type": "code",
   "execution_count": 3,
   "metadata": {},
   "outputs": [
    {
     "data": {
      "text/plain": [
       "True"
      ]
     },
     "execution_count": 3,
     "metadata": {},
     "output_type": "execute_result"
    }
   ],
   "source": [
    "a = 10\n",
    "b = 20\n",
    "a<b"
   ]
  },
  {
   "cell_type": "code",
   "execution_count": 4,
   "metadata": {},
   "outputs": [
    {
     "name": "stdout",
     "output_type": "stream",
     "text": [
      "a is lesser than b\n"
     ]
    }
   ],
   "source": [
    "if a<b:\n",
    "    print(\"a is lesser than b\")"
   ]
  },
  {
   "cell_type": "markdown",
   "metadata": {},
   "source": [
    "What happens if the condition we provided in the if statement is not true"
   ]
  },
  {
   "cell_type": "code",
   "execution_count": 5,
   "metadata": {},
   "outputs": [],
   "source": [
    "if a>b:\n",
    "    print(\"a is lesser than b\")"
   ]
  },
  {
   "cell_type": "markdown",
   "metadata": {},
   "source": [
    "We print nothing because the block of code inside the if statement (the indented part is not executed).<br>\n",
    "This bring us to our next use condition flow statement **If Else**"
   ]
  },
  {
   "cell_type": "markdown",
   "metadata": {},
   "source": [
    "## 2) If else statement\n",
    "We can have ```if else blocks``` if we want some operation to be done if the condition in the if returns false"
   ]
  },
  {
   "cell_type": "code",
   "execution_count": 6,
   "metadata": {},
   "outputs": [
    {
     "name": "stdout",
     "output_type": "stream",
     "text": [
      "a is lesser than b\n"
     ]
    }
   ],
   "source": [
    "a = 10\n",
    "b = 20\n",
    "if a<b:\n",
    "    print(\"a is lesser than b\")\n",
    "else:\n",
    "    print(\"b is lesser than a\")"
   ]
  },
  {
   "cell_type": "code",
   "execution_count": 7,
   "metadata": {
    "scrolled": true
   },
   "outputs": [
    {
     "name": "stdout",
     "output_type": "stream",
     "text": [
      "b is lesser than a\n"
     ]
    }
   ],
   "source": [
    "a = 100\n",
    "b = 20\n",
    "if a<b:\n",
    "    print(\"a is lesser than b\")\n",
    "else:\n",
    "    print(\"b is lesser than a\")"
   ]
  },
  {
   "cell_type": "markdown",
   "metadata": {},
   "source": [
    "The above code is going to return wrong result if a is equal to b. So we need have a way of testing multiple conditions in side the same if block"
   ]
  },
  {
   "cell_type": "code",
   "execution_count": 8,
   "metadata": {
    "scrolled": true
   },
   "outputs": [
    {
     "name": "stdout",
     "output_type": "stream",
     "text": [
      "b is lesser than a\n"
     ]
    }
   ],
   "source": [
    "a = 20\n",
    "b = 20\n",
    "if a<b:\n",
    "    print(\"a is lesser than b\")\n",
    "else:\n",
    "    print(\"b is lesser than a\")"
   ]
  },
  {
   "cell_type": "markdown",
   "metadata": {},
   "source": [
    "## 3) If elif else statement\n",
    "We can have ```if elif else blocks``` are used when we want to check for multiple conditions"
   ]
  },
  {
   "cell_type": "code",
   "execution_count": 9,
   "metadata": {
    "scrolled": true
   },
   "outputs": [
    {
     "name": "stdout",
     "output_type": "stream",
     "text": [
      "both are equal\n"
     ]
    }
   ],
   "source": [
    "a = 20\n",
    "b = 20\n",
    "if a<b:\n",
    "    print(\"a is lesser than b\")\n",
    "elif a>b:\n",
    "    print(\"b is lesser than a\")\n",
    "else :\n",
    "    print(\"both are equal\")"
   ]
  },
  {
   "cell_type": "markdown",
   "metadata": {},
   "source": [
    "### TASK 1\n",
    "**```\n",
    "A school has following rules for grading system:   \n",
    "\t\tBelow 25 - F   \n",
    "\t\t25 to 45 - E   \n",
    "\t\t45 to 50 - D   \n",
    "\t\t50 to 60 - C   \n",
    "\t\t60 to 80 - B   \n",
    "\t\tAbove 80 - A   \n",
    "Ask user to enter marks and print the corresponding grade.\n",
    "```**"
   ]
  },
  {
   "cell_type": "code",
   "execution_count": 10,
   "metadata": {},
   "outputs": [
    {
     "name": "stdout",
     "output_type": "stream",
     "text": [
      "enter your marks : 50\n",
      "C\n"
     ]
    }
   ],
   "source": [
    "a = int(input(\"enter your marks : \"))\n",
    "\n",
    "if a<25:\n",
    "    print(\"F\")\n",
    "elif a>=25 and a<45:\n",
    "    print(\"E\")\n",
    "elif a>=45 and a<50:\n",
    "    print(\"D\")\n",
    "elif a>=50 and a<60:\n",
    "    print(\"C\")\n",
    "elif a>=60 and a<80:\n",
    "    print(\"B\")\n",
    "elif a>=80 and a<=100:\n",
    "    print(\"A\")\n",
    "else:\n",
    "    print(\"not valid\")"
   ]
  },
  {
   "cell_type": "markdown",
   "metadata": {},
   "source": [
    "## 4) Built-in List methods\n",
    "**All datatypes including list are an object in python. Which means we can call methods on the objects created using these classes.**<br>\n",
    "Try creating a list then write the list name followed by a `.` and press the tab key"
   ]
  },
  {
   "cell_type": "code",
   "execution_count": null,
   "metadata": {},
   "outputs": [],
   "source": [
    "my_list = [11,22,33,44,55,66,77,88,99]\n",
    "my_list."
   ]
  },
  {
   "cell_type": "markdown",
   "metadata": {},
   "source": [
    "This Gives us a dropdown of all the available built-in list methods we will be looking at a few important ones.\n",
    "<br><br>\n",
    "**The methods can be :**\n",
    "- In place (affects the actual list)\n",
    "- not in place (the actual list is not affected)\n",
    "\n",
    "depending on the type we might have to reassign the variable to see the changes.\n",
    "\n",
    "---"
   ]
  },
  {
   "cell_type": "markdown",
   "metadata": {},
   "source": [
    "The `append()` method adds an element to the end of the list<br>\n",
    "The `append()` method is an inplace method."
   ]
  },
  {
   "cell_type": "code",
   "execution_count": 34,
   "metadata": {},
   "outputs": [],
   "source": [
    "my_list = [11,22,33,44,55,66,77,88,99]\n",
    "my_list.append(101)"
   ]
  },
  {
   "cell_type": "code",
   "execution_count": 35,
   "metadata": {
    "scrolled": true
   },
   "outputs": [
    {
     "data": {
      "text/plain": [
       "[11, 22, 33, 44, 55, 66, 77, 88, 99, 101]"
      ]
     },
     "execution_count": 35,
     "metadata": {},
     "output_type": "execute_result"
    }
   ],
   "source": [
    "my_list"
   ]
  },
  {
   "cell_type": "markdown",
   "metadata": {},
   "source": [
    "The `insert()` method adds an element at the specified index<br>\n",
    "The `append()` method is an inplace method."
   ]
  },
  {
   "cell_type": "code",
   "execution_count": 33,
   "metadata": {
    "scrolled": true
   },
   "outputs": [
    {
     "name": "stdout",
     "output_type": "stream",
     "text": [
      "[11, 22, 33, 44, 'I am added before index 4', 55, 66, 77, 88, 99]\n"
     ]
    }
   ],
   "source": [
    "my_list = [11,22,33,44,55,66,77,88,99]\n",
    "my_list.insert(4,\"I am added before index 4\")\n",
    "print(my_list)"
   ]
  },
  {
   "cell_type": "markdown",
   "metadata": {},
   "source": [
    "## 5) Built-in String methods\n",
    "**All datatypes including Strings are an object in python. Which means we can call methods on the objects created using these classes.**<br>\n",
    "Try creating a string then write the variable name followed by a `.` and press the tab key"
   ]
  },
  {
   "cell_type": "code",
   "execution_count": null,
   "metadata": {},
   "outputs": [],
   "source": [
    "my_string = \"hello world\"\n",
    "my_string."
   ]
  },
  {
   "cell_type": "markdown",
   "metadata": {},
   "source": [
    "The `upper()` method capitalises all characters in the string<br>\n",
    "The `upper()` method is an not in place method."
   ]
  },
  {
   "cell_type": "code",
   "execution_count": 37,
   "metadata": {},
   "outputs": [
    {
     "name": "stdout",
     "output_type": "stream",
     "text": [
      "HELLO WORLD\n",
      "hello world\n"
     ]
    }
   ],
   "source": [
    "my_string = \"hello world\"\n",
    "print(my_string.upper())\n",
    "print(my_string)"
   ]
  },
  {
   "cell_type": "markdown",
   "metadata": {},
   "source": [
    "Since it is a not in place method we will have to reasign it to the same variable to reflect the changes"
   ]
  },
  {
   "cell_type": "code",
   "execution_count": 38,
   "metadata": {},
   "outputs": [
    {
     "name": "stdout",
     "output_type": "stream",
     "text": [
      "HELLO WORLD\n"
     ]
    }
   ],
   "source": [
    "my_string = \"hello world\"\n",
    "my_string = my_string.upper()\n",
    "print(my_string)"
   ]
  },
  {
   "cell_type": "markdown",
   "metadata": {},
   "source": [
    "The `split()` method split the strings at a a specified character. By default the split character is space ` `<br>\n",
    "The `split()` converts the splited words into a list\n",
    "The `split()` method is an not in place method."
   ]
  },
  {
   "cell_type": "code",
   "execution_count": 40,
   "metadata": {},
   "outputs": [
    {
     "name": "stdout",
     "output_type": "stream",
     "text": [
      "['hello', 'world', 'How', 'are', 'you']\n",
      "hello world How are you\n"
     ]
    }
   ],
   "source": [
    "my_string = \"hello world How are you\"\n",
    "x = my_string.split()\n",
    "print(x)\n",
    "print(my_string)"
   ]
  },
  {
   "cell_type": "markdown",
   "metadata": {},
   "source": [
    "## 6) Mutable and Imutable datatypes\n",
    "All the collection datatypes in python can be classified in to 2 types.<br>\n",
    "- mutable (Inidvidual elemnts can be reassigned)\n",
    "- imutable (Indivisual elements cannot be reassigned)\n",
    "<br><br>\n",
    "- **Lists are mutable**\n",
    "- **Strings are imutable**"
   ]
  },
  {
   "cell_type": "code",
   "execution_count": 2,
   "metadata": {},
   "outputs": [
    {
     "name": "stdout",
     "output_type": "stream",
     "text": [
      "[11, 22, 33, 44, 55, 66]\n",
      "[11, 22, 33, 99, 55, 66]\n"
     ]
    }
   ],
   "source": [
    "my_list = [11,22,33,44,55,66]\n",
    "print(my_list)\n",
    "my_list[3] = 99\n",
    "print(my_list)"
   ]
  },
  {
   "cell_type": "code",
   "execution_count": 3,
   "metadata": {},
   "outputs": [
    {
     "name": "stdout",
     "output_type": "stream",
     "text": [
      "hello\n"
     ]
    },
    {
     "ename": "TypeError",
     "evalue": "'str' object does not support item assignment",
     "output_type": "error",
     "traceback": [
      "\u001b[1;31m---------------------------------------------------------------------------\u001b[0m",
      "\u001b[1;31mTypeError\u001b[0m                                 Traceback (most recent call last)",
      "\u001b[1;32m<ipython-input-3-7587cc2651c9>\u001b[0m in \u001b[0;36m<module>\u001b[1;34m\u001b[0m\n\u001b[0;32m      1\u001b[0m \u001b[0mmy_string\u001b[0m \u001b[1;33m=\u001b[0m \u001b[1;34m\"hello\"\u001b[0m\u001b[1;33m\u001b[0m\u001b[1;33m\u001b[0m\u001b[0m\n\u001b[0;32m      2\u001b[0m \u001b[0mprint\u001b[0m\u001b[1;33m(\u001b[0m\u001b[0mmy_string\u001b[0m\u001b[1;33m)\u001b[0m\u001b[1;33m\u001b[0m\u001b[1;33m\u001b[0m\u001b[0m\n\u001b[1;32m----> 3\u001b[1;33m \u001b[0mmy_string\u001b[0m\u001b[1;33m[\u001b[0m\u001b[1;36m3\u001b[0m\u001b[1;33m]\u001b[0m \u001b[1;33m=\u001b[0m \u001b[1;34m'r'\u001b[0m\u001b[1;33m\u001b[0m\u001b[1;33m\u001b[0m\u001b[0m\n\u001b[0m\u001b[0;32m      4\u001b[0m \u001b[0mprint\u001b[0m\u001b[1;33m(\u001b[0m\u001b[0mmy_string\u001b[0m\u001b[1;33m)\u001b[0m\u001b[1;33m\u001b[0m\u001b[1;33m\u001b[0m\u001b[0m\n",
      "\u001b[1;31mTypeError\u001b[0m: 'str' object does not support item assignment"
     ]
    }
   ],
   "source": [
    "my_string = \"hello\"\n",
    "print(my_string)\n",
    "my_string[3] = 'r'\n",
    "print(my_string)"
   ]
  },
  {
   "cell_type": "markdown",
   "metadata": {},
   "source": [
    "**We Get the above error because of the Immutability of the string Datatype**"
   ]
  },
  {
   "cell_type": "markdown",
   "metadata": {},
   "source": [
    "---"
   ]
  },
  {
   "cell_type": "markdown",
   "metadata": {},
   "source": [
    "# Home work"
   ]
  },
  {
   "cell_type": "markdown",
   "metadata": {},
   "source": [
    "**1) Take values of length and breadth of a rectangle from user and check if it is square or not.**\n",
    "\n",
    "**2) Write a program to check for leap year. A leap year is exactly divisible by 4. Except for century year (i.e. divisible by 100), for a century year to be a leap year it should also be divisible by 400.**\n",
    "<br>\n",
    "\n",
    "example inputs:\n",
    "- 1000 is not a leap year\n",
    "- 2000 is a leap year\n",
    "\n",
    "**3) Write a program for python calculator whose output depends on the users input operator and numbers. The program should prompt users to enter 2 numbers and also ask for an operator. The program should output the answer of the operation preformed.**\n",
    "<br>\n",
    "<br>\n",
    "Example:<br>\n",
    "**Input 1 :** 200<br>\n",
    "**Input 2 :** 400<br>\n",
    "**Input 3 :** +<br>\n",
    "\n",
    "**OUTPUT :** 600\n",
    "\n",
    "**4) Write the code to Split all the words and save them into a list**\n",
    "<br>\n",
    "\n",
    "x = \"Hello,How,Are,You,\""
   ]
  },
  {
   "cell_type": "markdown",
   "metadata": {},
   "source": [
    "# HOMEWORK SOLUTION"
   ]
  },
  {
   "cell_type": "code",
   "execution_count": 16,
   "metadata": {
    "scrolled": true
   },
   "outputs": [
    {
     "name": "stdout",
     "output_type": "stream",
     "text": [
      "enter length value: 52\n",
      "enter breadth value: 52\n",
      "It is square\n"
     ]
    }
   ],
   "source": [
    "#TASK 1 :\n",
    "\n",
    "length = int(input(\"enter length value: \"))\n",
    "breadth =int(input(\"enter breadth value: \"))\n",
    "\n",
    "if length ==breadth:\n",
    "    print(\"It is square\")\n",
    "    \n",
    "else:\n",
    "    print(\"It is rectangle\")"
   ]
  },
  {
   "cell_type": "markdown",
   "metadata": {},
   "source": []
  },
  {
   "cell_type": "code",
   "execution_count": 5,
   "metadata": {
    "scrolled": true
   },
   "outputs": [
    {
     "name": "stdout",
     "output_type": "stream",
     "text": [
      "Enter a year: 2000\n",
      "Leap year\n"
     ]
    }
   ],
   "source": [
    "#TASK 2:\n",
    "\n",
    "year = int(input(\"Enter a year: \"))\n",
    "\n",
    "if (year % 4) == 0:\n",
    "   if (year % 100) == 0:\n",
    "       if (year % 400) == 0:\n",
    "           print(\"Leap year\")\n",
    "       else:\n",
    "           print(\"Not a leap year\")\n",
    "   else:\n",
    "       print(\"leap year\")\n",
    "else:\n",
    "   print(\"Not a leap year\")"
   ]
  },
  {
   "cell_type": "markdown",
   "metadata": {},
   "source": []
  },
  {
   "cell_type": "code",
   "execution_count": 9,
   "metadata": {},
   "outputs": [
    {
     "name": "stdout",
     "output_type": "stream",
     "text": [
      "Enter first number: 56\n",
      "Enter first number: 23\n",
      "operations can be perfomred: +, -\n",
      "Enter your choice:  +\n",
      "79\n"
     ]
    }
   ],
   "source": [
    "#TASK 3: \n",
    "number1 = int(input(\"Enter first number: \"))\n",
    "number2 = int(input(\"Enter first number: \"))\n",
    "print(\"operations can be perfomred: +, -\")\n",
    "choice = input(\"Enter your choice:  \")\n",
    "\n",
    "if choice ==\"+\":\n",
    "    print(number1+number2)\n",
    "    \n",
    "\n",
    "if choice ==\"-\":\n",
    "    print(number1-number2)"
   ]
  },
  {
   "cell_type": "markdown",
   "metadata": {},
   "source": []
  },
  {
   "cell_type": "code",
   "execution_count": 10,
   "metadata": {},
   "outputs": [],
   "source": [
    "#TASK 4:\n",
    "x = \"Hello,How,Are,You,\"\n",
    "y=x.split()\n",
    "print(y)\n"
   ]
  },
  {
   "cell_type": "code",
   "execution_count": null,
   "metadata": {},
   "outputs": [],
   "source": []
  },
  {
   "cell_type": "code",
   "execution_count": null,
   "metadata": {},
   "outputs": [],
   "source": []
  }
 ],
 "metadata": {
  "kernelspec": {
   "display_name": "Python 3",
   "language": "python",
   "name": "python3"
  },
  "language_info": {
   "codemirror_mode": {
    "name": "ipython",
    "version": 3
   },
   "file_extension": ".py",
   "mimetype": "text/x-python",
   "name": "python",
   "nbconvert_exporter": "python",
   "pygments_lexer": "ipython3",
   "version": "3.9.10"
  }
 },
 "nbformat": 4,
 "nbformat_minor": 4
}
