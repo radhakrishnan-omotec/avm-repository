{
 "cells": [
  {
   "cell_type": "code",
   "execution_count": null,
   "id": "cd70fffe",
   "metadata": {},
   "outputs": [],
   "source": [
    "#### Task 1:\n",
    "Write a program to read all the characters from the file(“data.txt”) and display in uppercase."
   ]
  },
  {
   "cell_type": "code",
   "execution_count": null,
   "id": "b2cb7e9b",
   "metadata": {},
   "outputs": [],
   "source": [
    "f = open(\"data.txt\", 'r')\n",
    "d = f.read( )\n",
    "print(d.upper( ))"
   ]
  },
  {
   "cell_type": "code",
   "execution_count": null,
   "id": "a3a0d766",
   "metadata": {},
   "outputs": [],
   "source": [
    "#### Task 2:\n",
    "Write a program in python to find the number of characters in first line of text file (“data.txt”) using readlines()."
   ]
  },
  {
   "cell_type": "code",
   "execution_count": null,
   "id": "4121aebf",
   "metadata": {},
   "outputs": [],
   "source": [
    "f = open(\"data.txt\", 'r')\n",
    "d = f.readlines( )\n",
    "print(len(d[0]))"
   ]
  },
  {
   "cell_type": "code",
   "execution_count": null,
   "id": "237d9144",
   "metadata": {},
   "outputs": [],
   "source": [
    "#### Task 3:\n",
    "Write a program to count number of vowels in a file."
   ]
  },
  {
   "cell_type": "code",
   "execution_count": null,
   "id": "9156995e",
   "metadata": {},
   "outputs": [],
   "source": [
    "f = open(\"data.txt\" , 'r')\n",
    "l = f.read( )\n",
    "c = 0\n",
    "vow = \"aeiouAEIOU\"\n",
    "for i in l:\n",
    "    if i in vow:\n",
    "         c = c + 1\n",
    "print(\"Total vowels are = \" , c)"
   ]
  },
  {
   "cell_type": "code",
   "execution_count": null,
   "id": "30cbbe6a",
   "metadata": {},
   "outputs": [],
   "source": [
    "#### Task 4:\n",
    "Write a program to read data from “data.txt” and write in another file “dest.txt”"
   ]
  },
  {
   "cell_type": "code",
   "execution_count": null,
   "id": "a9796b67",
   "metadata": {},
   "outputs": [],
   "source": [
    "f = open(\"data.txt\" , 'r')\n",
    "f1 = open(\"dest.txt\" , 'w')\n",
    "cd = f.read( )\n",
    "f1.write(cd)\n",
    "f1.close( )\n",
    "f.close( )"
   ]
  },
  {
   "cell_type": "code",
   "execution_count": null,
   "id": "47110b0e",
   "metadata": {},
   "outputs": [],
   "source": [
    "#### Task 5:\n",
    "Write a program to read all data from “data.txt” and write in another file “dest.txt” except the vowels. "
   ]
  },
  {
   "cell_type": "code",
   "execution_count": null,
   "id": "17004054",
   "metadata": {},
   "outputs": [],
   "source": [
    "f = open(\"data.txt\" , 'r')\n",
    "f1 = open(\"dest.txt\" , 'w')\n",
    "cd = f.read( )\n",
    "vow = \"aeiouAEIOU\"\n",
    "for i in cd:\n",
    "    if (not i in vow) :\n",
    "         f1.write(i)\n",
    "f1.close( )\n",
    "f.close()"
   ]
  },
  {
   "cell_type": "markdown",
   "id": "4cab1d7a",
   "metadata": {},
   "source": [
    "#### Task 6:\n",
    "Write a program to read data from file “data.txt” and count the frequency of word input from user."
   ]
  },
  {
   "cell_type": "code",
   "execution_count": null,
   "id": "f8165ff7",
   "metadata": {},
   "outputs": [],
   "source": [
    "f = open(\"data.txt\" , 'r')\n",
    "d = f.read( )\n",
    "word = input(\"Enter the word to search: \")\n",
    "print(d.count(word)"
   ]
  },
  {
   "cell_type": "code",
   "execution_count": null,
   "id": "237dd581",
   "metadata": {},
   "outputs": [],
   "source": [
    "#### Task 7:\n",
    "Write a program to count number of spaces from the file (“data.txt”).\n"
   ]
  },
  {
   "cell_type": "code",
   "execution_count": null,
   "id": "4de95323",
   "metadata": {},
   "outputs": [],
   "source": [
    "f=open(\"data.txt\",'r')\n",
    "l=f.read()\n",
    "c=0\n",
    "vow=\"aeiouAEIOU\"\n",
    "for i in l:\n",
    "    if i in vow:\n",
    "        c=c+1\n",
    "print(\"total vowles are=\",c)"
   ]
  }
 ],
 "metadata": {
  "kernelspec": {
   "display_name": "Python 3 (ipykernel)",
   "language": "python",
   "name": "python3"
  },
  "language_info": {
   "codemirror_mode": {
    "name": "ipython",
    "version": 3
   },
   "file_extension": ".py",
   "mimetype": "text/x-python",
   "name": "python",
   "nbconvert_exporter": "python",
   "pygments_lexer": "ipython3",
   "version": "3.9.12"
  }
 },
 "nbformat": 4,
 "nbformat_minor": 5
}
