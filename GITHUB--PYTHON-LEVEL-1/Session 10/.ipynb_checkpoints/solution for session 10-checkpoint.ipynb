{
 "cells": [
  {
   "cell_type": "markdown",
   "id": "91190aa0",
   "metadata": {},
   "source": [
    "#### Task 1:\n",
    "Write a program to read all the characters from the file(“data.txt”) and display in uppercase."
   ]
  },
  {
   "cell_type": "code",
   "execution_count": null,
   "id": "8447703f",
   "metadata": {},
   "outputs": [],
   "source": [
    "f = open(\"data.txt\", 'r')\n",
    "d = f.read( )\n",
    "print(d.upper( ))"
   ]
  },
  {
   "cell_type": "markdown",
   "id": "bbeb73cf",
   "metadata": {},
   "source": [
    "#### Task 2:\n",
    "Write a program in python to find the number of characters in first line of text file (“data.txt”) using readlines()."
   ]
  },
  {
   "cell_type": "code",
   "execution_count": null,
   "id": "3e27527b",
   "metadata": {},
   "outputs": [],
   "source": [
    "f = open(\"data.txt\", 'r')\n",
    "d = f.readlines( )\n",
    "print(len(d[0]))"
   ]
  },
  {
   "cell_type": "markdown",
   "id": "682ccd9e",
   "metadata": {},
   "source": [
    "#### Task 3:\n",
    "Write a program to count number of vowels in a file."
   ]
  },
  {
   "cell_type": "code",
   "execution_count": null,
   "id": "09c9d3c3",
   "metadata": {},
   "outputs": [],
   "source": [
    "f = open(\"data.txt\" , 'r')\n",
    "l = f.read( )\n",
    "c = 0\n",
    "vow = \"aeiouAEIOU\"\n",
    "for i in l:\n",
    "    if i in vow:\n",
    "         c = c + 1\n",
    "print(\"Total vowels are = \" , c)"
   ]
  },
  {
   "cell_type": "markdown",
   "id": "8d214f83",
   "metadata": {},
   "source": [
    "#### Task 4:\n",
    "Write a program to read data from “data.txt” and write in another file “dest.txt”"
   ]
  },
  {
   "cell_type": "code",
   "execution_count": null,
   "id": "0c491b70",
   "metadata": {},
   "outputs": [],
   "source": [
    "f = open(\"data.txt\" , 'r')\n",
    "f1 = open(\"dest.txt\" , 'w')\n",
    "cd = f.read( )\n",
    "f1.write(cd)\n",
    "f1.close( )\n",
    "f.close( )"
   ]
  },
  {
   "cell_type": "markdown",
   "id": "51d199b0",
   "metadata": {},
   "source": [
    "#### Task 5:\n",
    "Write a program to read all data from “data.txt” and write in another file “dest.txt” except the vowels. "
   ]
  },
  {
   "cell_type": "code",
   "execution_count": null,
   "id": "b4229a13",
   "metadata": {},
   "outputs": [],
   "source": [
    "f = open(\"data.txt\" , 'r')\n",
    "f1 = open(\"dest.txt\" , 'w')\n",
    "cd = f.read( )\n",
    "vow = \"aeiouAEIOU\"\n",
    "for i in cd:\n",
    "    if (not i in vow) :\n",
    "         f1.write(i)\n",
    "f1.close( )\n",
    "f.close()"
   ]
  },
  {
   "cell_type": "markdown",
   "id": "3e24c4d9",
   "metadata": {},
   "source": [
    "#### Task 6:\n",
    "Write a program to read data from file “data.txt” and count the frequency of word input from user."
   ]
  },
  {
   "cell_type": "code",
   "execution_count": null,
   "id": "a890385b",
   "metadata": {},
   "outputs": [],
   "source": [
    "f = open(\"data.txt\" , 'r')\n",
    "d = f.read( )\n",
    "word = input(\"Enter the word to search: \")\n",
    "print(d.count(word)"
   ]
  },
  {
   "cell_type": "markdown",
   "id": "5f63e2d6",
   "metadata": {},
   "source": [
    "#### Task 7:\n",
    "Write a program to count number of spaces from the file (“data.txt”).\n"
   ]
  },
  {
   "cell_type": "code",
   "execution_count": null,
   "id": "e6c827f7",
   "metadata": {},
   "outputs": [],
   "source": [
    "f=open(\"data.txt\",'r')\n",
    "l=f.read()\n",
    "c=0\n",
    "vow=\"aeiouAEIOU\"\n",
    "for i in l:\n",
    "    if i in vow:\n",
    "        c=c+1\n",
    "print(\"total vowles are=\",c)"
   ]
  }
 ],
 "metadata": {
  "kernelspec": {
   "display_name": "Python 3 (ipykernel)",
   "language": "python",
   "name": "python3"
  },
  "language_info": {
   "codemirror_mode": {
    "name": "ipython",
    "version": 3
   },
   "file_extension": ".py",
   "mimetype": "text/x-python",
   "name": "python",
   "nbconvert_exporter": "python",
   "pygments_lexer": "ipython3",
   "version": "3.9.12"
  }
 },
 "nbformat": 4,
 "nbformat_minor": 5
}
