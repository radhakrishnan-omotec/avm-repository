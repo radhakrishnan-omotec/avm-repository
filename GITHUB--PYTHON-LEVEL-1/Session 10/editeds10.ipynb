{
 "cells": [
  {
   "cell_type": "markdown",
   "metadata": {},
   "source": [
    "<img src=\"images/omotec.png\" alt=\"Drawing\" style=\"width: 130px;\" align=\"center\"/>\n",
    "\n",
    "# Session 10\n",
    "1. Reading Files\n",
    "2. Writing files\n",
    "3. Reading CSV files\n"
   ]
  },
  {
   "cell_type": "markdown",
   "metadata": {},
   "source": [
    "## 1. Reading Files\n",
    "There is no modules required as python by default has the file input/output methods.<br>\n",
    "when opening files we create an instance of the object as shown below\n",
    "\n",
    "**NOTE : we must always close the file when we open it**<br>"
   ]
  },
  {
   "cell_type": "markdown",
   "metadata": {},
   "source": [
    "---"
   ]
  },
  {
   "cell_type": "code",
   "execution_count": 2,
   "metadata": {},
   "outputs": [
    {
     "name": "stdout",
     "output_type": "stream",
     "text": [
      "test.txt\n",
      "r\n"
     ]
    }
   ],
   "source": [
    "f = open('test.txt',mode = 'r')\n",
    "\n",
    "print(f.name)\n",
    "print(f.mode)\n",
    "\n",
    "f.close()"
   ]
  },
  {
   "cell_type": "markdown",
   "metadata": {},
   "source": [
    "A file can be opened in multiple modes. `read()` and `write()` are most commonly used modes"
   ]
  },
  {
   "cell_type": "markdown",
   "metadata": {},
   "source": [
    "#### There are 3 methods to read data from a file\n",
    "1. read()\n",
    "2. readline()\n",
    "3. readlines()"
   ]
  },
  {
   "cell_type": "markdown",
   "metadata": {},
   "source": [
    "The read() method reads the entire content of the file as a single string data"
   ]
  },
  {
   "cell_type": "code",
   "execution_count": 5,
   "metadata": {},
   "outputs": [
    {
     "name": "stdout",
     "output_type": "stream",
     "text": [
      "1) This is a test file!!\n",
      "2) This is the second line\n",
      "3) This is the third line\n",
      "4) This is the fourth line\n",
      "5) This is the fifth line\n",
      "6) This is the sixth line\n",
      "7) This is the seventh line\n",
      "8) This is the eight line\n",
      "9) This is the ninth line\n",
      "10) This is the thenth line\n"
     ]
    }
   ],
   "source": [
    "\n",
    "f = open('test.txt','r')\n",
    "\n",
    "x = f.read()\n",
    "print(x)\n",
    "\n",
    "f.close()"
   ]
  },
  {
   "cell_type": "markdown",
   "metadata": {},
   "source": [
    "The readline() method read a single line from the file at a time."
   ]
  },
  {
   "cell_type": "code",
   "execution_count": 5,
   "metadata": {},
   "outputs": [
    {
     "name": "stdout",
     "output_type": "stream",
     "text": [
      "1) This is a test file!!\n",
      "\n"
     ]
    }
   ],
   "source": [
    "f = open('test.txt','r')\n",
    "\n",
    "x = f.readline()\n",
    "print(x)\n",
    "\n",
    "f.close()"
   ]
  },
  {
   "cell_type": "code",
   "execution_count": null,
   "metadata": {},
   "outputs": [],
   "source": []
  },
  {
   "cell_type": "markdown",
   "metadata": {},
   "source": [
    "This means that we can put the readline function inside a for loop to read the entire file."
   ]
  },
  {
   "cell_type": "code",
   "execution_count": 7,
   "metadata": {
    "scrolled": true
   },
   "outputs": [
    {
     "name": "stdout",
     "output_type": "stream",
     "text": [
      "1) This is a test file!!\n",
      "\n",
      "2) This is the second line\n",
      "\n",
      "3) This is the third line\n",
      "\n",
      "4) This is the fourth line\n",
      "\n",
      "5) This is the fifth line\n",
      "\n",
      "6) This is the sixth line\n",
      "\n",
      "7) This is the seventh line\n",
      "\n",
      "8) This is the eight line\n",
      "\n",
      "9) This is the ninth line\n",
      "\n",
      "10) This is the thenth line\n"
     ]
    }
   ],
   "source": [
    "f = open('test.txt','r')\n",
    "\n",
    "for i in range(0,10):\n",
    "    x = f.readline()\n",
    "    print(x)\n",
    "\n",
    "f.close()"
   ]
  },
  {
   "cell_type": "markdown",
   "metadata": {},
   "source": [
    "**Note the added empty lines after every line read from the file. We will talk about this in a bit**"
   ]
  },
  {
   "cell_type": "markdown",
   "metadata": {},
   "source": [
    "The readlines() method gives us a list with every element in the list as a line from the file."
   ]
  },
  {
   "cell_type": "code",
   "execution_count": 8,
   "metadata": {
    "scrolled": true
   },
   "outputs": [
    {
     "name": "stdout",
     "output_type": "stream",
     "text": [
      "['1) This is a test file!!\\n', '2) This is the second line\\n', '3) This is the third line\\n', '4) This is the fourth line\\n', '5) This is the fifth line\\n', '6) This is the sixth line\\n', '7) This is the seventh line\\n', '8) This is the eight line\\n', '9) This is the ninth line\\n', '10) This is the thenth line']\n"
     ]
    }
   ],
   "source": [
    "f = open('test.txt','r')\n",
    "\n",
    "x = f.readlines()\n",
    "print(x)\n",
    "\n",
    "f.close()"
   ]
  },
  {
   "cell_type": "markdown",
   "metadata": {},
   "source": [
    "----\n",
    "#### Notice the \\n at the end of every item in the list. \n",
    "\n",
    "We cannot find these characters in the actual file.\n",
    "\n",
    "<img src=\"images/notepad.jpg\" alt=\"Drawing\" style=\"width: 600px;\" align=\"center\"/>"
   ]
  },
  {
   "cell_type": "markdown",
   "metadata": {},
   "source": [
    "- when you press enter key it always inputs a new line character at the end. Hope you remember the new line character from the star pattern problem in session 5 (loops)"
   ]
  },
  {
   "cell_type": "markdown",
   "metadata": {},
   "source": [
    "- This is the reason why we got that extra lines when using the readline() method. <br> \n",
    "- The print function puts its own \\n and also the string itself has a \\n this causes double enter key press. we can solve this issue by simply making the print statement to not put \\n automatically.\n",
    "\n",
    "---"
   ]
  },
  {
   "cell_type": "code",
   "execution_count": 9,
   "metadata": {
    "scrolled": false
   },
   "outputs": [
    {
     "name": "stdout",
     "output_type": "stream",
     "text": [
      "1) This is a test file!!\n",
      "2) This is the second line\n",
      "3) This is the third line\n",
      "4) This is the fourth line\n",
      "5) This is the fifth line\n",
      "6) This is the sixth line\n",
      "7) This is the seventh line\n",
      "8) This is the eight line\n",
      "9) This is the ninth line\n",
      "10) This is the thenth line"
     ]
    }
   ],
   "source": [
    "f = open('test.txt','r')\n",
    "\n",
    "for i in range(0,10):\n",
    "    x = f.readline()\n",
    "    print(x,end = '')\n",
    "\n",
    "f.close()"
   ]
  },
  {
   "cell_type": "markdown",
   "metadata": {},
   "source": [
    "----\n",
    "## Guess the output of the below code.💠\n",
    "\n",
    "```python\n",
    "f = open('test.txt','r')\n",
    "\n",
    "x = f.read()\n",
    "print(x)\n",
    "y = f.read()\n",
    "print(y)\n",
    "\n",
    "f.close()\n",
    "```\n",
    "\n",
    "----"
   ]
  },
  {
   "cell_type": "markdown",
   "metadata": {},
   "source": [
    "# seek and tell function\n",
    "- seek()=The seek() function sets the position of a file pointer\n",
    "- tell()=The tell() function returns the current position of a file pointer."
   ]
  },
  {
   "cell_type": "markdown",
   "metadata": {},
   "source": [
    "---"
   ]
  },
  {
   "cell_type": "code",
   "execution_count": 36,
   "metadata": {},
   "outputs": [
    {
     "name": "stdout",
     "output_type": "stream",
     "text": [
      "0\n",
      "1) This is a test file!!\n",
      "2) This is the second line\n",
      "3) This is the third line\n",
      "4) This is the fourth line\n",
      "5) This is the fifth line\n",
      "6) This is the sixth line\n",
      "7) This is the seventh line\n",
      "8) This is the eight line\n",
      "9) This is the ninth line\n",
      "10) This is the thenth line\n",
      "273\n",
      "0\n",
      "1) This is a test file!!\n",
      "2) This is the second line\n",
      "3) This is the third line\n",
      "4) This is the fourth line\n",
      "5) This is the fifth line\n",
      "6) This is the sixth line\n",
      "7) This is the seventh line\n",
      "8) This is the eight line\n",
      "9) This is the ninth line\n",
      "10) This is the thenth line\n",
      "273\n"
     ]
    }
   ],
   "source": [
    "with open('test.txt') as f:\n",
    "    print(f.tell())\n",
    "    print(f.read())\n",
    "    print(f.tell())\n",
    "    f.seek(0)\n",
    "    print(f.tell())\n",
    "    print(f.read())\n",
    "    print(f.tell())"
   ]
  },
  {
   "cell_type": "markdown",
   "metadata": {},
   "source": [
    "---"
   ]
  },
  {
   "cell_type": "markdown",
   "metadata": {},
   "source": [
    "## 2. Writing files\n",
    "\n",
    "To write to a file we must open the file in write mode. The file name provide will be created automatically. If we provide a file name that already exists then everything in the file will be deleted.\n",
    "\n",
    "**To edit a file we must use the append mode.**"
   ]
  },
  {
   "cell_type": "markdown",
   "metadata": {},
   "source": [
    "Lets we want to create a copy of the `test.txt` file"
   ]
  },
  {
   "cell_type": "code",
   "execution_count": 1,
   "metadata": {},
   "outputs": [],
   "source": [
    "r = open('test.txt',mode = 'r') \n",
    "\n",
    "w = open('test_copy.txt',mode = 'w')\n",
    "\n",
    "x = r.read()\n",
    "\n",
    "w.write(x)\n",
    "\n",
    "r.close()\n",
    "w.close()"
   ]
  },
  {
   "cell_type": "markdown",
   "metadata": {},
   "source": [
    "---"
   ]
  },
  {
   "cell_type": "markdown",
   "metadata": {},
   "source": [
    "## 3. READING CSV FILE"
   ]
  },
  {
   "cell_type": "markdown",
   "metadata": {},
   "source": [
    "CSV files are similar to excel sheets which allows us to store data as rows and columns. As the name suggests (CVS - Comma Separated Values) are just simple text files with every column seperated using commas and every row separeted using new lines.<br><br>\n",
    "\n",
    "**This means that we can using the `open()` function to read CVS files as well**"
   ]
  },
  {
   "cell_type": "markdown",
   "metadata": {},
   "source": [
    "## TASK1: calculate the sum of salaries of all employees in the below csv file"
   ]
  },
  {
   "cell_type": "markdown",
   "metadata": {},
   "source": [
    "<img src=\"images/csv1.jpg\" alt=\"Drawing\" style=\"width: 500px;\" align=\"center\"/>"
   ]
  },
  {
   "cell_type": "markdown",
   "metadata": {},
   "source": [
    "We Can firtsly read the content of the file using the `open()` method"
   ]
  },
  {
   "cell_type": "code",
   "execution_count": 3,
   "metadata": {},
   "outputs": [
    {
     "name": "stdout",
     "output_type": "stream",
     "text": [
      "\"First Name\",\"Last Name\",\"Email\",\"Salary\"\n",
      "\"Kelvin\",\"Spencer\",\"k.spencer@randatmail.com\",\"6691\"\n",
      "\"Mike\",\"Montgomery\",\"m.montgomery@randatmail.com\",\"4242\"\n",
      "\"Ted\",\"Martin\",\"t.martin@randatmail.com\",\"9188\"\n",
      "\"Lana\",\"Morris\",\"l.morris@randatmail.com\",\"5568\"\n",
      "\"Bruce\",\"Craig\",\"b.craig@randatmail.com\",\"5425\"\n",
      "\"Paige\",\"Harrison\",\"p.harrison@randatmail.com\",\"763\"\n",
      "\"Charlie\",\"Baker\",\"c.baker@randatmail.com\",\"1294\"\n",
      "\"Stuart\",\"Dixon\",\"s.dixon@randatmail.com\",\"2561\"\n",
      "\"Victor\",\"Carter\",\"v.carter@randatmail.com\",\"7576\"\n",
      "\"Aiden\",\"Grant\",\"a.grant@randatmail.com\",\"9346\"\n",
      "\n"
     ]
    }
   ],
   "source": [
    "f = open('data.csv')\n",
    "x = f.read()\n",
    "\n",
    "print(x)"
   ]
  },
  {
   "cell_type": "markdown",
   "metadata": {},
   "source": [
    "--- \n",
    "\n",
    "- As we can see all the columns are separated using commas so we can simply read a line split at `,` and select the salary  column and save the elements into a new list and later do a sum of the elements.\n",
    "<br>\n",
    "<br>\n",
    "- Also notice the inverted quotes around the digits in the salary column which denotes that the salary is a string and requires to be converted to integers before conversion\n",
    "<br>\n",
    "<br>\n",
    "- NOTE : Sometimes there is an extra pair of inverted quotes which might be required to be stripped.\n",
    "\n",
    "---"
   ]
  },
  {
   "cell_type": "code",
   "execution_count": 4,
   "metadata": {},
   "outputs": [
    {
     "name": "stdout",
     "output_type": "stream",
     "text": [
      "\"Kelvin\",\"Spencer\",\"k.spencer@randatmail.com\",\"6691\"\n",
      "\n"
     ]
    }
   ],
   "source": [
    "f = open('data.csv')\n",
    "\n",
    "# discarding the first line as it is the columns\n",
    "x = f.readline()\n",
    "\n",
    "y = f.readline()\n",
    "\n",
    "print(y)"
   ]
  },
  {
   "cell_type": "code",
   "execution_count": 5,
   "metadata": {},
   "outputs": [
    {
     "name": "stdout",
     "output_type": "stream",
     "text": [
      "['\"Kelvin\"', '\"Spencer\"', '\"k.spencer@randatmail.com\"', '\"6691\"\\n']\n"
     ]
    }
   ],
   "source": [
    "a = y.split(',')\n",
    "print(a)"
   ]
  },
  {
   "cell_type": "code",
   "execution_count": 6,
   "metadata": {},
   "outputs": [
    {
     "name": "stdout",
     "output_type": "stream",
     "text": [
      "\"6691\"\n",
      "\n"
     ]
    }
   ],
   "source": [
    "b =a[3]\n",
    "print(b)"
   ]
  },
  {
   "cell_type": "code",
   "execution_count": 7,
   "metadata": {},
   "outputs": [
    {
     "name": "stdout",
     "output_type": "stream",
     "text": [
      "6691\n"
     ]
    }
   ],
   "source": [
    "c = b.strip('\"\\n')\n",
    "print(c)"
   ]
  },
  {
   "cell_type": "code",
   "execution_count": 8,
   "metadata": {},
   "outputs": [
    {
     "name": "stdout",
     "output_type": "stream",
     "text": [
      "6691\n"
     ]
    }
   ],
   "source": [
    "d = int(c)\n",
    "print(d)"
   ]
  },
  {
   "cell_type": "markdown",
   "metadata": {},
   "source": [
    "---"
   ]
  },
  {
   "cell_type": "markdown",
   "metadata": {},
   "source": [
    "# Home work"
   ]
  },
  {
   "cell_type": "markdown",
   "metadata": {},
   "source": [
    "###  1. Write a pyton script to automatically send mail to all the mail ID's found in the cvs file that we just read. Use PyAutoGui to automate the process"
   ]
  },
  {
   "cell_type": "code",
   "execution_count": null,
   "metadata": {},
   "outputs": [],
   "source": []
  },
  {
   "cell_type": "markdown",
   "metadata": {},
   "source": [
    "---"
   ]
  },
  {
   "cell_type": "markdown",
   "metadata": {},
   "source": [
    "#### Task1:\n",
    "Write a program to read all the characters from the file(“data.txt”) and display in uppercase. "
   ]
  },
  {
   "cell_type": "code",
   "execution_count": null,
   "metadata": {},
   "outputs": [],
   "source": []
  },
  {
   "cell_type": "markdown",
   "metadata": {},
   "source": [
    "#### Task2:\n",
    "Write a program in python to find the number of characters in first line of text file (“data.txt”) using readlines(). "
   ]
  },
  {
   "cell_type": "code",
   "execution_count": null,
   "metadata": {},
   "outputs": [],
   "source": []
  },
  {
   "cell_type": "markdown",
   "metadata": {},
   "source": [
    "#### Task3:\n",
    "Write a program to count number of vowels in a file."
   ]
  },
  {
   "cell_type": "code",
   "execution_count": null,
   "metadata": {},
   "outputs": [],
   "source": []
  },
  {
   "cell_type": "markdown",
   "metadata": {},
   "source": [
    "#### Task4:\n",
    "Write a program to read data from “data.txt” and write in another file “dest.txt”"
   ]
  },
  {
   "cell_type": "code",
   "execution_count": null,
   "metadata": {},
   "outputs": [],
   "source": []
  },
  {
   "cell_type": "markdown",
   "metadata": {},
   "source": [
    "#### Task5:\n",
    "Write a program to read all data from “data.txt” and write in another file “dest.txt” except the vowels. "
   ]
  },
  {
   "cell_type": "code",
   "execution_count": null,
   "metadata": {},
   "outputs": [],
   "source": []
  },
  {
   "cell_type": "markdown",
   "metadata": {},
   "source": [
    "#### Task6:\n",
    "Write a program to read data from file “data.txt” and count the frequency of word input from user. "
   ]
  },
  {
   "cell_type": "code",
   "execution_count": null,
   "metadata": {},
   "outputs": [],
   "source": []
  },
  {
   "cell_type": "markdown",
   "metadata": {},
   "source": [
    "#### Task 7:\n",
    "Write a program to count number of spaces from the file (“data.txt”). "
   ]
  },
  {
   "cell_type": "code",
   "execution_count": null,
   "metadata": {},
   "outputs": [],
   "source": []
  },
  {
   "cell_type": "markdown",
   "metadata": {},
   "source": [
    "---"
   ]
  }
 ],
 "metadata": {
  "kernelspec": {
   "display_name": "Python 3 (ipykernel)",
   "language": "python",
   "name": "python3"
  },
  "language_info": {
   "codemirror_mode": {
    "name": "ipython",
    "version": 3
   },
   "file_extension": ".py",
   "mimetype": "text/x-python",
   "name": "python",
   "nbconvert_exporter": "python",
   "pygments_lexer": "ipython3",
   "version": "3.9.12"
  }
 },
 "nbformat": 4,
 "nbformat_minor": 4
}
