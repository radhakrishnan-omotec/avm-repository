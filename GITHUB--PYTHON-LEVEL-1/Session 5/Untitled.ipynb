{
 "cells": [
  {
   "cell_type": "markdown",
   "id": "66089ba2",
   "metadata": {},
   "source": [
    "# Solution for Session 5"
   ]
  },
  {
   "cell_type": "markdown",
   "id": "2ca88903",
   "metadata": {},
   "source": [
    "#### TASK 8:\n",
    "Exit the loop when x is \"canada\", but this time the break comes before the print\n",
    "```\n",
    "city = [\"amsterdam\", \"new york\", \"canada\"]\n",
    "```"
   ]
  },
  {
   "cell_type": "code",
   "execution_count": 1,
   "id": "ab716b2f",
   "metadata": {},
   "outputs": [
    {
     "name": "stdout",
     "output_type": "stream",
     "text": [
      "amsterdam\n",
      "new york\n"
     ]
    }
   ],
   "source": [
    "city = [\"amsterdam\", \"new york\", \"canada\"]\n",
    "for x in city:\n",
    "  if x == \"canada\":\n",
    "    break\n",
    "  print(x) "
   ]
  },
  {
   "cell_type": "markdown",
   "id": "eeb80166",
   "metadata": {},
   "source": [
    "#### TASK9:\n",
    "Printing all letters except some using Python while loop"
   ]
  },
  {
   "cell_type": "code",
   "execution_count": 12,
   "id": "5d493979",
   "metadata": {},
   "outputs": [
    {
     "name": "stdout",
     "output_type": "stream",
     "text": [
      "Returned letter H\n",
      "Returned letter l\n",
      "Returned letter l\n"
     ]
    }
   ],
   "source": [
    "i = 0 \n",
    "word = \"Hello\"\n",
    "\n",
    "#print all letters except y and o\n",
    "\n",
    "while i < len(word):\n",
    "    if word[i] == \"e\" or word[i] ==\"o\":\n",
    "        i += 1\n",
    "        continue\n",
    "\n",
    "    print(\"Returned letter\",word[i])\n",
    "    i += 1"
   ]
  },
  {
   "cell_type": "markdown",
   "id": "5a5181c0",
   "metadata": {},
   "source": [
    "#### Task 10\n",
    "Write a program to find the sum of the digits of a number accepted from user"
   ]
  },
  {
   "cell_type": "code",
   "execution_count": 13,
   "id": "841689bd",
   "metadata": {},
   "outputs": [
    {
     "name": "stdout",
     "output_type": "stream",
     "text": [
      "10\n"
     ]
    }
   ],
   "source": [
    "\n",
    "\n",
    "# Function to get sum of digits\n",
    "\n",
    "\n",
    "def getSum(n):\n",
    "    sum = 0\n",
    "    while (n != 0):\n",
    "        sum = sum + int(n % 10)\n",
    "        n = int(n/10)\n",
    "    return sum\n",
    "\n",
    "\n",
    "# Driver code\n",
    "n = 1234\n",
    "print(getSum(n))\n"
   ]
  },
  {
   "cell_type": "markdown",
   "id": "be3597fb",
   "metadata": {},
   "source": [
    "#### TASK11:\n",
    "Adding elements to a list using while loop"
   ]
  },
  {
   "cell_type": "code",
   "execution_count": 11,
   "id": "da924c14",
   "metadata": {},
   "outputs": [
    {
     "name": "stdout",
     "output_type": "stream",
     "text": [
      "[0, 1, 2, 3, 4]\n"
     ]
    }
   ],
   "source": [
    "a = []\n",
    "for i in range(5):\n",
    "    a.append(i)\n",
    "print(a)"
   ]
  },
  {
   "cell_type": "markdown",
   "id": "37151813",
   "metadata": {},
   "source": [
    "#### TASK 12:\n",
    "Popping out elements from a list using while loop.\n",
    "```\n",
    "comic_heros = [\"captain america\",\"thor\",\"hulk\",\"iron man\"]\n",
    "```"
   ]
  },
  {
   "cell_type": "code",
   "execution_count": 9,
   "id": "c0e00051",
   "metadata": {},
   "outputs": [
    {
     "name": "stdout",
     "output_type": "stream",
     "text": [
      "Popped element: iron man\n",
      "List after pop(): ['captain america', 'thor', 'hulk']\n"
     ]
    }
   ],
   "source": [
    "comic_heros = [\"captain america\",\"thor\",\"hulk\",\"iron man\"]\n",
    "print(\"Popped element:\", comic_heros.pop())\n",
    "print(\"List after pop():\", comic_heros)\n"
   ]
  },
  {
   "cell_type": "code",
   "execution_count": null,
   "id": "8a5b00cf",
   "metadata": {},
   "outputs": [],
   "source": []
  }
 ],
 "metadata": {
  "kernelspec": {
   "display_name": "Python 3 (ipykernel)",
   "language": "python",
   "name": "python3"
  },
  "language_info": {
   "codemirror_mode": {
    "name": "ipython",
    "version": 3
   },
   "file_extension": ".py",
   "mimetype": "text/x-python",
   "name": "python",
   "nbconvert_exporter": "python",
   "pygments_lexer": "ipython3",
   "version": "3.9.12"
  }
 },
 "nbformat": 4,
 "nbformat_minor": 5
}
