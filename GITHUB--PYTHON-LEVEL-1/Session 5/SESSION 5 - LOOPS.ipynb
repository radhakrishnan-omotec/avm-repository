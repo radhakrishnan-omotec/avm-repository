{
 "cells": [
  {
   "cell_type": "markdown",
   "metadata": {},
   "source": [
    "<img src=\"images/omotec.png\" alt=\"Drawing\" style=\"width: 130px;\" align=\"center\"/>\n",
    "\n",
    "# Session 5 - Loops\n",
    "1. Importance of loops in Programming\n",
    "2. For loop\n",
    "3. range() function\n",
    "4. While loop\n",
    "5. Loop control statement"
   ]
  },
  {
   "cell_type": "markdown",
   "metadata": {},
   "source": [
    "<img src=\"loops.png\" alt=\"Drawing\" style=\"width: 130px;\" align=\"center\"/>"
   ]
  },
  {
   "cell_type": "markdown",
   "metadata": {},
   "source": [
    "---"
   ]
  },
  {
   "cell_type": "markdown",
   "metadata": {},
   "source": [
    "## Importance of loops in Programming\n",
    "\n",
    "lets say we wanted to print `hello world` 5 times. The below cell shows how it can be implimented without for loops"
   ]
  },
  {
   "cell_type": "code",
   "execution_count": null,
   "metadata": {
    "scrolled": true
   },
   "outputs": [],
   "source": [
    "print(\"Hello world\")\n",
    "print(\"Hello world\")\n",
    "print(\"Hello world\")\n",
    "print(\"Hello world\")\n",
    "print(\"Hello world\")"
   ]
  },
  {
   "cell_type": "markdown",
   "metadata": {},
   "source": [
    "**The Idea behind using loops is to**\n",
    "- Reduce the copy paste work\n",
    "- Reduce the number of lines of code (the memory footprnit)"
   ]
  },
  {
   "cell_type": "markdown",
   "metadata": {},
   "source": [
    "The above output can be acheived using for loop as follows :"
   ]
  },
  {
   "cell_type": "code",
   "execution_count": null,
   "metadata": {
    "scrolled": true
   },
   "outputs": [],
   "source": [
    "for x in range(0,5):\n",
    "    print(\"hello world\")"
   ]
  },
  {
   "cell_type": "markdown",
   "metadata": {},
   "source": [
    "We can also use while loop to get the same output"
   ]
  },
  {
   "cell_type": "code",
   "execution_count": null,
   "metadata": {
    "scrolled": true
   },
   "outputs": [],
   "source": [
    "x = 0\n",
    "while x<5:\n",
    "    print(\"hello world\")\n",
    "    x = x+1"
   ]
  },
  {
   "cell_type": "markdown",
   "metadata": {},
   "source": [
    "**As we can see, loops reduces copy and pasting required and also reduces the number of lines of code**"
   ]
  },
  {
   "cell_type": "markdown",
   "metadata": {},
   "source": [
    "## For Loop in Python\n",
    "\n",
    "For loop in python is a bit different that other languages.<br>\n",
    "In python the for loop is used to loop through another iterable datatype or collection datatype (list, string etc)<br>\n",
    "This means we must have a iterable datatype declared first if we want to use a for loop."
   ]
  },
  {
   "attachments": {},
   "cell_type": "markdown",
   "metadata": {},
   "source": [
    "<img src=\"for-loop-python.jpg\" alt=\"Drawing\" style=\"width: 130px;\" align=\"center\"/>"
   ]
  },
  {
   "cell_type": "code",
   "execution_count": null,
   "metadata": {
    "scrolled": false
   },
   "outputs": [],
   "source": [
    "l = [1,2,3,4,5]       # declaring a list with 5 elements in it\n",
    "\n",
    "for x in l:\n",
    "    print(x)"
   ]
  },
  {
   "cell_type": "markdown",
   "metadata": {},
   "source": [
    "The `x` is just a variable name which is used to hold the elements from the list `l` one at a time.<br>\n",
    "We can chose to use or not use the variable in our code."
   ]
  },
  {
   "cell_type": "code",
   "execution_count": null,
   "metadata": {
    "scrolled": true
   },
   "outputs": [],
   "source": [
    "l = [1,2,3,4,5]       # declaring a list with 5 elements in it\n",
    "\n",
    "for abcd in l:\n",
    "    print(\"hello world\")"
   ]
  },
  {
   "cell_type": "markdown",
   "metadata": {},
   "source": [
    "As soon as the elements in the iterable obejct runs out the for loop stops.<br>\n",
    "**which means if we want to have a for loop run for 100 times we will have to create a list or any other iterable which has that many elements in it.**"
   ]
  },
  {
   "cell_type": "markdown",
   "metadata": {},
   "source": [
    "## range() function\n",
    "\n",
    "Range function helps up to overcome the above stated probelems with the for loop.<br>\n",
    "The range function is a generator (we will be locking at geenrators at a later time).<br>\n",
    "All we need to know as of now is that the range function return the value between the limits entered in the stpes provided.<br><br>\n",
    "**Syntax for range**<br>\n",
    "`range(start number, stop number+1, step size)`<br><br>\n",
    "- The step size is 1 by default so we can skip it :)\n",
    "- The stop number should always be added by one as the range is not inclusive."
   ]
  },
  {
   "cell_type": "code",
   "execution_count": null,
   "metadata": {
    "scrolled": true
   },
   "outputs": [],
   "source": [
    "print(range(0,10))"
   ]
  },
  {
   "cell_type": "markdown",
   "metadata": {},
   "source": [
    "The above code returns nothing beacuse the range fucntion is a generator.<br>\n",
    "We must either \n",
    "- cast a range fucntion\n",
    "- Use it inside a loop"
   ]
  },
  {
   "cell_type": "markdown",
   "metadata": {},
   "source": [
    "**casting a range function to create list**"
   ]
  },
  {
   "cell_type": "code",
   "execution_count": null,
   "metadata": {
    "scrolled": true
   },
   "outputs": [],
   "source": [
    "my_list = list(range(0,10))\n",
    "print(my_list)"
   ]
  },
  {
   "cell_type": "markdown",
   "metadata": {},
   "source": [
    "This gives us a quick and handy way of generatig lists. which can be used in a loop. But that is not efefctive as we can direclty use range inside a loop."
   ]
  },
  {
   "cell_type": "markdown",
   "metadata": {},
   "source": [
    "**using Range directly inside the loop**"
   ]
  },
  {
   "cell_type": "code",
   "execution_count": null,
   "metadata": {},
   "outputs": [],
   "source": [
    "for var in range(1,11):\n",
    "    print(var)"
   ]
  },
  {
   "cell_type": "markdown",
   "metadata": {},
   "source": [
    "## TASK 1\n",
    "- **create a list of all even numbers between 0 and 100**"
   ]
  },
  {
   "cell_type": "code",
   "execution_count": null,
   "metadata": {},
   "outputs": [],
   "source": []
  },
  {
   "cell_type": "markdown",
   "metadata": {},
   "source": [
    "Using range() function gives us a for loop which is similar to most other programming languages"
   ]
  },
  {
   "cell_type": "code",
   "execution_count": null,
   "metadata": {},
   "outputs": [],
   "source": [
    "for x in range(0,10):\n",
    "    print(\"hello world\")"
   ]
  },
  {
   "cell_type": "code",
   "execution_count": null,
   "metadata": {},
   "outputs": [],
   "source": []
  },
  {
   "cell_type": "markdown",
   "metadata": {},
   "source": [
    "## While Loop in Python\n",
    "\n",
    "- While loops are useful when we don't know the number of times we might need to execute a certain task<br>\n",
    "- A While loop in python is similar to other languages.<br>\n",
    "- By default a while loop is an Infinite loop.<br>\n",
    "- We need to have control statement to control the execution of a while loop<br><br>\n",
    "**Syntax for while loop**<br><br>\n",
    "`while (condition):\n",
    "    program statement 1\n",
    "    program statement 1\n",
    "    ...\n",
    "    ...\n",
    "    Control statement\n",
    "`\n",
    "<br><br>\n",
    "\n",
    "## Warning!!\n",
    "## Before you execute the below code you must know a few things\n",
    "- The below while loop is an infinite loop without the control statement.\n",
    "- This means the loop will start executing the statement inside the loop indefinitely.\n",
    "- This in rare cases can cause the PC to hang a bit.\n",
    "- You can interrupt the while loop by going to **`Kernel(menu bar)>Restart>`**"
   ]
  },
  {
   "cell_type": "code",
   "execution_count": null,
   "metadata": {},
   "outputs": [],
   "source": [
    "while True:\n",
    "    print(\"hello\")"
   ]
  },
  {
   "cell_type": "markdown",
   "metadata": {},
   "source": [
    "While loop should be used with a control variable which make it a finite loop.<br>\n",
    "In the below example we are using the variable `x` to control the while loop.<br>\n",
    "Control varibales are constantly updated inside the while loop (similar to a counter)<br>"
   ]
  },
  {
   "cell_type": "code",
   "execution_count": null,
   "metadata": {
    "scrolled": false
   },
   "outputs": [],
   "source": [
    "x = 0\n",
    "while x<5:\n",
    "    print(\"hello\")\n",
    "    x = x + 1"
   ]
  },
  {
   "cell_type": "markdown",
   "metadata": {},
   "source": [
    "## Control Statements in Python\n",
    "\n",
    "1. pass\n",
    "2. break \n",
    "3. continue\n",
    "\n",
    "**These keywords interrupt the normal flow of a loop.**<br>\n",
    "The pass keyword can be used with other python objects like if else statements and fucntions"
   ]
  },
  {
   "cell_type": "markdown",
   "metadata": {},
   "source": [
    "# BREAK\n",
    "***Terminates the loop and passes the control to the statement after the loop. If a break statement is mentioned within a nested looping, then the control will be pulled out of the nesting’s most inner loop.***\n",
    "\n",
    "# CONTINUE\n",
    "***Skips the remaining sentences in the loop and checks the condition posted in the loop.***\n",
    "\n",
    "# PASS\n",
    "***It just passes the execution when reaching a specific statement. The pass will be occurring a specific micro second and then starts executing the statement after the pass statement.***"
   ]
  },
  {
   "cell_type": "code",
   "execution_count": null,
   "metadata": {
    "scrolled": false
   },
   "outputs": [],
   "source": [
    "for x in range(0,10):\n",
    "    \n",
    "print(\"hello\")"
   ]
  },
  {
   "cell_type": "markdown",
   "metadata": {},
   "source": [
    "**Pass keyword helps us to have empty for loops or if else statements**"
   ]
  },
  {
   "cell_type": "code",
   "execution_count": null,
   "metadata": {
    "scrolled": false
   },
   "outputs": [],
   "source": [
    "for x in range(0,10):\n",
    "    pass\n",
    "print(\"hello\")"
   ]
  },
  {
   "cell_type": "code",
   "execution_count": null,
   "metadata": {},
   "outputs": [],
   "source": [
    "a = 10\n",
    "b = 11\n",
    "if a<b:\n",
    "    pass\n",
    "print(\"hello\")"
   ]
  },
  {
   "cell_type": "markdown",
   "metadata": {},
   "source": [
    "**The break statement stops the execution of the closest enclosing loop<br>\n",
    "The continue statement skips the loop for that instance.**"
   ]
  },
  {
   "cell_type": "code",
   "execution_count": null,
   "metadata": {
    "scrolled": false
   },
   "outputs": [],
   "source": [
    "for x in range(0,10):\n",
    "    if x == 5:\n",
    "        continue\n",
    "    if x == 8:\n",
    "        break\n",
    "    print(x)"
   ]
  },
  {
   "cell_type": "markdown",
   "metadata": {},
   "source": [
    "## TASK 2\n",
    "- **Given a sentence print out only the words which start with the letter 'f'**"
   ]
  },
  {
   "cell_type": "code",
   "execution_count": null,
   "metadata": {},
   "outputs": [],
   "source": [
    "mystring = \"the quick brown fox jumped over the fence and dissapeared into the forest\"\n",
    "\n",
    "## Write the code here\n",
    "\n"
   ]
  },
  {
   "cell_type": "markdown",
   "metadata": {},
   "source": [
    "## Try printing the following pattern \n",
    "\n",
    "```\n",
    "*\n",
    "**\n",
    "*** \n",
    "****\n",
    "*****\n",
    "```\n",
    "\n",
    "Before we start with the pattern problem we need to understand 2 main concepts\n",
    "- nested loops\n",
    "- the `print()` fucntion in python"
   ]
  },
  {
   "cell_type": "markdown",
   "metadata": {},
   "source": [
    "## Nested loops"
   ]
  },
  {
   "cell_type": "code",
   "execution_count": null,
   "metadata": {
    "scrolled": false
   },
   "outputs": [],
   "source": [
    "for i in range(0,3):\n",
    "    for j in range(0,4):\n",
    "        print(i,j)"
   ]
  },
  {
   "cell_type": "markdown",
   "metadata": {},
   "source": [
    "## The `print()` function\n",
    "\n",
    "The print fucntion always put a enter key press at the end of the string being printed (more technical explanation would be the print statements puta a new line charater at the end of string being printed). This is what causes the next print statement to be on the next line.<br><br>\n",
    "\n",
    "Just to clarify things.....\n",
    "\n",
    "**new line character == enter key press == `\\n`** <br>\n",
    "whenever we press the enter we are entering a new line character which is invisible to us but is there at the end of that line.<br><br>\n",
    "\n",
    "Although very importnat we might have not noticed this behaviour. Lets just look at an example."
   ]
  },
  {
   "cell_type": "code",
   "execution_count": null,
   "metadata": {
    "scrolled": true
   },
   "outputs": [],
   "source": [
    "print('hello')\n",
    "print('world')"
   ]
  },
  {
   "cell_type": "markdown",
   "metadata": {},
   "source": [
    "Look how 'hello' and 'world' truned out to be in new lines even though we didn't specify them to be on new lines. This points out that python is entering the newline character(\\n) at the end of string.\n",
    "\n",
    "We can stop python from doing this by specifying the end keyword to be empyt."
   ]
  },
  {
   "cell_type": "code",
   "execution_count": null,
   "metadata": {},
   "outputs": [],
   "source": [
    "print('hello',end = '')\n",
    "print('world')"
   ]
  },
  {
   "cell_type": "markdown",
   "metadata": {},
   "source": [
    "By default the end is equal to '\\n' so the new line appears. we can confirm this with an example."
   ]
  },
  {
   "cell_type": "code",
   "execution_count": null,
   "metadata": {
    "scrolled": true
   },
   "outputs": [],
   "source": [
    "print('hello',end = '\\n')\n",
    "print('world')"
   ]
  },
  {
   "cell_type": "markdown",
   "metadata": {},
   "source": [
    "**Now we have all the information to tackle the pattern problems**"
   ]
  },
  {
   "cell_type": "code",
   "execution_count": null,
   "metadata": {},
   "outputs": [],
   "source": [
    "for x in range(1,6):\n",
    "    for i in range(0,x):\n",
    "        print(\"*\",end = '')\n",
    "    print()"
   ]
  },
  {
   "cell_type": "code",
   "execution_count": null,
   "metadata": {},
   "outputs": [],
   "source": []
  },
  {
   "cell_type": "markdown",
   "metadata": {},
   "source": [
    "# REVISION\n",
    "<br>1.for<br>\n",
    "<br>2.range<br>\n",
    "<br>3.nested for\n",
    "<br>4.print function\n",
    "5.Control statements (break,continue,pass)"
   ]
  },
  {
   "cell_type": "markdown",
   "metadata": {},
   "source": [
    "# HOMEWORK\n",
    "**1. Print the following star pattern using nested for loop**\n",
    "\n",
    "```\n",
    "*****\n",
    "****\n",
    "***\n",
    "**\n",
    "*\n",
    "```\n",
    "\n",
    "**2. print the above pattern but the number of rows depends on the user input**\n",
    "\n",
    "**3. print the above pattern but the number of rows depends on the user input**\n",
    "\n",
    "```\n",
    "----*\n",
    "---**\n",
    "--***\n",
    "-****\n",
    "*****\n",
    "```\n",
    "\n",
    "**4. Write a program that prints the integers from 1 to 100.**\n",
    "    - But for multiples of three print \"Fizz\" instead of the number\n",
    "    - For the multiples of five print \"Buzz\". \n",
    "    - For numbers which are multiples of both three and five print \"FizzBuzz\".\n",
    "    \n",
    "**5. Create an application which keeps taking input from the user unless he enters a `q`**\n",
    "\n",
    "**6. Create an Guessing Game**\n",
    "- The user has 5 chance to guess a random number.\n",
    "- After every guess the user should be given a hint if the guessd number was lesser than or greater than the actual random number\n",
    "- If the user wins the game by guessing the correct number before his 5 chance is over. \"you have won\"  should be printed.\n",
    "- If the user is not able to guess the number. Print \"you lost\" along with the actual number."
   ]
  },
  {
   "cell_type": "markdown",
   "metadata": {},
   "source": [
    "# HOMEWORK SOLUTION"
   ]
  },
  {
   "cell_type": "code",
   "execution_count": 8,
   "metadata": {},
   "outputs": [
    {
     "name": "stdout",
     "output_type": "stream",
     "text": [
      "*****\n",
      "****\n",
      "***\n",
      "**\n",
      "*\n"
     ]
    }
   ],
   "source": [
    "# TASK 1 :\n",
    "\n",
    "for x in range(1,6):\n",
    "    for i in range(x,6):\n",
    "        print(\"*\",end = '')\n",
    "    print()"
   ]
  },
  {
   "cell_type": "code",
   "execution_count": 9,
   "metadata": {},
   "outputs": [
    {
     "name": "stdout",
     "output_type": "stream",
     "text": [
      "enter number of rows: 5\n",
      "*****\n",
      "****\n",
      "***\n",
      "**\n",
      "*\n"
     ]
    }
   ],
   "source": [
    "#TASK 2:\n",
    "rows = int(input(\"enter number of rows: \"))\n",
    "\n",
    "for x in range(rows):\n",
    "    for i in range(x,rows):\n",
    "        print(\"*\",end = '')\n",
    "    print()"
   ]
  },
  {
   "cell_type": "code",
   "execution_count": 11,
   "metadata": {},
   "outputs": [
    {
     "name": "stdout",
     "output_type": "stream",
     "text": [
      "enter number of rows: 5\n",
      "----*\n",
      "---**\n",
      "--***\n",
      "-****\n",
      "*****\n"
     ]
    }
   ],
   "source": [
    "#TASK 3:\n",
    "\n",
    "rows = int(input(\"enter number of rows: \"))\n",
    "\n",
    "star =1\n",
    "dash =4\n",
    "for x in range(rows):\n",
    "    for i in range(dash):\n",
    "        print(\"-\",end = '')\n",
    "        \n",
    "        \n",
    "    for j in range(star):        \n",
    "        print(\"*\",end = '')\n",
    "        \n",
    "    star+=1\n",
    "    dash-=1\n",
    "    \n",
    "    print()"
   ]
  },
  {
   "cell_type": "code",
   "execution_count": 2,
   "metadata": {},
   "outputs": [
    {
     "name": "stdout",
     "output_type": "stream",
     "text": [
      "3 Fizz\n",
      "5 Buzz\n",
      "6 Fizz\n",
      "9 Fizz\n",
      "10 Buzz\n",
      "12 Fizz\n",
      "15 FizzBuzz\n",
      "18 Fizz\n",
      "20 Buzz\n",
      "21 Fizz\n",
      "24 Fizz\n",
      "25 Buzz\n",
      "27 Fizz\n",
      "30 FizzBuzz\n",
      "33 Fizz\n",
      "35 Buzz\n",
      "36 Fizz\n",
      "39 Fizz\n",
      "40 Buzz\n",
      "42 Fizz\n",
      "45 FizzBuzz\n",
      "48 Fizz\n",
      "50 Buzz\n",
      "51 Fizz\n",
      "54 Fizz\n",
      "55 Buzz\n",
      "57 Fizz\n",
      "60 FizzBuzz\n",
      "63 Fizz\n",
      "65 Buzz\n",
      "66 Fizz\n",
      "69 Fizz\n",
      "70 Buzz\n",
      "72 Fizz\n",
      "75 FizzBuzz\n",
      "78 Fizz\n",
      "80 Buzz\n",
      "81 Fizz\n",
      "84 Fizz\n",
      "85 Buzz\n",
      "87 Fizz\n",
      "90 FizzBuzz\n",
      "93 Fizz\n",
      "95 Buzz\n",
      "96 Fizz\n",
      "99 Fizz\n"
     ]
    }
   ],
   "source": [
    "#TASK 5:\n",
    "\n",
    "for i in range(1,100):\n",
    "    if i%3 ==0 and i %5 ==0:\n",
    "        print(i,end=\" \")\n",
    "        print(\"FizzBuzz\")\n",
    "        \n",
    "    elif i % 5 ==0:\n",
    "        print(i,end=\" \")\n",
    "        print(\"Buzz\")\n",
    "        \n",
    "    elif i%3 ==0:\n",
    "        print(i,end=\" \")\n",
    "        print(\"Fizz\")"
   ]
  },
  {
   "cell_type": "code",
   "execution_count": null,
   "metadata": {},
   "outputs": [],
   "source": [
    "#TASK 6:\n",
    "while True:\n",
    "    choice=input(\"Do you want to stop press q or else press enter\")\n",
    "    if choice ==\"q\":\n",
    "        print(\"everything stopped\")\n",
    "        break\n",
    "        \n",
    "    else:\n",
    "        print(\"Everything is allright \")\n",
    "        \n",
    "    "
   ]
  },
  {
   "cell_type": "code",
   "execution_count": null,
   "metadata": {},
   "outputs": [],
   "source": [
    "#TASK 7:\n",
    "\n",
    "import random \n",
    "\n",
    "random_choice = random.randint(1,6)\n",
    "\n",
    "for i in range(5):\n",
    "    user_choice = int(input(\"Enter your choice from 1 to 6     \"))\n",
    "    if user_choice == random_choice:\n",
    "        print(\"you have won \")\n",
    "        break\n",
    "    elif user_choice < random_choice:\n",
    "        print(\"Your number is less than the actual number\")\n",
    "            \n",
    "    else:\n",
    "        print(\"Your number is greater than the actual number\")  \n",
    "            \n",
    "print(\"You lost !! Actual number is \",random_choice)\n",
    "        "
   ]
  },
  {
   "cell_type": "code",
   "execution_count": null,
   "metadata": {},
   "outputs": [],
   "source": [
    "# TASK 8:\n",
    "Exit the loop when x is \"new york\", but this time the break comes before the print\n",
    "city = [\"amsterdam\", \"new york\", \"canada\"]"
   ]
  },
  {
   "cell_type": "code",
   "execution_count": null,
   "metadata": {},
   "outputs": [],
   "source": []
  },
  {
   "cell_type": "code",
   "execution_count": null,
   "metadata": {},
   "outputs": [],
   "source": [
    "# TASK9:\n",
    "Write a program to display product of the digits of a number accepted from the user."
   ]
  },
  {
   "cell_type": "code",
   "execution_count": null,
   "metadata": {},
   "outputs": [],
   "source": []
  },
  {
   "cell_type": "code",
   "execution_count": null,
   "metadata": {},
   "outputs": [],
   "source": [
    "# TASK10:\n",
    "Write a program to find the sum of the digits of a number accepted from user"
   ]
  },
  {
   "cell_type": "code",
   "execution_count": null,
   "metadata": {},
   "outputs": [],
   "source": [
    "# TASK11:\n",
    "Adding elements to a list using while loop"
   ]
  },
  {
   "cell_type": "code",
   "execution_count": null,
   "metadata": {},
   "outputs": [],
   "source": []
  },
  {
   "cell_type": "code",
   "execution_count": null,
   "metadata": {},
   "outputs": [],
   "source": [
    "#TASK 12:\n",
    "Popping out elements from a list using while loop.\n",
    "comic heros = [\"captain america\",\"thor\",\"hulk\",\"iron man\"]"
   ]
  },
  {
   "cell_type": "code",
   "execution_count": null,
   "metadata": {},
   "outputs": [],
   "source": []
  }
 ],
 "metadata": {
  "kernelspec": {
   "display_name": "Python 3 (ipykernel)",
   "language": "python",
   "name": "python3"
  },
  "language_info": {
   "codemirror_mode": {
    "name": "ipython",
    "version": 3
   },
   "file_extension": ".py",
   "mimetype": "text/x-python",
   "name": "python",
   "nbconvert_exporter": "python",
   "pygments_lexer": "ipython3",
   "version": "3.9.12"
  }
 },
 "nbformat": 4,
 "nbformat_minor": 4
}
