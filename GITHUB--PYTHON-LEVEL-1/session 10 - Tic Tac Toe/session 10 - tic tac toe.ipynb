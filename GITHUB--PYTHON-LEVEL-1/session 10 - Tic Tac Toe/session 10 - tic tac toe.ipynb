{
 "cells": [
  {
   "attachments": {},
   "cell_type": "markdown",
   "metadata": {},
   "source": [
    "<img src=\"images/omotec.png\" alt=\"Drawing\" style=\"width: 130px;\" align=\"center\"/>"
   ]
  },
  {
   "attachments": {},
   "cell_type": "markdown",
   "metadata": {},
   "source": [
    "## TIC TAC TOE GAME \n",
    "\n",
    "<img src=\"images/ttc1.png\" alt=\"Drawing\" style=\"width: 300px;\" align=\"center\"/>\n"
   ]
  },
  {
   "attachments": {},
   "cell_type": "markdown",
   "metadata": {},
   "source": [
    "## Step 1: Importing required modules and initializing the Pygame\n",
    "\n",
    "- In this step, we import the Pygame module and the sys module. \n",
    "- The Pygame module is required to create games using Python, while the sys module is required to quit the game when the user closes the game   window. \n",
    "- We then initialize Pygame using the pygame.init() function."
   ]
  },
  {
   "cell_type": "code",
   "execution_count": 32,
   "metadata": {},
   "outputs": [
    {
     "data": {
      "text/plain": [
       "(5, 0)"
      ]
     },
     "execution_count": 32,
     "metadata": {},
     "output_type": "execute_result"
    }
   ],
   "source": [
    "import pygame\n",
    "import sys\n",
    "\n",
    "# Initialize Pygame\n",
    "pygame.init()"
   ]
  },
  {
   "attachments": {},
   "cell_type": "markdown",
   "metadata": {},
   "source": [
    "## Step 2: Defining Constants and Colors\n",
    "- Here we define the constants and colors used in the game. WINDOW_SIZE represents the size of the game window, GRID_SIZE represents the size of each grid cell in the game, and LINE_WIDTH represents the width of the lines that are drawn to create the game grid.\n",
    "\n",
    "- We also define three colors WHITE, BLACK, and LINE_COLOR used in the game.\n"
   ]
  },
  {
   "cell_type": "code",
   "execution_count": 33,
   "metadata": {},
   "outputs": [],
   "source": [
    "\n",
    "# Constants\n",
    "WINDOW_SIZE = 300\n",
    "GRID_SIZE = 100\n",
    "LINE_WIDTH = 5\n",
    "\n",
    "# Colors\n",
    "WHITE = (255, 255, 255)\n",
    "BLACK = (0, 0, 0)\n",
    "LINE_COLOR = (0, 0, 0)"
   ]
  },
  {
   "attachments": {},
   "cell_type": "markdown",
   "metadata": {},
   "source": [
    "## Step 3: Setting up the display\n",
    "- In this step, we set up the Pygame display. We create a Pygame window using the pygame.display.set_mode() function and passing the WINDOW_SIZE tuple (300, 300) as its argument. \n",
    "- We then set the caption of the window using the pygame.display.set_caption() function."
   ]
  },
  {
   "cell_type": "code",
   "execution_count": 34,
   "metadata": {},
   "outputs": [],
   "source": [
    "# Set up the display\n",
    "screen = pygame.display.set_mode((WINDOW_SIZE, WINDOW_SIZE))\n",
    "pygame.display.set_caption('Tic Tac Toe')"
   ]
  },
  {
   "attachments": {},
   "cell_type": "markdown",
   "metadata": {},
   "source": [
    "## Step 4: Setting up the game state \n",
    "- Here we set up the game state. We create a game_board list of lists to store the game state. Each element of the game_board represents a grid cell in the game. Initially, all cells are empty and represented by a space character.\n",
    "\n",
    "- We also create a current_player variable to keep track of the player whose turn it is. The player is initialized as 'X'."
   ]
  },
  {
   "cell_type": "code",
   "execution_count": 35,
   "metadata": {},
   "outputs": [],
   "source": [
    "# Set up the game state\n",
    "game_board = [[' ' for _ in range(3)] for _ in range(3)]\n",
    "current_player = 'X'\n"
   ]
  },
  {
   "attachments": {},
   "cell_type": "markdown",
   "metadata": {},
   "source": [
    "## Step 5: Defining the check_win() function\n",
    "- This function is used to check if the current player has won the game. It takes two arguments, board and player. board is the current game board state, and player is the current player ('X' or 'O').\n",
    "\n",
    "- The function checks all the rows and columns of the board and both diagonals for a win by the player. If the player has won, the function returns True, otherwise, it returns False."
   ]
  },
  {
   "cell_type": "code",
   "execution_count": 36,
   "metadata": {},
   "outputs": [],
   "source": [
    "def check_win(board, player):\n",
    "    for row in board:\n",
    "        if all(cell == player for cell in row):\n",
    "            return True\n",
    "    for col in range(3):\n",
    "        if all(board[row][col] == player for row in range(3)):\n",
    "            return True\n",
    "    if all(board[i][i] == player for i in range(3)) or all(board[i][2 - i] == player for i in range(3)):\n",
    "        return True\n",
    "    return False\n",
    "\n"
   ]
  },
  {
   "attachments": {},
   "cell_type": "markdown",
   "metadata": {},
   "source": [
    "## Step 6: Defining the draw_lines(), draw_x(), and draw_o() functions\n",
    "\n",
    "- The draw_lines() function draws the grid lines for the game. It does this by iterating over the range from 1 to 3, and for each iteration, it draws a vertical line from the top to the bottom of the screen at the x-coordinate i * GRID_SIZE, and a horizontal line from the left to the right of the screen at the y-coordinate i * GRID_SIZE. The LINE_COLOR and LINE_WIDTH variables are used to set the color and thickness of the lines.\n",
    "\n",
    "- The draw_x(row, col) function draws an \"X\" symbol at a specific row and column on the game board. It first calculates an offset variable, which is half the size of a grid square, rounded down to the nearest integer. It then draws two diagonal lines to form the \"X\" shape, using the coordinates of the top-left and bottom-right corners of the square.\n",
    "\n",
    "- The draw_o(row, col) function draws an \"O\" symbol at a specific row and column on the game board. It first calculates the same offset variable as in the draw_x() function. It then draws a circle centered at the midpoint of the square, using a radius equal to half the size of the square minus the offset value. The BLACK variable is used to set the color of the circle.\n",
    "\n",
    "- These functions can be used together to draw a complete tic-tac-toe game board on the screen, with X's and O's being drawn in specific locations as the game progresses."
   ]
  },
  {
   "cell_type": "code",
   "execution_count": 37,
   "metadata": {},
   "outputs": [],
   "source": [
    "def draw_lines():\n",
    "    for i in range(1, 3):\n",
    "        pygame.draw.line(screen, LINE_COLOR, (i * GRID_SIZE, 0), (i * GRID_SIZE, WINDOW_SIZE), LINE_WIDTH)\n",
    "        pygame.draw.line(screen, LINE_COLOR, (0, i * GRID_SIZE), (WINDOW_SIZE, i * GRID_SIZE), LINE_WIDTH)\n",
    "\n",
    "def draw_x(row, col):\n",
    "    offset = GRID_SIZE // 4\n",
    "    pygame.draw.line(screen, LINE_COLOR, (col * GRID_SIZE + offset, row * GRID_SIZE + offset),\n",
    "                     ((col + 1) * GRID_SIZE - offset, (row + 1) * GRID_SIZE - offset), LINE_WIDTH)\n",
    "    pygame.draw.line(screen, LINE_COLOR, ((col + 1) * GRID_SIZE - offset, row * GRID_SIZE + offset),\n",
    "                     (col * GRID_SIZE + offset, (row + 1) * GRID_SIZE - offset), LINE_WIDTH)\n",
    "\n",
    "def draw_o(row, col):\n",
    "    offset = GRID_SIZE // 4\n",
    "    pygame.draw.circle(screen, BLACK, (col * GRID_SIZE + GRID_SIZE // 2, row * GRID_SIZE + GRID_SIZE // 2),\n",
    "                       GRID_SIZE // 2 - offset, LINE_WIDTH)"
   ]
  },
  {
   "attachments": {},
   "cell_type": "markdown",
   "metadata": {},
   "source": [
    "## Step 7 : Main game loop\n",
    "- The while loop runs as long as the variable running is True. In each iteration of the loop, the screen is filled with the WHITE color and the lines for the tic-tac-toe grid are drawn using the draw_lines() function.\n",
    "\n",
    "- Then, the loop iterates over the events that have occurred since the last time the loop ran using the pygame.event.get() method. If the user clicks the \"close\" button in the window, running is set to False and the loop will exit.\n",
    "\n",
    "- Otherwise, if the game is not over and the user clicks the mouse button, the row and column of the clicked cell are calculated based on the mouse position. If the clicked cell is empty, the current player's symbol ('X' or 'O') is placed in the cell using the game_board list.\n",
    "\n",
    "- The check_win() function is called to check if the current player has won the game. If the player has won, a message is printed to the console and game_over is set to True. Otherwise, it is the other player's turn.\n",
    "\n",
    "- After all the events are processed, the draw_x() and draw_o() functions are called to draw the symbols of the players on the screen based on the current state of the game_board list.\n",
    "\n",
    "- Finally, the pygame.display.flip() method updates the display and shows the new state of the screen to the user."
   ]
  },
  {
   "cell_type": "code",
   "execution_count": 38,
   "metadata": {},
   "outputs": [],
   "source": [
    "# Main game loop\n",
    "running = True\n",
    "game_over = False\n",
    "\n",
    "while running:\n",
    "    screen.fill(WHITE)\n",
    "    draw_lines()\n",
    "\n",
    "    for event in pygame.event.get():\n",
    "        if event.type == pygame.QUIT:\n",
    "            running = False\n",
    "\n",
    "        if not game_over and event.type == pygame.MOUSEBUTTONDOWN:\n",
    "            x, y = event.pos\n",
    "            row, col = y // GRID_SIZE, x // GRID_SIZE\n",
    "\n",
    "            if game_board[row][col] == ' ':\n",
    "                game_board[row][col] = current_player\n",
    "\n",
    "                if check_win(game_board, current_player):\n",
    "                    print(f\"Player {current_player} wins!\")\n",
    "                    game_over = True\n",
    "                else:\n",
    "                    current_player = 'O' if current_player == 'X' else 'X'\n",
    "                # Draw symbols\n",
    "    for row in range(3):\n",
    "        for col in range(3):\n",
    "            if game_board[row][col] == 'X':\n",
    "                draw_x(row, col)\n",
    "            elif game_board[row][col] == 'O':\n",
    "                draw_o(row, col)\n",
    "\n",
    "    pygame.display.flip()\n"
   ]
  },
  {
   "cell_type": "code",
   "execution_count": null,
   "metadata": {},
   "outputs": [],
   "source": [
    "pygame.quit()\n",
    "sys.exit()"
   ]
  },
  {
   "cell_type": "markdown",
   "metadata": {},
   "source": []
  }
 ],
 "metadata": {
  "kernelspec": {
   "display_name": "Python 3",
   "language": "python",
   "name": "python3"
  },
  "language_info": {
   "codemirror_mode": {
    "name": "ipython",
    "version": 3
   },
   "file_extension": ".py",
   "mimetype": "text/x-python",
   "name": "python",
   "nbconvert_exporter": "python",
   "pygments_lexer": "ipython3",
   "version": "3.11.1"
  },
  "orig_nbformat": 4
 },
 "nbformat": 4,
 "nbformat_minor": 2
}
