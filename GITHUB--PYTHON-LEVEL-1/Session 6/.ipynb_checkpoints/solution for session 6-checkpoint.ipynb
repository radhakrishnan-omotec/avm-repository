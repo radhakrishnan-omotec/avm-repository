{
 "cells": [
  {
   "cell_type": "markdown",
   "id": "e2e20506",
   "metadata": {},
   "source": [
    "# Solution for Session 6"
   ]
  },
  {
   "cell_type": "markdown",
   "id": "e4923fa6",
   "metadata": {},
   "source": [
    "#### TASK 4:\n",
    "Write a Python function to find the Max of three numbers"
   ]
  },
  {
   "cell_type": "code",
   "execution_count": 16,
   "id": "c3513a2e",
   "metadata": {},
   "outputs": [
    {
     "name": "stdout",
     "output_type": "stream",
     "text": [
      "6\n"
     ]
    }
   ],
   "source": [
    "def max_of_two( x, y ):\n",
    "    if x > y:\n",
    "        return x\n",
    "    return y\n",
    "def max_of_three( x, y, z ):\n",
    "    return max_of_two( x, max_of_two( y, z ) )\n",
    "print(max_of_three(3, 6, -5))"
   ]
  },
  {
   "cell_type": "markdown",
   "id": "b211a4bc",
   "metadata": {},
   "source": [
    "---"
   ]
  },
  {
   "cell_type": "markdown",
   "id": "842834b5",
   "metadata": {},
   "source": [
    "#### TASK 5:\n",
    "Write a Python function to check whether a number falls in a given range"
   ]
  },
  {
   "cell_type": "code",
   "execution_count": 17,
   "id": "96c5882f",
   "metadata": {},
   "outputs": [
    {
     "name": "stdout",
     "output_type": "stream",
     "text": [
      " 5 is in the range\n"
     ]
    }
   ],
   "source": [
    "def test_range(n):\n",
    "    if n in range(3,9):\n",
    "        print( \" %s is in the range\"%str(n))\n",
    "    else :\n",
    "        print(\"The number is outside the given range.\")\n",
    "test_range(5)"
   ]
  },
  {
   "cell_type": "markdown",
   "id": "d99f4752",
   "metadata": {},
   "source": [
    "---"
   ]
  },
  {
   "cell_type": "markdown",
   "id": "fd5ce4b3",
   "metadata": {},
   "source": [
    "#### TASK 6:\n",
    "Write a Python program to print the even numbers from a given list"
   ]
  },
  {
   "cell_type": "code",
   "execution_count": 18,
   "id": "13e506c2",
   "metadata": {},
   "outputs": [
    {
     "name": "stdout",
     "output_type": "stream",
     "text": [
      "[2, 4, 6, 8]\n"
     ]
    }
   ],
   "source": [
    "def is_even_num(l):\n",
    "    enum = []\n",
    "    for n in l:\n",
    "        if n % 2 == 0:\n",
    "            enum.append(n)\n",
    "    return enum\n",
    "print(is_even_num([1, 2, 3, 4, 5, 6, 7, 8, 9]))"
   ]
  },
  {
   "cell_type": "markdown",
   "id": "8db99630",
   "metadata": {},
   "source": [
    "---"
   ]
  },
  {
   "cell_type": "markdown",
   "id": "faa1358f",
   "metadata": {},
   "source": [
    "#### TASK 7:\n",
    "Write a program to create function calculation() such that it can accept two variables and calculate addition and subtraction.\n",
    "Also, it must return both addition and subtraction in a single return call."
   ]
  },
  {
   "cell_type": "code",
   "execution_count": 19,
   "id": "4d824898",
   "metadata": {},
   "outputs": [
    {
     "name": "stdout",
     "output_type": "stream",
     "text": [
      "(50, 30)\n"
     ]
    }
   ],
   "source": [
    "def calculation(a, b):\n",
    "    return a+b, a-b\n",
    "\n",
    "res = calculation(40, 10)\n",
    "print(res)"
   ]
  },
  {
   "cell_type": "markdown",
   "id": "9a067abb",
   "metadata": {},
   "source": [
    "---"
   ]
  },
  {
   "cell_type": "markdown",
   "id": "e99edfa3",
   "metadata": {},
   "source": [
    "#### TASK 8:\n",
    "write a code to find the function to check whether x is even or odd"
   ]
  },
  {
   "cell_type": "code",
   "execution_count": 20,
   "id": "48250ffa",
   "metadata": {},
   "outputs": [
    {
     "name": "stdout",
     "output_type": "stream",
     "text": [
      "odd\n",
      "odd\n"
     ]
    }
   ],
   "source": [
    "# A simple Python function to check\n",
    "# whether x is even or odd\n",
    "\n",
    "\n",
    "def evenOdd(x):\n",
    "    if (x % 2 == 0):\n",
    "        print(\"even\")\n",
    "    else:\n",
    "        print(\"odd\")\n",
    "\n",
    "\n",
    "# Driver code to call the function\n",
    "evenOdd(33)\n",
    "evenOdd(3)\n"
   ]
  },
  {
   "cell_type": "markdown",
   "id": "2b55c7ce",
   "metadata": {},
   "source": [
    "---"
   ]
  }
 ],
 "metadata": {
  "kernelspec": {
   "display_name": "Python 3 (ipykernel)",
   "language": "python",
   "name": "python3"
  },
  "language_info": {
   "codemirror_mode": {
    "name": "ipython",
    "version": 3
   },
   "file_extension": ".py",
   "mimetype": "text/x-python",
   "name": "python",
   "nbconvert_exporter": "python",
   "pygments_lexer": "ipython3",
   "version": "3.9.12"
  }
 },
 "nbformat": 4,
 "nbformat_minor": 5
}
