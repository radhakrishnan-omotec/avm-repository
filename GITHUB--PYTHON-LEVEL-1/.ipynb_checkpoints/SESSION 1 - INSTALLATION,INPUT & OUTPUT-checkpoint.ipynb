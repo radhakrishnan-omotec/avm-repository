{
 "cells": [
  {
   "cell_type": "markdown",
   "metadata": {},
   "source": [
    "<img src=\"images/omotec.png\" alt=\"Drawing\" style=\"width: 130px;\" align=\"center\"/>\n",
    "\n",
    "# Session 1\n",
    "1. Setting up Jupyter notebook\n",
    "2. print() function\n",
    "3. input() function\n",
    "4. Variables\n",
    "\n",
    "---\n",
    "\n",
    "# 1. Setting up Jupyter notebook\n",
    "### We will be using jupyter notebook throughou the course as it is very easy to use.\n",
    "\n",
    "We will be installing jupyter notebook inside the python installation itself. \n",
    "\n",
    "\n",
    "---\n",
    "\n",
    "**For Windows**\n",
    "\n",
    " - open command prompt and type\n",
    "\n",
    "`pip install jupyter`\n",
    "\n",
    "---\n",
    "\n",
    "**For Mac**\n",
    "\n",
    " - open Terminal and type\n",
    "\n",
    "`pip3 install jupyter`\n",
    "\n",
    "<img src=\"images/jupyter.jpg\" alt=\"Drawing\" style=\"width: 600px;\" align=\"center\"/>"
   ]
  },
  {
   "cell_type": "markdown",
   "metadata": {},
   "source": [
    "#### Once the installation process is over open command prompt or terminal and type `jupyter notebook`\n",
    "<img src=\"images/jupyter_1.jpg\" alt=\"Drawing\" style=\"width: 600px;\" align=\"center\"/>\n",
    "\n",
    "#### This should open a new browser window which is the Jupyter notebook\n",
    "**NOTE : Don't close the terminal/command prompt while you are using jupyter notebook**"
   ]
  },
  {
   "cell_type": "markdown",
   "metadata": {},
   "source": [
    "# 2. print() function\n",
    "\n",
    "\n",
    "Print function allows python to output useful infomation.<br>\n",
    "Anything we write in inverted quotes inside the function will come up as it is on the screen\n",
    "\n",
    "**NOTE : Functions will always have open and close brackets**"
   ]
  },
  {
   "cell_type": "code",
   "execution_count": 2,
   "metadata": {},
   "outputs": [
    {
     "name": "stdout",
     "output_type": "stream",
     "text": [
      "hello world\n"
     ]
    }
   ],
   "source": [
    "print(\"hello world\")"
   ]
  },
  {
   "cell_type": "markdown",
   "metadata": {},
   "source": [
    "Anythhing written in inverted quotes is considered a string in python. We will be learning about strings in detail in the next session."
   ]
  },
  {
   "cell_type": "markdown",
   "metadata": {},
   "source": [
    "---"
   ]
  },
  {
   "cell_type": "markdown",
   "metadata": {},
   "source": [
    "# 3. input() function\n",
    "\n",
    "\n",
    "Input function allows python to take in input from users<br>\n",
    "While taking inputs we have an option to prompt the user.\n",
    "\n",
    "**NOTE : Functions will always have open and close brackets**"
   ]
  },
  {
   "cell_type": "code",
   "execution_count": 3,
   "metadata": {},
   "outputs": [
    {
     "name": "stdout",
     "output_type": "stream",
     "text": [
      "enter a number : 1000\n"
     ]
    },
    {
     "data": {
      "text/plain": [
       "'1000'"
      ]
     },
     "execution_count": 3,
     "metadata": {},
     "output_type": "execute_result"
    }
   ],
   "source": [
    "input(\"enter a number : \")"
   ]
  },
  {
   "cell_type": "markdown",
   "metadata": {},
   "source": [
    "#### The above line of code does not make sense as we are taking input from the user and not storing it anywhere\n",
    "#### To store data we need to use variables"
   ]
  },
  {
   "cell_type": "markdown",
   "metadata": {},
   "source": [
    "---"
   ]
  },
  {
   "cell_type": "markdown",
   "metadata": {},
   "source": [
    "# 4. Variables and Rules for naming varibales\n",
    "**Variables are nothing but reserved memory locations to store values. This means that when you create a variable you reserve some space in memory.**\n",
    "<br><br>\n",
    "In other words\n",
    "<br>\n",
    "**Variables store data. Data can be of any datatype.**"
   ]
  },
  {
   "cell_type": "markdown",
   "metadata": {},
   "source": [
    "###  Rules for naming varibales\n",
    "- A variable name must start with a letter or the underscore character\n",
    "- A variable name cannot start with a number\n",
    "- A variable name can only contain alpha-numeric characters and underscores (A-z, 0-9, and _ )\n",
    "- Variable names are case-sensitive (age, Age and AGE are three different variables)"
   ]
  },
  {
   "cell_type": "markdown",
   "metadata": {},
   "source": [
    "In the below cell we are assigning the integer value 10 to the variable 'a'"
   ]
  },
  {
   "cell_type": "code",
   "execution_count": 1,
   "metadata": {
    "scrolled": true
   },
   "outputs": [],
   "source": [
    "a = 10"
   ]
  },
  {
   "cell_type": "markdown",
   "metadata": {},
   "source": [
    "Having learned about variables we can use input() fucntion in a better way"
   ]
  },
  {
   "cell_type": "code",
   "execution_count": 5,
   "metadata": {},
   "outputs": [
    {
     "name": "stdout",
     "output_type": "stream",
     "text": [
      "enter a number : 1000\n",
      "1000\n"
     ]
    }
   ],
   "source": [
    "a = input(\"enter a number : \")\n",
    "print(a)"
   ]
  },
  {
   "cell_type": "markdown",
   "metadata": {},
   "source": [
    "In the above example we are taking an input and storing the data into the variable `a` and later printing it out"
   ]
  },
  {
   "cell_type": "markdown",
   "metadata": {},
   "source": [
    "**NOTE : We are not writing the variable name `a` in inverted quotes**<br>\n",
    "This is beacuse we need to print the value of the data stored in the variable and not the character \"a\" itself."
   ]
  },
  {
   "cell_type": "markdown",
   "metadata": {},
   "source": [
    "\n",
    "----\n",
    "**REVISION**\n",
    "\n",
    "1. Understanding : python , syntax\n",
    "2. input command\n",
    "3. print command\n",
    "4. Variable and its rules\n",
    "\n",
    "---"
   ]
  },
  {
   "cell_type": "markdown",
   "metadata": {},
   "source": [
    "\n",
    "---\n",
    "**HOMEWORK**\n",
    "\n",
    "1. Take input from user like name,age, fruit etc. and print the information \n",
    "\n",
    "---"
   ]
  },
  {
   "cell_type": "markdown",
   "metadata": {},
   "source": [
    "**HOMEWORK SOLUTION**\n",
    "\n"
   ]
  },
  {
   "cell_type": "code",
   "execution_count": 3,
   "metadata": {},
   "outputs": [
    {
     "name": "stdout",
     "output_type": "stream",
     "text": [
      "Enter your name :  omotec\n",
      "Enter your age :  5\n",
      "Enter your favourite fruit: robotics\n",
      "omotec\n",
      "5\n",
      "robotics\n"
     ]
    }
   ],
   "source": [
    "#TASK 1\n",
    "\n",
    "name =input(\"Enter your name :  \")\n",
    "age = input(\"Enter your age :  \")\n",
    "fruit = input(\"Enter your favourite fruit: \")\n",
    "\n",
    "print(name)\n",
    "print(age)\n",
    "print(fruit)\n"
   ]
  },
  {
   "cell_type": "code",
   "execution_count": null,
   "metadata": {},
   "outputs": [],
   "source": []
  }
 ],
 "metadata": {
  "kernelspec": {
   "display_name": "Python 3",
   "language": "python",
   "name": "python3"
  },
  "language_info": {
   "codemirror_mode": {
    "name": "ipython",
    "version": 3
   },
   "file_extension": ".py",
   "mimetype": "text/x-python",
   "name": "python",
   "nbconvert_exporter": "python",
   "pygments_lexer": "ipython3",
   "version": "3.9.1"
  }
 },
 "nbformat": 4,
 "nbformat_minor": 4
}
