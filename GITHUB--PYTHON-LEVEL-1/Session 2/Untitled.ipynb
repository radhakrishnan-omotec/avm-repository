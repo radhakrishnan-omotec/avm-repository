{
 "cells": [
  {
   "cell_type": "markdown",
   "id": "974fd3f3",
   "metadata": {},
   "source": [
    "# solution based on session 2"
   ]
  },
  {
   "cell_type": "markdown",
   "id": "1527acc9",
   "metadata": {},
   "source": [
    "#### Task 2. Try to grab the number 400 using list \n",
    "```python\n",
    "my_list = [[1,2,3],'hello',[7,8,[100,200,300,400]]]\n",
    "```\n"
   ]
  },
  {
   "cell_type": "code",
   "execution_count": 8,
   "id": "1a463aad",
   "metadata": {},
   "outputs": [
    {
     "name": "stdout",
     "output_type": "stream",
     "text": [
      "hello\n"
     ]
    }
   ],
   "source": [
    "my_list = [[1,2,3],'hello',[7,8,[100,200,300,400]]]\n",
    "print(my_list[1])"
   ]
  },
  {
   "cell_type": "markdown",
   "id": "705d6afa",
   "metadata": {},
   "source": [
    "#### Task 3 Try to grab the word 'own' from the below string\n",
    "```python\n",
    "my_str = \"ON my own technology\"\n",
    "```\n",
    "\n"
   ]
  },
  {
   "cell_type": "code",
   "execution_count": 13,
   "id": "95e16911",
   "metadata": {},
   "outputs": [
    {
     "name": "stdout",
     "output_type": "stream",
     "text": [
      " own\n"
     ]
    }
   ],
   "source": [
    "my_str=\"ON my own technology\"\n",
    "print(my_str[5:9])"
   ]
  },
  {
   "cell_type": "markdown",
   "id": "8fb06b27",
   "metadata": {},
   "source": [
    "#### Task 4 Replace the 3th item in the list with the string \"OMOTEC\"\n",
    "```\n",
    "my_lst = [\"welcome\", \"to\", \"on my own technology\"]\n",
    "```"
   ]
  },
  {
   "cell_type": "code",
   "execution_count": 15,
   "id": "1acb5455",
   "metadata": {},
   "outputs": [
    {
     "name": "stdout",
     "output_type": "stream",
     "text": [
      "['welcome', 'to', 'OMOTEC']\n"
     ]
    }
   ],
   "source": [
    "my_lst = [\"welcome\", \"to\", \"on my own technology\"]\n",
    "my_lst[2]='OMOTEC'\n",
    "print(my_lst)"
   ]
  },
  {
   "cell_type": "markdown",
   "id": "47f0c6ba",
   "metadata": {},
   "source": [
    "#### 5. Try to grab the word 'C' from the list below\n",
    "```\n",
    "my_list = ['O','M','O','T','E','C',]\n",
    "```"
   ]
  },
  {
   "cell_type": "code",
   "execution_count": 16,
   "id": "eeeca335",
   "metadata": {},
   "outputs": [
    {
     "name": "stdout",
     "output_type": "stream",
     "text": [
      "C\n"
     ]
    }
   ],
   "source": [
    "my_list=['O','M','O','T','E','C']\n",
    "print(my_list[-1])"
   ]
  },
  {
   "cell_type": "markdown",
   "id": "adcc0ddd",
   "metadata": {},
   "source": [
    "6.Find the position of 55 from list using index\n",
    "```python\n",
    "num = [22,33,42,55,61]\n",
    "```"
   ]
  },
  {
   "cell_type": "code",
   "execution_count": 17,
   "id": "d8912bef",
   "metadata": {},
   "outputs": [
    {
     "name": "stdout",
     "output_type": "stream",
     "text": [
      "55\n"
     ]
    }
   ],
   "source": [
    "num=[22,33,42,55,61]\n",
    "print(num[-2])"
   ]
  },
  {
   "cell_type": "markdown",
   "id": "8e881c95",
   "metadata": {},
   "source": [
    "#### Task 7.Find the position of bat\n",
    "```\n",
    "list2 = ['cat', 'bat', 'mat', 'cat', 'pet']\n",
    "```"
   ]
  },
  {
   "cell_type": "code",
   "execution_count": 18,
   "id": "21de707b",
   "metadata": {},
   "outputs": [
    {
     "name": "stdout",
     "output_type": "stream",
     "text": [
      "bat\n"
     ]
    }
   ],
   "source": [
    "list2=['cat','bat','mat','cat','pet']\n",
    "print(list2[1])"
   ]
  },
  {
   "cell_type": "markdown",
   "id": "fb106986",
   "metadata": {},
   "source": [
    "#### Task 8.Use the step parameter to return every third item using the slice:\n",
    "```\n",
    "a = (\"a\", \"b\", \"c\", \"d\", \"e\", \"f\", \"g\", \"h\")\n",
    "```"
   ]
  },
  {
   "cell_type": "code",
   "execution_count": 23,
   "id": "2fb8962c",
   "metadata": {},
   "outputs": [
    {
     "name": "stdout",
     "output_type": "stream",
     "text": [
      "('a', 'c', 'e', 'g')\n"
     ]
    }
   ],
   "source": [
    "a=(\"a\",\"b\",\"c\",\"d\",\"e\",\"f\",\"g\",\"h\")\n",
    "print(a[0:8:2])"
   ]
  },
  {
   "cell_type": "markdown",
   "id": "32941e75",
   "metadata": {},
   "source": [
    "#### Task 9.Start the slice object at position 3, and slice to position 5, and return the result:\n",
    "```\n",
    "a = (\"s\",\"e\",\"n\",\"t\",\"e\",\"n\",\"c\",\"e\")\n",
    "```"
   ]
  },
  {
   "cell_type": "code",
   "execution_count": null,
   "id": "dbc0bc18",
   "metadata": {},
   "outputs": [],
   "source": [
    "a=(\"s\",\"e\",\"t\",\"e\",\"n\",\"\"\"\"\"\"\")"
   ]
  }
 ],
 "metadata": {
  "kernelspec": {
   "display_name": "Python 3 (ipykernel)",
   "language": "python",
   "name": "python3"
  },
  "language_info": {
   "codemirror_mode": {
    "name": "ipython",
    "version": 3
   },
   "file_extension": ".py",
   "mimetype": "text/x-python",
   "name": "python",
   "nbconvert_exporter": "python",
   "pygments_lexer": "ipython3",
   "version": "3.9.12"
  }
 },
 "nbformat": 4,
 "nbformat_minor": 5
}
