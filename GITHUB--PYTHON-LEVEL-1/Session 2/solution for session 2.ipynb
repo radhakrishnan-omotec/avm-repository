{
 "cells": [
  {
   "cell_type": "markdown",
   "id": "78602b46",
   "metadata": {},
   "source": [
    "# solution based on session 2"
   ]
  },
  {
   "cell_type": "markdown",
   "id": "78ae65fb",
   "metadata": {},
   "source": [
    "#### Task 2. Try to grab the number 400 using list \n",
    "```python\n",
    "my_list = [[1,2,3],'hello',[7,8,[100,200,300,400]]]\n",
    "```\n"
   ]
  },
  {
   "cell_type": "code",
   "execution_count": 8,
   "id": "ca454248",
   "metadata": {},
   "outputs": [
    {
     "name": "stdout",
     "output_type": "stream",
     "text": [
      "hello\n"
     ]
    }
   ],
   "source": [
    "my_list = [[1,2,3],'hello',[7,8,[100,200,300,400]]]\n",
    "print(my_list[1])"
   ]
  },
  {
   "cell_type": "markdown",
   "id": "745c6a55",
   "metadata": {},
   "source": [
    "#### Task 3 Try to grab the word 'own' from the below string\n",
    "```python\n",
    "my_str = \"ON my own technology\"\n",
    "```\n",
    "\n"
   ]
  },
  {
   "cell_type": "code",
   "execution_count": 13,
   "id": "7c4441f9",
   "metadata": {},
   "outputs": [
    {
     "name": "stdout",
     "output_type": "stream",
     "text": [
      " own\n"
     ]
    }
   ],
   "source": [
    "my_str=\"ON my own technology\"\n",
    "print(my_str[5:9])"
   ]
  },
  {
   "cell_type": "markdown",
   "id": "0d8c1c8f",
   "metadata": {},
   "source": [
    "#### Task 4 Replace the 3th item in the list with the string \"OMOTEC\"\n",
    "```\n",
    "my_lst = [\"welcome\", \"to\", \"on my own technology\"]\n",
    "```"
   ]
  },
  {
   "cell_type": "code",
   "execution_count": 15,
   "id": "16812795",
   "metadata": {},
   "outputs": [
    {
     "name": "stdout",
     "output_type": "stream",
     "text": [
      "['welcome', 'to', 'OMOTEC']\n"
     ]
    }
   ],
   "source": [
    "my_lst = [\"welcome\", \"to\", \"on my own technology\"]\n",
    "my_lst[2]='OMOTEC'\n",
    "print(my_lst)"
   ]
  },
  {
   "cell_type": "markdown",
   "id": "9d4d030c",
   "metadata": {},
   "source": [
    "#### 5. Try to grab the word 'C' from the list below\n",
    "```\n",
    "my_list = ['O','M','O','T','E','C',]\n",
    "```"
   ]
  },
  {
   "cell_type": "code",
   "execution_count": 16,
   "id": "2afc2504",
   "metadata": {},
   "outputs": [
    {
     "name": "stdout",
     "output_type": "stream",
     "text": [
      "C\n"
     ]
    }
   ],
   "source": [
    "my_list=['O','M','O','T','E','C']\n",
    "print(my_list[-1])"
   ]
  },
  {
   "cell_type": "markdown",
   "id": "49102ed4",
   "metadata": {},
   "source": [
    "6.Find the position of 55 from list using index\n",
    "```python\n",
    "num = [22,33,42,55,61]\n",
    "```"
   ]
  },
  {
   "cell_type": "code",
   "execution_count": 17,
   "id": "e1be4825",
   "metadata": {},
   "outputs": [
    {
     "name": "stdout",
     "output_type": "stream",
     "text": [
      "55\n"
     ]
    }
   ],
   "source": [
    "num=[22,33,42,55,61]\n",
    "print(num[-2])"
   ]
  },
  {
   "cell_type": "markdown",
   "id": "f73b5d55",
   "metadata": {},
   "source": [
    "#### Task 7.Find the position of bat\n",
    "```\n",
    "list2 = ['cat', 'bat', 'mat', 'cat', 'pet']\n",
    "```"
   ]
  },
  {
   "cell_type": "code",
   "execution_count": 18,
   "id": "9ec8f5b2",
   "metadata": {},
   "outputs": [
    {
     "name": "stdout",
     "output_type": "stream",
     "text": [
      "bat\n"
     ]
    }
   ],
   "source": [
    "list2=['cat','bat','mat','cat','pet']\n",
    "print(list2[1])"
   ]
  },
  {
   "cell_type": "markdown",
   "id": "60604b3f",
   "metadata": {},
   "source": [
    "#### Task 8.Use the step parameter to return every third item using the slice:\n",
    "```\n",
    "a = (\"a\", \"b\", \"c\", \"d\", \"e\", \"f\", \"g\", \"h\")\n",
    "```"
   ]
  },
  {
   "cell_type": "code",
   "execution_count": 23,
   "id": "0ca70951",
   "metadata": {},
   "outputs": [
    {
     "name": "stdout",
     "output_type": "stream",
     "text": [
      "('a', 'c', 'e', 'g')\n"
     ]
    }
   ],
   "source": [
    "a=(\"a\",\"b\",\"c\",\"d\",\"e\",\"f\",\"g\",\"h\")\n",
    "print(a[0:8:2])"
   ]
  },
  {
   "cell_type": "markdown",
   "id": "c815df8c",
   "metadata": {},
   "source": [
    "#### Task 9.Start the slice object at position 3, and slice to position 5, and return the result:\n",
    "```\n",
    "a = (\"s\",\"e\",\"n\",\"t\",\"e\",\"n\",\"c\",\"e\")\n",
    "```"
   ]
  },
  {
   "cell_type": "code",
   "execution_count": 25,
   "id": "cc957990",
   "metadata": {},
   "outputs": [
    {
     "name": "stdout",
     "output_type": "stream",
     "text": [
      "('t', 'e', 'n', 'c')\n"
     ]
    }
   ],
   "source": [
    "a=(\"s\",\"e\",\"t\",\"e\",\"n\",\"c\",\"e\")\n",
    "print(a[2:6])"
   ]
  },
  {
   "cell_type": "code",
   "execution_count": null,
   "id": "b32c33de",
   "metadata": {},
   "outputs": [],
   "source": []
  }
 ],
 "metadata": {
  "kernelspec": {
   "display_name": "Python 3 (ipykernel)",
   "language": "python",
   "name": "python3"
  },
  "language_info": {
   "codemirror_mode": {
    "name": "ipython",
    "version": 3
   },
   "file_extension": ".py",
   "mimetype": "text/x-python",
   "name": "python",
   "nbconvert_exporter": "python",
   "pygments_lexer": "ipython3",
   "version": "3.9.12"
  }
 },
 "nbformat": 4,
 "nbformat_minor": 5
}
