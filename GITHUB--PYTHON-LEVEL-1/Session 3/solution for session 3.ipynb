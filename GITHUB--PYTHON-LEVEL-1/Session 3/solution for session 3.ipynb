{
 "cells": [
  {
   "cell_type": "markdown",
   "id": "bcf63e95",
   "metadata": {},
   "source": [
    "# Solution for session 3"
   ]
  },
  {
   "cell_type": "markdown",
   "id": "d1feafe8",
   "metadata": {},
   "source": [
    "#### 2)Write a program helps avail the child benefit scheme to the government employees having a child younger \n",
    "than 20 years of age."
   ]
  },
  {
   "cell_type": "code",
   "execution_count": 3,
   "id": "48be33ca",
   "metadata": {},
   "outputs": [
    {
     "name": "stdout",
     "output_type": "stream",
     "text": [
      "Total Benefit Availed :1000\n"
     ]
    }
   ],
   "source": [
    "parent_occupation = \"Government Emp\"\n",
    "number_of_children = 2\n",
    "child1_age = 15\n",
    "child2_age = 25\n",
    "benefit = 0\n",
    "if(parent_occupation == \"Government Emp\"):\n",
    "    if(number_of_children > 0):\n",
    "        if(child1_age <= 20):\n",
    "            benefit += 1000\n",
    "        if(child2_age <= 20):\n",
    "            benefit += 1000\n",
    "    else:\n",
    "        print(\"There is currently no policy for people with no children\")\n",
    "else:\n",
    "    print(\"This facility is only for government employees\")\n",
    "print(\"Total Benefit Availed :\" + str(benefit))"
   ]
  },
  {
   "cell_type": "markdown",
   "id": "cbdb3385",
   "metadata": {},
   "source": [
    "#### 3)Find the length of the list using len()"
   ]
  },
  {
   "cell_type": "code",
   "execution_count": 6,
   "id": "c404de33",
   "metadata": {},
   "outputs": [
    {
     "name": "stdout",
     "output_type": "stream",
     "text": [
      "The length of list is:  4\n"
     ]
    }
   ],
   "source": [
    "n = len([10, 20, 30,56])\n",
    "print(\"The length of list is: \", n)\n"
   ]
  },
  {
   "cell_type": "markdown",
   "id": "205ebc55",
   "metadata": {},
   "source": [
    "#### 4)Get the characters from position 2 to position 5 (not included):"
   ]
  },
  {
   "cell_type": "code",
   "execution_count": 15,
   "id": "6e766559",
   "metadata": {},
   "outputs": [
    {
     "name": "stdout",
     "output_type": "stream",
     "text": [
      "llo\n"
     ]
    }
   ],
   "source": [
    "b = \"Hello, World!\"\n",
    "print(b[2:5])"
   ]
  },
  {
   "cell_type": "markdown",
   "id": "0f7bf10a",
   "metadata": {},
   "source": [
    "#### 5)Get the characters:\n",
    "\n",
    "From: \"o\" in \"World!\" (position -5)\n",
    "\n",
    "To, but not included: \"d\" in \"World!\" (position -2):"
   ]
  },
  {
   "cell_type": "code",
   "execution_count": 16,
   "id": "04aa8cfe",
   "metadata": {},
   "outputs": [
    {
     "name": "stdout",
     "output_type": "stream",
     "text": [
      "orl\n"
     ]
    }
   ],
   "source": [
    "b = \"Hello, World!\"\n",
    "print(b[-5:-2])"
   ]
  },
  {
   "cell_type": "markdown",
   "id": "ac232d8b",
   "metadata": {},
   "source": [
    "#### 6)if a is greater than b print true using comparision and boolean operator"
   ]
  },
  {
   "cell_type": "code",
   "execution_count": 17,
   "id": "27e089dd",
   "metadata": {},
   "outputs": [
    {
     "name": "stdout",
     "output_type": "stream",
     "text": [
      "true\n"
     ]
    }
   ],
   "source": [
    "a=12\n",
    "b=10\n",
    "if a>b:\n",
    "    print(\"true\")\n",
    "else:\n",
    "    print(\"false\")"
   ]
  },
  {
   "cell_type": "markdown",
   "id": "ed8767d0",
   "metadata": {},
   "source": [
    "#### 7)Find the exponential of 4 to the power 3"
   ]
  },
  {
   "cell_type": "code",
   "execution_count": 18,
   "id": "174b93d1",
   "metadata": {},
   "outputs": [
    {
     "name": "stdout",
     "output_type": "stream",
     "text": [
      "64\n"
     ]
    }
   ],
   "source": [
    "x = 4\n",
    "y = 3\n",
    "\n",
    "print(x ** y)"
   ]
  },
  {
   "cell_type": "markdown",
   "id": "96ca14bd",
   "metadata": {},
   "source": [
    "#### 8)Question based on <= operator"
   ]
  },
  {
   "cell_type": "code",
   "execution_count": 19,
   "id": "30a6a1cd",
   "metadata": {},
   "outputs": [
    {
     "name": "stdout",
     "output_type": "stream",
     "text": [
      "True\n"
     ]
    }
   ],
   "source": [
    "x = 3\n",
    "y = 3\n",
    "\n",
    "print(x <= y)"
   ]
  },
  {
   "cell_type": "markdown",
   "id": "d9bb8604",
   "metadata": {},
   "source": [
    "#### 9)Question based on modulus "
   ]
  },
  {
   "cell_type": "code",
   "execution_count": 14,
   "id": "6f8a138c",
   "metadata": {},
   "outputs": [
    {
     "name": "stdout",
     "output_type": "stream",
     "text": [
      "1\n"
     ]
    }
   ],
   "source": [
    "x = 5\n",
    "y = 2\n",
    "\n",
    "print(x % y)"
   ]
  }
 ],
 "metadata": {
  "kernelspec": {
   "display_name": "Python 3 (ipykernel)",
   "language": "python",
   "name": "python3"
  },
  "language_info": {
   "codemirror_mode": {
    "name": "ipython",
    "version": 3
   },
   "file_extension": ".py",
   "mimetype": "text/x-python",
   "name": "python",
   "nbconvert_exporter": "python",
   "pygments_lexer": "ipython3",
   "version": "3.9.12"
  }
 },
 "nbformat": 4,
 "nbformat_minor": 5
}
