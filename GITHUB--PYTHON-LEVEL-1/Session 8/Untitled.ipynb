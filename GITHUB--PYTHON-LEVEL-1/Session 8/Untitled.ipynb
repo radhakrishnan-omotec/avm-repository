{
 "cells": [
  {
   "cell_type": "markdown",
   "id": "1e6e6b72",
   "metadata": {},
   "source": [
    "# Solutions for session 8"
   ]
  },
  {
   "cell_type": "markdown",
   "id": "56d63c08",
   "metadata": {},
   "source": [
    "#### Task 3\n",
    "Reverse the tuple(Hint:use slicing.)"
   ]
  },
  {
   "cell_type": "code",
   "execution_count": null,
   "id": "cb026be6",
   "metadata": {},
   "outputs": [],
   "source": [
    "tuple1 = (10, 20, 30, 40, 50)\n",
    "tuple1 = tuple1[::-1]\n",
    "print(tuple1)"
   ]
  },
  {
   "cell_type": "markdown",
   "id": "155516a7",
   "metadata": {},
   "source": [
    "#### Task 4\n",
    "Count the number of occurrences of item 50 from the given tuple.\n",
    "```\n",
    "tuple1 = (50, 10, 60, 70, 50)\n",
    "```"
   ]
  },
  {
   "cell_type": "code",
   "execution_count": null,
   "id": "f360fae0",
   "metadata": {},
   "outputs": [],
   "source": [
    "tuple1 = (50, 10, 60, 70, 50)\n",
    "print(tuple1.count(50))"
   ]
  },
  {
   "cell_type": "markdown",
   "id": "611499b6",
   "metadata": {},
   "source": [
    "#### Task 5\n",
    "Access value 20 from the given tuple.\n",
    "````\n",
    "tuple1 = (\"Orange\", [10, 20, 30], (5, 15, 25)) (Hint:use indexing)\n",
    "````"
   ]
  },
  {
   "cell_type": "code",
   "execution_count": null,
   "id": "86b8f8bd",
   "metadata": {},
   "outputs": [],
   "source": [
    "tuple1 = (\"Orange\", [10, 20, 30], (5, 15, 25))\n",
    "\n",
    "# understand indexing\n",
    "# tuple1[0] = 'Orange'\n",
    "# tuple1[1] = [10, 20, 30]\n",
    "# list1[1][1] = 20\n",
    "\n",
    "print(tuple1[1][1])"
   ]
  },
  {
   "cell_type": "markdown",
   "id": "11a6261d",
   "metadata": {},
   "source": [
    "#### Task 6\n",
    "Create a tuple with single item 80"
   ]
  },
  {
   "cell_type": "code",
   "execution_count": null,
   "id": "3320dc2d",
   "metadata": {},
   "outputs": [],
   "source": [
    "tuple1= (80, )\n",
    "print(tuple1)"
   ]
  },
  {
   "cell_type": "markdown",
   "id": "9a16e82c",
   "metadata": {},
   "source": [
    "#### Task 7\n",
    "Write a Python program to iterate over dictionaries using for loops for the given dictionary.\n",
    "\n",
    "d = {'x': 10, 'y': 20, 'z': 30}"
   ]
  },
  {
   "cell_type": "code",
   "execution_count": 2,
   "id": "b68d10d6",
   "metadata": {},
   "outputs": [
    {
     "name": "stdout",
     "output_type": "stream",
     "text": [
      "x -> 10\n",
      "y -> 20\n",
      "z -> 30\n"
     ]
    }
   ],
   "source": [
    "d = {'x': 10, 'y': 20, 'z': 30} \n",
    "for dict_key, dict_value in d.items():\n",
    "    print(dict_key,'->',dict_value)"
   ]
  }
 ],
 "metadata": {
  "kernelspec": {
   "display_name": "Python 3 (ipykernel)",
   "language": "python",
   "name": "python3"
  },
  "language_info": {
   "codemirror_mode": {
    "name": "ipython",
    "version": 3
   },
   "file_extension": ".py",
   "mimetype": "text/x-python",
   "name": "python",
   "nbconvert_exporter": "python",
   "pygments_lexer": "ipython3",
   "version": "3.9.12"
  }
 },
 "nbformat": 4,
 "nbformat_minor": 5
}
