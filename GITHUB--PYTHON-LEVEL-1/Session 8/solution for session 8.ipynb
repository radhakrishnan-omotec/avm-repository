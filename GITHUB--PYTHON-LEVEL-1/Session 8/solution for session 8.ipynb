{
 "cells": [
  {
   "cell_type": "markdown",
   "id": "78ce689e",
   "metadata": {},
   "source": [
    "# Solutions for session 8"
   ]
  },
  {
   "cell_type": "markdown",
   "id": "a8daa963",
   "metadata": {},
   "source": [
    "#### Task 3\n",
    "Reverse the tuple(Hint:use slicing.)"
   ]
  },
  {
   "cell_type": "code",
   "execution_count": 10,
   "id": "8a75c8d3",
   "metadata": {},
   "outputs": [
    {
     "name": "stdout",
     "output_type": "stream",
     "text": [
      "(50, 40, 30, 20, 10)\n"
     ]
    }
   ],
   "source": [
    "tuple1 = (10, 20, 30, 40, 50)\n",
    "tuple1 = tuple1[::-1]\n",
    "print(tuple1)"
   ]
  },
  {
   "cell_type": "markdown",
   "id": "69d7bda9",
   "metadata": {},
   "source": [
    "#### Task 4\n",
    "Count the number of occurrences of item 50 from the given tuple.\n",
    "```\n",
    "tuple1 = (50, 10, 60, 70, 50)\n",
    "```"
   ]
  },
  {
   "cell_type": "code",
   "execution_count": 11,
   "id": "e76f34d1",
   "metadata": {},
   "outputs": [
    {
     "name": "stdout",
     "output_type": "stream",
     "text": [
      "2\n"
     ]
    }
   ],
   "source": [
    "tuple1 = (50, 10, 60, 70, 50)\n",
    "print(tuple1.count(50))"
   ]
  },
  {
   "cell_type": "markdown",
   "id": "d7ca2c19",
   "metadata": {},
   "source": [
    "#### Task 5\n",
    "Access value 20 from the given tuple.\n",
    "````\n",
    "tuple1 = (\"Orange\", [10, 20, 30], (5, 15, 25)) (Hint:use indexing)\n",
    "````"
   ]
  },
  {
   "cell_type": "code",
   "execution_count": 12,
   "id": "e8511bc9",
   "metadata": {},
   "outputs": [
    {
     "name": "stdout",
     "output_type": "stream",
     "text": [
      "20\n"
     ]
    }
   ],
   "source": [
    "tuple1 = (\"Orange\", [10, 20, 30], (5, 15, 25))\n",
    "\n",
    "# understand indexing\n",
    "# tuple1[0] = 'Orange'\n",
    "# tuple1[1] = [10, 20, 30]\n",
    "# list1[1][1] = 20\n",
    "\n",
    "print(tuple1[1][1])"
   ]
  },
  {
   "cell_type": "markdown",
   "id": "d20ef087",
   "metadata": {},
   "source": [
    "#### Task 6\n",
    "Create a tuple with single item 80"
   ]
  },
  {
   "cell_type": "code",
   "execution_count": 13,
   "id": "b165a490",
   "metadata": {},
   "outputs": [
    {
     "name": "stdout",
     "output_type": "stream",
     "text": [
      "(80,)\n"
     ]
    }
   ],
   "source": [
    "tuple1= (80, )\n",
    "print(tuple1)"
   ]
  },
  {
   "cell_type": "markdown",
   "id": "dacab39b",
   "metadata": {},
   "source": [
    "#### Task 7\n",
    "Write a Python program to iterate over dictionaries using for loops for the given dictionary.\n",
    "\n",
    "d = {'x': 10, 'y': 20, 'z': 30}"
   ]
  },
  {
   "cell_type": "code",
   "execution_count": 14,
   "id": "1bca722b",
   "metadata": {},
   "outputs": [
    {
     "name": "stdout",
     "output_type": "stream",
     "text": [
      "x -> 10\n",
      "y -> 20\n",
      "z -> 30\n"
     ]
    }
   ],
   "source": [
    "d = {'x': 10, 'y': 20, 'z': 30} \n",
    "for dict_key, dict_value in d.items():\n",
    "    print(dict_key,'->',dict_value)"
   ]
  },
  {
   "cell_type": "markdown",
   "id": "66bef8e1",
   "metadata": {},
   "source": [
    "#### TASK 8\n",
    "Write a Python script to print a dictionary where the keys are numbers between 1 and 15 (both included) and the \n",
    "values are square of keys\n"
   ]
  },
  {
   "cell_type": "code",
   "execution_count": 15,
   "id": "7e9a5446",
   "metadata": {},
   "outputs": [
    {
     "name": "stdout",
     "output_type": "stream",
     "text": [
      "{1: 1, 2: 4, 3: 9, 4: 16, 5: 25, 6: 36, 7: 49, 8: 64, 9: 81, 10: 100, 11: 121, 12: 144, 13: 169, 14: 196, 15: 225}\n"
     ]
    }
   ],
   "source": [
    "d=dict()\n",
    "for x in range(1,16):\n",
    "    d[x]=x**2\n",
    "print(d)  "
   ]
  },
  {
   "cell_type": "markdown",
   "id": "76ae9f67",
   "metadata": {},
   "source": [
    "#### Task 9\n",
    "Write a Python program to check a dictionary is empty or not.(Hint: use boolean)"
   ]
  },
  {
   "cell_type": "code",
   "execution_count": 16,
   "id": "4aa7882a",
   "metadata": {},
   "outputs": [
    {
     "name": "stdout",
     "output_type": "stream",
     "text": [
      "Dictionary is empty\n"
     ]
    }
   ],
   "source": [
    "my_dict = {}\n",
    "\n",
    "if not bool(my_dict):\n",
    "    print(\"Dictionary is empty\")"
   ]
  },
  {
   "cell_type": "markdown",
   "id": "215387cc",
   "metadata": {},
   "source": [
    "#### Task 10\n",
    "Create a dictionary by extracting the keys from the given dictionary.\n",
    "\n",
    "sampleDict = {\"name\": \"Kelly\",\"age\":25,\"salary\": 8000,\"city\": \"New york\" }"
   ]
  },
  {
   "cell_type": "code",
   "execution_count": 17,
   "id": "4c183b1a",
   "metadata": {},
   "outputs": [
    {
     "name": "stdout",
     "output_type": "stream",
     "text": [
      "name\n",
      "age\n",
      "salary\n",
      "city\n"
     ]
    }
   ],
   "source": [
    "my_dict = {'name':'Kelly','age':'25','salary':'8000','city':'New york'}\n",
    "\n",
    "for i in my_dict:\n",
    "    print(i)"
   ]
  },
  {
   "cell_type": "markdown",
   "id": "98451b4a",
   "metadata": {},
   "source": [
    "#### Task 11\n",
    "Write a program to rename a key city to a location in the following dictionary.\n",
    "\n",
    "sample_dict = {\"name\": \"Kelly\",\"age\":25,\"salary\": 8000,\"city\": \"New york\"}"
   ]
  },
  {
   "cell_type": "code",
   "execution_count": 18,
   "id": "febbeb59",
   "metadata": {},
   "outputs": [
    {
     "name": "stdout",
     "output_type": "stream",
     "text": [
      "{'age': 25, 'salary': 8000, 'last_name': 'Kelly'}\n"
     ]
    }
   ],
   "source": [
    "dictionary = {\"name\":\"Kelly\", \"age\":25, \"salary\":8000}\n",
    "\n",
    "dictionary[\"last_name\"] = dictionary.pop(\"name\")\n",
    "\n",
    "print(dictionary)"
   ]
  }
 ],
 "metadata": {
  "kernelspec": {
   "display_name": "Python 3 (ipykernel)",
   "language": "python",
   "name": "python3"
  },
  "language_info": {
   "codemirror_mode": {
    "name": "ipython",
    "version": 3
   },
   "file_extension": ".py",
   "mimetype": "text/x-python",
   "name": "python",
   "nbconvert_exporter": "python",
   "pygments_lexer": "ipython3",
   "version": "3.9.12"
  }
 },
 "nbformat": 4,
 "nbformat_minor": 5
}
