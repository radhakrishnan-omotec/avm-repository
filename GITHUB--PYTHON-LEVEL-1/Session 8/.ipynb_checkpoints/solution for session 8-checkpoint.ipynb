{
 "cells": [
  {
   "cell_type": "markdown",
   "id": "78ce689e",
   "metadata": {},
   "source": [
    "# Solutions for session 8"
   ]
  },
  {
   "cell_type": "markdown",
   "id": "a8daa963",
   "metadata": {},
   "source": [
    "#### Task 3\n",
    "Reverse the tuple(Hint:use slicing.)"
   ]
  },
  {
   "cell_type": "code",
   "execution_count": null,
   "id": "8a75c8d3",
   "metadata": {},
   "outputs": [],
   "source": [
    "tuple1 = (10, 20, 30, 40, 50)\n",
    "tuple1 = tuple1[::-1]\n",
    "print(tuple1)"
   ]
  },
  {
   "cell_type": "markdown",
   "id": "69d7bda9",
   "metadata": {},
   "source": [
    "#### Task 4\n",
    "Count the number of occurrences of item 50 from the given tuple.\n",
    "```\n",
    "tuple1 = (50, 10, 60, 70, 50)\n",
    "```"
   ]
  },
  {
   "cell_type": "code",
   "execution_count": null,
   "id": "e76f34d1",
   "metadata": {},
   "outputs": [],
   "source": [
    "tuple1 = (50, 10, 60, 70, 50)\n",
    "print(tuple1.count(50))"
   ]
  },
  {
   "cell_type": "markdown",
   "id": "d7ca2c19",
   "metadata": {},
   "source": [
    "#### Task 5\n",
    "Access value 20 from the given tuple.\n",
    "````\n",
    "tuple1 = (\"Orange\", [10, 20, 30], (5, 15, 25)) (Hint:use indexing)\n",
    "````"
   ]
  },
  {
   "cell_type": "code",
   "execution_count": null,
   "id": "e8511bc9",
   "metadata": {},
   "outputs": [],
   "source": [
    "tuple1 = (\"Orange\", [10, 20, 30], (5, 15, 25))\n",
    "\n",
    "# understand indexing\n",
    "# tuple1[0] = 'Orange'\n",
    "# tuple1[1] = [10, 20, 30]\n",
    "# list1[1][1] = 20\n",
    "\n",
    "print(tuple1[1][1])"
   ]
  },
  {
   "cell_type": "markdown",
   "id": "d20ef087",
   "metadata": {},
   "source": [
    "#### Task 6\n",
    "Create a tuple with single item 80"
   ]
  },
  {
   "cell_type": "code",
   "execution_count": null,
   "id": "b165a490",
   "metadata": {},
   "outputs": [],
   "source": [
    "tuple1= (80, )\n",
    "print(tuple1)"
   ]
  },
  {
   "cell_type": "markdown",
   "id": "dacab39b",
   "metadata": {},
   "source": [
    "#### Task 7\n",
    "Write a Python program to iterate over dictionaries using for loops for the given dictionary.\n",
    "\n",
    "d = {'x': 10, 'y': 20, 'z': 30}"
   ]
  },
  {
   "cell_type": "code",
   "execution_count": 2,
   "id": "1bca722b",
   "metadata": {},
   "outputs": [
    {
     "name": "stdout",
     "output_type": "stream",
     "text": [
      "x -> 10\n",
      "y -> 20\n",
      "z -> 30\n"
     ]
    }
   ],
   "source": [
    "d = {'x': 10, 'y': 20, 'z': 30} \n",
    "for dict_key, dict_value in d.items():\n",
    "    print(dict_key,'->',dict_value)"
   ]
  }
 ],
 "metadata": {
  "kernelspec": {
   "display_name": "Python 3 (ipykernel)",
   "language": "python",
   "name": "python3"
  },
  "language_info": {
   "codemirror_mode": {
    "name": "ipython",
    "version": 3
   },
   "file_extension": ".py",
   "mimetype": "text/x-python",
   "name": "python",
   "nbconvert_exporter": "python",
   "pygments_lexer": "ipython3",
   "version": "3.9.12"
  }
 },
 "nbformat": 4,
 "nbformat_minor": 5
}
