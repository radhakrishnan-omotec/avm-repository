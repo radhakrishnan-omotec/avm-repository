{
 "cells": [
  {
   "cell_type": "markdown",
   "metadata": {},
   "source": [
    "# Session 7 \n",
    "- Tic Tac Toe game "
   ]
  },
  {
   "cell_type": "markdown",
   "metadata": {},
   "source": [
    "### 1) **Displaying the Tic-Tac-Toe Board**\n",
    "\n",
    "**User will enter Numbers between 1-9**\n",
    "\n",
    "```python\n",
    "  1  |  2  |  3   \n",
    "=================\n",
    "  4  |  5  |  6\n",
    "=================\n",
    "  7  |  8  |  9\n",
    "```"
   ]
  },
  {
   "cell_type": "code",
   "execution_count": 2,
   "metadata": {},
   "outputs": [],
   "source": [
    "B = [\" \", \" \", \" \",\" \", \" \", \" \",\" \", \" \", \" \"]\n",
    "\n",
    "def print_board():\n",
    "    print(\"  \"+B[0]+\"  \"+\"|\"+\"  \"+B[1]+\"  \"+\"|\"+\"  \"+B[2]+\"  \")\n",
    "    print(\"=================\")\n",
    "    print(\"  \"+B[3]+\"  \"+\"|\"+\"  \"+B[4]+\"  \"+\"|\"+\"  \"+B[5]+\"  \")\n",
    "    print(\"=================\")\n",
    "    print(\"  \"+B[6]+\"  \"+\"|\"+\"  \"+B[7]+\"  \"+\"|\"+\"  \"+B[8]+\"  \")"
   ]
  },
  {
   "cell_type": "code",
   "execution_count": 3,
   "metadata": {},
   "outputs": [
    {
     "name": "stdout",
     "output_type": "stream",
     "text": [
      "     |     |     \n",
      "=================\n",
      "     |     |     \n",
      "=================\n",
      "     |     |     \n"
     ]
    }
   ],
   "source": [
    "print_board()"
   ]
  },
  {
   "cell_type": "markdown",
   "metadata": {},
   "source": [
    "**We can try editing the values of elements in list `B` This will cause the elements in the Baord to also change**"
   ]
  },
  {
   "cell_type": "code",
   "execution_count": null,
   "metadata": {},
   "outputs": [],
   "source": [
    "B = [\" \", \" \", \" \",\"X\", \" \", \" \",\" \", \" \", \" \"]\n",
    "\n",
    "def print_board():\n",
    "    print(\"  \"+B[0]+\"  \"+\"|\"+\"  \"+B[1]+\"  \"+\"|\"+\"  \"+B[2]+\"  \")\n",
    "    print(\"=================\")\n",
    "    print(\"  \"+B[3]+\"  \"+\"|\"+\"  \"+B[4]+\"  \"+\"|\"+\"  \"+B[5]+\"  \")\n",
    "    print(\"=================\")\n",
    "    print(\"  \"+B[6]+\"  \"+\"|\"+\"  \"+B[7]+\"  \"+\"|\"+\"  \"+B[8]+\"  \")"
   ]
  },
  {
   "cell_type": "code",
   "execution_count": null,
   "metadata": {},
   "outputs": [],
   "source": [
    "print_board()"
   ]
  },
  {
   "cell_type": "markdown",
   "metadata": {},
   "source": [
    "### 2) The Game Loop\n",
    "\n",
    "**The game Loop is responsible for controlling the entire game**"
   ]
  },
  {
   "cell_type": "code",
   "execution_count": null,
   "metadata": {},
   "outputs": [],
   "source": [
    "\n",
    "for x in range(0,9):\n",
    "    in1 = int(input(\"enetr a position :\"))\n",
    "    \n",
    "    if x%2 == 0:\n",
    "        B[in1-1] = 'X'\n",
    "    else :\n",
    "        B[in1-1] = 'O'\n",
    "\n",
    "    print_board()"
   ]
  },
  {
   "cell_type": "markdown",
   "metadata": {},
   "source": [
    "**Running the above cell will cause the game to start asking users to enetr position and filling the positions with either X or O depending on whoes turn it is**"
   ]
  },
  {
   "cell_type": "markdown",
   "metadata": {},
   "source": [
    "## HOMEWORK\n",
    "\n",
    "1. In the Tic-Tac-Toe Game, try to add a function which will help us tell if someone has won the game and stop the for loop"
   ]
  },
  {
   "cell_type": "markdown",
   "metadata": {},
   "source": [
    "## HOMEWORK SOLUTION "
   ]
  },
  {
   "cell_type": "code",
   "execution_count": null,
   "metadata": {},
   "outputs": [],
   "source": [
    "\n",
    "def check_win():\n",
    "    if B[0] == 'X' and B[1] == 'X' and B[2] == 'X':\n",
    "        return \"x won\"\n",
    "    if B[0] == 'X' and B[3] == 'X' and B[6] == 'X':\n",
    "        return \"x won\"\n",
    "    \n",
    "for x in range(0,9):\n",
    "    in1 = int(input(\"enetr a position :\"))\n",
    "    \n",
    "    if x%2 == 0:\n",
    "        B[in1-1] = 'X'\n",
    "    else :\n",
    "        B[in1-1] = 'O'\n",
    "\n",
    "    print_board()\n",
    "    check = check_win()\n",
    "    if check == 'x won':\n",
    "        print(\"x has won\")\n",
    "        break\n",
    "        \n",
    "        \n",
    "# Add other condition in the function"
   ]
  },
  {
   "cell_type": "code",
   "execution_count": null,
   "metadata": {},
   "outputs": [],
   "source": []
  }
 ],
 "metadata": {
  "kernelspec": {
   "display_name": "Python 3",
   "language": "python",
   "name": "python3"
  },
  "language_info": {
   "codemirror_mode": {
    "name": "ipython",
    "version": 3
   },
   "file_extension": ".py",
   "mimetype": "text/x-python",
   "name": "python",
   "nbconvert_exporter": "python",
   "pygments_lexer": "ipython3",
   "version": "3.9.1"
  }
 },
 "nbformat": 4,
 "nbformat_minor": 5
}
