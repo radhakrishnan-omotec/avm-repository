{
 "cells": [
  {
   "cell_type": "markdown",
   "id": "78b19e6b",
   "metadata": {},
   "source": [
    "# Solutions for session 9"
   ]
  },
  {
   "cell_type": "markdown",
   "id": "9109ce18",
   "metadata": {},
   "source": [
    "#### Task1:\n",
    "Write a Python program to generate a random alphabetical character, alphabetical string and alphabetical \n",
    "string of a fixed length."
   ]
  },
  {
   "cell_type": "code",
   "execution_count": null,
   "id": "f24f54ab",
   "metadata": {},
   "outputs": [],
   "source": [
    "import random\n",
    "import string\n",
    "print(\"Generate a random alphabetical character:\")\n",
    "print(random.choice(string.ascii_letters))\n",
    "print(\"\\nGenerate a random alphabetical string:\")\n",
    "max_length = 255\n",
    "str1 = \"\"\n",
    "for i in range(random.randint(1, max_length)):\n",
    "    str1 += random.choice(string.ascii_letters)\n",
    "print(str1)\n",
    "print(\"\\nGenerate a random alphabetical string of a fixed length:\")\n",
    "str1 = \"\"\n",
    "for i in range(10):\n",
    "    str1 += random.choice(string.ascii_letters)\n",
    "print(str1)"
   ]
  },
  {
   "cell_type": "markdown",
   "id": "871c4825",
   "metadata": {},
   "source": [
    "#### Task2:\n",
    "Write a Python program to construct a seeded random number generator, also generate a float between 0 and 1, excluding 1."
   ]
  },
  {
   "cell_type": "code",
   "execution_count": null,
   "id": "4ef42a76",
   "metadata": {},
   "outputs": [],
   "source": [
    "import random\n",
    "print(\"Construct a seeded random number generator:\")\n",
    "print(random.Random().random())\n",
    "print(random.Random(0).random())\n",
    "print(\"\\nGenerate a float between 0 and 1, excluding 1:\")\n",
    "print(random.random())"
   ]
  },
  {
   "cell_type": "markdown",
   "id": "a29d25eb",
   "metadata": {},
   "source": [
    "#### Task3:\n",
    "Write a Python program to select a random element from a list"
   ]
  },
  {
   "cell_type": "code",
   "execution_count": null,
   "id": "af0e941a",
   "metadata": {},
   "outputs": [],
   "source": [
    "import random\n",
    "import os\n",
    "print(\"Select a random element from a list:\")\n",
    "elements = [1, 2, 3, 4, 5]\n",
    "print(random.choice(elements))\n",
    "print(random.choice(elements))\n",
    "print(random.choice(elements))\n",
    "print(\"\\nSelect a random element from a set:\")\n",
    "elements = set([1, 2, 3, 4, 5])"
   ]
  },
  {
   "cell_type": "markdown",
   "id": "827e8fee",
   "metadata": {},
   "source": [
    "#### Task4:\n",
    "Write a Python program to generate a float between 0 and 1, inclusive and generate a random float within a specific range."
   ]
  },
  {
   "cell_type": "code",
   "execution_count": null,
   "id": "575f16e4",
   "metadata": {},
   "outputs": [],
   "source": [
    "import random \n",
    "print(\"Generate a float between 0 and 1, inclusive:\")\n",
    "print(random.uniform(0, 1))\n",
    "print(\"\\nGenerate a random float within a range:\")\n",
    "random_float = random.uniform(1.0, 3.0)\n",
    "print(random_float)"
   ]
  },
  {
   "cell_type": "markdown",
   "id": "db1867fc",
   "metadata": {},
   "source": [
    "#### Task5:\n",
    "Write a Python program to create a list of random integers and randomly select multiple items from the said list."
   ]
  },
  {
   "cell_type": "code",
   "execution_count": 4,
   "id": "a542a370",
   "metadata": {},
   "outputs": [
    {
     "name": "stdout",
     "output_type": "stream",
     "text": [
      "Create a list of random integers:\n",
      "[2, 43, 62, 85, 97, 48, 47, 10, 87, 13]\n"
     ]
    }
   ],
   "source": [
    "import random \n",
    "print(\"Create a list of random integers:\")\n",
    "population = range(0, 100)\n",
    "nums_list = random.sample(population, 10)\n",
    "print(nums_list)\n",
    "no_elements = 4"
   ]
  },
  {
   "cell_type": "markdown",
   "id": "2ca0f85e",
   "metadata": {},
   "source": [
    "#### Task6:\n",
    "Write a Python program to configure the rounding to round up and round down a given decimal value. Use decimal.Decimal"
   ]
  },
  {
   "cell_type": "code",
   "execution_count": 5,
   "id": "9d39849e",
   "metadata": {},
   "outputs": [
    {
     "name": "stdout",
     "output_type": "stream",
     "text": [
      "Configure the rounding to round to the nearest, with ties going to the nearest even integer:\n",
      "2\n"
     ]
    }
   ],
   "source": [
    "import decimal\n",
    "print(\"Configure the rounding to round to the nearest, with ties going to the nearest even integer:\")\n",
    "decimal.getcontext().prec = 1\n",
    "decimal.getcontext().rounding = decimal.ROUND_HALF_EVEN\n",
    "print(decimal.Decimal(10) / decimal.Decimal(4))"
   ]
  }
 ],
 "metadata": {
  "kernelspec": {
   "display_name": "Python 3 (ipykernel)",
   "language": "python",
   "name": "python3"
  },
  "language_info": {
   "codemirror_mode": {
    "name": "ipython",
    "version": 3
   },
   "file_extension": ".py",
   "mimetype": "text/x-python",
   "name": "python",
   "nbconvert_exporter": "python",
   "pygments_lexer": "ipython3",
   "version": "3.9.12"
  }
 },
 "nbformat": 4,
 "nbformat_minor": 5
}
