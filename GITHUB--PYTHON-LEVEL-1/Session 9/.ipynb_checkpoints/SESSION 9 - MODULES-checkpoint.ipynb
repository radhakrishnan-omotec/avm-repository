{
 "cells": [
  {
   "cell_type": "markdown",
   "metadata": {},
   "source": [
    "<img src=\"images/omotec.png\" alt=\"Drawing\" style=\"width: 130px;\" align=\"center\"/>\n",
    "\n",
    "# Session 9 - Modules\n",
    "1. Types of modules\n",
    "    - Built-in Modules\n",
    "    - Installed Modules\n",
    "    - user created modules\n",
    "2. Getting started with the PyAutoGui Module\n",
    "3. Creating a simple Modules"
   ]
  },
  {
   "cell_type": "markdown",
   "metadata": {},
   "source": [
    "---"
   ]
  },
  {
   "cell_type": "markdown",
   "metadata": {},
   "source": [
    "## Modules are one of the biggest reason why python is so famous.\n",
    "\n",
    "You can literally think of any task and you can find an existing module which will make your life a lot easier."
   ]
  },
  {
   "cell_type": "markdown",
   "metadata": {},
   "source": [
    "# What is MODULE\n",
    "***A module can define functions, classes, and variables. A module can also include runnable code. Grouping related code into a module makes the code easier to understand and use. It also makes the code logically organized.***"
   ]
  },
  {
   "cell_type": "markdown",
   "metadata": {},
   "source": [
    "# syntax for module\n",
    "module_name.function_name."
   ]
  },
  {
   "cell_type": "markdown",
   "metadata": {},
   "source": [
    "# 1. Built-in Modules"
   ]
  },
  {
   "cell_type": "markdown",
   "metadata": {},
   "source": [
    "Few Modules come in handy in everyday programming. So these moduels comes preinstalled when you install python. So you can directly install and start using these modules.\n",
    "\n",
    "Below link shows a list of all the moduels that comes preinstalled with python<br>\n",
    "[Built-in Modules](https://docs.python.org/3/py-modindex.html)"
   ]
  },
  {
   "cell_type": "markdown",
   "metadata": {},
   "source": [
    "### Lets try using the Time module\n",
    "\n",
    "To import a module we can use the following **syntax** (there are multiple ways to import a module this is just one of them)\n",
    "\n",
    "```python\n",
    "import module_name\n",
    "```"
   ]
  },
  {
   "cell_type": "code",
   "execution_count": 1,
   "metadata": {},
   "outputs": [],
   "source": [
    "import time"
   ]
  },
  {
   "cell_type": "markdown",
   "metadata": {},
   "source": [
    "This makes all the function defined inside the time module available to us.<br>\n",
    "Once imported we can call any function we want."
   ]
  },
  {
   "cell_type": "code",
   "execution_count": 2,
   "metadata": {},
   "outputs": [
    {
     "name": "stdout",
     "output_type": "stream",
     "text": [
      "hello\n",
      "world\n"
     ]
    }
   ],
   "source": [
    "print(\"hello\")\n",
    "time.sleep(2)\n",
    "print(\"world\")"
   ]
  },
  {
   "cell_type": "markdown",
   "metadata": {},
   "source": [
    "If the run the above cell you will get hello printed on the screen follwed by thw world after a 2 second delay.<br>\n",
    "well that is what the sleep function do, it makes the python code to wait for some time."
   ]
  },
  {
   "cell_type": "markdown",
   "metadata": {},
   "source": [
    "### This brings us to the next important thing while using modules that is reading the documentation.\n",
    "\n",
    "### !! Always read the documention before you start working with a module.\n",
    "\n",
    "[Time Module](https://docs.python.org/3/library/time.html#time.sleep)"
   ]
  },
  {
   "cell_type": "markdown",
   "metadata": {},
   "source": [
    "# 2. Installed Modules\n",
    "\n",
    "All Modules apart from the Built-in ones needs to be installed to be able to use them. Almost all the modules createdd by the users can be found on the [PyPi](https://pypi.org/) website <br>\n",
    "\n",
    "### Installing modules is pretty straight foward\n",
    "\n",
    "**For Windows**\n",
    "\n",
    " - open command prompt and type\n",
    "\n",
    "`pip install module_name`\n",
    "\n",
    "<br><br>\n",
    "\n",
    "**For Mac**\n",
    "\n",
    " - open Terminal and type\n",
    "\n",
    "`pip3 install module_name`\n",
    "\n",
    "\n",
    "**NOTE : The instriucion to install a module can be found on the PyPi project page itself. See the below image**\n",
    "\n",
    "<img src=\"images/pyauto_web.jpg\" alt=\"Drawing\" style=\"width: 700px;\" align=\"center\"/>"
   ]
  },
  {
   "cell_type": "markdown",
   "metadata": {},
   "source": [
    "---"
   ]
  },
  {
   "cell_type": "markdown",
   "metadata": {},
   "source": [
    "We can open a command prompt or terminal on windows to use the command shown to install the module\n",
    "\n",
    "<img src=\"images/cmd.jpg\" alt=\"Drawing\" style=\"width: 600px;\" align=\"center\"/>"
   ]
  },
  {
   "cell_type": "markdown",
   "metadata": {},
   "source": [
    "To verify if the module is installed properly we can try importing the module\n",
    "\n",
    "```python\n",
    "import pyautogui\n",
    "```\n",
    "\n",
    "If you don't get any output it means the module is installed properly.<br>\n",
    "If you get a `ModuleNotFound` Error check the command prompt or teminal for the reason"
   ]
  },
  {
   "cell_type": "code",
   "execution_count": 3,
   "metadata": {},
   "outputs": [],
   "source": [
    "import pyautogui"
   ]
  },
  {
   "cell_type": "markdown",
   "metadata": {},
   "source": [
    "**Well what is the package that we just installed??**\n",
    "\n",
    "As the PyPi website states its a cross platform modules that allows is to control the keybaord and mouse programatically.\n",
    "\n",
    "**As with any other Modules read the documentation before you start using it.** <br>\n",
    "[PyAutoGui Documentaion](https://pyautogui.readthedocs.io/en/latest/)"
   ]
  },
  {
   "cell_type": "markdown",
   "metadata": {},
   "source": [
    "### Lets try to bring the search bar up on ---> windows.\n",
    "we need to press the `win+q` key to make that happen"
   ]
  },
  {
   "cell_type": "code",
   "execution_count": 4,
   "metadata": {},
   "outputs": [],
   "source": [
    "import pyautogui\n",
    "\n",
    "pyautogui.keyDown('win')\n",
    "pyautogui.press('q')\n",
    "pyautogui.keyUp('win')"
   ]
  },
  {
   "cell_type": "markdown",
   "metadata": {},
   "source": [
    "If you run the above cell it should bring up the search bar"
   ]
  },
  {
   "cell_type": "markdown",
   "metadata": {},
   "source": [
    "### Lets try to bring up the spotlight  on ---> Mac."
   ]
  },
  {
   "cell_type": "code",
   "execution_count": 5,
   "metadata": {},
   "outputs": [],
   "source": [
    "import pyautogui\n",
    "\n",
    "pyautogui.keyDown('command')\n",
    "pyautogui.press('space')\n",
    "pyautogui.keyUp('command')"
   ]
  },
  {
   "cell_type": "markdown",
   "metadata": {},
   "source": [
    "### Wait It did'nt work!! \n",
    "Well in mac you need to provide some extra access for the pyautogui module to be able to automate things.\n",
    "\n",
    "You can follow these steps to provide it access.\n",
    "\n",
    "goto system preferecnes ---> unlock the lock ---> give access to the app you are using to run the code ---> save changes ---> lock "
   ]
  },
  {
   "cell_type": "markdown",
   "metadata": {},
   "source": [
    "# 3. User defined module "
   ]
  },
  {
   "cell_type": "markdown",
   "metadata": {},
   "source": [
    "Here you can create your own module. \n",
    "Let's try to make own module for calculator.\n",
    "We will use separate file to define functions used in the calculator \n",
    "And then will import the file into main (execution file)\n"
   ]
  },
  {
   "cell_type": "markdown",
   "metadata": {},
   "source": [
    "# Home work"
   ]
  },
  {
   "cell_type": "markdown",
   "metadata": {},
   "source": [
    "###  1. Write a pyton script to automatically send a mail to yourself using PyAutoGui\n",
    "1. open google chrome\n",
    "2. open Gmail\n",
    "3. click on compose mail\n",
    "4. Fill in the eamil ID, Subject and Body\n",
    "5. send Mail using the shortcut\n"
   ]
  },
  {
   "cell_type": "markdown",
   "metadata": {},
   "source": [
    "#Task1:\n",
    "Write a Python program to generate a random alphabetical character, alphabetical string and alphabetical \n",
    "string of a fixed length."
   ]
  },
  {
   "cell_type": "code",
   "execution_count": null,
   "metadata": {},
   "outputs": [],
   "source": []
  },
  {
   "cell_type": "markdown",
   "metadata": {},
   "source": [
    "#Task2:\n",
    "Write a Python program to construct a seeded random number generator, also generate a float between 0 and 1, excluding 1."
   ]
  },
  {
   "cell_type": "code",
   "execution_count": null,
   "metadata": {},
   "outputs": [],
   "source": []
  },
  {
   "cell_type": "markdown",
   "metadata": {},
   "source": [
    "#Task3:\n",
    "Write a Python program to select a random element from a list, set, dictionary (value) and a file from a directory."
   ]
  },
  {
   "cell_type": "code",
   "execution_count": null,
   "metadata": {},
   "outputs": [],
   "source": []
  },
  {
   "cell_type": "markdown",
   "metadata": {},
   "source": [
    "#Task4:\n",
    "Write a Python program to generate a float between 0 and 1, inclusive and generate a random float within a specific range."
   ]
  },
  {
   "cell_type": "code",
   "execution_count": null,
   "metadata": {},
   "outputs": [],
   "source": []
  },
  {
   "cell_type": "markdown",
   "metadata": {},
   "source": [
    "#Task5:\n",
    "Write a Python program to create a list of random integers and randomly select multiple items from the said list."
   ]
  },
  {
   "cell_type": "code",
   "execution_count": null,
   "metadata": {},
   "outputs": [],
   "source": []
  },
  {
   "cell_type": "markdown",
   "metadata": {},
   "source": [
    "#Task6:\n",
    "Write a Python program to configure the rounding to round up and round down a given decimal value. Use decimal.Decimal"
   ]
  },
  {
   "cell_type": "code",
   "execution_count": null,
   "metadata": {},
   "outputs": [],
   "source": []
  }
 ],
 "metadata": {
  "kernelspec": {
   "display_name": "Python 3 (ipykernel)",
   "language": "python",
   "name": "python3"
  },
  "language_info": {
   "codemirror_mode": {
    "name": "ipython",
    "version": 3
   },
   "file_extension": ".py",
   "mimetype": "text/x-python",
   "name": "python",
   "nbconvert_exporter": "python",
   "pygments_lexer": "ipython3",
   "version": "3.9.12"
  }
 },
 "nbformat": 4,
 "nbformat_minor": 4
}
