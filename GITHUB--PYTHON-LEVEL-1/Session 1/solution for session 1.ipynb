{
 "cells": [
  {
   "cell_type": "markdown",
   "id": "1bad8492",
   "metadata": {},
   "source": [
    "# solution for session 1"
   ]
  },
  {
   "cell_type": "markdown",
   "id": "9c5a7f82",
   "metadata": {},
   "source": [
    "#### TASK 3\n",
    "Assigning a single value to a multiple variable "
   ]
  },
  {
   "cell_type": "code",
   "execution_count": 1,
   "id": "341a221f",
   "metadata": {},
   "outputs": [
    {
     "name": "stdout",
     "output_type": "stream",
     "text": [
      "Apple\n",
      "Apple\n",
      "Apple\n",
      "Apple\n",
      "Apple\n"
     ]
    }
   ],
   "source": [
    "a=b=c=d=e = \"Apple\"\n",
    "print(a)\n",
    "print(b)\n",
    "print(c)\n",
    "print(d)\n",
    "print(e)"
   ]
  },
  {
   "cell_type": "markdown",
   "id": "79a84c2d",
   "metadata": {},
   "source": [
    "#### TASK 4\n",
    "Assigning a different values to multiple variables"
   ]
  },
  {
   "cell_type": "code",
   "execution_count": 4,
   "id": "73bbb36d",
   "metadata": {},
   "outputs": [
    {
     "name": "stdout",
     "output_type": "stream",
     "text": [
      "value assigned to a\n",
      "4\n",
      "value assigned to b\n",
      "8\n"
     ]
    }
   ],
   "source": [
    "a, b = 4, 8\n",
    "print(\"value assigned to a\")\n",
    "print(a)\n",
    "print(\"value assigned to b\")\n",
    "print(b)\n"
   ]
  },
  {
   "cell_type": "markdown",
   "id": "d950b3d0",
   "metadata": {},
   "source": [
    "#### TASK 5\n",
    "Assign one value with block letter variable and other with small letter variable"
   ]
  },
  {
   "cell_type": "code",
   "execution_count": 3,
   "id": "ab11d128",
   "metadata": {},
   "outputs": [
    {
     "name": "stdout",
     "output_type": "stream",
     "text": [
      "1\n",
      "1\n"
     ]
    }
   ],
   "source": [
    "q=1\n",
    "Q=1\n",
    "print(q)\n",
    "print(Q)"
   ]
  },
  {
   "cell_type": "markdown",
   "id": "aa11df49",
   "metadata": {},
   "source": [
    "#### TASK 6\n",
    "Taking input from the user with a message"
   ]
  },
  {
   "cell_type": "code",
   "execution_count": null,
   "id": "8224dd6f",
   "metadata": {},
   "outputs": [],
   "source": [
    "username = input(\"Enter username:\")\n",
    "print(\"Username is: \" + username)"
   ]
  }
 ],
 "metadata": {
  "kernelspec": {
   "display_name": "Python 3 (ipykernel)",
   "language": "python",
   "name": "python3"
  },
  "language_info": {
   "codemirror_mode": {
    "name": "ipython",
    "version": 3
   },
   "file_extension": ".py",
   "mimetype": "text/x-python",
   "name": "python",
   "nbconvert_exporter": "python",
   "pygments_lexer": "ipython3",
   "version": "3.9.12"
  }
 },
 "nbformat": 4,
 "nbformat_minor": 5
}
