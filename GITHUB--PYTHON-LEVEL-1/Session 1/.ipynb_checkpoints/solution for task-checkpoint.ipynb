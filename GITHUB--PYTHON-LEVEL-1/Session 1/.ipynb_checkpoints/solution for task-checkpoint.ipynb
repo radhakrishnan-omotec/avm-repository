{
 "cells": [
  {
   "cell_type": "markdown",
   "id": "4769e27d",
   "metadata": {},
   "source": [
    "# Solutions for session 1 tasks"
   ]
  },
  {
   "cell_type": "markdown",
   "id": "ef1db1f9",
   "metadata": {},
   "source": [
    "#### TASK 3\n",
    "Assigning a single value to a multiple variable"
   ]
  },
  {
   "cell_type": "code",
   "execution_count": 7,
   "id": "3e397424",
   "metadata": {},
   "outputs": [
    {
     "name": "stdout",
     "output_type": "stream",
     "text": [
      "10\n",
      "10\n",
      "10\n"
     ]
    }
   ],
   "source": [
    "a = b = c = 10\n",
    "\n",
    "print(a)\n",
    "print(b)\n",
    "print(c)\n"
   ]
  },
  {
   "cell_type": "markdown",
   "id": "2fd94961",
   "metadata": {},
   "source": [
    "---"
   ]
  },
  {
   "cell_type": "markdown",
   "id": "f1eda795",
   "metadata": {},
   "source": [
    "#### TASK 4\n",
    "Assigning a different values to multiple variables"
   ]
  },
  {
   "cell_type": "code",
   "execution_count": 8,
   "id": "f8cbc0e4",
   "metadata": {},
   "outputs": [
    {
     "name": "stdout",
     "output_type": "stream",
     "text": [
      "1\n",
      "20.2\n",
      "welcome to python\n"
     ]
    }
   ],
   "source": [
    "a, b, c = 1, 20.2, \"welcome to python\"\n",
    "\n",
    "print(a)\n",
    "print(b)\n",
    "print(c)\n"
   ]
  },
  {
   "cell_type": "markdown",
   "id": "6e3a77b2",
   "metadata": {},
   "source": [
    "---"
   ]
  },
  {
   "cell_type": "markdown",
   "id": "6e981095",
   "metadata": {},
   "source": [
    "#### TASK 5\n",
    "Taking input from the user with a message"
   ]
  },
  {
   "cell_type": "code",
   "execution_count": 9,
   "id": "27be0db6",
   "metadata": {},
   "outputs": [
    {
     "name": "stdout",
     "output_type": "stream",
     "text": [
      "Enter your nameSamuel\n",
      "Hello Samuel\n"
     ]
    }
   ],
   "source": [
    "# Taking input from the user\n",
    "name = input(\"Enter your name\")\n",
    "\n",
    "# Output\n",
    "print(\"Hello\", name)\n"
   ]
  },
  {
   "cell_type": "markdown",
   "id": "dbd420e3",
   "metadata": {},
   "source": [
    "---"
   ]
  },
  {
   "cell_type": "markdown",
   "id": "a1ed07f6",
   "metadata": {},
   "source": [
    "#### TASK 6\n",
    "Taking input from the user as list"
   ]
  },
  {
   "cell_type": "code",
   "execution_count": 13,
   "id": "a86f8bd0",
   "metadata": {},
   "outputs": [
    {
     "name": "stdout",
     "output_type": "stream",
     "text": [
      "Enter number 12345\n",
      "['1', '2', '3', '4', '5']\n"
     ]
    }
   ],
   "source": [
    "# Taking input from the user as list\n",
    "\n",
    "li =list(input(\"Enter number \"))\n",
    "\n",
    "# output\n",
    "print(li)\n"
   ]
  },
  {
   "cell_type": "markdown",
   "id": "1498b198",
   "metadata": {},
   "source": [
    "---"
   ]
  }
 ],
 "metadata": {
  "kernelspec": {
   "display_name": "Python 3 (ipykernel)",
   "language": "python",
   "name": "python3"
  },
  "language_info": {
   "codemirror_mode": {
    "name": "ipython",
    "version": 3
   },
   "file_extension": ".py",
   "mimetype": "text/x-python",
   "name": "python",
   "nbconvert_exporter": "python",
   "pygments_lexer": "ipython3",
   "version": "3.9.12"
  }
 },
 "nbformat": 4,
 "nbformat_minor": 5
}
