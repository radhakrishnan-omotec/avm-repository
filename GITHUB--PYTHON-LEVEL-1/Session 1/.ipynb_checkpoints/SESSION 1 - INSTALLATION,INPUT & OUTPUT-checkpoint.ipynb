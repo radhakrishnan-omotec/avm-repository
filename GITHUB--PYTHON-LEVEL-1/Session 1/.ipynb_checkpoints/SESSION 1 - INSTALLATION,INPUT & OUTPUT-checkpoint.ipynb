{
 "cells": [
  {
   "cell_type": "markdown",
   "metadata": {},
   "source": [
    "<img src=\"images/omotec.png\" alt=\"Drawing\" style=\"width: 130px;\" align=\"center\"/>\n",
    "\n",
    "# Session 1\n",
    "1. Setting up Jupyter notebook / VS code\n",
    "2. print() function\n",
    "3. input() function\n",
    "4. Variables\n",
    "\n",
    "<hr style=\"height:2px;\">"
   ]
  },
  {
   "cell_type": "markdown",
   "metadata": {},
   "source": [
    "#### There are multiple ways in which we can set up your computer to code in python. But the few of the  recommended ways is to use Jupyter notebook or VS code. Other options include IDLE the pythons built in editor, Atom or PyCharm.\n",
    "\n",
    "The reason we want to use an editor is to use the extensive features provided by them which include code auto completion, easy to run and see output and many more..\n",
    "\n",
    "<hr style=\"height:2px;\">\n",
    "\n",
    "<img src=\"images/setup_image.png\" alt=\"Drawing\" style=\"width: 500px;\" align=\"center\"/>\n",
    "\n",
    "<hr style=\"height:2px;\">"
   ]
  },
  {
   "cell_type": "markdown",
   "metadata": {},
   "source": [
    "### Setting up Python\n",
    "\n",
    "Setting up python is a very easy process all you need to do is download the installer from the <a href=https://www.python.org/downloads/>official website</a> \n",
    "\n",
    "##### *Windows user please note to check the box which says 'add to path' when the installer is launched as highlighted in the below image*\n",
    "\n",
    "<img src=\"images/python_add_path.png\" alt=\"Drawing\" style=\"width: 500px;\" align=\"center\"/>\n",
    "\n",
    "<hr style=\"height:2px;\">"
   ]
  },
  {
   "cell_type": "markdown",
   "metadata": {},
   "source": [
    "##### *Students have the choice to use either jupyter notebook or VS code for this course.*\n",
    "\n",
    "### Setting up Jupyter notebook\n",
    "\n",
    "\n",
    "We will be installing jupyter notebook inside the python installation itself. So make sure you have installled python and is working properly. To check if python is working properly just open command prompt (terminal for mac users) and type in the commands \"python\" and press enter (\"python3\" for mac users). You should get the output like the below image which will have the version number of the python that you would have installed.\n",
    "\n",
    "<img src=\"images/python_version.png\" alt=\"Drawing\" style=\"width: 600px;\" align=\"center\"/>\n",
    "\n",
    "\n",
    "<hr style=\"height:2px;\">\n",
    "\n",
    "\n",
    "**For Windows**\n",
    "\n",
    " - open command prompt and type\n",
    "\n",
    "`pip install jupyter`\n",
    "\n",
    "---\n",
    "\n",
    "**For Mac**\n",
    "\n",
    " - open Terminal and type\n",
    "\n",
    "`pip3 install jupyter`\n",
    "\n",
    "<img src=\"images/jupyter.jpg\" alt=\"Drawing\" style=\"width: 600px;\" align=\"center\"/>\n",
    "\n",
    "#### Once the installation process is over open command prompt or terminal and type `jupyter notebook`\n",
    "<img src=\"images/jupyter_1.jpg\" alt=\"Drawing\" style=\"width: 600px;\" align=\"center\"/>\n",
    "\n",
    "#### This should open a new browser window which is the Jupyter notebook\n",
    "**NOTE : Don't close the terminal/command prompt while you are using jupyter notebook**\n",
    "\n",
    "---\n",
    "\n",
    "#### To learn about how to use jupyter notebook Please check out the below link.\n",
    "<a href=\"https://jupyter-notebook.readthedocs.io/en/latest/notebook.html\"> Jupyter Documentation</a>\n",
    "\n",
    "\n",
    "<hr style=\"height:2px;\">"
   ]
  },
  {
   "cell_type": "markdown",
   "metadata": {},
   "source": [
    "### Setting up VS code\n",
    "\n",
    "Visual studio code is a popular editor by microsoft. It supports majority of the programming langauages. it also some with an extension store where we can install add on to help us customize the look and the features. Again it requires you to have python installed and working. Please follow the steps in jupyter notebook installation to check if python is installed and working properly.\n",
    "\n",
    "\n",
    "#### Follow the below steps to install and setup VS code.\n",
    "\n",
    "1. Download the installer using the following link. <a href=https://code.visualstudio.com/> VS code </a>\n",
    "2. Run the installer and follow the on screen instruction. keep all the default settings.\n",
    "3. once the first 3 steps are completed follow the below video to setup Vs code for python. *if not visible go to the videos folder*\n",
    "\n",
    "<video controls src=\"videos/vs_code_setup.mp4\" width=\"700\" align=\"center\"/>\n",
    "\n",
    "<hr style=\"height:2px;\">"
   ]
  },
  {
   "cell_type": "markdown",
   "metadata": {},
   "source": [
    "# 2. print() function\n",
    "\n",
    "\n",
    "Print function allows python to output useful infomation.<br>\n",
    "Anything we write in inverted quotes inside the function will come up as it is on the screen\n",
    "\n",
    "**NOTE : Functions will always have open and close brackets**"
   ]
  },
  {
   "cell_type": "code",
   "execution_count": 2,
   "metadata": {},
   "outputs": [
    {
     "name": "stdout",
     "output_type": "stream",
     "text": [
      "hello world\n"
     ]
    }
   ],
   "source": [
    "print(\"hello world\")"
   ]
  },
  {
   "cell_type": "markdown",
   "metadata": {},
   "source": [
    "Anythhing written in inverted quotes is considered a string in python. We will be learning about strings in detail in the next session.\n",
    "\n",
    "<hr style=\"height:2px;\">"
   ]
  },
  {
   "cell_type": "markdown",
   "metadata": {},
   "source": [
    "# 3. input() function\n",
    "\n",
    "\n",
    "Input function allows python to take in input from users<br>\n",
    "While taking inputs we have an option to prompt the user.\n",
    "\n",
    "**NOTE : Functions will always have open and close brackets**"
   ]
  },
  {
   "cell_type": "code",
   "execution_count": 3,
   "metadata": {},
   "outputs": [
    {
     "name": "stdout",
     "output_type": "stream",
     "text": [
      "enter a number : 1000\n"
     ]
    },
    {
     "data": {
      "text/plain": [
       "'1000'"
      ]
     },
     "execution_count": 3,
     "metadata": {},
     "output_type": "execute_result"
    }
   ],
   "source": [
    "input(\"enter a number : \")"
   ]
  },
  {
   "cell_type": "markdown",
   "metadata": {},
   "source": [
    "#### The above line of code does not make sense as we are taking input from the user and not storing it anywhere\n",
    "#### To store data we need to use variables\n",
    "\n",
    "\n",
    "<hr style=\"height:2px;\">"
   ]
  },
  {
   "cell_type": "markdown",
   "metadata": {},
   "source": [
    "# 4. Variables and Rules for naming varibales\n",
    "**Variables are nothing but reserved memory locations to store values. This means that when you create a variable you reserve some space in memory.**\n",
    "<br><br>\n",
    "In other words\n",
    "<br>\n",
    "**Variables store data. Data can be of any datatype.**"
   ]
  },
  {
   "cell_type": "markdown",
   "metadata": {},
   "source": [
    "\n",
    "---\n",
    "\n",
    "###  Rules for naming varibales\n",
    "- A variable name must start with a letter or the underscore character\n",
    "- A variable name cannot start with a number\n",
    "- A variable name can only contain alpha-numeric characters and underscores (A-z, 0-9, and _ )\n",
    "- Variable names are case-sensitive (age, Age and AGE are three different variables)"
   ]
  },
  {
   "cell_type": "markdown",
   "metadata": {},
   "source": [
    "In the below cell we are assigning the integer value 10 to the variable 'a'"
   ]
  },
  {
   "cell_type": "code",
   "execution_count": 1,
   "metadata": {
    "scrolled": true
   },
   "outputs": [],
   "source": [
    "a = 10"
   ]
  },
  {
   "cell_type": "markdown",
   "metadata": {},
   "source": [
    "Having learned about variables we can use input() fucntion in a better way"
   ]
  },
  {
   "cell_type": "code",
   "execution_count": 5,
   "metadata": {},
   "outputs": [
    {
     "name": "stdout",
     "output_type": "stream",
     "text": [
      "enter a number : 1000\n",
      "1000\n"
     ]
    }
   ],
   "source": [
    "a = input(\"enter a number : \")\n",
    "print(a)"
   ]
  },
  {
   "cell_type": "markdown",
   "metadata": {},
   "source": [
    "In the above example we are taking an input and storing the data into the variable `a` and later printing it out"
   ]
  },
  {
   "cell_type": "markdown",
   "metadata": {},
   "source": [
    "You can also assign data to variable directly and solve math equations"
   ]
  },
  {
   "cell_type": "code",
   "execution_count": 1,
   "metadata": {
    "scrolled": true
   },
   "outputs": [
    {
     "name": "stdout",
     "output_type": "stream",
     "text": [
      "30\n"
     ]
    }
   ],
   "source": [
    "a = 10\n",
    "b = 20\n",
    "c = a+b\n",
    "\n",
    "print(c)"
   ]
  },
  {
   "cell_type": "markdown",
   "metadata": {},
   "source": [
    "**NOTE : We are not writing the variable name `a` in inverted quotes**<br>\n",
    "This is beacuse we need to print the value of the data stored in the variable and not the character \"a\" itself."
   ]
  },
  {
   "cell_type": "markdown",
   "metadata": {},
   "source": [
    "\n",
    "<hr style=\"height:2px;\">\n",
    "\n",
    "**REVISION**\n",
    "\n",
    "1. Understanding : python , syntax\n",
    "2. input command\n",
    "3. print command\n",
    "4. Variable and its rules\n",
    "\n",
    "<hr style=\"height:2px;\">"
   ]
  },
  {
   "cell_type": "markdown",
   "metadata": {},
   "source": [
    "\n",
    "---\n",
    "**HOMEWORK**\n",
    "\n",
    "1. Take input from user like name,age, fruit etc. and print the information \n",
    "\n",
    "---\n",
    "\n",
    "2. Try to make a simple calculator to take 2 numbers as input and do the multiplication, divisoin and subtraction of the numbers.\n",
    "\n",
    "---\n",
    "\n",
    "3. Ask 3 people to enter their name and age. Display the details collected using the print statement in a neat way.\n",
    "\n",
    "Example output.\n",
    "```\n",
    "    Enter your name: Rejin\n",
    "    Enter your Age : 25\n",
    "    Enter your name: Vinay\n",
    "    Enter your Age : 25\n",
    "    Enter your name: Amey\n",
    "    Enter your Age : 26\n",
    "    \n",
    "    Hello Rejin. Your Age is 25\n",
    "    Hello Vinay. Your Age is 25\n",
    "    Hello Amey. Your Age is 26\n",
    "```"
   ]
  },
  {
   "cell_type": "markdown",
   "metadata": {},
   "source": [
    "**HOMEWORK SOLUTION**\n",
    "\n"
   ]
  },
  {
   "cell_type": "code",
   "execution_count": 3,
   "metadata": {
    "scrolled": false
   },
   "outputs": [
    {
     "name": "stdout",
     "output_type": "stream",
     "text": [
      "Enter your name :  omotec\n",
      "Enter your age :  5\n",
      "Enter your favourite fruit: robotics\n",
      "omotec\n",
      "5\n",
      "robotics\n"
     ]
    }
   ],
   "source": [
    "#TASK 1\n",
    "\n",
    "name =input(\"Enter your name :  \")\n",
    "age = input(\"Enter your age :  \")\n",
    "fruit = input(\"Enter your favourite fruit: \")\n",
    "\n",
    "print(name)\n",
    "print(age)\n",
    "print(fruit)\n"
   ]
  },
  {
   "cell_type": "code",
   "execution_count": 2,
   "metadata": {
    "scrolled": true
   },
   "outputs": [
    {
     "name": "stdout",
     "output_type": "stream",
     "text": [
      "Enter a number: 10\n",
      "Enter a number: 20\n",
      "0.5\n",
      "-10\n",
      "200\n"
     ]
    }
   ],
   "source": [
    "#TASK 2\n",
    "\n",
    "a = int(input(\"Enter a number: \"))\n",
    "b = int(input(\"Enter a number: \"))\n",
    "\n",
    "div = a/b\n",
    "sub = a-b\n",
    "mul = a*b\n",
    "\n",
    "print(div)\n",
    "print(sub)\n",
    "print(mul)"
   ]
  },
  {
   "cell_type": "code",
   "execution_count": null,
   "metadata": {},
   "outputs": [],
   "source": []
  }
 ],
 "metadata": {
  "kernelspec": {
   "display_name": "Python 3",
   "language": "python",
   "name": "python3"
  },
  "language_info": {
   "codemirror_mode": {
    "name": "ipython",
    "version": 3
   },
   "file_extension": ".py",
   "mimetype": "text/x-python",
   "name": "python",
   "nbconvert_exporter": "python",
   "pygments_lexer": "ipython3",
   "version": "3.9.10"
  }
 },
 "nbformat": 4,
 "nbformat_minor": 4
}
